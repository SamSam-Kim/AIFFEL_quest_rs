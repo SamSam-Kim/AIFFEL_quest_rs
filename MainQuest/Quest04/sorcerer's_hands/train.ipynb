{
 "cells": [
  {
   "cell_type": "code",
   "execution_count": 2,
   "metadata": {},
   "outputs": [],
   "source": [
    "import numpy as np\n",
    "import os\n",
    "\n",
    "os.environ['CUDA_VISIBLE_DEVICES'] = '1'\n",
    "os.environ['TF_FORCE_GPU_ALLOW_GROWTH'] = 'true'"
   ]
  },
  {
   "cell_type": "code",
   "execution_count": 3,
   "metadata": {},
   "outputs": [
    {
     "data": {
      "text/plain": [
       "(4401, 30, 199)"
      ]
     },
     "execution_count": 3,
     "metadata": {},
     "output_type": "execute_result"
    }
   ],
   "source": [
    "actions = [\n",
    "    'flower',\n",
    "    'crown',\n",
    "    'heart_beat',\n",
    "    'firework',\n",
    "    'bear',\n",
    "    'cat',\n",
    "    'son_celebration',\n",
    "    'Hear_on_the_cheek',\n",
    "    'gun',\n",
    "    'pipe',\n",
    "    'tiger',\n",
    "    'landmarks'\n",
    "]\n",
    "\n",
    "data = np.concatenate([\n",
    "    np.load('new_dataset/seq_flower_1750130471.npy'),\n",
    "    np.load('new_dataset/seq_crown_1750130505.npy'),\n",
    "    np.load('new_dataset/seq_heart_beat_1750139892.npy'),\n",
    "    np.load('new_dataset/seq_firework_1750140689.npy'),\n",
    "    np.load('new_dataset/seq_bear_1750140330.npy'),\n",
    "    np.load('new_dataset/seq_cat_1750140596.npy'),\n",
    "    np.load('new_dataset/seq_son_celebration_1750139350.npy'),\n",
    "    np.load('new_dataset/seq_Hear_on_the_cheek_1750139384.npy'),\n",
    "    np.load('new_dataset/seq_gun_1750139891.npy'),\n",
    "    np.load('new_dataset/seq_pipe_1750140043.npy'),\n",
    "    np.load('new_dataset/seq_tiger_1750140076.npy'),\n",
    "    np.load('new_dataset/seq_landmarks_1750140109.npy'),\n",
    "], axis=0)\n",
    "\n",
    "data.shape"
   ]
  },
  {
   "cell_type": "code",
   "execution_count": 4,
   "metadata": {},
   "outputs": [
    {
     "name": "stdout",
     "output_type": "stream",
     "text": [
      "(4401, 30, 198)\n",
      "(4401,)\n"
     ]
    }
   ],
   "source": [
    "x_data = data[:, :, :-1]\n",
    "labels = data[:, 0, -1]\n",
    "\n",
    "print(x_data.shape)\n",
    "print(labels.shape)"
   ]
  },
  {
   "cell_type": "code",
   "execution_count": 5,
   "metadata": {},
   "outputs": [
    {
     "name": "stdout",
     "output_type": "stream",
     "text": [
      "(4401, 12)\n"
     ]
    }
   ],
   "source": [
    "from tensorflow.keras.utils import to_categorical\n",
    "\n",
    "# float로 되어 있다면 반드시 int로 변환\n",
    "labels = np.array(labels).astype(int)\n",
    "\n",
    "# num_classes 정확히 계산\n",
    "num_classes = int(np.max(labels)) + 1\n",
    "\n",
    "# 원-핫 인코딩\n",
    "y_data = to_categorical(labels, num_classes=num_classes)\n",
    "print(y_data.shape)"
   ]
  },
  {
   "cell_type": "code",
   "execution_count": 6,
   "metadata": {},
   "outputs": [
    {
     "name": "stdout",
     "output_type": "stream",
     "text": [
      "(3960, 30, 198) (3960, 12)\n",
      "(441, 30, 198) (441, 12)\n"
     ]
    }
   ],
   "source": [
    "from sklearn.model_selection import train_test_split\n",
    "\n",
    "x_data = x_data.astype(np.float32)\n",
    "y_data = y_data.astype(np.float32)\n",
    "\n",
    "x_train, x_val, y_train, y_val = train_test_split(x_data, y_data, test_size=0.1, random_state=2021)\n",
    "\n",
    "print(x_train.shape, y_train.shape)\n",
    "print(x_val.shape, y_val.shape)"
   ]
  },
  {
   "cell_type": "code",
   "execution_count": 7,
   "metadata": {},
   "outputs": [
    {
     "name": "stdout",
     "output_type": "stream",
     "text": [
      "Model: \"sequential\"\n",
      "_________________________________________________________________\n",
      "Layer (type)                 Output Shape              Param #   \n",
      "=================================================================\n",
      "lstm (LSTM)                  (None, 128)               167424    \n",
      "_________________________________________________________________\n",
      "dense (Dense)                (None, 32)                4128      \n",
      "_________________________________________________________________\n",
      "dense_1 (Dense)              (None, 12)                396       \n",
      "=================================================================\n",
      "Total params: 171,948\n",
      "Trainable params: 171,948\n",
      "Non-trainable params: 0\n",
      "_________________________________________________________________\n"
     ]
    }
   ],
   "source": [
    "from tensorflow.keras.models import Sequential\n",
    "from tensorflow.keras.layers import LSTM, Dense\n",
    "from tensorflow.keras.optimizers import Adam\n",
    "\n",
    "model = Sequential([\n",
    "    LSTM(128, input_shape=x_train.shape[1:3]),\n",
    "    Dense(32, activation='relu'),\n",
    "    Dense(len(actions), activation='softmax')\n",
    "])\n",
    "\n",
    "optimizer = Adam(learning_rate=0.05)\n",
    "model.compile(optimizer=optimizer, loss='categorical_crossentropy', metrics=['acc'])\n",
    "model.summary()"
   ]
  },
  {
   "cell_type": "code",
   "execution_count": null,
   "metadata": {
    "scrolled": true
   },
   "outputs": [
    {
     "name": "stdout",
     "output_type": "stream",
     "text": [
      "Epoch 1/30\n",
      "124/124 [==============================] - 4s 22ms/step - loss: 1.9262 - acc: 0.3154 - val_loss: 1.1003 - val_acc: 0.5238\n",
      "\n",
      "Epoch 00001: val_acc improved from -inf to 0.52381, saving model to models\\model.h5\n",
      "Epoch 2/30\n",
      "124/124 [==============================] - 2s 14ms/step - loss: 1.2218 - acc: 0.5205 - val_loss: 1.3385 - val_acc: 0.4331\n",
      "\n",
      "Epoch 00002: val_acc did not improve from 0.52381\n",
      "Epoch 3/30\n",
      "124/124 [==============================] - 2s 14ms/step - loss: 1.1956 - acc: 0.4985 - val_loss: 1.0910 - val_acc: 0.6327\n",
      "\n",
      "Epoch 00003: val_acc improved from 0.52381 to 0.63265, saving model to models\\model.h5\n",
      "Epoch 4/30\n",
      "124/124 [==============================] - 2s 15ms/step - loss: 1.1586 - acc: 0.5717 - val_loss: 1.0009 - val_acc: 0.6644\n",
      "\n",
      "Epoch 00004: val_acc improved from 0.63265 to 0.66440, saving model to models\\model.h5\n",
      "Epoch 5/30\n",
      "124/124 [==============================] - 2s 14ms/step - loss: 1.1336 - acc: 0.5910 - val_loss: 0.9412 - val_acc: 0.6281\n",
      "\n",
      "Epoch 00005: val_acc did not improve from 0.66440\n",
      "Epoch 6/30\n",
      "124/124 [==============================] - 2s 14ms/step - loss: 0.9675 - acc: 0.6309 - val_loss: 0.9582 - val_acc: 0.5828\n",
      "\n",
      "Epoch 00006: val_acc did not improve from 0.66440\n",
      "Epoch 7/30\n",
      "124/124 [==============================] - 2s 14ms/step - loss: 1.0167 - acc: 0.6038 - val_loss: 1.3788 - val_acc: 0.4218\n",
      "\n",
      "Epoch 00007: val_acc did not improve from 0.66440\n",
      "Epoch 8/30\n",
      "124/124 [==============================] - 2s 14ms/step - loss: 1.1332 - acc: 0.4524 - val_loss: 1.0148 - val_acc: 0.5420\n",
      "\n",
      "Epoch 00008: val_acc did not improve from 0.66440\n",
      "Epoch 9/30\n",
      "124/124 [==============================] - 2s 14ms/step - loss: 0.9773 - acc: 0.5280 - val_loss: 0.9774 - val_acc: 0.5918\n",
      "\n",
      "Epoch 00009: val_acc did not improve from 0.66440\n",
      "Epoch 10/30\n",
      "124/124 [==============================] - 2s 14ms/step - loss: 0.9000 - acc: 0.6062 - val_loss: 1.0199 - val_acc: 0.6621\n",
      "\n",
      "Epoch 00010: val_acc did not improve from 0.66440\n",
      "Epoch 11/30\n",
      "124/124 [==============================] - 2s 14ms/step - loss: 0.8839 - acc: 0.6678 - val_loss: 0.9301 - val_acc: 0.6599\n",
      "\n",
      "Epoch 00011: val_acc did not improve from 0.66440\n",
      "Epoch 12/30\n",
      "124/124 [==============================] - 2s 14ms/step - loss: 1.0144 - acc: 0.6135 - val_loss: 0.9894 - val_acc: 0.5556\n",
      "\n",
      "Epoch 00012: val_acc did not improve from 0.66440\n",
      "Epoch 13/30\n",
      "124/124 [==============================] - 2s 15ms/step - loss: 1.0153 - acc: 0.5450 - val_loss: 1.4661 - val_acc: 0.5420\n",
      "\n",
      "Epoch 00013: val_acc did not improve from 0.66440\n",
      "Epoch 14/30\n",
      "124/124 [==============================] - 2s 14ms/step - loss: 1.1392 - acc: 0.5796 - val_loss: 0.9440 - val_acc: 0.6599\n",
      "\n",
      "Epoch 00014: val_acc did not improve from 0.66440\n",
      "Epoch 15/30\n",
      "124/124 [==============================] - 2s 14ms/step - loss: 0.9612 - acc: 0.6176 - val_loss: 0.8925 - val_acc: 0.6508\n",
      "\n",
      "Epoch 00015: val_acc did not improve from 0.66440\n",
      "Epoch 16/30\n",
      "124/124 [==============================] - 2s 14ms/step - loss: 0.8766 - acc: 0.6761 - val_loss: 1.3122 - val_acc: 0.4444\n",
      "\n",
      "Epoch 00016: val_acc did not improve from 0.66440\n",
      "Epoch 17/30\n",
      "124/124 [==============================] - 2s 14ms/step - loss: 1.2448 - acc: 0.4845 - val_loss: 1.2552 - val_acc: 0.4354\n",
      "\n",
      "Epoch 00017: val_acc did not improve from 0.66440\n",
      "Epoch 18/30\n",
      "124/124 [==============================] - 2s 14ms/step - loss: 1.1862 - acc: 0.5144 - val_loss: 1.5371 - val_acc: 0.3605\n",
      "\n",
      "Epoch 00018: val_acc did not improve from 0.66440\n",
      "Epoch 19/30\n",
      "124/124 [==============================] - 2s 14ms/step - loss: 1.3830 - acc: 0.4385 - val_loss: 1.6197 - val_acc: 0.3810\n",
      "\n",
      "Epoch 00019: val_acc did not improve from 0.66440\n",
      "Epoch 20/30\n",
      "124/124 [==============================] - 2s 14ms/step - loss: 1.5840 - acc: 0.3885 - val_loss: 1.5280 - val_acc: 0.4580\n",
      "\n",
      "Epoch 00020: val_acc did not improve from 0.66440\n",
      "Epoch 21/30\n",
      "124/124 [==============================] - 2s 14ms/step - loss: 1.4542 - acc: 0.4313 - val_loss: 1.3438 - val_acc: 0.4649\n",
      "\n",
      "Epoch 00021: val_acc did not improve from 0.66440\n",
      "Epoch 22/30\n",
      "124/124 [==============================] - 2s 14ms/step - loss: 1.2812 - acc: 0.4660 - val_loss: 1.2155 - val_acc: 0.4989\n",
      "\n",
      "Epoch 00022: val_acc did not improve from 0.66440\n",
      "Epoch 23/30\n",
      "124/124 [==============================] - 2s 14ms/step - loss: 1.2007 - acc: 0.5062 - val_loss: 1.3788 - val_acc: 0.5306\n",
      "\n",
      "Epoch 00023: val_acc did not improve from 0.66440\n",
      "Epoch 24/30\n",
      "124/124 [==============================] - 2s 15ms/step - loss: 1.4176 - acc: 0.4746 - val_loss: 1.1228 - val_acc: 0.5714\n",
      "\n",
      "Epoch 00024: val_acc did not improve from 0.66440\n",
      "Epoch 25/30\n",
      "124/124 [==============================] - 2s 14ms/step - loss: 1.1011 - acc: 0.5476 - val_loss: 1.1164 - val_acc: 0.5329\n",
      "\n",
      "Epoch 00025: val_acc did not improve from 0.66440\n",
      "Epoch 26/30\n",
      "124/124 [==============================] - 2s 15ms/step - loss: 1.0301 - acc: 0.5720 - val_loss: 1.0530 - val_acc: 0.5193\n",
      "\n",
      "Epoch 00026: val_acc did not improve from 0.66440\n",
      "Epoch 27/30\n",
      "124/124 [==============================] - 2s 14ms/step - loss: 1.1213 - acc: 0.5527 - val_loss: 1.1070 - val_acc: 0.5351\n",
      "\n",
      "Epoch 00027: val_acc did not improve from 0.66440\n",
      "Epoch 28/30\n",
      "124/124 [==============================] - 2s 15ms/step - loss: 1.2946 - acc: 0.5215 - val_loss: 1.4630 - val_acc: 0.4512\n",
      "\n",
      "Epoch 00028: val_acc did not improve from 0.66440\n",
      "Epoch 29/30\n",
      "124/124 [==============================] - 2s 14ms/step - loss: 1.3194 - acc: 0.4617 - val_loss: 1.3908 - val_acc: 0.4785\n",
      "\n",
      "Epoch 00029: val_acc did not improve from 0.66440\n",
      "Epoch 30/30\n",
      " 25/124 [=====>........................] - ETA: 1s - loss: 1.2561 - acc: 0.4749"
     ]
    }
   ],
   "source": [
    "from tensorflow.keras.callbacks import ModelCheckpoint, ReduceLROnPlateau\n",
    "\n",
    "EPOCHS = 30\n",
    "\n",
    "history = model.fit(\n",
    "    x_train,\n",
    "    y_train,\n",
    "    validation_data=(x_val, y_val),\n",
    "    epochs=EPOCHS,\n",
    "    callbacks=[\n",
    "        ModelCheckpoint('models/model.h5', monitor='val_acc', verbose=1, save_best_only=True, mode='auto'),\n",
    "        ReduceLROnPlateau(monitor='val_acc', factor=0.5, patience=50, verbose=1, mode='auto')\n",
    "    ]\n",
    ")"
   ]
  },
  {
   "cell_type": "code",
   "execution_count": null,
   "metadata": {},
   "outputs": [],
   "source": [
    "import matplotlib.pyplot as plt\n",
    "\n",
    "fig, loss_ax = plt.subplots(figsize=(16, 10))\n",
    "acc_ax = loss_ax.twinx()\n",
    "\n",
    "loss_ax.plot(history.history['loss'], 'y', label='train loss')\n",
    "loss_ax.plot(history.history['val_loss'], 'r', label='val loss')\n",
    "loss_ax.set_xlabel('epoch')\n",
    "loss_ax.set_ylabel('loss')\n",
    "loss_ax.legend(loc='upper left')\n",
    "\n",
    "acc_ax.plot(history.history['acc'], 'b', label='train acc')\n",
    "acc_ax.plot(history.history['val_acc'], 'g', label='val acc')\n",
    "acc_ax.set_ylabel('accuracy')\n",
    "acc_ax.legend(loc='upper left')\n",
    "\n",
    "plt.show()"
   ]
  },
  {
   "cell_type": "code",
   "execution_count": 8,
   "metadata": {},
   "outputs": [
    {
     "data": {
      "text/plain": [
       "array([[[378,  14],\n",
       "        [ 26,  23]],\n",
       "\n",
       "       [[402,   1],\n",
       "        [  5,  33]],\n",
       "\n",
       "       [[388,  10],\n",
       "        [  3,  40]],\n",
       "\n",
       "       [[412,   0],\n",
       "        [ 29,   0]],\n",
       "\n",
       "       [[408,   1],\n",
       "        [ 32,   0]],\n",
       "\n",
       "       [[408,   1],\n",
       "        [ 13,  19]],\n",
       "\n",
       "       [[333,  63],\n",
       "        [  0,  45]],\n",
       "\n",
       "       [[386,  13],\n",
       "        [  1,  41]],\n",
       "\n",
       "       [[413,   1],\n",
       "        [  4,  23]],\n",
       "\n",
       "       [[386,  19],\n",
       "        [  2,  34]],\n",
       "\n",
       "       [[379,  25],\n",
       "        [  2,  35]],\n",
       "\n",
       "       [[410,   0],\n",
       "        [ 31,   0]]], dtype=int64)"
      ]
     },
     "execution_count": 8,
     "metadata": {},
     "output_type": "execute_result"
    }
   ],
   "source": [
    "from sklearn.metrics import multilabel_confusion_matrix\n",
    "from tensorflow.keras.models import load_model\n",
    "\n",
    "model = load_model('models/model.h5')\n",
    "\n",
    "y_pred = model.predict(x_val)\n",
    "\n",
    "multilabel_confusion_matrix(np.argmax(y_val, axis=1), np.argmax(y_pred, axis=1))"
   ]
  },
  {
   "cell_type": "code",
   "execution_count": null,
   "metadata": {},
   "outputs": [],
   "source": [
    "\n",
    "\n"
   ]
  }
 ],
 "metadata": {
  "kernelspec": {
   "display_name": "miniaiffel",
   "language": "python",
   "name": "python3"
  },
  "language_info": {
   "codemirror_mode": {
    "name": "ipython",
    "version": 3
   },
   "file_extension": ".py",
   "mimetype": "text/x-python",
   "name": "python",
   "nbconvert_exporter": "python",
   "pygments_lexer": "ipython3",
   "version": "3.8.20"
  }
 },
 "nbformat": 4,
 "nbformat_minor": 4
}
