{
 "cells": [
  {
   "cell_type": "markdown",
   "id": "8378919a",
   "metadata": {},
   "source": [
    "# 프로젝트 : 네이버 영화리뷰 감성분석 도전하기"
   ]
  },
  {
   "cell_type": "markdown",
   "id": "72206735",
   "metadata": {},
   "source": [
    "이전 스텝까지는 영문 텍스트의 감정 분석을 진행해 보았습니다. 그렇다면 이번에는 한국어 텍스트의 감정 분석을 진행해 보면 어떨까요? 오늘 활용할 데이터셋은 네이버 영화의 댓글을 모아 구성된 Naver sentiment movie corpus입니다."
   ]
  },
  {
   "cell_type": "code",
   "execution_count": 307,
   "id": "1d823877",
   "metadata": {},
   "outputs": [],
   "source": [
    "from konlpy.tag import Mecab\n",
    "import numpy as np\n",
    "from collections import Counter\n",
    "import pandas as pd\n",
    "import tensorflow as tf\n",
    "import matplotlib.pyplot as plt\n",
    "from gensim.models.keyedvectors import Word2VecKeyedVectors\n",
    "import pandas as pd\n",
    "from tensorflow.keras.initializers import Constant"
   ]
  },
  {
   "cell_type": "markdown",
   "id": "5b78aa94",
   "metadata": {},
   "source": [
    "## 1) 데이터 준비와 확인"
   ]
  },
  {
   "cell_type": "code",
   "execution_count": 2,
   "id": "f7354c6c",
   "metadata": {},
   "outputs": [
    {
     "data": {
      "text/html": [
       "<div>\n",
       "<style scoped>\n",
       "    .dataframe tbody tr th:only-of-type {\n",
       "        vertical-align: middle;\n",
       "    }\n",
       "\n",
       "    .dataframe tbody tr th {\n",
       "        vertical-align: top;\n",
       "    }\n",
       "\n",
       "    .dataframe thead th {\n",
       "        text-align: right;\n",
       "    }\n",
       "</style>\n",
       "<table border=\"1\" class=\"dataframe\">\n",
       "  <thead>\n",
       "    <tr style=\"text-align: right;\">\n",
       "      <th></th>\n",
       "      <th>id</th>\n",
       "      <th>document</th>\n",
       "      <th>label</th>\n",
       "    </tr>\n",
       "  </thead>\n",
       "  <tbody>\n",
       "    <tr>\n",
       "      <th>0</th>\n",
       "      <td>9976970</td>\n",
       "      <td>아 더빙.. 진짜 짜증나네요 목소리</td>\n",
       "      <td>0</td>\n",
       "    </tr>\n",
       "    <tr>\n",
       "      <th>1</th>\n",
       "      <td>3819312</td>\n",
       "      <td>흠...포스터보고 초딩영화줄....오버연기조차 가볍지 않구나</td>\n",
       "      <td>1</td>\n",
       "    </tr>\n",
       "    <tr>\n",
       "      <th>2</th>\n",
       "      <td>10265843</td>\n",
       "      <td>너무재밓었다그래서보는것을추천한다</td>\n",
       "      <td>0</td>\n",
       "    </tr>\n",
       "    <tr>\n",
       "      <th>3</th>\n",
       "      <td>9045019</td>\n",
       "      <td>교도소 이야기구먼 ..솔직히 재미는 없다..평점 조정</td>\n",
       "      <td>0</td>\n",
       "    </tr>\n",
       "    <tr>\n",
       "      <th>4</th>\n",
       "      <td>6483659</td>\n",
       "      <td>사이몬페그의 익살스런 연기가 돋보였던 영화!스파이더맨에서 늙어보이기만 했던 커스틴 ...</td>\n",
       "      <td>1</td>\n",
       "    </tr>\n",
       "  </tbody>\n",
       "</table>\n",
       "</div>"
      ],
      "text/plain": [
       "         id                                           document  label\n",
       "0   9976970                                아 더빙.. 진짜 짜증나네요 목소리      0\n",
       "1   3819312                  흠...포스터보고 초딩영화줄....오버연기조차 가볍지 않구나      1\n",
       "2  10265843                                  너무재밓었다그래서보는것을추천한다      0\n",
       "3   9045019                      교도소 이야기구먼 ..솔직히 재미는 없다..평점 조정      0\n",
       "4   6483659  사이몬페그의 익살스런 연기가 돋보였던 영화!스파이더맨에서 늙어보이기만 했던 커스틴 ...      1"
      ]
     },
     "execution_count": 2,
     "metadata": {},
     "output_type": "execute_result"
    }
   ],
   "source": [
    "# 데이터를 읽어봅시다. \n",
    "train_data = pd.read_table('~/aiffel/sentiment_classification/data/ratings_train.txt')\n",
    "test_data = pd.read_table('~/aiffel/sentiment_classification/data/ratings_test.txt')\n",
    "\n",
    "train_data.head()"
   ]
  },
  {
   "cell_type": "markdown",
   "id": "a22892ee",
   "metadata": {},
   "source": [
    "## 2) 데이터로더 구성"
   ]
  },
  {
   "cell_type": "markdown",
   "id": "0537dab1",
   "metadata": {},
   "source": [
    "실습 때 다루었던 IMDB 데이터셋은 텍스트를 가공하여 `imdb.data_loader()` 메서드를 호출하면 숫자 인덱스로 변환된 텍스트와 `word_to_index` 딕셔너리까지 친절하게 제공합니다. 그러나 이번에 다루게 될 nsmc 데이터셋은 전혀 가공되지 않은 텍스트 파일로 이루어져 있습니다. 이것을 읽어서 `imdb.data_loader()`와 동일하게 동작하는 자신만의 `data_loader`를 만들어 보는 것으로 시작합니다. `data_loader` 안에서는 다음을 수행해야 합니다.\n",
    "\n",
    "- 데이터의 중복 제거\n",
    "- NaN 결측치 제거\n",
    "- 한국어 토크나이저로 토큰화\n",
    "- 불용어(Stopwords) 제거\n",
    "- 사전 `word_to_index` 구성\n",
    "- 텍스트 스트링을 사전 인덱스 스트링으로 변환\n",
    "- `X_train`, `y_train`, `X_test`, `y_test`, `word_to_index` 리턴"
   ]
  },
  {
   "cell_type": "code",
   "execution_count": 3,
   "id": "e03592e8",
   "metadata": {},
   "outputs": [],
   "source": [
    "tokenizer = Mecab()\n",
    "stopwords = ['의','가','이','은','들','는','좀','잘','걍','과','도','를','으로','자','에','와','한','하다']\n",
    "num_words = 10000\n",
    "\n",
    "def load_data(train_data, test_data, num_words=num_words):\n",
    "    # 데이터 중복 제거\n",
    "    train_data.drop_duplicates(subset=['document'], inplace=True)\n",
    "    test_data.drop_duplicates(subset=['document'], inplace=True)\n",
    "    \n",
    "    # 결측치 제거\n",
    "    train_data.dropna(how = 'any', inplace=True)\n",
    "    test_data.dropna(how = 'any', inplace=True)\n",
    "\n",
    "    X_train = []\n",
    "    for sentence in train_data['document']:\n",
    "        temp_X = tokenizer.morphs(sentence) # 토큰화\n",
    "        temp_X = [word for word in temp_X if not word in stopwords] # 불용어 제거\n",
    "        X_train.append(temp_X)\n",
    "\n",
    "    X_test = []\n",
    "    for sentence in test_data['document']:\n",
    "        temp_X = tokenizer.morphs(sentence) # 토큰화\n",
    "        temp_X = [word for word in temp_X if not word in stopwords] # 불용어 제거\n",
    "        X_test.append(temp_X)\n",
    "\n",
    "    # 사전 word_to_index 구성\n",
    "    words = np.concatenate(X_train).tolist()\n",
    "    counter = Counter(words)\n",
    "    counter = counter.most_common(10000-4)\n",
    "    # vocab = ['', '', '', ''] + [key for key, _ in counter]\n",
    "    vocab = ['<PAD>', '<BOS>', '<UNK>', '<UNUSED>'] + [key for key, _ in counter]\n",
    "    word_to_index = {word:index for index, word in enumerate(vocab)}\n",
    "    \n",
    "    # 텍스트 스트링을 사전 인덱스 스트링으로 변환\n",
    "    def wordlist_to_indexlist(wordlist):\n",
    "        return [word_to_index[word] if word in word_to_index else word_to_index['<UNK>'] for word in wordlist]\n",
    "        #return [word_to_index[word] if word in word_to_index else word_to_index[''] for word in wordlist]\n",
    "        \n",
    "    X_train = list(map(wordlist_to_indexlist, X_train))\n",
    "    X_test = list(map(wordlist_to_indexlist, X_test))\n",
    "    \n",
    "    # X_train, y_train, X_test, y_test, word_to_index 리턴\n",
    "    return X_train, np.array(list(train_data['label'])), X_test, np.array(list(test_data['label'])), word_to_index\n",
    "    \n",
    "X_train, y_train, X_test, y_test, word_to_index = load_data(train_data, test_data)"
   ]
  },
  {
   "cell_type": "code",
   "execution_count": 4,
   "id": "90767866",
   "metadata": {},
   "outputs": [
    {
     "data": {
      "text/plain": [
       "'아 더빙.. 진짜 짜증나네요 목소리'"
      ]
     },
     "execution_count": 4,
     "metadata": {},
     "output_type": "execute_result"
    }
   ],
   "source": [
    "train_data['document'][0]"
   ]
  },
  {
   "cell_type": "code",
   "execution_count": 5,
   "id": "a062c36f",
   "metadata": {},
   "outputs": [
    {
     "data": {
      "text/plain": [
       "['아', '더', '빙', '.', '.', '진짜', '짜증', '나', '네요', '목소리']"
      ]
     },
     "execution_count": 5,
     "metadata": {},
     "output_type": "execute_result"
    }
   ],
   "source": [
    "tokenizer.morphs(train_data['document'][0])"
   ]
  },
  {
   "cell_type": "code",
   "execution_count": 6,
   "id": "bd67ba34",
   "metadata": {},
   "outputs": [],
   "source": [
    "index_to_word = {index:word for word, index in word_to_index.items()}"
   ]
  },
  {
   "cell_type": "code",
   "execution_count": 7,
   "id": "bffd1025",
   "metadata": {},
   "outputs": [],
   "source": [
    "# 문장 1개를 활용할 딕셔너리와 함께 주면, 단어 인덱스 리스트 벡터로 변환해 주는 함수입니다. \n",
    "# 단, 모든 문장은 <BOS>로 시작하는 것으로 합니다. \n",
    "def get_encoded_sentence(sentence, word_to_index):\n",
    "    return [word_to_index['<BOS>']]+[word_to_index[word] if word in word_to_index else word_to_index['<UNK>'] for word in sentence.split()]\n",
    "\n",
    "# 여러 개의 문장 리스트를 한꺼번에 단어 인덱스 리스트 벡터로 encode해 주는 함수입니다. \n",
    "def get_encoded_sentences(sentences, word_to_index):\n",
    "    return [get_encoded_sentence(sentence, word_to_index) for sentence in sentences]\n",
    "\n",
    "# 숫자 벡터로 encode된 문장을 원래대로 decode하는 함수입니다. \n",
    "def get_decoded_sentence(encoded_sentence, index_to_word):\n",
    "    return ' '.join(index_to_word[index] if index in index_to_word else '<UNK>' for index in encoded_sentence[1:])  #[1:]를 통해 <BOS>를 제외\n",
    "\n",
    "# 여러 개의 숫자 벡터로 encode된 문장을 한꺼번에 원래대로 decode하는 함수입니다. \n",
    "def get_decoded_sentences(encoded_sentences, index_to_word):\n",
    "    return [get_decoded_sentence(encoded_sentence, index_to_word) for encoded_sentence in encoded_sentences]"
   ]
  },
  {
   "cell_type": "markdown",
   "id": "744f6821",
   "metadata": {},
   "source": [
    "## 3) 모델 구성을 위한 데이터 분석 및 가공"
   ]
  },
  {
   "cell_type": "markdown",
   "id": "7f1a032f",
   "metadata": {},
   "source": [
    "- 데이터셋 내 문장 길이 분포"
   ]
  },
  {
   "cell_type": "code",
   "execution_count": 8,
   "id": "a325457b",
   "metadata": {},
   "outputs": [
    {
     "name": "stdout",
     "output_type": "stream",
     "text": [
      "문장길이 평균 :  15.96940191154864\n",
      "문장길이 최대 :  116\n",
      "문장길이 표준편차 :  12.843571191092\n"
     ]
    }
   ],
   "source": [
    "# 데이터셋 통합\n",
    "total_data_text = list(X_train) + list(X_test)\n",
    "\n",
    "# 문장 길이 확인\n",
    "num_tokens = np.array([len(tokens) for tokens in total_data_text])\n",
    "\n",
    "# 문장길이의 평균값, 최대값, 표준편차를 계산해 본다. \n",
    "print('문장길이 평균 : ', np.mean(num_tokens))\n",
    "print('문장길이 최대 : ', np.max(num_tokens))\n",
    "print('문장길이 표준편차 : ', np.std(num_tokens))"
   ]
  },
  {
   "cell_type": "markdown",
   "id": "7c15d6a8",
   "metadata": {},
   "source": [
    "- 적절한 최대 문장 길이 지정"
   ]
  },
  {
   "cell_type": "code",
   "execution_count": 9,
   "id": "5d1130ed",
   "metadata": {},
   "outputs": [
    {
     "name": "stdout",
     "output_type": "stream",
     "text": [
      "pad_sequences maxlen :  41\n",
      "전체 문장의 93.43%가 maxlen 설정값 이내에 포함됩니다. \n"
     ]
    }
   ],
   "source": [
    "# 최대 길이를 (평균 + 2*표준편차)로 설정  \n",
    "max_tokens = np.mean(num_tokens) + 2 * np.std(num_tokens)\n",
    "maxlen = int(max_tokens)\n",
    "print('pad_sequences maxlen : ', maxlen)\n",
    "print(f'전체 문장의 {round((np.sum(num_tokens < max_tokens) / len(num_tokens)) * 100, 2)}%가 maxlen 설정값 이내에 포함됩니다. ')"
   ]
  },
  {
   "cell_type": "markdown",
   "id": "d5e458eb",
   "metadata": {},
   "source": [
    "- keras.preprocessing.sequence.pad_sequences 을 활용한 패딩 추가"
   ]
  },
  {
   "cell_type": "code",
   "execution_count": 11,
   "id": "3f602aab",
   "metadata": {},
   "outputs": [
    {
     "name": "stdout",
     "output_type": "stream",
     "text": [
      "(146182, 41)\n"
     ]
    }
   ],
   "source": [
    "X_train = tf.keras.preprocessing.sequence.pad_sequences(X_train,\n",
    "                                                        value=word_to_index[\"<PAD>\"],\n",
    "                                                        padding='post',\n",
    "                                                        maxlen=maxlen)\n",
    "\n",
    "X_test = tf.keras.preprocessing.sequence.pad_sequences(X_test,\n",
    "                                                       value=word_to_index[\"<PAD>\"],\n",
    "                                                       padding='post', \n",
    "                                                       maxlen=maxlen)\n",
    "\n",
    "print(X_train.shape)"
   ]
  },
  {
   "cell_type": "code",
   "execution_count": 12,
   "id": "201f7150",
   "metadata": {},
   "outputs": [
    {
     "name": "stdout",
     "output_type": "stream",
     "text": [
      "(49157, 41)\n"
     ]
    }
   ],
   "source": [
    "print(X_test.shape)"
   ]
  },
  {
   "cell_type": "markdown",
   "id": "af1e6912",
   "metadata": {},
   "source": [
    "## 4) 모델 구성 및 validation set 구성"
   ]
  },
  {
   "cell_type": "markdown",
   "id": "99a27a0f",
   "metadata": {},
   "source": [
    "### validation set"
   ]
  },
  {
   "cell_type": "markdown",
   "id": "d8168337",
   "metadata": {},
   "source": [
    "- X_train의 146182건 중 46182건을 validation set으로 분리하기로 한다."
   ]
  },
  {
   "cell_type": "code",
   "execution_count": 28,
   "id": "a589860c",
   "metadata": {},
   "outputs": [
    {
     "data": {
      "text/plain": [
       "100000"
      ]
     },
     "execution_count": 28,
     "metadata": {},
     "output_type": "execute_result"
    }
   ],
   "source": [
    "len(X_train) - 46182"
   ]
  },
  {
   "cell_type": "markdown",
   "id": "63e937d6",
   "metadata": {},
   "source": [
    "- train 데이터 총 10만개라는 깔끔한 숫자"
   ]
  },
  {
   "cell_type": "code",
   "execution_count": 27,
   "id": "67f859a9",
   "metadata": {},
   "outputs": [
    {
     "data": {
      "text/plain": [
       "0.3159212488541681"
      ]
     },
     "execution_count": 27,
     "metadata": {},
     "output_type": "execute_result"
    }
   ],
   "source": [
    "46182 / len(X_train)"
   ]
  },
  {
   "cell_type": "code",
   "execution_count": 30,
   "id": "4b8321ba",
   "metadata": {},
   "outputs": [
    {
     "data": {
      "text/plain": [
       "0.3362725917007566"
      ]
     },
     "execution_count": 30,
     "metadata": {},
     "output_type": "execute_result"
    }
   ],
   "source": [
    "len(X_test)/ len(X_train)"
   ]
  },
  {
   "cell_type": "code",
   "execution_count": 29,
   "id": "522c7263",
   "metadata": {},
   "outputs": [
    {
     "data": {
      "text/plain": [
       "2975"
      ]
     },
     "execution_count": 29,
     "metadata": {},
     "output_type": "execute_result"
    }
   ],
   "source": [
    "len(X_test) - 46182"
   ]
  },
  {
   "cell_type": "markdown",
   "id": "21bb707b",
   "metadata": {},
   "source": [
    "- 학습 데이터 분리 비율 약 7:3\n",
    "- 테스트 데이터와 유사한 데이터 양"
   ]
  },
  {
   "cell_type": "code",
   "execution_count": 36,
   "id": "8b3bcd2b",
   "metadata": {},
   "outputs": [
    {
     "name": "stdout",
     "output_type": "stream",
     "text": [
      "(100000, 41) (100000,)\n",
      "(46182, 41) (46182,)\n"
     ]
    }
   ],
   "source": [
    "# train set 100,000건 분리\n",
    "partial_x_train = X_train[:100000]  \n",
    "partial_y_train = y_train[:100000]\n",
    "\n",
    "# train set을 제외한 나머지 46182건\n",
    "x_val = X_train[100000:]   \n",
    "y_val = y_train[100000:]\n",
    "\n",
    "print(partial_x_train.shape, partial_y_train.shape)\n",
    "print(x_val.shape, y_val.shape)"
   ]
  },
  {
   "cell_type": "markdown",
   "id": "d155e36c",
   "metadata": {},
   "source": [
    "모델은 3가지 이상 다양하게 구성하여 실험해 보세요."
   ]
  },
  {
   "cell_type": "code",
   "execution_count": 38,
   "id": "aa2546df",
   "metadata": {},
   "outputs": [],
   "source": [
    "vocab_size = len(word_to_index)\n",
    "word_vector_dim = 128"
   ]
  },
  {
   "cell_type": "markdown",
   "id": "452e75a9",
   "metadata": {},
   "source": [
    "### Model 1. 1D CNN"
   ]
  },
  {
   "cell_type": "code",
   "execution_count": 54,
   "id": "7a86a334",
   "metadata": {},
   "outputs": [
    {
     "name": "stdout",
     "output_type": "stream",
     "text": [
      "Model: \"Conv1D\"\n",
      "_________________________________________________________________\n",
      "Layer (type)                 Output Shape              Param #   \n",
      "=================================================================\n",
      "embedding_5 (Embedding)      (None, None, 128)         1280000   \n",
      "_________________________________________________________________\n",
      "conv1d_4 (Conv1D)            (None, None, 16)          14352     \n",
      "_________________________________________________________________\n",
      "max_pooling1d_2 (MaxPooling1 (None, None, 16)          0         \n",
      "_________________________________________________________________\n",
      "conv1d_5 (Conv1D)            (None, None, 16)          1808      \n",
      "_________________________________________________________________\n",
      "global_max_pooling1d_4 (Glob (None, 16)                0         \n",
      "_________________________________________________________________\n",
      "dense_10 (Dense)             (None, 8)                 136       \n",
      "_________________________________________________________________\n",
      "dense_11 (Dense)             (None, 1)                 9         \n",
      "=================================================================\n",
      "Total params: 1,296,305\n",
      "Trainable params: 1,296,305\n",
      "Non-trainable params: 0\n",
      "_________________________________________________________________\n"
     ]
    }
   ],
   "source": [
    "CNN_model = tf.keras.Sequential(name='Conv1D')\n",
    "CNN_model.add(tf.keras.layers.Embedding(vocab_size, word_vector_dim, input_shape=(None,)))\n",
    "CNN_model.add(tf.keras.layers.Conv1D(16, 7, activation='relu'))\n",
    "CNN_model.add(tf.keras.layers.MaxPooling1D(5))\n",
    "CNN_model.add(tf.keras.layers.Conv1D(16, 7, activation='relu'))\n",
    "CNN_model.add(tf.keras.layers.GlobalMaxPooling1D())\n",
    "CNN_model.add(tf.keras.layers.Dense(8, activation='relu'))\n",
    "CNN_model.add(tf.keras.layers.Dense(1, activation='sigmoid'))\n",
    "\n",
    "CNN_model.summary()"
   ]
  },
  {
   "cell_type": "markdown",
   "id": "f8524945",
   "metadata": {},
   "source": [
    "### Model 2. Global Max Pooling 1D"
   ]
  },
  {
   "cell_type": "code",
   "execution_count": 59,
   "id": "97aa9032",
   "metadata": {},
   "outputs": [
    {
     "name": "stdout",
     "output_type": "stream",
     "text": [
      "Model: \"Global_Max_Pooling_1D\"\n",
      "_________________________________________________________________\n",
      "Layer (type)                 Output Shape              Param #   \n",
      "=================================================================\n",
      "embedding_6 (Embedding)      (None, None, 128)         1280000   \n",
      "_________________________________________________________________\n",
      "global_max_pooling1d_5 (Glob (None, 128)               0         \n",
      "_________________________________________________________________\n",
      "dense_12 (Dense)             (None, 8)                 1032      \n",
      "_________________________________________________________________\n",
      "dense_13 (Dense)             (None, 1)                 9         \n",
      "=================================================================\n",
      "Total params: 1,281,041\n",
      "Trainable params: 1,281,041\n",
      "Non-trainable params: 0\n",
      "_________________________________________________________________\n"
     ]
    }
   ],
   "source": [
    "GMP_model = tf.keras.Sequential(name=\"Global_Max_Pooling_1D\")\n",
    "GMP_model.add(tf.keras.layers.Embedding(vocab_size, word_vector_dim, input_shape=(None,)))\n",
    "GMP_model.add(tf.keras.layers.GlobalMaxPooling1D())\n",
    "GMP_model.add(tf.keras.layers.Dense(8, activation='relu'))\n",
    "GMP_model.add(tf.keras.layers.Dense(1, activation='sigmoid'))\n",
    "\n",
    "GMP_model.summary()"
   ]
  },
  {
   "cell_type": "markdown",
   "id": "e4f67dc6",
   "metadata": {},
   "source": [
    "### Model 3. RNN"
   ]
  },
  {
   "cell_type": "code",
   "execution_count": 43,
   "id": "722b0f07",
   "metadata": {},
   "outputs": [
    {
     "name": "stdout",
     "output_type": "stream",
     "text": [
      "Model: \"RNN\"\n",
      "_________________________________________________________________\n",
      "Layer (type)                 Output Shape              Param #   \n",
      "=================================================================\n",
      "embedding_4 (Embedding)      (None, None, 128)         1280000   \n",
      "_________________________________________________________________\n",
      "lstm (LSTM)                  (None, 8)                 4384      \n",
      "_________________________________________________________________\n",
      "dense_8 (Dense)              (None, 8)                 72        \n",
      "_________________________________________________________________\n",
      "dense_9 (Dense)              (None, 1)                 9         \n",
      "=================================================================\n",
      "Total params: 1,284,465\n",
      "Trainable params: 1,284,465\n",
      "Non-trainable params: 0\n",
      "_________________________________________________________________\n"
     ]
    }
   ],
   "source": [
    "RNN_model = tf.keras.Sequential(name='RNN')\n",
    "RNN_model.add(tf.keras.layers.Embedding(vocab_size, word_vector_dim, input_shape=(None,)))\n",
    "RNN_model.add(tf.keras.layers.LSTM(8))\n",
    "RNN_model.add(tf.keras.layers.Dense(8, activation='relu'))\n",
    "RNN_model.add(tf.keras.layers.Dense(1, activation='sigmoid'))\n",
    "\n",
    "RNN_model.summary()"
   ]
  },
  {
   "cell_type": "markdown",
   "id": "ed8bf54e",
   "metadata": {},
   "source": [
    "## 5) 모델 훈련 개시"
   ]
  },
  {
   "cell_type": "code",
   "execution_count": 82,
   "id": "21d9f34e",
   "metadata": {},
   "outputs": [],
   "source": [
    "def train_model(model, epochs=30, batch_size=512):\n",
    "    model.compile(optimizer='adam',\n",
    "                  loss='binary_crossentropy',\n",
    "                  metrics=['accuracy'])\n",
    "\n",
    "    history = model.fit(partial_x_train, partial_y_train,\n",
    "                        epochs=epochs, batch_size=batch_size,\n",
    "                        validation_data=(x_val, y_val),\n",
    "                        verbose=1)\n",
    "    return model, history"
   ]
  },
  {
   "cell_type": "markdown",
   "id": "66427a8a",
   "metadata": {},
   "source": [
    "### Model 1. 1D CNN"
   ]
  },
  {
   "cell_type": "code",
   "execution_count": 69,
   "id": "b99c4dfd",
   "metadata": {},
   "outputs": [
    {
     "name": "stdout",
     "output_type": "stream",
     "text": [
      "Epoch 1/30\n",
      "196/196 [==============================] - 2s 7ms/step - loss: 0.0167 - accuracy: 0.9944 - val_loss: 1.2533 - val_accuracy: 0.8222\n",
      "Epoch 2/30\n",
      "196/196 [==============================] - 1s 6ms/step - loss: 0.0127 - accuracy: 0.9956 - val_loss: 1.3380 - val_accuracy: 0.8163\n",
      "Epoch 3/30\n",
      "196/196 [==============================] - 1s 6ms/step - loss: 0.0124 - accuracy: 0.9959 - val_loss: 1.3616 - val_accuracy: 0.8199\n",
      "Epoch 4/30\n",
      "196/196 [==============================] - 1s 6ms/step - loss: 0.0116 - accuracy: 0.9961 - val_loss: 1.4086 - val_accuracy: 0.8212\n",
      "Epoch 5/30\n",
      "196/196 [==============================] - 1s 6ms/step - loss: 0.0124 - accuracy: 0.9958 - val_loss: 1.4650 - val_accuracy: 0.8162\n",
      "Epoch 6/30\n",
      "196/196 [==============================] - 1s 6ms/step - loss: 0.0136 - accuracy: 0.9953 - val_loss: 1.3886 - val_accuracy: 0.8166\n",
      "Epoch 7/30\n",
      "196/196 [==============================] - 1s 6ms/step - loss: 0.0167 - accuracy: 0.9943 - val_loss: 1.2980 - val_accuracy: 0.8199\n",
      "Epoch 8/30\n",
      "196/196 [==============================] - 1s 6ms/step - loss: 0.0142 - accuracy: 0.9952 - val_loss: 1.3334 - val_accuracy: 0.8175\n",
      "Epoch 9/30\n",
      "196/196 [==============================] - 1s 6ms/step - loss: 0.0109 - accuracy: 0.9961 - val_loss: 1.4058 - val_accuracy: 0.8188\n",
      "Epoch 10/30\n",
      "196/196 [==============================] - 1s 6ms/step - loss: 0.0100 - accuracy: 0.9967 - val_loss: 1.4638 - val_accuracy: 0.8203\n",
      "Epoch 11/30\n",
      "196/196 [==============================] - 1s 6ms/step - loss: 0.0091 - accuracy: 0.9968 - val_loss: 1.4386 - val_accuracy: 0.8167\n",
      "Epoch 12/30\n",
      "196/196 [==============================] - 1s 6ms/step - loss: 0.0089 - accuracy: 0.9969 - val_loss: 1.5312 - val_accuracy: 0.8182\n",
      "Epoch 13/30\n",
      "196/196 [==============================] - 1s 6ms/step - loss: 0.0086 - accuracy: 0.9969 - val_loss: 1.5205 - val_accuracy: 0.8166\n",
      "Epoch 14/30\n",
      "196/196 [==============================] - 1s 6ms/step - loss: 0.0097 - accuracy: 0.9967 - val_loss: 1.5406 - val_accuracy: 0.8187\n",
      "Epoch 15/30\n",
      "196/196 [==============================] - 1s 6ms/step - loss: 0.0101 - accuracy: 0.9963 - val_loss: 1.5771 - val_accuracy: 0.8141\n",
      "Epoch 16/30\n",
      "196/196 [==============================] - 1s 6ms/step - loss: 0.0127 - accuracy: 0.9955 - val_loss: 1.4227 - val_accuracy: 0.8136\n",
      "Epoch 17/30\n",
      "196/196 [==============================] - 1s 6ms/step - loss: 0.0144 - accuracy: 0.9947 - val_loss: 1.3792 - val_accuracy: 0.8164\n",
      "Epoch 18/30\n",
      "196/196 [==============================] - 1s 6ms/step - loss: 0.0122 - accuracy: 0.9956 - val_loss: 1.4674 - val_accuracy: 0.8167\n",
      "Epoch 19/30\n",
      "196/196 [==============================] - 1s 6ms/step - loss: 0.0107 - accuracy: 0.9961 - val_loss: 1.5467 - val_accuracy: 0.8164\n",
      "Epoch 20/30\n",
      "196/196 [==============================] - 1s 6ms/step - loss: 0.0092 - accuracy: 0.9966 - val_loss: 1.5776 - val_accuracy: 0.8127\n",
      "Epoch 21/30\n",
      "196/196 [==============================] - 1s 6ms/step - loss: 0.0078 - accuracy: 0.9970 - val_loss: 1.6061 - val_accuracy: 0.8164\n",
      "Epoch 22/30\n",
      "196/196 [==============================] - 1s 6ms/step - loss: 0.0072 - accuracy: 0.9973 - val_loss: 1.6892 - val_accuracy: 0.8146\n",
      "Epoch 23/30\n",
      "196/196 [==============================] - 1s 6ms/step - loss: 0.0071 - accuracy: 0.9973 - val_loss: 1.7374 - val_accuracy: 0.8168\n",
      "Epoch 24/30\n",
      "196/196 [==============================] - 1s 6ms/step - loss: 0.0070 - accuracy: 0.9972 - val_loss: 1.6677 - val_accuracy: 0.8171\n",
      "Epoch 25/30\n",
      "196/196 [==============================] - 1s 6ms/step - loss: 0.0070 - accuracy: 0.9973 - val_loss: 1.8181 - val_accuracy: 0.8141\n",
      "Epoch 26/30\n",
      "196/196 [==============================] - 1s 6ms/step - loss: 0.0068 - accuracy: 0.9975 - val_loss: 1.7781 - val_accuracy: 0.8121\n",
      "Epoch 27/30\n",
      "196/196 [==============================] - 1s 6ms/step - loss: 0.0076 - accuracy: 0.9969 - val_loss: 1.8326 - val_accuracy: 0.8162\n",
      "Epoch 28/30\n",
      "196/196 [==============================] - 1s 6ms/step - loss: 0.0102 - accuracy: 0.9961 - val_loss: 1.6631 - val_accuracy: 0.8176\n",
      "Epoch 29/30\n",
      "196/196 [==============================] - 1s 6ms/step - loss: 0.0150 - accuracy: 0.9944 - val_loss: 1.5758 - val_accuracy: 0.8174\n",
      "Epoch 30/30\n",
      "196/196 [==============================] - 1s 6ms/step - loss: 0.0113 - accuracy: 0.9956 - val_loss: 1.6109 - val_accuracy: 0.8153\n"
     ]
    }
   ],
   "source": [
    "CNN_model_trained, CNN_model_history = train_model(CNN_model)"
   ]
  },
  {
   "cell_type": "code",
   "execution_count": 89,
   "id": "5371ec84",
   "metadata": {},
   "outputs": [
    {
     "name": "stdout",
     "output_type": "stream",
     "text": [
      "1537/1537 - 2s - loss: 1.6026 - accuracy: 0.8159\n"
     ]
    }
   ],
   "source": [
    "CNN_results = CNN_model_trained.evaluate(X_test,  y_test, verbose=2)"
   ]
  },
  {
   "cell_type": "markdown",
   "id": "14333850",
   "metadata": {},
   "source": [
    "### Model 2. Global Max Pooling 1D"
   ]
  },
  {
   "cell_type": "code",
   "execution_count": 71,
   "id": "b885b4f8",
   "metadata": {},
   "outputs": [
    {
     "name": "stdout",
     "output_type": "stream",
     "text": [
      "Epoch 1/30\n",
      "196/196 [==============================] - 1s 5ms/step - loss: 0.0071 - accuracy: 0.9968 - val_loss: 1.0771 - val_accuracy: 0.8242\n",
      "Epoch 2/30\n",
      "196/196 [==============================] - 1s 4ms/step - loss: 0.0068 - accuracy: 0.9969 - val_loss: 1.1155 - val_accuracy: 0.8242\n",
      "Epoch 3/30\n",
      "196/196 [==============================] - 1s 4ms/step - loss: 0.0065 - accuracy: 0.9969 - val_loss: 1.1389 - val_accuracy: 0.8260\n",
      "Epoch 4/30\n",
      "196/196 [==============================] - 1s 4ms/step - loss: 0.0060 - accuracy: 0.9969 - val_loss: 1.1608 - val_accuracy: 0.8260\n",
      "Epoch 5/30\n",
      "196/196 [==============================] - 1s 4ms/step - loss: 0.0057 - accuracy: 0.9969 - val_loss: 1.1774 - val_accuracy: 0.8251\n",
      "Epoch 6/30\n",
      "196/196 [==============================] - 1s 4ms/step - loss: 0.0055 - accuracy: 0.9969 - val_loss: 1.1901 - val_accuracy: 0.8240\n",
      "Epoch 7/30\n",
      "196/196 [==============================] - 1s 4ms/step - loss: 0.0056 - accuracy: 0.9970 - val_loss: 1.1962 - val_accuracy: 0.8257\n",
      "Epoch 8/30\n",
      "196/196 [==============================] - 1s 4ms/step - loss: 0.0055 - accuracy: 0.9970 - val_loss: 1.2062 - val_accuracy: 0.8255\n",
      "Epoch 9/30\n",
      "196/196 [==============================] - 1s 4ms/step - loss: 0.0053 - accuracy: 0.9971 - val_loss: 1.2246 - val_accuracy: 0.8229\n",
      "Epoch 10/30\n",
      "196/196 [==============================] - 1s 4ms/step - loss: 0.0051 - accuracy: 0.9971 - val_loss: 1.2407 - val_accuracy: 0.8256\n",
      "Epoch 11/30\n",
      "196/196 [==============================] - 1s 4ms/step - loss: 0.0051 - accuracy: 0.9971 - val_loss: 1.2694 - val_accuracy: 0.8240\n",
      "Epoch 12/30\n",
      "196/196 [==============================] - 1s 4ms/step - loss: 0.0052 - accuracy: 0.9971 - val_loss: 1.2824 - val_accuracy: 0.8223\n",
      "Epoch 13/30\n",
      "196/196 [==============================] - 1s 4ms/step - loss: 0.0053 - accuracy: 0.9971 - val_loss: 1.3062 - val_accuracy: 0.8244\n",
      "Epoch 14/30\n",
      "196/196 [==============================] - 1s 4ms/step - loss: 0.0056 - accuracy: 0.9971 - val_loss: 1.3385 - val_accuracy: 0.8221\n",
      "Epoch 15/30\n",
      "196/196 [==============================] - 1s 4ms/step - loss: 0.0050 - accuracy: 0.9972 - val_loss: 1.3802 - val_accuracy: 0.8226\n",
      "Epoch 16/30\n",
      "196/196 [==============================] - 1s 4ms/step - loss: 0.0053 - accuracy: 0.9972 - val_loss: 1.3873 - val_accuracy: 0.8209\n",
      "Epoch 17/30\n",
      "196/196 [==============================] - 1s 4ms/step - loss: 0.0048 - accuracy: 0.9971 - val_loss: 1.4073 - val_accuracy: 0.8214\n",
      "Epoch 18/30\n",
      "196/196 [==============================] - 1s 4ms/step - loss: 0.0047 - accuracy: 0.9972 - val_loss: 1.4210 - val_accuracy: 0.8231\n",
      "Epoch 19/30\n",
      "196/196 [==============================] - 1s 4ms/step - loss: 0.0047 - accuracy: 0.9973 - val_loss: 1.4290 - val_accuracy: 0.8233\n",
      "Epoch 20/30\n",
      "196/196 [==============================] - 1s 4ms/step - loss: 0.0048 - accuracy: 0.9972 - val_loss: 1.4407 - val_accuracy: 0.8243\n",
      "Epoch 21/30\n",
      "196/196 [==============================] - 1s 4ms/step - loss: 0.0046 - accuracy: 0.9972 - val_loss: 1.4498 - val_accuracy: 0.8222\n",
      "Epoch 22/30\n",
      "196/196 [==============================] - 1s 4ms/step - loss: 0.0047 - accuracy: 0.9972 - val_loss: 1.4472 - val_accuracy: 0.8241\n",
      "Epoch 23/30\n",
      "196/196 [==============================] - 1s 4ms/step - loss: 0.0047 - accuracy: 0.9972 - val_loss: 1.4725 - val_accuracy: 0.8215\n",
      "Epoch 24/30\n",
      "196/196 [==============================] - 1s 4ms/step - loss: 0.0050 - accuracy: 0.9972 - val_loss: 1.4827 - val_accuracy: 0.8195\n",
      "Epoch 25/30\n",
      "196/196 [==============================] - 1s 4ms/step - loss: 0.0051 - accuracy: 0.9971 - val_loss: 1.5037 - val_accuracy: 0.8217\n",
      "Epoch 26/30\n",
      "196/196 [==============================] - 1s 4ms/step - loss: 0.0056 - accuracy: 0.9970 - val_loss: 1.5563 - val_accuracy: 0.8188\n",
      "Epoch 27/30\n",
      "196/196 [==============================] - 1s 4ms/step - loss: 0.0059 - accuracy: 0.9968 - val_loss: 1.5821 - val_accuracy: 0.8204\n",
      "Epoch 28/30\n",
      "196/196 [==============================] - 1s 4ms/step - loss: 0.0054 - accuracy: 0.9970 - val_loss: 1.5777 - val_accuracy: 0.8212\n",
      "Epoch 29/30\n",
      "196/196 [==============================] - 1s 4ms/step - loss: 0.0049 - accuracy: 0.9971 - val_loss: 1.5786 - val_accuracy: 0.8228\n",
      "Epoch 30/30\n",
      "196/196 [==============================] - 1s 4ms/step - loss: 0.0046 - accuracy: 0.9973 - val_loss: 1.5696 - val_accuracy: 0.8220\n"
     ]
    }
   ],
   "source": [
    "GMP_model_trained, GMP_model_history = train_model(GMP_model)"
   ]
  },
  {
   "cell_type": "code",
   "execution_count": 88,
   "id": "56be3967",
   "metadata": {},
   "outputs": [
    {
     "name": "stdout",
     "output_type": "stream",
     "text": [
      "1537/1537 - 2s - loss: 1.5735 - accuracy: 0.8202\n"
     ]
    }
   ],
   "source": [
    "GMP_results = GMP_model_trained.evaluate(X_test,  y_test, verbose=2)"
   ]
  },
  {
   "cell_type": "markdown",
   "id": "5b6e89b5",
   "metadata": {},
   "source": [
    "### Model 3. RNN"
   ]
  },
  {
   "cell_type": "code",
   "execution_count": 90,
   "id": "500af086",
   "metadata": {},
   "outputs": [
    {
     "name": "stdout",
     "output_type": "stream",
     "text": [
      "Epoch 1/30\n",
      "196/196 [==============================] - 3s 9ms/step - loss: 0.0273 - accuracy: 0.9910 - val_loss: 1.0603 - val_accuracy: 0.8245\n",
      "Epoch 2/30\n",
      "196/196 [==============================] - 1s 6ms/step - loss: 0.0264 - accuracy: 0.9913 - val_loss: 1.0215 - val_accuracy: 0.8228\n",
      "Epoch 3/30\n",
      "196/196 [==============================] - 1s 6ms/step - loss: 0.0272 - accuracy: 0.9911 - val_loss: 1.0463 - val_accuracy: 0.8268\n",
      "Epoch 4/30\n",
      "196/196 [==============================] - 1s 6ms/step - loss: 0.0246 - accuracy: 0.9920 - val_loss: 1.0625 - val_accuracy: 0.8244\n",
      "Epoch 5/30\n",
      "196/196 [==============================] - 1s 6ms/step - loss: 0.0236 - accuracy: 0.9923 - val_loss: 1.1181 - val_accuracy: 0.8235\n",
      "Epoch 6/30\n",
      "196/196 [==============================] - 1s 6ms/step - loss: 0.0263 - accuracy: 0.9909 - val_loss: 1.0857 - val_accuracy: 0.8208\n",
      "Epoch 7/30\n",
      "196/196 [==============================] - 1s 6ms/step - loss: 0.0249 - accuracy: 0.9916 - val_loss: 1.1329 - val_accuracy: 0.8216\n",
      "Epoch 8/30\n",
      "196/196 [==============================] - 1s 6ms/step - loss: 0.0248 - accuracy: 0.9919 - val_loss: 1.1143 - val_accuracy: 0.8221\n",
      "Epoch 9/30\n",
      "196/196 [==============================] - 1s 6ms/step - loss: 0.0238 - accuracy: 0.9919 - val_loss: 1.0652 - val_accuracy: 0.8235\n",
      "Epoch 10/30\n",
      "196/196 [==============================] - 1s 7ms/step - loss: 0.0262 - accuracy: 0.9913 - val_loss: 1.0159 - val_accuracy: 0.8244\n",
      "Epoch 11/30\n",
      "196/196 [==============================] - 1s 6ms/step - loss: 0.0249 - accuracy: 0.9913 - val_loss: 1.1481 - val_accuracy: 0.8238\n",
      "Epoch 12/30\n",
      "196/196 [==============================] - 1s 6ms/step - loss: 0.0221 - accuracy: 0.9926 - val_loss: 1.0930 - val_accuracy: 0.8192\n",
      "Epoch 13/30\n",
      "196/196 [==============================] - 1s 6ms/step - loss: 0.0221 - accuracy: 0.9927 - val_loss: 1.0897 - val_accuracy: 0.8224\n",
      "Epoch 14/30\n",
      "196/196 [==============================] - 1s 7ms/step - loss: 0.0223 - accuracy: 0.9925 - val_loss: 1.1693 - val_accuracy: 0.8220\n",
      "Epoch 15/30\n",
      "196/196 [==============================] - 1s 6ms/step - loss: 0.0248 - accuracy: 0.9918 - val_loss: 1.0893 - val_accuracy: 0.8221\n",
      "Epoch 16/30\n",
      "196/196 [==============================] - 1s 6ms/step - loss: 0.0245 - accuracy: 0.9916 - val_loss: 1.0896 - val_accuracy: 0.8234\n",
      "Epoch 17/30\n",
      "196/196 [==============================] - 1s 6ms/step - loss: 0.0213 - accuracy: 0.9928 - val_loss: 1.0892 - val_accuracy: 0.8232\n",
      "Epoch 18/30\n",
      "196/196 [==============================] - 1s 6ms/step - loss: 0.0212 - accuracy: 0.9930 - val_loss: 1.1499 - val_accuracy: 0.8219\n",
      "Epoch 19/30\n",
      "196/196 [==============================] - 1s 6ms/step - loss: 0.0229 - accuracy: 0.9920 - val_loss: 1.1414 - val_accuracy: 0.8237\n",
      "Epoch 20/30\n",
      "196/196 [==============================] - 1s 6ms/step - loss: 0.0244 - accuracy: 0.9917 - val_loss: 1.0833 - val_accuracy: 0.8252\n",
      "Epoch 21/30\n",
      "196/196 [==============================] - 1s 6ms/step - loss: 0.0219 - accuracy: 0.9927 - val_loss: 1.1264 - val_accuracy: 0.8263\n",
      "Epoch 22/30\n",
      "196/196 [==============================] - 1s 6ms/step - loss: 0.0212 - accuracy: 0.9927 - val_loss: 1.0931 - val_accuracy: 0.8238\n",
      "Epoch 23/30\n",
      "196/196 [==============================] - 1s 6ms/step - loss: 0.0205 - accuracy: 0.9928 - val_loss: 1.1597 - val_accuracy: 0.8238\n",
      "Epoch 24/30\n",
      "196/196 [==============================] - 1s 6ms/step - loss: 0.0214 - accuracy: 0.9929 - val_loss: 1.1352 - val_accuracy: 0.8233\n",
      "Epoch 25/30\n",
      "196/196 [==============================] - 1s 6ms/step - loss: 0.0216 - accuracy: 0.9926 - val_loss: 1.2107 - val_accuracy: 0.8231\n",
      "Epoch 26/30\n",
      "196/196 [==============================] - 1s 6ms/step - loss: 0.0214 - accuracy: 0.9927 - val_loss: 1.1599 - val_accuracy: 0.8231\n",
      "Epoch 27/30\n",
      "196/196 [==============================] - 1s 6ms/step - loss: 0.0224 - accuracy: 0.9921 - val_loss: 1.1492 - val_accuracy: 0.8227\n",
      "Epoch 28/30\n",
      "196/196 [==============================] - 1s 6ms/step - loss: 0.0218 - accuracy: 0.9926 - val_loss: 1.0805 - val_accuracy: 0.8243\n",
      "Epoch 29/30\n",
      "196/196 [==============================] - 1s 6ms/step - loss: 0.0189 - accuracy: 0.9934 - val_loss: 1.2061 - val_accuracy: 0.8230\n",
      "Epoch 30/30\n",
      "196/196 [==============================] - 1s 6ms/step - loss: 0.0185 - accuracy: 0.9938 - val_loss: 1.2403 - val_accuracy: 0.8234\n"
     ]
    }
   ],
   "source": [
    "RNN_model_trained, RNN_model_history = train_model(RNN_model)"
   ]
  },
  {
   "cell_type": "code",
   "execution_count": 91,
   "id": "3d7640aa",
   "metadata": {},
   "outputs": [
    {
     "name": "stdout",
     "output_type": "stream",
     "text": [
      "1537/1537 - 3s - loss: 1.2555 - accuracy: 0.8186\n"
     ]
    }
   ],
   "source": [
    "RNN_results = RNN_model_trained.evaluate(X_test,  y_test, verbose=2)"
   ]
  },
  {
   "cell_type": "markdown",
   "id": "11a06ccf",
   "metadata": {},
   "source": [
    "## 6) Loss, Accuracy 그래프 시각화"
   ]
  },
  {
   "cell_type": "code",
   "execution_count": 129,
   "id": "bc9e2dd5",
   "metadata": {},
   "outputs": [],
   "source": [
    "def draw_graph(history):\n",
    "    acc = history.history['accuracy']\n",
    "    val_acc = history.history['val_accuracy']\n",
    "    loss = history.history['loss']\n",
    "    val_loss = history.history['val_loss']\n",
    "    epochs = range(1, len(acc) + 1)\n",
    "    \n",
    "    fig, axs = plt.subplots(2 ,1, constrained_layout=True, figsize=(8, 10))\n",
    "    \n",
    "    axs[0].plot(epochs, loss, 'bo', label='Training loss')\n",
    "    axs[0].plot(epochs, val_loss, 'orange', label='Validation loss')\n",
    "    axs[0].set_title('Training and validation loss')\n",
    "    axs[0].set_xlabel('Epochs')\n",
    "    axs[0].set_ylabel('Loss')\n",
    "    axs[0].legend()\n",
    "\n",
    "    axs[1].plot(epochs, acc, 'bo', label='Training acc')\n",
    "    axs[1].plot(epochs, val_acc, 'orange', label='Validation acc')\n",
    "    axs[1].set_title('Training and validation accuracy')\n",
    "    axs[1].set_xlabel('Epochs')\n",
    "    axs[1].set_ylabel('Accuracy')\n",
    "    axs[1].legend()\n",
    "    \n",
    "    plt.show()"
   ]
  },
  {
   "cell_type": "markdown",
   "id": "7e1c30b3",
   "metadata": {},
   "source": [
    "### Model 1. 1D CNN"
   ]
  },
  {
   "cell_type": "code",
   "execution_count": 130,
   "id": "b84c77a4",
   "metadata": {},
   "outputs": [
    {
     "data": {
      "image/png": "[encoded data removed]",
      "text/plain": [
       "<Figure size 576x720 with 2 Axes>"
      ]
     },
     "metadata": {
      "needs_background": "light"
     },
     "output_type": "display_data"
    }
   ],
   "source": [
    "draw_graph(CNN_model_history)"
   ]
  },
  {
   "cell_type": "markdown",
   "id": "cd9e6f47",
   "metadata": {},
   "source": [
    "### Model 2. Global Max Pooling 1D"
   ]
  },
  {
   "cell_type": "code",
   "execution_count": 131,
   "id": "b5dc5007",
   "metadata": {},
   "outputs": [
    {
     "data": {
      "image/png": "[encoded data removed]",
      "text/plain": [
       "<Figure size 576x720 with 2 Axes>"
      ]
     },
     "metadata": {
      "needs_background": "light"
     },
     "output_type": "display_data"
    }
   ],
   "source": [
    "draw_graph(GMP_model_history)"
   ]
  },
  {
   "cell_type": "markdown",
   "id": "da886d50",
   "metadata": {},
   "source": [
    "### Model 3. RNN"
   ]
  },
  {
   "cell_type": "code",
   "execution_count": 132,
   "id": "5d28a934",
   "metadata": {},
   "outputs": [
    {
     "data": {
      "image/png": "[encoded data removed]",
      "text/plain": [
       "<Figure size 576x720 with 2 Axes>"
      ]
     },
     "metadata": {
      "needs_background": "light"
     },
     "output_type": "display_data"
    }
   ],
   "source": [
    "draw_graph(RNN_model_history)"
   ]
  },
  {
   "cell_type": "markdown",
   "id": "a486eb1a",
   "metadata": {},
   "source": [
    "## 7) 학습된 Embedding 레이어 분석"
   ]
  },
  {
   "cell_type": "markdown",
   "id": "7491ea7d",
   "metadata": {},
   "source": [
    "### 학습된 Embedding 레이어 저장 및 호출"
   ]
  },
  {
   "cell_type": "code",
   "execution_count": 152,
   "id": "049eb9de",
   "metadata": {},
   "outputs": [],
   "source": [
    "def save_embedding(model, name=\"\"):\n",
    "    # 학습한 Embedding 파라미터를 파일에 써서 저장합니다. \n",
    "    word2vec_file_path = f\"./data/word2vec_{name}.txt\"\n",
    "    f = open(word2vec_file_path, 'w')\n",
    "    f.write('{} {}\\n'.format(vocab_size-4, word_vector_dim))\n",
    "\n",
    "    # 단어 개수(에서 특수문자 4개는 제외하고)만큼의 워드 벡터를 파일에 기록합니다. \n",
    "    vectors = model.get_weights()[0]\n",
    "    for i in range(4,vocab_size):\n",
    "        f.write('{} {}\\n'.format(index_to_word[i], ' '.join(map(str, list(vectors[i, :])))))\n",
    "    f.close()"
   ]
  },
  {
   "cell_type": "code",
   "execution_count": 153,
   "id": "d79829c5",
   "metadata": {},
   "outputs": [],
   "source": [
    "save_embedding(CNN_model, name=\"CNN\")\n",
    "save_embedding(GMP_model, name=\"GMP\")\n",
    "save_embedding(RNN_model, name=\"RNN\")"
   ]
  },
  {
   "cell_type": "code",
   "execution_count": 229,
   "id": "60636a8a",
   "metadata": {},
   "outputs": [],
   "source": [
    "CNN_wv_path = './data/word2vec_CNN.txt'\n",
    "GMP_wv_path = './data/word2vec_GMP.txt'\n",
    "RNN_wv_path = './data/word2vec_RNN.txt'\n",
    "Kor_wv_path = './data/word2vec_ko.model'\n",
    "\n",
    "CNN_wv = Word2VecKeyedVectors.load_word2vec_format(CNN_wv_path, binary=False)\n",
    "GMP_wv = Word2VecKeyedVectors.load_word2vec_format(GMP_wv_path, binary=False)\n",
    "RNN_wv = Word2VecKeyedVectors.load_word2vec_format(RNN_wv_path, binary=False)\n",
    "Kor_wv = Word2VecKeyedVectors.load(Kor_wv_path).wv # 사전 학습 모델"
   ]
  },
  {
   "cell_type": "markdown",
   "id": "d5ce69b8",
   "metadata": {},
   "source": [
    "### 단어 유사도 확인"
   ]
  },
  {
   "cell_type": "markdown",
   "id": "da2efec0",
   "metadata": {},
   "source": [
    "사전 학습된 모델에서 얻은 임베딩 워드 벡터(Kor_wv)는 비교, 참고용으로 함께 출력한다."
   ]
  },
  {
   "cell_type": "code",
   "execution_count": 231,
   "id": "4d40bcfd",
   "metadata": {},
   "outputs": [],
   "source": [
    "model_names = [\"CNN\", \"GMP\", \"RNN\", \"Kor\"]\n",
    "models  = [CNN_wv, GMP_wv, RNN_wv, Kor_wv]\n",
    "\n",
    "def get_similar_words(models, keyword):\n",
    "    similar_df = {}\n",
    "    \n",
    "    for i in range(len(models)):\n",
    "        words_prob = [f\"{word[0]} ({int(word[1]*100)}%)\" for word in models[i].similar_by_word(keyword)]\n",
    "        similar_df[model_names[i]] = words_prob\n",
    "    \n",
    "    return pd.DataFrame(similar_df)"
   ]
  },
  {
   "cell_type": "markdown",
   "id": "7a275211",
   "metadata": {},
   "source": [
    "#### 영화를 평가하는 요소 관련 단어 확인 (\"연기력\", \"스토리\")\n",
    "- 직접 학습시킨 모델에서는 연관성을 느끼기 어려운 단어들이 유사도가 높은 단어로 확인되었다."
   ]
  },
  {
   "cell_type": "code",
   "execution_count": 232,
   "id": "a7f98841",
   "metadata": {},
   "outputs": [
    {
     "data": {
      "text/html": [
       "<div>\n",
       "<style scoped>\n",
       "    .dataframe tbody tr th:only-of-type {\n",
       "        vertical-align: middle;\n",
       "    }\n",
       "\n",
       "    .dataframe tbody tr th {\n",
       "        vertical-align: top;\n",
       "    }\n",
       "\n",
       "    .dataframe thead th {\n",
       "        text-align: right;\n",
       "    }\n",
       "</style>\n",
       "<table border=\"1\" class=\"dataframe\">\n",
       "  <thead>\n",
       "    <tr style=\"text-align: right;\">\n",
       "      <th></th>\n",
       "      <th>CNN</th>\n",
       "      <th>GMP</th>\n",
       "      <th>RNN</th>\n",
       "      <th>Kor</th>\n",
       "    </tr>\n",
       "  </thead>\n",
       "  <tbody>\n",
       "    <tr>\n",
       "      <th>0</th>\n",
       "      <td>대세 (53%)</td>\n",
       "      <td>로 (51%)</td>\n",
       "      <td>토마스 (68%)</td>\n",
       "      <td>가창력 (85%)</td>\n",
       "    </tr>\n",
       "    <tr>\n",
       "      <th>1</th>\n",
       "      <td>주체 (52%)</td>\n",
       "      <td>에서 (51%)</td>\n",
       "      <td>심은경 (67%)</td>\n",
       "      <td>존재감 (77%)</td>\n",
       "    </tr>\n",
       "    <tr>\n",
       "      <th>2</th>\n",
       "      <td>이범수 (52%)</td>\n",
       "      <td>타임 (50%)</td>\n",
       "      <td>핸드폰 (67%)</td>\n",
       "      <td>기량 (75%)</td>\n",
       "    </tr>\n",
       "    <tr>\n",
       "      <th>3</th>\n",
       "      <td>조미 (52%)</td>\n",
       "      <td>어서 (50%)</td>\n",
       "      <td>와이프 (66%)</td>\n",
       "      <td>경기력 (74%)</td>\n",
       "    </tr>\n",
       "    <tr>\n",
       "      <th>4</th>\n",
       "      <td>묘 (51%)</td>\n",
       "      <td>남 (49%)</td>\n",
       "      <td>귀엽 (65%)</td>\n",
       "      <td>수비력 (72%)</td>\n",
       "    </tr>\n",
       "    <tr>\n",
       "      <th>5</th>\n",
       "      <td>실수 (50%)</td>\n",
       "      <td>이랑 (48%)</td>\n",
       "      <td>여러 (64%)</td>\n",
       "      <td>입담 (70%)</td>\n",
       "    </tr>\n",
       "    <tr>\n",
       "      <th>6</th>\n",
       "      <td>승자 (50%)</td>\n",
       "      <td>본 (48%)</td>\n",
       "      <td>보석 (63%)</td>\n",
       "      <td>배역 (70%)</td>\n",
       "    </tr>\n",
       "    <tr>\n",
       "      <th>7</th>\n",
       "      <td>유동근 (48%)</td>\n",
       "      <td>만든 (47%)</td>\n",
       "      <td>뷰 (63%)</td>\n",
       "      <td>연출력 (70%)</td>\n",
       "    </tr>\n",
       "    <tr>\n",
       "      <th>8</th>\n",
       "      <td>동네 (48%)</td>\n",
       "      <td>된다 (47%)</td>\n",
       "      <td>구현 (63%)</td>\n",
       "      <td>실력 (70%)</td>\n",
       "    </tr>\n",
       "    <tr>\n",
       "      <th>9</th>\n",
       "      <td>나부랭이 (47%)</td>\n",
       "      <td>다 (47%)</td>\n",
       "      <td>요거 (62%)</td>\n",
       "      <td>서정성 (70%)</td>\n",
       "    </tr>\n",
       "  </tbody>\n",
       "</table>\n",
       "</div>"
      ],
      "text/plain": [
       "          CNN       GMP        RNN        Kor\n",
       "0    대세 (53%)   로 (51%)  토마스 (68%)  가창력 (85%)\n",
       "1    주체 (52%)  에서 (51%)  심은경 (67%)  존재감 (77%)\n",
       "2   이범수 (52%)  타임 (50%)  핸드폰 (67%)   기량 (75%)\n",
       "3    조미 (52%)  어서 (50%)  와이프 (66%)  경기력 (74%)\n",
       "4     묘 (51%)   남 (49%)   귀엽 (65%)  수비력 (72%)\n",
       "5    실수 (50%)  이랑 (48%)   여러 (64%)   입담 (70%)\n",
       "6    승자 (50%)   본 (48%)   보석 (63%)   배역 (70%)\n",
       "7   유동근 (48%)  만든 (47%)    뷰 (63%)  연출력 (70%)\n",
       "8    동네 (48%)  된다 (47%)   구현 (63%)   실력 (70%)\n",
       "9  나부랭이 (47%)   다 (47%)   요거 (62%)  서정성 (70%)"
      ]
     },
     "execution_count": 232,
     "metadata": {},
     "output_type": "execute_result"
    }
   ],
   "source": [
    "get_similar_words(models, \"연기력\")"
   ]
  },
  {
   "cell_type": "markdown",
   "id": "00ce7516",
   "metadata": {},
   "source": [
    "- 사전 학습 모델에서는 \"연기력\"과 유사한 의미를 지닌 단어들 위주로 나왔다.\n",
    "- 그나마 배우 이름이 나오는 경우, 배우의 연기력을 평가하는 리뷰가 있었을 것이기 때문에 유사도가 높게 나올 수도 있다고 느껴진다.\n",
    "    - 여기서 의아한 점은 배우 이름이 나올 정도면 \"배우\"라는 단어가 더 높은 유사도를 가질 것 같은데 결과에 속하지 않았다는 점.\n",
    "- 그러나 나머지 단어들은 큰 연관성이 느껴지지 않았다.\n",
    "- 각 모델에서 가장 높은 유사도를 가진 단어들은 각각 53%, 51%, 68%\n",
    "    - 각 모델도 \"연기력\"에 대한 유사도 높은 단어에 대해 딱히 없다고 판단한 것 같다.\n",
    "\n",
    "- 그나마 관련이 있어 보이는, 배우 이름을 결과로 뽑아낸 모델은 CNN(2건), RNN(2건)"
   ]
  },
  {
   "cell_type": "code",
   "execution_count": 233,
   "id": "5449a888",
   "metadata": {},
   "outputs": [
    {
     "data": {
      "text/html": [
       "<div>\n",
       "<style scoped>\n",
       "    .dataframe tbody tr th:only-of-type {\n",
       "        vertical-align: middle;\n",
       "    }\n",
       "\n",
       "    .dataframe tbody tr th {\n",
       "        vertical-align: top;\n",
       "    }\n",
       "\n",
       "    .dataframe thead th {\n",
       "        text-align: right;\n",
       "    }\n",
       "</style>\n",
       "<table border=\"1\" class=\"dataframe\">\n",
       "  <thead>\n",
       "    <tr style=\"text-align: right;\">\n",
       "      <th></th>\n",
       "      <th>CNN</th>\n",
       "      <th>GMP</th>\n",
       "      <th>RNN</th>\n",
       "      <th>Kor</th>\n",
       "    </tr>\n",
       "  </thead>\n",
       "  <tbody>\n",
       "    <tr>\n",
       "      <th>0</th>\n",
       "      <td>의혹 (50%)</td>\n",
       "      <td>고 (76%)</td>\n",
       "      <td>해졌 (66%)</td>\n",
       "      <td>줄거리 (75%)</td>\n",
       "    </tr>\n",
       "    <tr>\n",
       "      <th>1</th>\n",
       "      <td>졸 (48%)</td>\n",
       "      <td>에서 (71%)</td>\n",
       "      <td>라고 (63%)</td>\n",
       "      <td>캐릭터 (72%)</td>\n",
       "    </tr>\n",
       "    <tr>\n",
       "      <th>2</th>\n",
       "      <td>아까울 (45%)</td>\n",
       "      <td>는데 (70%)</td>\n",
       "      <td>라기 (63%)</td>\n",
       "      <td>시나리오 (71%)</td>\n",
       "    </tr>\n",
       "    <tr>\n",
       "      <th>3</th>\n",
       "      <td>근본 (43%)</td>\n",
       "      <td>서 (69%)</td>\n",
       "      <td>이래 (61%)</td>\n",
       "      <td>어드벤처 (66%)</td>\n",
       "    </tr>\n",
       "    <tr>\n",
       "      <th>4</th>\n",
       "      <td>꾼 (42%)</td>\n",
       "      <td>함 (69%)</td>\n",
       "      <td>는다고 (60%)</td>\n",
       "      <td>아바타 (66%)</td>\n",
       "    </tr>\n",
       "    <tr>\n",
       "      <th>5</th>\n",
       "      <td>숫 (41%)</td>\n",
       "      <td>하 (68%)</td>\n",
       "      <td>지현우 (59%)</td>\n",
       "      <td>퀘스트 (66%)</td>\n",
       "    </tr>\n",
       "    <tr>\n",
       "      <th>6</th>\n",
       "      <td>종편 (41%)</td>\n",
       "      <td>어 (68%)</td>\n",
       "      <td>가관 (58%)</td>\n",
       "      <td>엔딩 (65%)</td>\n",
       "    </tr>\n",
       "    <tr>\n",
       "      <th>7</th>\n",
       "      <td>려 (41%)</td>\n",
       "      <td>었 (68%)</td>\n",
       "      <td>개오 (57%)</td>\n",
       "      <td>코믹 (65%)</td>\n",
       "    </tr>\n",
       "    <tr>\n",
       "      <th>8</th>\n",
       "      <td>최소한 (41%)</td>\n",
       "      <td>주 (67%)</td>\n",
       "      <td>어린이 (56%)</td>\n",
       "      <td>유머 (64%)</td>\n",
       "    </tr>\n",
       "    <tr>\n",
       "      <th>9</th>\n",
       "      <td>시나리오 (40%)</td>\n",
       "      <td>로 (67%)</td>\n",
       "      <td>으로서 (56%)</td>\n",
       "      <td>비하인드 (64%)</td>\n",
       "    </tr>\n",
       "  </tbody>\n",
       "</table>\n",
       "</div>"
      ],
      "text/plain": [
       "          CNN       GMP        RNN         Kor\n",
       "0    의혹 (50%)   고 (76%)   해졌 (66%)   줄거리 (75%)\n",
       "1     졸 (48%)  에서 (71%)   라고 (63%)   캐릭터 (72%)\n",
       "2   아까울 (45%)  는데 (70%)   라기 (63%)  시나리오 (71%)\n",
       "3    근본 (43%)   서 (69%)   이래 (61%)  어드벤처 (66%)\n",
       "4     꾼 (42%)   함 (69%)  는다고 (60%)   아바타 (66%)\n",
       "5     숫 (41%)   하 (68%)  지현우 (59%)   퀘스트 (66%)\n",
       "6    종편 (41%)   어 (68%)   가관 (58%)    엔딩 (65%)\n",
       "7     려 (41%)   었 (68%)   개오 (57%)    코믹 (65%)\n",
       "8   최소한 (41%)   주 (67%)  어린이 (56%)    유머 (64%)\n",
       "9  시나리오 (40%)   로 (67%)  으로서 (56%)  비하인드 (64%)"
      ]
     },
     "execution_count": 233,
     "metadata": {},
     "output_type": "execute_result"
    }
   ],
   "source": [
    "get_similar_words(models, \"스토리\")"
   ]
  },
  {
   "cell_type": "markdown",
   "id": "5f66bdb6",
   "metadata": {},
   "source": [
    "- CNN, RNN 결과에서는 납득할만한 단어가 소수지만 포함되어 있었다.\n",
    "- GMP 결과에서는 다소 이해하기 어려운 단어들 위주인데다가 유사도 마저 높게 나와서 모델 신뢰도가 꽤 떨어지는 것 같다."
   ]
  },
  {
   "cell_type": "markdown",
   "id": "36ba53f1",
   "metadata": {},
   "source": [
    "#### 영화를 평가하는 직접적인 단어 확인 (\"최고\", \"최악\")"
   ]
  },
  {
   "cell_type": "code",
   "execution_count": 234,
   "id": "11096652",
   "metadata": {},
   "outputs": [
    {
     "data": {
      "text/html": [
       "<div>\n",
       "<style scoped>\n",
       "    .dataframe tbody tr th:only-of-type {\n",
       "        vertical-align: middle;\n",
       "    }\n",
       "\n",
       "    .dataframe tbody tr th {\n",
       "        vertical-align: top;\n",
       "    }\n",
       "\n",
       "    .dataframe thead th {\n",
       "        text-align: right;\n",
       "    }\n",
       "</style>\n",
       "<table border=\"1\" class=\"dataframe\">\n",
       "  <thead>\n",
       "    <tr style=\"text-align: right;\">\n",
       "      <th></th>\n",
       "      <th>CNN</th>\n",
       "      <th>GMP</th>\n",
       "      <th>RNN</th>\n",
       "      <th>Kor</th>\n",
       "    </tr>\n",
       "  </thead>\n",
       "  <tbody>\n",
       "    <tr>\n",
       "      <th>0</th>\n",
       "      <td>사소 (59%)</td>\n",
       "      <td>best (40%)</td>\n",
       "      <td>절실히 (84%)</td>\n",
       "      <td>역대 (65%)</td>\n",
       "    </tr>\n",
       "    <tr>\n",
       "      <th>1</th>\n",
       "      <td>막연 (58%)</td>\n",
       "      <td>~~~!!! (37%)</td>\n",
       "      <td>영역 (84%)</td>\n",
       "      <td>최다 (61%)</td>\n",
       "    </tr>\n",
       "    <tr>\n",
       "      <th>2</th>\n",
       "      <td>재밌 (57%)</td>\n",
       "      <td>휴잭맨 (32%)</td>\n",
       "      <td>보낸 (83%)</td>\n",
       "      <td>최악 (61%)</td>\n",
       "    </tr>\n",
       "    <tr>\n",
       "      <th>3</th>\n",
       "      <td>즐거운 (56%)</td>\n",
       "      <td>짱짱 (32%)</td>\n",
       "      <td>감동 (82%)</td>\n",
       "      <td>최대 (60%)</td>\n",
       "    </tr>\n",
       "    <tr>\n",
       "      <th>4</th>\n",
       "      <td>조명 (56%)</td>\n",
       "      <td>색다른 (31%)</td>\n",
       "      <td>고인 (82%)</td>\n",
       "      <td>최저 (59%)</td>\n",
       "    </tr>\n",
       "    <tr>\n",
       "      <th>5</th>\n",
       "      <td>팩 (55%)</td>\n",
       "      <td>재방 (31%)</td>\n",
       "      <td>91 (81%)</td>\n",
       "      <td>정상급 (58%)</td>\n",
       "    </tr>\n",
       "    <tr>\n",
       "      <th>6</th>\n",
       "      <td>걸작 (55%)</td>\n",
       "      <td>개인 (30%)</td>\n",
       "      <td>곱씹 (81%)</td>\n",
       "      <td>올해 (57%)</td>\n",
       "    </tr>\n",
       "    <tr>\n",
       "      <th>7</th>\n",
       "      <td>숨막히 (55%)</td>\n",
       "      <td>예쁘 (29%)</td>\n",
       "      <td>시즌 (81%)</td>\n",
       "      <td>우수 (56%)</td>\n",
       "    </tr>\n",
       "    <tr>\n",
       "      <th>8</th>\n",
       "      <td>부드러운 (55%)</td>\n",
       "      <td>봐야 (29%)</td>\n",
       "      <td>느껴져서 (81%)</td>\n",
       "      <td>최고령 (55%)</td>\n",
       "    </tr>\n",
       "    <tr>\n",
       "      <th>9</th>\n",
       "      <td>펙 (54%)</td>\n",
       "      <td>애틋 (29%)</td>\n",
       "      <td>이해력 (81%)</td>\n",
       "      <td>최초 (55%)</td>\n",
       "    </tr>\n",
       "  </tbody>\n",
       "</table>\n",
       "</div>"
      ],
      "text/plain": [
       "          CNN           GMP         RNN        Kor\n",
       "0    사소 (59%)    best (40%)   절실히 (84%)   역대 (65%)\n",
       "1    막연 (58%)  ~~~!!! (37%)    영역 (84%)   최다 (61%)\n",
       "2    재밌 (57%)     휴잭맨 (32%)    보낸 (83%)   최악 (61%)\n",
       "3   즐거운 (56%)      짱짱 (32%)    감동 (82%)   최대 (60%)\n",
       "4    조명 (56%)     색다른 (31%)    고인 (82%)   최저 (59%)\n",
       "5     팩 (55%)      재방 (31%)    91 (81%)  정상급 (58%)\n",
       "6    걸작 (55%)      개인 (30%)    곱씹 (81%)   올해 (57%)\n",
       "7   숨막히 (55%)      예쁘 (29%)    시즌 (81%)   우수 (56%)\n",
       "8  부드러운 (55%)      봐야 (29%)  느껴져서 (81%)  최고령 (55%)\n",
       "9     펙 (54%)      애틋 (29%)   이해력 (81%)   최초 (55%)"
      ]
     },
     "execution_count": 234,
     "metadata": {},
     "output_type": "execute_result"
    }
   ],
   "source": [
    "get_similar_words(models, \"최고\")"
   ]
  },
  {
   "cell_type": "markdown",
   "id": "2456614f",
   "metadata": {},
   "source": [
    "- 긍정적인 단어 \"최고\"에 각 모델이 긍정적인 단어들을 유사 단어로 뽑았다.\n",
    "- 연관없어 보이는 단어들도 아직 있긴 하지만 확실히 연관성이 올라간 것을 느낄 수 있었다.\n",
    "- CNN에서는 여전히 유사도가 높게 평가되지는 않았지만 결과 단어들은 연관성이 있는 단어들이 많이 보였다.\n",
    "- GMP는 연관성이 있어 보이는 단어들도 유사도가 낮게 평가되어 이전 연관성 없는 단어들이 유사도가 높게 나온 것과 상반된 결과를 보였다.\n",
    "    - 역시 신뢰도가 떨어진다.\n",
    "- RNN은 80%이상의 굉장히 높은 유사도로 연관성 있는 단어들을 뽑아내서 좋은 성능을 보이는 것 같았다."
   ]
  },
  {
   "cell_type": "code",
   "execution_count": 235,
   "id": "78eda556",
   "metadata": {},
   "outputs": [
    {
     "data": {
      "text/html": [
       "<div>\n",
       "<style scoped>\n",
       "    .dataframe tbody tr th:only-of-type {\n",
       "        vertical-align: middle;\n",
       "    }\n",
       "\n",
       "    .dataframe tbody tr th {\n",
       "        vertical-align: top;\n",
       "    }\n",
       "\n",
       "    .dataframe thead th {\n",
       "        text-align: right;\n",
       "    }\n",
       "</style>\n",
       "<table border=\"1\" class=\"dataframe\">\n",
       "  <thead>\n",
       "    <tr style=\"text-align: right;\">\n",
       "      <th></th>\n",
       "      <th>CNN</th>\n",
       "      <th>GMP</th>\n",
       "      <th>RNN</th>\n",
       "      <th>Kor</th>\n",
       "    </tr>\n",
       "  </thead>\n",
       "  <tbody>\n",
       "    <tr>\n",
       "      <th>0</th>\n",
       "      <td>모욕 (81%)</td>\n",
       "      <td>뭥미 (62%)</td>\n",
       "      <td>자빠졌 (90%)</td>\n",
       "      <td>전대미문 (64%)</td>\n",
       "    </tr>\n",
       "    <tr>\n",
       "      <th>1</th>\n",
       "      <td>멀미 (81%)</td>\n",
       "      <td>발 (59%)</td>\n",
       "      <td>다분 (90%)</td>\n",
       "      <td>초유 (62%)</td>\n",
       "    </tr>\n",
       "    <tr>\n",
       "      <th>2</th>\n",
       "      <td>질색 (80%)</td>\n",
       "      <td>저급 (59%)</td>\n",
       "      <td>센터 (90%)</td>\n",
       "      <td>최고 (61%)</td>\n",
       "    </tr>\n",
       "    <tr>\n",
       "      <th>3</th>\n",
       "      <td>환불 (80%)</td>\n",
       "      <td>저질 (58%)</td>\n",
       "      <td>하품 (89%)</td>\n",
       "      <td>희대 (56%)</td>\n",
       "    </tr>\n",
       "    <tr>\n",
       "      <th>4</th>\n",
       "      <td>나잇 (80%)</td>\n",
       "      <td>세포 (57%)</td>\n",
       "      <td>파탄 (89%)</td>\n",
       "      <td>뜻밖 (55%)</td>\n",
       "    </tr>\n",
       "    <tr>\n",
       "      <th>5</th>\n",
       "      <td>조악 (80%)</td>\n",
       "      <td>의견 (56%)</td>\n",
       "      <td>지웠 (89%)</td>\n",
       "      <td>엄청난 (53%)</td>\n",
       "    </tr>\n",
       "    <tr>\n",
       "      <th>6</th>\n",
       "      <td>꺼버린 (80%)</td>\n",
       "      <td>별루 (55%)</td>\n",
       "      <td>고은 (89%)</td>\n",
       "      <td>최저 (53%)</td>\n",
       "    </tr>\n",
       "    <tr>\n",
       "      <th>7</th>\n",
       "      <td>재앙 (80%)</td>\n",
       "      <td>안습 (55%)</td>\n",
       "      <td>개똥철학 (89%)</td>\n",
       "      <td>역대 (52%)</td>\n",
       "    </tr>\n",
       "    <tr>\n",
       "      <th>8</th>\n",
       "      <td>진상 (80%)</td>\n",
       "      <td>엉성 (55%)</td>\n",
       "      <td>루카스 (89%)</td>\n",
       "      <td>최저치 (51%)</td>\n",
       "    </tr>\n",
       "    <tr>\n",
       "      <th>9</th>\n",
       "      <td>쿵후 (79%)</td>\n",
       "      <td>억지 (54%)</td>\n",
       "      <td>아선 (89%)</td>\n",
       "      <td>유례없 (50%)</td>\n",
       "    </tr>\n",
       "  </tbody>\n",
       "</table>\n",
       "</div>"
      ],
      "text/plain": [
       "         CNN       GMP         RNN         Kor\n",
       "0   모욕 (81%)  뭥미 (62%)   자빠졌 (90%)  전대미문 (64%)\n",
       "1   멀미 (81%)   발 (59%)    다분 (90%)    초유 (62%)\n",
       "2   질색 (80%)  저급 (59%)    센터 (90%)    최고 (61%)\n",
       "3   환불 (80%)  저질 (58%)    하품 (89%)    희대 (56%)\n",
       "4   나잇 (80%)  세포 (57%)    파탄 (89%)    뜻밖 (55%)\n",
       "5   조악 (80%)  의견 (56%)    지웠 (89%)   엄청난 (53%)\n",
       "6  꺼버린 (80%)  별루 (55%)    고은 (89%)    최저 (53%)\n",
       "7   재앙 (80%)  안습 (55%)  개똥철학 (89%)    역대 (52%)\n",
       "8   진상 (80%)  엉성 (55%)   루카스 (89%)   최저치 (51%)\n",
       "9   쿵후 (79%)  억지 (54%)    아선 (89%)   유례없 (50%)"
      ]
     },
     "execution_count": 235,
     "metadata": {},
     "output_type": "execute_result"
    }
   ],
   "source": [
    "get_similar_words(models, \"최악\")"
   ]
  },
  {
   "cell_type": "markdown",
   "id": "eab678c4",
   "metadata": {},
   "source": [
    "- CNN이 부정적인 단어를 80% 이상 유사도로 10개 중 8개 이상 연관성 있어 보이는 단어를 결과물로 보여줬다.\n",
    "- GMP에서는 9개의 단어가 연관성이 있어보여 단어 자체는 잘 뽑은 것 같지만 유사도 자체는 약 60% 이하로 낮았다.\n",
    "- RNN 89% 이상의 높은 유사도로 10개의 단어를 뽑았지만 그 중 연관성이 있어보이는 것은 절반 정도였다.\n",
    "- 결과적으로 긍정, 부정을 직접적으로 표현한 단어에서는 그와 같은 분위기의 단어를 비교적 쉽게 찾아내는 모습이다."
   ]
  },
  {
   "cell_type": "markdown",
   "id": "0b324d56",
   "metadata": {},
   "source": [
    "#### 영화 평가와는 관련이 없는 명사 (\"범죄자\", \"자동차\", \"건물\")"
   ]
  },
  {
   "cell_type": "code",
   "execution_count": 236,
   "id": "2bcb7a72",
   "metadata": {},
   "outputs": [
    {
     "data": {
      "text/html": [
       "<div>\n",
       "<style scoped>\n",
       "    .dataframe tbody tr th:only-of-type {\n",
       "        vertical-align: middle;\n",
       "    }\n",
       "\n",
       "    .dataframe tbody tr th {\n",
       "        vertical-align: top;\n",
       "    }\n",
       "\n",
       "    .dataframe thead th {\n",
       "        text-align: right;\n",
       "    }\n",
       "</style>\n",
       "<table border=\"1\" class=\"dataframe\">\n",
       "  <thead>\n",
       "    <tr style=\"text-align: right;\">\n",
       "      <th></th>\n",
       "      <th>CNN</th>\n",
       "      <th>GMP</th>\n",
       "      <th>RNN</th>\n",
       "      <th>Kor</th>\n",
       "    </tr>\n",
       "  </thead>\n",
       "  <tbody>\n",
       "    <tr>\n",
       "      <th>0</th>\n",
       "      <td>따윈 (58%)</td>\n",
       "      <td>순례 (47%)</td>\n",
       "      <td>페이지 (78%)</td>\n",
       "      <td>가해자 (78%)</td>\n",
       "    </tr>\n",
       "    <tr>\n",
       "      <th>1</th>\n",
       "      <td>일반인 (52%)</td>\n",
       "      <td>발연기 (45%)</td>\n",
       "      <td>밨는데 (78%)</td>\n",
       "      <td>혐의자 (76%)</td>\n",
       "    </tr>\n",
       "    <tr>\n",
       "      <th>2</th>\n",
       "      <td>무고 (52%)</td>\n",
       "      <td>부끄러운 (45%)</td>\n",
       "      <td>설레이 (77%)</td>\n",
       "      <td>범죄 (76%)</td>\n",
       "    </tr>\n",
       "    <tr>\n",
       "      <th>3</th>\n",
       "      <td>흔들리 (50%)</td>\n",
       "      <td>수입 (44%)</td>\n",
       "      <td>판빙빙 (76%)</td>\n",
       "      <td>죄수 (75%)</td>\n",
       "    </tr>\n",
       "    <tr>\n",
       "      <th>4</th>\n",
       "      <td>염정아 (49%)</td>\n",
       "      <td>퍼레이드 (44%)</td>\n",
       "      <td>강풀 (76%)</td>\n",
       "      <td>살인자 (75%)</td>\n",
       "    </tr>\n",
       "    <tr>\n",
       "      <th>5</th>\n",
       "      <td>전문 (48%)</td>\n",
       "      <td>에이미 (44%)</td>\n",
       "      <td>으아 (76%)</td>\n",
       "      <td>전과자 (74%)</td>\n",
       "    </tr>\n",
       "    <tr>\n",
       "      <th>6</th>\n",
       "      <td>-_ (48%)</td>\n",
       "      <td>더럽 (44%)</td>\n",
       "      <td>조선족 (76%)</td>\n",
       "      <td>피해자 (74%)</td>\n",
       "    </tr>\n",
       "    <tr>\n",
       "      <th>7</th>\n",
       "      <td>일세 (48%)</td>\n",
       "      <td>던진 (44%)</td>\n",
       "      <td>윤발 (75%)</td>\n",
       "      <td>수형자 (74%)</td>\n",
       "    </tr>\n",
       "    <tr>\n",
       "      <th>8</th>\n",
       "      <td>얘 (48%)</td>\n",
       "      <td>강철 (43%)</td>\n",
       "      <td>수잔 (75%)</td>\n",
       "      <td>피의자 (73%)</td>\n",
       "    </tr>\n",
       "    <tr>\n",
       "      <th>9</th>\n",
       "      <td>시원찮 (47%)</td>\n",
       "      <td>졸려 (42%)</td>\n",
       "      <td>덧 (75%)</td>\n",
       "      <td>흉악범 (73%)</td>\n",
       "    </tr>\n",
       "  </tbody>\n",
       "</table>\n",
       "</div>"
      ],
      "text/plain": [
       "         CNN         GMP        RNN        Kor\n",
       "0   따윈 (58%)    순례 (47%)  페이지 (78%)  가해자 (78%)\n",
       "1  일반인 (52%)   발연기 (45%)  밨는데 (78%)  혐의자 (76%)\n",
       "2   무고 (52%)  부끄러운 (45%)  설레이 (77%)   범죄 (76%)\n",
       "3  흔들리 (50%)    수입 (44%)  판빙빙 (76%)   죄수 (75%)\n",
       "4  염정아 (49%)  퍼레이드 (44%)   강풀 (76%)  살인자 (75%)\n",
       "5   전문 (48%)   에이미 (44%)   으아 (76%)  전과자 (74%)\n",
       "6   -_ (48%)    더럽 (44%)  조선족 (76%)  피해자 (74%)\n",
       "7   일세 (48%)    던진 (44%)   윤발 (75%)  수형자 (74%)\n",
       "8    얘 (48%)    강철 (43%)   수잔 (75%)  피의자 (73%)\n",
       "9  시원찮 (47%)    졸려 (42%)    덧 (75%)  흉악범 (73%)"
      ]
     },
     "execution_count": 236,
     "metadata": {},
     "output_type": "execute_result"
    }
   ],
   "source": [
    "get_similar_words(models, \"범죄자\")"
   ]
  },
  {
   "cell_type": "markdown",
   "id": "c5b6e02c",
   "metadata": {},
   "source": [
    "- 일반적인 시각에서 볼때 연관 단어를 뽑아낸 것은 CNN에서 1건(\"무고\"), GMP에서 0건, RNN에서 0건이다."
   ]
  },
  {
   "cell_type": "code",
   "execution_count": 237,
   "id": "a56f0dcf",
   "metadata": {},
   "outputs": [
    {
     "data": {
      "text/html": [
       "<div>\n",
       "<style scoped>\n",
       "    .dataframe tbody tr th:only-of-type {\n",
       "        vertical-align: middle;\n",
       "    }\n",
       "\n",
       "    .dataframe tbody tr th {\n",
       "        vertical-align: top;\n",
       "    }\n",
       "\n",
       "    .dataframe thead th {\n",
       "        text-align: right;\n",
       "    }\n",
       "</style>\n",
       "<table border=\"1\" class=\"dataframe\">\n",
       "  <thead>\n",
       "    <tr style=\"text-align: right;\">\n",
       "      <th></th>\n",
       "      <th>CNN</th>\n",
       "      <th>GMP</th>\n",
       "      <th>RNN</th>\n",
       "      <th>Kor</th>\n",
       "    </tr>\n",
       "  </thead>\n",
       "  <tbody>\n",
       "    <tr>\n",
       "      <th>0</th>\n",
       "      <td>아름다울 (61%)</td>\n",
       "      <td>글 (51%)</td>\n",
       "      <td>하나같이 (70%)</td>\n",
       "      <td>승용차 (80%)</td>\n",
       "    </tr>\n",
       "    <tr>\n",
       "      <th>1</th>\n",
       "      <td>앓 (60%)</td>\n",
       "      <td>영화 (46%)</td>\n",
       "      <td>TV (65%)</td>\n",
       "      <td>상용차 (79%)</td>\n",
       "    </tr>\n",
       "    <tr>\n",
       "      <th>2</th>\n",
       "      <td>매혹 (60%)</td>\n",
       "      <td>만드 (46%)</td>\n",
       "      <td>줄려고 (65%)</td>\n",
       "      <td>트랙터 (74%)</td>\n",
       "    </tr>\n",
       "    <tr>\n",
       "      <th>3</th>\n",
       "      <td>라고요 (60%)</td>\n",
       "      <td>앞 (45%)</td>\n",
       "      <td>안중근 (64%)</td>\n",
       "      <td>SUV (74%)</td>\n",
       "    </tr>\n",
       "    <tr>\n",
       "      <th>4</th>\n",
       "      <td>하트 (60%)</td>\n",
       "      <td>걸 (45%)</td>\n",
       "      <td>땐 (63%)</td>\n",
       "      <td>승합차 (74%)</td>\n",
       "    </tr>\n",
       "    <tr>\n",
       "      <th>5</th>\n",
       "      <td>본받 (60%)</td>\n",
       "      <td>시대 (45%)</td>\n",
       "      <td>반대 (63%)</td>\n",
       "      <td>트럭 (74%)</td>\n",
       "    </tr>\n",
       "    <tr>\n",
       "      <th>6</th>\n",
       "      <td>줄리엣 (59%)</td>\n",
       "      <td>어서 (44%)</td>\n",
       "      <td>고치 (63%)</td>\n",
       "      <td>미니밴 (74%)</td>\n",
       "    </tr>\n",
       "    <tr>\n",
       "      <th>7</th>\n",
       "      <td>찡 (58%)</td>\n",
       "      <td>멋진 (44%)</td>\n",
       "      <td>달려가 (62%)</td>\n",
       "      <td>승용 (74%)</td>\n",
       "    </tr>\n",
       "    <tr>\n",
       "      <th>8</th>\n",
       "      <td>프랭크 (58%)</td>\n",
       "      <td>갈수록 (43%)</td>\n",
       "      <td>사형수 (62%)</td>\n",
       "      <td>토요타 (74%)</td>\n",
       "    </tr>\n",
       "    <tr>\n",
       "      <th>9</th>\n",
       "      <td>♥♥ (58%)</td>\n",
       "      <td>일본 (43%)</td>\n",
       "      <td>고문 (60%)</td>\n",
       "      <td>스포츠카 (73%)</td>\n",
       "    </tr>\n",
       "  </tbody>\n",
       "</table>\n",
       "</div>"
      ],
      "text/plain": [
       "          CNN        GMP         RNN         Kor\n",
       "0  아름다울 (61%)    글 (51%)  하나같이 (70%)   승용차 (80%)\n",
       "1     앓 (60%)   영화 (46%)    TV (65%)   상용차 (79%)\n",
       "2    매혹 (60%)   만드 (46%)   줄려고 (65%)   트랙터 (74%)\n",
       "3   라고요 (60%)    앞 (45%)   안중근 (64%)   SUV (74%)\n",
       "4    하트 (60%)    걸 (45%)     땐 (63%)   승합차 (74%)\n",
       "5    본받 (60%)   시대 (45%)    반대 (63%)    트럭 (74%)\n",
       "6   줄리엣 (59%)   어서 (44%)    고치 (63%)   미니밴 (74%)\n",
       "7     찡 (58%)   멋진 (44%)   달려가 (62%)    승용 (74%)\n",
       "8   프랭크 (58%)  갈수록 (43%)   사형수 (62%)   토요타 (74%)\n",
       "9    ♥♥ (58%)   일본 (43%)    고문 (60%)  스포츠카 (73%)"
      ]
     },
     "execution_count": 237,
     "metadata": {},
     "output_type": "execute_result"
    }
   ],
   "source": [
    "get_similar_words(models, \"자동차\")"
   ]
  },
  {
   "cell_type": "code",
   "execution_count": 238,
   "id": "ff08d616",
   "metadata": {},
   "outputs": [
    {
     "data": {
      "text/html": [
       "<div>\n",
       "<style scoped>\n",
       "    .dataframe tbody tr th:only-of-type {\n",
       "        vertical-align: middle;\n",
       "    }\n",
       "\n",
       "    .dataframe tbody tr th {\n",
       "        vertical-align: top;\n",
       "    }\n",
       "\n",
       "    .dataframe thead th {\n",
       "        text-align: right;\n",
       "    }\n",
       "</style>\n",
       "<table border=\"1\" class=\"dataframe\">\n",
       "  <thead>\n",
       "    <tr style=\"text-align: right;\">\n",
       "      <th></th>\n",
       "      <th>CNN</th>\n",
       "      <th>GMP</th>\n",
       "      <th>RNN</th>\n",
       "      <th>Kor</th>\n",
       "    </tr>\n",
       "  </thead>\n",
       "  <tbody>\n",
       "    <tr>\n",
       "      <th>0</th>\n",
       "      <td>하트 (68%)</td>\n",
       "      <td>!♥ (40%)</td>\n",
       "      <td>빛났 (85%)</td>\n",
       "      <td>건축물 (81%)</td>\n",
       "    </tr>\n",
       "    <tr>\n",
       "      <th>1</th>\n",
       "      <td>운동 (67%)</td>\n",
       "      <td>링컨 (38%)</td>\n",
       "      <td>애잔 (83%)</td>\n",
       "      <td>구조물 (75%)</td>\n",
       "    </tr>\n",
       "    <tr>\n",
       "      <th>2</th>\n",
       "      <td>탐 (66%)</td>\n",
       "      <td>엉엉 (36%)</td>\n",
       "      <td>큐라 (81%)</td>\n",
       "      <td>가옥 (74%)</td>\n",
       "    </tr>\n",
       "    <tr>\n",
       "      <th>3</th>\n",
       "      <td>뛰어났 (65%)</td>\n",
       "      <td>뇌리 (33%)</td>\n",
       "      <td>연인 (81%)</td>\n",
       "      <td>시설물 (73%)</td>\n",
       "    </tr>\n",
       "    <tr>\n",
       "      <th>4</th>\n",
       "      <td>속상하 (65%)</td>\n",
       "      <td>????? (32%)</td>\n",
       "      <td>카타르시스 (81%)</td>\n",
       "      <td>주택 (72%)</td>\n",
       "    </tr>\n",
       "    <tr>\n",
       "      <th>5</th>\n",
       "      <td>담주 (65%)</td>\n",
       "      <td>인게 (32%)</td>\n",
       "      <td>소나기 (80%)</td>\n",
       "      <td>고층 (71%)</td>\n",
       "    </tr>\n",
       "    <tr>\n",
       "      <th>6</th>\n",
       "      <td>노홍철 (64%)</td>\n",
       "      <td>바이올린 (31%)</td>\n",
       "      <td>경계 (80%)</td>\n",
       "      <td>가건물 (71%)</td>\n",
       "    </tr>\n",
       "    <tr>\n",
       "      <th>7</th>\n",
       "      <td>휴식 (64%)</td>\n",
       "      <td>황정민 (31%)</td>\n",
       "      <td>빌 (80%)</td>\n",
       "      <td>외벽 (71%)</td>\n",
       "    </tr>\n",
       "    <tr>\n",
       "      <th>8</th>\n",
       "      <td>따질 (64%)</td>\n",
       "      <td>신하균 (31%)</td>\n",
       "      <td>민국 (80%)</td>\n",
       "      <td>성곽 (71%)</td>\n",
       "    </tr>\n",
       "    <tr>\n",
       "      <th>9</th>\n",
       "      <td>이수경 (63%)</td>\n",
       "      <td>에유 (31%)</td>\n",
       "      <td>한꺼번에 (80%)</td>\n",
       "      <td>교각 (70%)</td>\n",
       "    </tr>\n",
       "  </tbody>\n",
       "</table>\n",
       "</div>"
      ],
      "text/plain": [
       "         CNN          GMP          RNN        Kor\n",
       "0   하트 (68%)     !♥ (40%)     빛났 (85%)  건축물 (81%)\n",
       "1   운동 (67%)     링컨 (38%)     애잔 (83%)  구조물 (75%)\n",
       "2    탐 (66%)     엉엉 (36%)     큐라 (81%)   가옥 (74%)\n",
       "3  뛰어났 (65%)     뇌리 (33%)     연인 (81%)  시설물 (73%)\n",
       "4  속상하 (65%)  ????? (32%)  카타르시스 (81%)   주택 (72%)\n",
       "5   담주 (65%)     인게 (32%)    소나기 (80%)   고층 (71%)\n",
       "6  노홍철 (64%)   바이올린 (31%)     경계 (80%)  가건물 (71%)\n",
       "7   휴식 (64%)    황정민 (31%)      빌 (80%)   외벽 (71%)\n",
       "8   따질 (64%)    신하균 (31%)     민국 (80%)   성곽 (71%)\n",
       "9  이수경 (63%)     에유 (31%)   한꺼번에 (80%)   교각 (70%)"
      ]
     },
     "execution_count": 238,
     "metadata": {},
     "output_type": "execute_result"
    }
   ],
   "source": [
    "get_similar_words(models, \"건물\")"
   ]
  },
  {
   "cell_type": "markdown",
   "id": "5c9aea3f",
   "metadata": {},
   "source": [
    "#### 영화 평가와는 관련이 없는 형용사 (\"귀여운\", \"더러운\")"
   ]
  },
  {
   "cell_type": "code",
   "execution_count": 239,
   "id": "3da51b6d",
   "metadata": {},
   "outputs": [
    {
     "data": {
      "text/html": [
       "<div>\n",
       "<style scoped>\n",
       "    .dataframe tbody tr th:only-of-type {\n",
       "        vertical-align: middle;\n",
       "    }\n",
       "\n",
       "    .dataframe tbody tr th {\n",
       "        vertical-align: top;\n",
       "    }\n",
       "\n",
       "    .dataframe thead th {\n",
       "        text-align: right;\n",
       "    }\n",
       "</style>\n",
       "<table border=\"1\" class=\"dataframe\">\n",
       "  <thead>\n",
       "    <tr style=\"text-align: right;\">\n",
       "      <th></th>\n",
       "      <th>CNN</th>\n",
       "      <th>GMP</th>\n",
       "      <th>RNN</th>\n",
       "      <th>Kor</th>\n",
       "    </tr>\n",
       "  </thead>\n",
       "  <tbody>\n",
       "    <tr>\n",
       "      <th>0</th>\n",
       "      <td>웃겨서 (64%)</td>\n",
       "      <td>님 (54%)</td>\n",
       "      <td>동양 (66%)</td>\n",
       "      <td>잘생긴 (82%)</td>\n",
       "    </tr>\n",
       "    <tr>\n",
       "      <th>1</th>\n",
       "      <td>유코 (64%)</td>\n",
       "      <td>구 (53%)</td>\n",
       "      <td>즐겁 (65%)</td>\n",
       "      <td>예쁜 (80%)</td>\n",
       "    </tr>\n",
       "    <tr>\n",
       "      <th>2</th>\n",
       "      <td>조상 (63%)</td>\n",
       "      <td>기대 (52%)</td>\n",
       "      <td>괜찮 (65%)</td>\n",
       "      <td>못생긴 (79%)</td>\n",
       "    </tr>\n",
       "    <tr>\n",
       "      <th>3</th>\n",
       "      <td>고마워 (62%)</td>\n",
       "      <td>둘 (52%)</td>\n",
       "      <td>이연걸 (64%)</td>\n",
       "      <td>미소년 (74%)</td>\n",
       "    </tr>\n",
       "    <tr>\n",
       "      <th>4</th>\n",
       "      <td>삽입곡 (60%)</td>\n",
       "      <td>반전 (51%)</td>\n",
       "      <td>풀어냈 (64%)</td>\n",
       "      <td>금발 (74%)</td>\n",
       "    </tr>\n",
       "    <tr>\n",
       "      <th>5</th>\n",
       "      <td>폐인 (60%)</td>\n",
       "      <td>보 (50%)</td>\n",
       "      <td>재밌 (63%)</td>\n",
       "      <td>당찬 (73%)</td>\n",
       "    </tr>\n",
       "    <tr>\n",
       "      <th>6</th>\n",
       "      <td>제법 (60%)</td>\n",
       "      <td>고 (50%)</td>\n",
       "      <td>완벽 (63%)</td>\n",
       "      <td>착한 (72%)</td>\n",
       "    </tr>\n",
       "    <tr>\n",
       "      <th>7</th>\n",
       "      <td>통쾌 (60%)</td>\n",
       "      <td>남자 (49%)</td>\n",
       "      <td>색다르 (63%)</td>\n",
       "      <td>애교 (71%)</td>\n",
       "    </tr>\n",
       "    <tr>\n",
       "      <th>8</th>\n",
       "      <td>소서 (60%)</td>\n",
       "      <td>영화 (48%)</td>\n",
       "      <td>사실 (60%)</td>\n",
       "      <td>건방진 (70%)</td>\n",
       "    </tr>\n",
       "    <tr>\n",
       "      <th>9</th>\n",
       "      <td>10000 (60%)</td>\n",
       "      <td>하 (48%)</td>\n",
       "      <td>매트릭스 (60%)</td>\n",
       "      <td>서투른 (70%)</td>\n",
       "    </tr>\n",
       "  </tbody>\n",
       "</table>\n",
       "</div>"
      ],
      "text/plain": [
       "           CNN       GMP         RNN        Kor\n",
       "0    웃겨서 (64%)   님 (54%)    동양 (66%)  잘생긴 (82%)\n",
       "1     유코 (64%)   구 (53%)    즐겁 (65%)   예쁜 (80%)\n",
       "2     조상 (63%)  기대 (52%)    괜찮 (65%)  못생긴 (79%)\n",
       "3    고마워 (62%)   둘 (52%)   이연걸 (64%)  미소년 (74%)\n",
       "4    삽입곡 (60%)  반전 (51%)   풀어냈 (64%)   금발 (74%)\n",
       "5     폐인 (60%)   보 (50%)    재밌 (63%)   당찬 (73%)\n",
       "6     제법 (60%)   고 (50%)    완벽 (63%)   착한 (72%)\n",
       "7     통쾌 (60%)  남자 (49%)   색다르 (63%)   애교 (71%)\n",
       "8     소서 (60%)  영화 (48%)    사실 (60%)  건방진 (70%)\n",
       "9  10000 (60%)   하 (48%)  매트릭스 (60%)  서투른 (70%)"
      ]
     },
     "execution_count": 239,
     "metadata": {},
     "output_type": "execute_result"
    }
   ],
   "source": [
    "get_similar_words(models, \"귀여운\")"
   ]
  },
  {
   "cell_type": "code",
   "execution_count": 240,
   "id": "cb5d983e",
   "metadata": {},
   "outputs": [
    {
     "data": {
      "text/html": [
       "<div>\n",
       "<style scoped>\n",
       "    .dataframe tbody tr th:only-of-type {\n",
       "        vertical-align: middle;\n",
       "    }\n",
       "\n",
       "    .dataframe tbody tr th {\n",
       "        vertical-align: top;\n",
       "    }\n",
       "\n",
       "    .dataframe thead th {\n",
       "        text-align: right;\n",
       "    }\n",
       "</style>\n",
       "<table border=\"1\" class=\"dataframe\">\n",
       "  <thead>\n",
       "    <tr style=\"text-align: right;\">\n",
       "      <th></th>\n",
       "      <th>CNN</th>\n",
       "      <th>GMP</th>\n",
       "      <th>RNN</th>\n",
       "      <th>Kor</th>\n",
       "    </tr>\n",
       "  </thead>\n",
       "  <tbody>\n",
       "    <tr>\n",
       "      <th>0</th>\n",
       "      <td>반면 (68%)</td>\n",
       "      <td>졸리 (46%)</td>\n",
       "      <td>포르노 (71%)</td>\n",
       "      <td>외로운 (66%)</td>\n",
       "    </tr>\n",
       "    <tr>\n",
       "      <th>1</th>\n",
       "      <td>먹칠 (66%)</td>\n",
       "      <td>치 (45%)</td>\n",
       "      <td>왜곡 (70%)</td>\n",
       "      <td>독한 (65%)</td>\n",
       "    </tr>\n",
       "    <tr>\n",
       "      <th>2</th>\n",
       "      <td>볼일 (66%)</td>\n",
       "      <td>저질 (45%)</td>\n",
       "      <td>간단 (69%)</td>\n",
       "      <td>놀리 (63%)</td>\n",
       "    </tr>\n",
       "    <tr>\n",
       "      <th>3</th>\n",
       "      <td>저냥 (65%)</td>\n",
       "      <td>그런 (44%)</td>\n",
       "      <td>베꼈 (68%)</td>\n",
       "      <td>추한 (61%)</td>\n",
       "    </tr>\n",
       "    <tr>\n",
       "      <th>4</th>\n",
       "      <td>했어야 (65%)</td>\n",
       "      <td>니콜 (44%)</td>\n",
       "      <td>둔 (68%)</td>\n",
       "      <td>무서운 (61%)</td>\n",
       "    </tr>\n",
       "    <tr>\n",
       "      <th>5</th>\n",
       "      <td>구두 (65%)</td>\n",
       "      <td>실컷 (44%)</td>\n",
       "      <td>버튼 (68%)</td>\n",
       "      <td>악한 (61%)</td>\n",
       "    </tr>\n",
       "    <tr>\n",
       "      <th>6</th>\n",
       "      <td>추잡 (65%)</td>\n",
       "      <td>잤 (43%)</td>\n",
       "      <td>혹은 (68%)</td>\n",
       "      <td>무서워하 (61%)</td>\n",
       "    </tr>\n",
       "    <tr>\n",
       "      <th>7</th>\n",
       "      <td>아까워서 (65%)</td>\n",
       "      <td>카메라 (43%)</td>\n",
       "      <td>1 (68%)</td>\n",
       "      <td>배고픈 (60%)</td>\n",
       "    </tr>\n",
       "    <tr>\n",
       "      <th>8</th>\n",
       "      <td>프리 (64%)</td>\n",
       "      <td>런닝 (42%)</td>\n",
       "      <td>못한 (68%)</td>\n",
       "      <td>온통 (60%)</td>\n",
       "    </tr>\n",
       "    <tr>\n",
       "      <th>9</th>\n",
       "      <td>취지 (64%)</td>\n",
       "      <td>낀 (42%)</td>\n",
       "      <td>배운 (67%)</td>\n",
       "      <td>역겨운 (60%)</td>\n",
       "    </tr>\n",
       "  </tbody>\n",
       "</table>\n",
       "</div>"
      ],
      "text/plain": [
       "          CNN        GMP        RNN         Kor\n",
       "0    반면 (68%)   졸리 (46%)  포르노 (71%)   외로운 (66%)\n",
       "1    먹칠 (66%)    치 (45%)   왜곡 (70%)    독한 (65%)\n",
       "2    볼일 (66%)   저질 (45%)   간단 (69%)    놀리 (63%)\n",
       "3    저냥 (65%)   그런 (44%)   베꼈 (68%)    추한 (61%)\n",
       "4   했어야 (65%)   니콜 (44%)    둔 (68%)   무서운 (61%)\n",
       "5    구두 (65%)   실컷 (44%)   버튼 (68%)    악한 (61%)\n",
       "6    추잡 (65%)    잤 (43%)   혹은 (68%)  무서워하 (61%)\n",
       "7  아까워서 (65%)  카메라 (43%)    1 (68%)   배고픈 (60%)\n",
       "8    프리 (64%)   런닝 (42%)   못한 (68%)    온통 (60%)\n",
       "9    취지 (64%)    낀 (42%)   배운 (67%)   역겨운 (60%)"
      ]
     },
     "execution_count": 240,
     "metadata": {},
     "output_type": "execute_result"
    }
   ],
   "source": [
    "get_similar_words(models, \"더러운\")"
   ]
  },
  {
   "cell_type": "markdown",
   "id": "86db3bd0",
   "metadata": {},
   "source": [
    "- 연관성이 있는 단어라기 보다는 긍정적이거나 부정적인 늬앙스가 유사한 단어들 위주로 결과가 나온 모습이다."
   ]
  },
  {
   "cell_type": "markdown",
   "id": "5bf4f37c",
   "metadata": {},
   "source": [
    "### 결론\n",
    "\n",
    "- 사전 학습된 모델의 경우는 입력단어와 유사한 의미를 가진 단어를 결과로 출력한다.\n",
    "- 영화 댓글 데이터셋으로 학습시킨 모델은 다음과 같은 특징을 보였다.\n",
    "    - 긍정적이거나 부정적인 단어에서 유사도 높은 단어를 비교적 잘 찾는다.\n",
    "        - 영화 댓글이라는 특성상, 영화의 전반 혹은 특정 장면, 배우, 연출 등을 평가하는 글로 이루어져 있을 것이다. 긍정, 혹은 부정적인 평가와 그 근거를 말하는 과정에서 관련 단어들의 유사성을 찾았을 것으로 예상된다.\n",
    "    \n",
    "    - 그 외 일반적인 단어에서는 해당 단어와 연관이 높아 보이는 단어를 잘 찾아내지 못하는 것 같다.\n",
    "\n",
    "    - 단편적으로 유사도 단어 찾기를 통해 봤을 때 GMP 모델은 신뢰도가 타 모델에 비해 신뢰도가 많이 떨어진다.\n",
    "        - 가장 단순한 방식이기 때문인가 싶기도 하고 1D Conv와 RNN에서 그 맥락을 어느 정도 잡아낼 수 있기 때문인 것 같기도 하다.\n",
    "    - 즉, 사전 학습 모델과 다르게 유사한 의미보다는 함께 쓰일법한 단어 위주로 결과를 출력하는 것 같다."
   ]
  },
  {
   "cell_type": "markdown",
   "id": "2ad930ad",
   "metadata": {},
   "source": [
    "## 8) 한국어 Word2Vec 임베딩 활용하여 성능 개선"
   ]
  },
  {
   "cell_type": "markdown",
   "id": "bd0702c0",
   "metadata": {},
   "source": [
    "- 한국어 Word2Vec은 /data 폴더 안에 있는 word2vec_ko.model을 활용하세요.\n",
    "\n",
    "- 한국어 Word2Vec을 활용할 때는 `load_word2vec_format()` 형태가 아닌 `load()` 형태로 모델을 불러와주세요. 또한 모델을 활용할 때에는 아래 예시와 같이 `.wv`를 붙여서 활용합니다. 좀더 자세한 활용법에 대해선 다음 링크들을 참조해주세요. [참고 링크1](https://radimrehurek.com/gensim/auto_examples/tutorials/run_word2vec.html#storing-and-loading-models), [참고 링크2](https://radimrehurek.com/gensim/models/keyedvectors.html)"
   ]
  },
  {
   "cell_type": "markdown",
   "id": "3ad92c56",
   "metadata": {},
   "source": [
    "```\n",
    "# 예시 코드\n",
    "from gensim.models.keyedvectors import Word2VecKeyedVectors\n",
    "word_vectors = Word2VecKeyedVectors.load(word2vec_file_path)\n",
    "vector = word_vectors.wv[‘끝’]\n",
    "```"
   ]
  },
  {
   "cell_type": "markdown",
   "id": "e267ecd6",
   "metadata": {},
   "source": [
    "### 모델링"
   ]
  },
  {
   "cell_type": "code",
   "execution_count": 242,
   "id": "f51832db",
   "metadata": {},
   "outputs": [
    {
     "data": {
      "text/plain": [
       "(10000, 128)"
      ]
     },
     "execution_count": 242,
     "metadata": {},
     "output_type": "execute_result"
    }
   ],
   "source": [
    "vocab_size, word_vector_dim"
   ]
  },
  {
   "cell_type": "code",
   "execution_count": 257,
   "id": "28d4b1fa",
   "metadata": {},
   "outputs": [
    {
     "data": {
      "text/plain": [
       "(302960, 100)"
      ]
     },
     "execution_count": 257,
     "metadata": {},
     "output_type": "execute_result"
    }
   ],
   "source": [
    "Kor_wv.vectors.shape"
   ]
  },
  {
   "cell_type": "markdown",
   "id": "ba64706c",
   "metadata": {},
   "source": [
    "- 기존 `word_vector_dim`과 달리 해당 모델은 100차원.\n",
    "- 그러므로 이번에 만든 임베딩 행렬 1만개의 단어와 일치하는 100차원의 워드 벡터를 복사한다."
   ]
  },
  {
   "cell_type": "code",
   "execution_count": 312,
   "id": "5c86f8cd",
   "metadata": {},
   "outputs": [],
   "source": [
    "# 무작위로 임베딩 행렬을 생성\n",
    "embedding_matrix = np.random.rand(vocab_size, Kor_wv.vectors.shape[1])\n",
    "\n",
    "# embedding_matrix에 한국어 Word2Vec 단어 하나씩 복사.\n",
    "for i in range(4,vocab_size):\n",
    "    if index_to_word[i] in Kor_wv:\n",
    "        embedding_matrix[i] = Kor_wv[index_to_word[i]]"
   ]
  },
  {
   "cell_type": "code",
   "execution_count": 313,
   "id": "13c01321",
   "metadata": {},
   "outputs": [
    {
     "name": "stdout",
     "output_type": "stream",
     "text": [
      "Model: \"Conv1D_fine_tuned\"\n",
      "_________________________________________________________________\n",
      "Layer (type)                 Output Shape              Param #   \n",
      "=================================================================\n",
      "embedding_8 (Embedding)      (None, 41, 100)           1000000   \n",
      "_________________________________________________________________\n",
      "conv1d_8 (Conv1D)            (None, 35, 16)            11216     \n",
      "_________________________________________________________________\n",
      "max_pooling1d_4 (MaxPooling1 (None, 7, 16)             0         \n",
      "_________________________________________________________________\n",
      "conv1d_9 (Conv1D)            (None, 1, 16)             1808      \n",
      "_________________________________________________________________\n",
      "global_max_pooling1d_7 (Glob (None, 16)                0         \n",
      "_________________________________________________________________\n",
      "dense_16 (Dense)             (None, 8)                 136       \n",
      "_________________________________________________________________\n",
      "dense_17 (Dense)             (None, 1)                 9         \n",
      "=================================================================\n",
      "Total params: 1,013,169\n",
      "Trainable params: 1,013,169\n",
      "Non-trainable params: 0\n",
      "_________________________________________________________________\n"
     ]
    }
   ],
   "source": [
    "# 모델 구성\n",
    "CNN_ft_model = tf.keras.Sequential(name=\"Conv1D_fine_tuned\")\n",
    "CNN_ft_model.add(tf.keras.layers.Embedding(vocab_size, \n",
    "                                 Kor_wv.vectors.shape[1], \n",
    "                                 embeddings_initializer=Constant(embedding_matrix),  # 카피한 임베딩을 여기서 활용\n",
    "                                 input_length=maxlen, \n",
    "                                 trainable=True))   # trainable을 True로 주면 Fine-tuning\n",
    "CNN_ft_model.add(tf.keras.layers.Conv1D(16, 7, activation='relu'))\n",
    "CNN_ft_model.add(tf.keras.layers.MaxPooling1D(5))\n",
    "CNN_ft_model.add(tf.keras.layers.Conv1D(16, 7, activation='relu'))\n",
    "CNN_ft_model.add(tf.keras.layers.GlobalMaxPooling1D())\n",
    "CNN_ft_model.add(tf.keras.layers.Dense(8, activation='relu'))\n",
    "CNN_ft_model.add(tf.keras.layers.Dense(1, activation='sigmoid')) \n",
    "\n",
    "CNN_ft_model.summary()"
   ]
  },
  {
   "cell_type": "markdown",
   "id": "d1382b34",
   "metadata": {},
   "source": [
    "### 학습 및 평가"
   ]
  },
  {
   "cell_type": "code",
   "execution_count": 314,
   "id": "262fb9e8",
   "metadata": {},
   "outputs": [
    {
     "name": "stdout",
     "output_type": "stream",
     "text": [
      "Epoch 1/30\n",
      "196/196 [==============================] - 2s 7ms/step - loss: 0.6359 - accuracy: 0.6230 - val_loss: 0.5414 - val_accuracy: 0.7278\n",
      "Epoch 2/30\n",
      "196/196 [==============================] - 1s 6ms/step - loss: 0.4915 - accuracy: 0.7642 - val_loss: 0.4613 - val_accuracy: 0.7835\n",
      "Epoch 3/30\n",
      "196/196 [==============================] - 1s 6ms/step - loss: 0.4177 - accuracy: 0.8113 - val_loss: 0.4189 - val_accuracy: 0.8085\n",
      "Epoch 4/30\n",
      "196/196 [==============================] - 1s 6ms/step - loss: 0.3740 - accuracy: 0.8353 - val_loss: 0.3977 - val_accuracy: 0.8223\n",
      "Epoch 5/30\n",
      "196/196 [==============================] - 1s 6ms/step - loss: 0.3431 - accuracy: 0.8507 - val_loss: 0.3844 - val_accuracy: 0.8303\n",
      "Epoch 6/30\n",
      "196/196 [==============================] - 1s 6ms/step - loss: 0.3205 - accuracy: 0.8635 - val_loss: 0.3801 - val_accuracy: 0.8342\n",
      "Epoch 7/30\n",
      "196/196 [==============================] - 1s 6ms/step - loss: 0.3010 - accuracy: 0.8724 - val_loss: 0.3793 - val_accuracy: 0.8369\n",
      "Epoch 8/30\n",
      "196/196 [==============================] - 1s 6ms/step - loss: 0.2849 - accuracy: 0.8796 - val_loss: 0.3820 - val_accuracy: 0.8352\n",
      "Epoch 9/30\n",
      "196/196 [==============================] - 1s 6ms/step - loss: 0.2708 - accuracy: 0.8880 - val_loss: 0.3777 - val_accuracy: 0.8394\n",
      "Epoch 10/30\n",
      "196/196 [==============================] - 1s 6ms/step - loss: 0.2577 - accuracy: 0.8947 - val_loss: 0.3840 - val_accuracy: 0.8397\n",
      "Epoch 11/30\n",
      "196/196 [==============================] - 1s 6ms/step - loss: 0.2449 - accuracy: 0.9012 - val_loss: 0.3906 - val_accuracy: 0.8393\n",
      "Epoch 12/30\n",
      "196/196 [==============================] - 1s 6ms/step - loss: 0.2346 - accuracy: 0.9057 - val_loss: 0.3969 - val_accuracy: 0.8378\n",
      "Epoch 13/30\n",
      "196/196 [==============================] - 1s 6ms/step - loss: 0.2218 - accuracy: 0.9127 - val_loss: 0.4096 - val_accuracy: 0.8357\n",
      "Epoch 14/30\n",
      "196/196 [==============================] - 1s 6ms/step - loss: 0.2116 - accuracy: 0.9173 - val_loss: 0.4184 - val_accuracy: 0.8373\n",
      "Epoch 15/30\n",
      "196/196 [==============================] - 1s 6ms/step - loss: 0.2004 - accuracy: 0.9233 - val_loss: 0.4288 - val_accuracy: 0.8367\n",
      "Epoch 16/30\n",
      "196/196 [==============================] - 1s 6ms/step - loss: 0.1920 - accuracy: 0.9270 - val_loss: 0.4456 - val_accuracy: 0.8365\n",
      "Epoch 17/30\n",
      "196/196 [==============================] - 1s 6ms/step - loss: 0.1807 - accuracy: 0.9326 - val_loss: 0.4671 - val_accuracy: 0.8313\n",
      "Epoch 18/30\n",
      "196/196 [==============================] - 1s 5ms/step - loss: 0.1732 - accuracy: 0.9362 - val_loss: 0.4781 - val_accuracy: 0.8334\n",
      "Epoch 19/30\n",
      "196/196 [==============================] - 1s 5ms/step - loss: 0.1633 - accuracy: 0.9400 - val_loss: 0.4770 - val_accuracy: 0.8315\n",
      "Epoch 20/30\n",
      "196/196 [==============================] - 1s 6ms/step - loss: 0.1529 - accuracy: 0.9459 - val_loss: 0.5139 - val_accuracy: 0.8315\n",
      "Epoch 21/30\n",
      "196/196 [==============================] - 1s 6ms/step - loss: 0.1460 - accuracy: 0.9485 - val_loss: 0.5257 - val_accuracy: 0.8314\n",
      "Epoch 22/30\n",
      "196/196 [==============================] - 1s 6ms/step - loss: 0.1365 - accuracy: 0.9527 - val_loss: 0.5602 - val_accuracy: 0.8309\n",
      "Epoch 23/30\n",
      "196/196 [==============================] - 1s 6ms/step - loss: 0.1306 - accuracy: 0.9550 - val_loss: 0.5775 - val_accuracy: 0.8276\n",
      "Epoch 24/30\n",
      "196/196 [==============================] - 1s 6ms/step - loss: 0.1243 - accuracy: 0.9578 - val_loss: 0.5977 - val_accuracy: 0.8272\n",
      "Epoch 25/30\n",
      "196/196 [==============================] - 1s 6ms/step - loss: 0.1152 - accuracy: 0.9616 - val_loss: 0.6296 - val_accuracy: 0.8276\n",
      "Epoch 26/30\n",
      "196/196 [==============================] - 1s 6ms/step - loss: 0.1104 - accuracy: 0.9631 - val_loss: 0.6668 - val_accuracy: 0.8276\n",
      "Epoch 27/30\n",
      "196/196 [==============================] - 1s 6ms/step - loss: 0.1074 - accuracy: 0.9639 - val_loss: 0.6660 - val_accuracy: 0.8252\n",
      "Epoch 28/30\n",
      "196/196 [==============================] - 1s 6ms/step - loss: 0.0981 - accuracy: 0.9680 - val_loss: 0.7070 - val_accuracy: 0.8234\n",
      "Epoch 29/30\n",
      "196/196 [==============================] - 1s 6ms/step - loss: 0.0930 - accuracy: 0.9697 - val_loss: 0.7026 - val_accuracy: 0.8247\n",
      "Epoch 30/30\n",
      "196/196 [==============================] - 1s 6ms/step - loss: 0.0888 - accuracy: 0.9718 - val_loss: 0.7464 - val_accuracy: 0.8264\n"
     ]
    }
   ],
   "source": [
    "CNN_ft_model_trained, CNN_ft_model_history = train_model(CNN_ft_model)"
   ]
  },
  {
   "cell_type": "code",
   "execution_count": 315,
   "id": "ce535736",
   "metadata": {},
   "outputs": [
    {
     "name": "stdout",
     "output_type": "stream",
     "text": [
      "1537/1537 - 3s - loss: 0.7415 - accuracy: 0.8268\n"
     ]
    }
   ],
   "source": [
    "CNN_ft_results = CNN_ft_model_trained.evaluate(X_test,  y_test, verbose=2)"
   ]
  },
  {
   "cell_type": "code",
   "execution_count": 317,
   "id": "2f25bf0f",
   "metadata": {},
   "outputs": [
    {
     "data": {
      "image/png": "[encoded data removed]",
      "text/plain": [
       "<Figure size 576x720 with 2 Axes>"
      ]
     },
     "metadata": {
      "needs_background": "light"
     },
     "output_type": "display_data"
    }
   ],
   "source": [
    "draw_graph(CNN_ft_model_history)"
   ]
  },
  {
   "cell_type": "markdown",
   "id": "6c41f91d",
   "metadata": {},
   "source": [
    "- 10 epoch부터 과적합 발생\n",
    "- 최저 Val Loss, 최고 ACC는 9 epoch에서 달성"
   ]
  },
  {
   "cell_type": "markdown",
   "id": "9c41717e",
   "metadata": {},
   "source": [
    "### 하이퍼파라미터 수정 후 재학습"
   ]
  },
  {
   "cell_type": "code",
   "execution_count": 360,
   "id": "5f10f752",
   "metadata": {},
   "outputs": [],
   "source": [
    "# 무작위로 임베딩 행렬을 생성\n",
    "embedding_matrix = np.random.rand(vocab_size, Kor_wv.vectors.shape[1])\n",
    "\n",
    "# embedding_matrix에 한국어 Word2Vec 단어 하나씩 복사.\n",
    "for i in range(4,vocab_size):\n",
    "    if index_to_word[i] in Kor_wv:\n",
    "        embedding_matrix[i] = Kor_wv[index_to_word[i]]"
   ]
  },
  {
   "cell_type": "code",
   "execution_count": 322,
   "id": "515e23a1",
   "metadata": {},
   "outputs": [
    {
     "name": "stdout",
     "output_type": "stream",
     "text": [
      "Epoch 1/10\n",
      "196/196 [==============================] - 2s 7ms/step - loss: 0.6421 - accuracy: 0.6194 - val_loss: 0.5409 - val_accuracy: 0.7287\n",
      "Epoch 2/10\n",
      "196/196 [==============================] - 1s 6ms/step - loss: 0.4896 - accuracy: 0.7662 - val_loss: 0.4592 - val_accuracy: 0.7857\n",
      "Epoch 3/10\n",
      "196/196 [==============================] - 1s 6ms/step - loss: 0.4181 - accuracy: 0.8110 - val_loss: 0.4182 - val_accuracy: 0.8084\n",
      "Epoch 4/10\n",
      "196/196 [==============================] - 1s 6ms/step - loss: 0.3727 - accuracy: 0.8365 - val_loss: 0.3925 - val_accuracy: 0.8235\n",
      "Epoch 5/10\n",
      "196/196 [==============================] - 1s 6ms/step - loss: 0.3411 - accuracy: 0.8523 - val_loss: 0.3783 - val_accuracy: 0.8311\n",
      "Epoch 6/10\n",
      "196/196 [==============================] - 1s 6ms/step - loss: 0.3166 - accuracy: 0.8652 - val_loss: 0.3988 - val_accuracy: 0.8215\n",
      "Epoch 7/10\n",
      "196/196 [==============================] - 1s 6ms/step - loss: 0.3008 - accuracy: 0.8724 - val_loss: 0.3679 - val_accuracy: 0.8378\n",
      "Epoch 8/10\n",
      "196/196 [==============================] - 1s 6ms/step - loss: 0.2832 - accuracy: 0.8828 - val_loss: 0.3734 - val_accuracy: 0.8392\n",
      "Epoch 9/10\n",
      "196/196 [==============================] - 1s 6ms/step - loss: 0.2678 - accuracy: 0.8904 - val_loss: 0.3753 - val_accuracy: 0.8367\n",
      "Epoch 10/10\n",
      "196/196 [==============================] - 1s 6ms/step - loss: 0.2552 - accuracy: 0.8962 - val_loss: 0.3841 - val_accuracy: 0.8387\n"
     ]
    }
   ],
   "source": [
    "# 모델 구성\n",
    "CNN_ft_model = tf.keras.Sequential(name=\"Conv1D_fine_tuned\")\n",
    "CNN_ft_model.add(tf.keras.layers.Embedding(vocab_size, \n",
    "                                 Kor_wv.vectors.shape[1], \n",
    "                                 embeddings_initializer=Constant(embedding_matrix),  # 카피한 임베딩을 여기서 활용\n",
    "                                 input_length=maxlen, \n",
    "                                 trainable=True))   # trainable을 True로 주면 Fine-tuning\n",
    "CNN_ft_model.add(tf.keras.layers.Conv1D(16, 7, activation='relu'))\n",
    "CNN_ft_model.add(tf.keras.layers.MaxPooling1D(5))\n",
    "CNN_ft_model.add(tf.keras.layers.Conv1D(16, 7, activation='relu'))\n",
    "CNN_ft_model.add(tf.keras.layers.GlobalMaxPooling1D())\n",
    "CNN_ft_model.add(tf.keras.layers.Dense(8, activation='relu'))\n",
    "CNN_ft_model.add(tf.keras.layers.Dense(1, activation='sigmoid')) \n",
    "\n",
    "CNN_ft_model_trained, CNN_ft_model_history = train_model(CNN_ft_model, epochs=10)"
   ]
  },
  {
   "cell_type": "code",
   "execution_count": 323,
   "id": "09cd40f1",
   "metadata": {},
   "outputs": [
    {
     "name": "stdout",
     "output_type": "stream",
     "text": [
      "1537/1537 - 2s - loss: 0.3873 - accuracy: 0.8389\n"
     ]
    }
   ],
   "source": [
    "CNN_ft_results = CNN_ft_model_trained.evaluate(X_test,  y_test, verbose=2)"
   ]
  },
  {
   "cell_type": "markdown",
   "id": "b392d4f5",
   "metadata": {},
   "source": [
    "### 결과 비교"
   ]
  },
  {
   "cell_type": "code",
   "execution_count": 336,
   "id": "1d18b5a7",
   "metadata": {},
   "outputs": [
    {
     "data": {
      "text/html": [
       "<div>\n",
       "<style scoped>\n",
       "    .dataframe tbody tr th:only-of-type {\n",
       "        vertical-align: middle;\n",
       "    }\n",
       "\n",
       "    .dataframe tbody tr th {\n",
       "        vertical-align: top;\n",
       "    }\n",
       "\n",
       "    .dataframe thead th {\n",
       "        text-align: right;\n",
       "    }\n",
       "</style>\n",
       "<table border=\"1\" class=\"dataframe\">\n",
       "  <thead>\n",
       "    <tr style=\"text-align: right;\">\n",
       "      <th></th>\n",
       "      <th>Loss</th>\n",
       "      <th>Acc</th>\n",
       "    </tr>\n",
       "    <tr>\n",
       "      <th>Model</th>\n",
       "      <th></th>\n",
       "      <th></th>\n",
       "    </tr>\n",
       "  </thead>\n",
       "  <tbody>\n",
       "    <tr>\n",
       "      <th>CNN</th>\n",
       "      <td>1.602646</td>\n",
       "      <td>0.815876</td>\n",
       "    </tr>\n",
       "    <tr>\n",
       "      <th>GMP</th>\n",
       "      <td>1.573460</td>\n",
       "      <td>0.820168</td>\n",
       "    </tr>\n",
       "    <tr>\n",
       "      <th>RNN</th>\n",
       "      <td>1.255460</td>\n",
       "      <td>0.818602</td>\n",
       "    </tr>\n",
       "    <tr>\n",
       "      <th>Fine_Tuned_CNN</th>\n",
       "      <td>0.387265</td>\n",
       "      <td>0.838863</td>\n",
       "    </tr>\n",
       "  </tbody>\n",
       "</table>\n",
       "</div>"
      ],
      "text/plain": [
       "                    Loss       Acc\n",
       "Model                             \n",
       "CNN             1.602646  0.815876\n",
       "GMP             1.573460  0.820168\n",
       "RNN             1.255460  0.818602\n",
       "Fine_Tuned_CNN  0.387265  0.838863"
      ]
     },
     "execution_count": 336,
     "metadata": {},
     "output_type": "execute_result"
    }
   ],
   "source": [
    "results_df = [[\"CNN\"], [\"GMP\"], [\"RNN\"], [\"Fine_Tuned_CNN\"]]\n",
    "results = [CNN_results, GMP_results, RNN_results, CNN_ft_results]\n",
    "for i in range(len(results)):\n",
    "    results_df[i] += results[i]\n",
    "\n",
    "results_df = pd.DataFrame(results_df, columns=['Model', 'Loss', 'Acc']).set_index('Model')\n",
    "results_df"
   ]
  },
  {
   "cell_type": "markdown",
   "id": "fc028389",
   "metadata": {},
   "source": [
    "### 정확도 85% 이상 달성을 위한 재도전"
   ]
  },
  {
   "cell_type": "markdown",
   "id": "114ecea9",
   "metadata": {},
   "source": [
    "#### RNN fine-tuning"
   ]
  },
  {
   "cell_type": "code",
   "execution_count": 361,
   "id": "0261bdbd",
   "metadata": {},
   "outputs": [
    {
     "name": "stdout",
     "output_type": "stream",
     "text": [
      "Model: \"RNN_fine_tuned\"\n",
      "_________________________________________________________________\n",
      "Layer (type)                 Output Shape              Param #   \n",
      "=================================================================\n",
      "embedding_17 (Embedding)     (None, 41, 100)           1000000   \n",
      "_________________________________________________________________\n",
      "lstm_8 (LSTM)                (None, 32)                17024     \n",
      "_________________________________________________________________\n",
      "dropout_4 (Dropout)          (None, 32)                0         \n",
      "_________________________________________________________________\n",
      "dense_34 (Dense)             (None, 8)                 264       \n",
      "_________________________________________________________________\n",
      "dense_35 (Dense)             (None, 1)                 9         \n",
      "=================================================================\n",
      "Total params: 1,017,297\n",
      "Trainable params: 1,017,297\n",
      "Non-trainable params: 0\n",
      "_________________________________________________________________\n"
     ]
    }
   ],
   "source": [
    "# 모델 구성\n",
    "RNN_ft_model = tf.keras.Sequential(name=\"RNN_fine_tuned\")\n",
    "RNN_ft_model.add(tf.keras.layers.Embedding(vocab_size, \n",
    "                                 Kor_wv.vectors.shape[1], \n",
    "                                 embeddings_initializer=Constant(embedding_matrix),  # 임베딩 재활용\n",
    "                                 input_length=maxlen, \n",
    "                                 trainable=True))\n",
    "RNN_ft_model.add(tf.keras.layers.LSTM(32))\n",
    "RNN_ft_model.add(tf.keras.layers.Dropout(0.5))  # Dropout 레이어 추가\n",
    "RNN_ft_model.add(tf.keras.layers.Dense(8, activation='relu'))\n",
    "RNN_ft_model.add(tf.keras.layers.Dense(1, activation='sigmoid'))\n",
    "\n",
    "\n",
    "RNN_ft_model.summary()"
   ]
  },
  {
   "cell_type": "code",
   "execution_count": 362,
   "id": "b0de0341",
   "metadata": {},
   "outputs": [
    {
     "name": "stdout",
     "output_type": "stream",
     "text": [
      "Epoch 1/10\n",
      "196/196 [==============================] - 3s 9ms/step - loss: 0.6934 - accuracy: 0.5045 - val_loss: 0.6903 - val_accuracy: 0.5073\n",
      "Epoch 2/10\n",
      "196/196 [==============================] - 1s 7ms/step - loss: 0.6124 - accuracy: 0.6565 - val_loss: 0.5014 - val_accuracy: 0.7647\n",
      "Epoch 3/10\n",
      "196/196 [==============================] - 1s 7ms/step - loss: 0.4539 - accuracy: 0.7967 - val_loss: 0.4046 - val_accuracy: 0.8183\n",
      "Epoch 4/10\n",
      "196/196 [==============================] - 1s 7ms/step - loss: 0.3808 - accuracy: 0.8348 - val_loss: 0.3750 - val_accuracy: 0.8336\n",
      "Epoch 5/10\n",
      "196/196 [==============================] - 1s 7ms/step - loss: 0.3460 - accuracy: 0.8528 - val_loss: 0.3616 - val_accuracy: 0.8397\n",
      "Epoch 6/10\n",
      "196/196 [==============================] - 1s 7ms/step - loss: 0.3223 - accuracy: 0.8645 - val_loss: 0.3596 - val_accuracy: 0.8408\n",
      "Epoch 7/10\n",
      "196/196 [==============================] - 1s 7ms/step - loss: 0.3057 - accuracy: 0.8723 - val_loss: 0.3571 - val_accuracy: 0.8476\n",
      "Epoch 8/10\n",
      "196/196 [==============================] - 1s 7ms/step - loss: 0.2902 - accuracy: 0.8792 - val_loss: 0.3517 - val_accuracy: 0.8506\n",
      "Epoch 9/10\n",
      "196/196 [==============================] - 1s 7ms/step - loss: 0.2756 - accuracy: 0.8866 - val_loss: 0.3552 - val_accuracy: 0.8517\n",
      "Epoch 10/10\n",
      "196/196 [==============================] - 1s 7ms/step - loss: 0.2640 - accuracy: 0.8923 - val_loss: 0.3535 - val_accuracy: 0.8521\n"
     ]
    }
   ],
   "source": [
    "RNN_ft_model_trained, RNN_ft_model_history = train_model(RNN_ft_model, epochs=10)"
   ]
  },
  {
   "cell_type": "code",
   "execution_count": 363,
   "id": "53296a68",
   "metadata": {},
   "outputs": [
    {
     "name": "stdout",
     "output_type": "stream",
     "text": [
      "1537/1537 - 3s - loss: 0.3567 - accuracy: 0.8478\n"
     ]
    }
   ],
   "source": [
    "RNN_ft_results = RNN_ft_model_trained.evaluate(X_test,  y_test, verbose=2)"
   ]
  },
  {
   "cell_type": "markdown",
   "id": "080cef2a",
   "metadata": {},
   "source": [
    "#### GRU fine-tuning"
   ]
  },
  {
   "cell_type": "code",
   "execution_count": 364,
   "id": "5ad6c53a",
   "metadata": {},
   "outputs": [
    {
     "name": "stdout",
     "output_type": "stream",
     "text": [
      "WARNING:tensorflow:Layer gru will not use cuDNN kernels since it doesn't meet the criteria. It will use a generic GPU kernel as fallback when running on GPU.\n",
      "WARNING:tensorflow:Layer gru_1 will not use cuDNN kernels since it doesn't meet the criteria. It will use a generic GPU kernel as fallback when running on GPU.\n",
      "Model: \"GRU_fine_tuned\"\n",
      "_________________________________________________________________\n",
      "Layer (type)                 Output Shape              Param #   \n",
      "=================================================================\n",
      "embedding_18 (Embedding)     (None, 41, 100)           1000000   \n",
      "_________________________________________________________________\n",
      "gru (GRU)                    (None, 41, 32)            12864     \n",
      "_________________________________________________________________\n",
      "gru_1 (GRU)                  (None, 32)                6336      \n",
      "_________________________________________________________________\n",
      "dropout_5 (Dropout)          (None, 32)                0         \n",
      "_________________________________________________________________\n",
      "dense_36 (Dense)             (None, 8)                 264       \n",
      "_________________________________________________________________\n",
      "dense_37 (Dense)             (None, 1)                 9         \n",
      "=================================================================\n",
      "Total params: 1,019,473\n",
      "Trainable params: 1,019,473\n",
      "Non-trainable params: 0\n",
      "_________________________________________________________________\n"
     ]
    }
   ],
   "source": [
    "# 모델 구성\n",
    "GRU_ft_model = tf.keras.Sequential(name=\"GRU_fine_tuned\")\n",
    "GRU_ft_model.add(tf.keras.layers.Embedding(vocab_size, \n",
    "                                 Kor_wv.vectors.shape[1], \n",
    "                                 embeddings_initializer=Constant(embedding_matrix),  # 임베딩 재활용\n",
    "                                 input_length=maxlen, \n",
    "                                 trainable=True))\n",
    "GRU_ft_model.add(tf.keras.layers.GRU(32, recurrent_dropout=0.5, return_sequences=True))\n",
    "GRU_ft_model.add(tf.keras.layers.GRU(32, recurrent_dropout=0.5))\n",
    "GRU_ft_model.add(tf.keras.layers.Dropout(0.5))\n",
    "GRU_ft_model.add(tf.keras.layers.Dense(8, activation='relu'))\n",
    "GRU_ft_model.add(tf.keras.layers.Dense(1, activation='sigmoid'))\n",
    "\n",
    "\n",
    "GRU_ft_model.summary()"
   ]
  },
  {
   "cell_type": "code",
   "execution_count": 365,
   "id": "ed3f6a7a",
   "metadata": {},
   "outputs": [
    {
     "name": "stdout",
     "output_type": "stream",
     "text": [
      "Epoch 1/10\n",
      "196/196 [==============================] - 56s 270ms/step - loss: 0.6925 - accuracy: 0.5045 - val_loss: 0.6892 - val_accuracy: 0.5102\n",
      "Epoch 2/10\n",
      "196/196 [==============================] - 52s 266ms/step - loss: 0.6437 - accuracy: 0.5870 - val_loss: 0.4734 - val_accuracy: 0.7794\n",
      "Epoch 3/10\n",
      "196/196 [==============================] - 52s 266ms/step - loss: 0.4207 - accuracy: 0.8141 - val_loss: 0.3763 - val_accuracy: 0.8325\n",
      "Epoch 4/10\n",
      "196/196 [==============================] - 52s 267ms/step - loss: 0.3534 - accuracy: 0.8505 - val_loss: 0.3553 - val_accuracy: 0.8435\n",
      "Epoch 5/10\n",
      "196/196 [==============================] - 52s 266ms/step - loss: 0.3239 - accuracy: 0.8644 - val_loss: 0.3477 - val_accuracy: 0.8483\n",
      "Epoch 6/10\n",
      "196/196 [==============================] - 52s 265ms/step - loss: 0.3051 - accuracy: 0.8745 - val_loss: 0.3423 - val_accuracy: 0.8537\n",
      "Epoch 7/10\n",
      "196/196 [==============================] - 52s 265ms/step - loss: 0.2891 - accuracy: 0.8833 - val_loss: 0.3433 - val_accuracy: 0.8533\n",
      "Epoch 8/10\n",
      "196/196 [==============================] - 52s 266ms/step - loss: 0.2775 - accuracy: 0.8876 - val_loss: 0.3425 - val_accuracy: 0.8552\n",
      "Epoch 9/10\n",
      "196/196 [==============================] - 52s 263ms/step - loss: 0.2668 - accuracy: 0.8931 - val_loss: 0.3526 - val_accuracy: 0.8555\n",
      "Epoch 10/10\n",
      "196/196 [==============================] - 52s 266ms/step - loss: 0.2570 - accuracy: 0.8987 - val_loss: 0.3514 - val_accuracy: 0.8554\n"
     ]
    }
   ],
   "source": [
    "GRU_ft_model_trained, GRU_ft_model_history = train_model(GRU_ft_model, epochs=10)"
   ]
  },
  {
   "cell_type": "code",
   "execution_count": 366,
   "id": "f6ff6f45",
   "metadata": {},
   "outputs": [
    {
     "name": "stdout",
     "output_type": "stream",
     "text": [
      "1537/1537 - 33s - loss: 0.3571 - accuracy: 0.8532\n"
     ]
    }
   ],
   "source": [
    "GRU_ft_results = GRU_ft_model_trained.evaluate(X_test,  y_test, verbose=2)"
   ]
  },
  {
   "cell_type": "markdown",
   "id": "3668eb38",
   "metadata": {},
   "source": [
    "- 목표 정확도 달성. 85.32%"
   ]
  },
  {
   "cell_type": "markdown",
   "id": "29a35282",
   "metadata": {},
   "source": [
    "---"
   ]
  },
  {
   "cell_type": "markdown",
   "id": "503cce77",
   "metadata": {},
   "source": [
    "# 추가 실험"
   ]
  },
  {
   "cell_type": "code",
   "execution_count": 367,
   "id": "557a8e4a",
   "metadata": {},
   "outputs": [
    {
     "data": {
      "text/plain": [
       "(10000, 100)"
      ]
     },
     "execution_count": 367,
     "metadata": {},
     "output_type": "execute_result"
    }
   ],
   "source": [
    "vocab_size = len(word_to_index)\n",
    "word_vector_dim = 100\n",
    "\n",
    "vocab_size, word_vector_dim"
   ]
  },
  {
   "cell_type": "markdown",
   "id": "62573af7",
   "metadata": {},
   "source": [
    "## 임베딩 레이어의 차이만으로 오는 변화를 좀 더 명확히 하기 위한 테스트"
   ]
  },
  {
   "cell_type": "code",
   "execution_count": 385,
   "id": "c0100369",
   "metadata": {},
   "outputs": [
    {
     "name": "stdout",
     "output_type": "stream",
     "text": [
      "Model: \"RNN_no_embedding\"\n",
      "_________________________________________________________________\n",
      "Layer (type)                 Output Shape              Param #   \n",
      "=================================================================\n",
      "embedding_25 (Embedding)     (None, None, 100)         1000000   \n",
      "_________________________________________________________________\n",
      "lstm_15 (LSTM)               (None, 64)                42240     \n",
      "_________________________________________________________________\n",
      "dropout_12 (Dropout)         (None, 64)                0         \n",
      "_________________________________________________________________\n",
      "dense_50 (Dense)             (None, 16)                1040      \n",
      "_________________________________________________________________\n",
      "dense_51 (Dense)             (None, 1)                 17        \n",
      "=================================================================\n",
      "Total params: 1,043,297\n",
      "Trainable params: 1,043,297\n",
      "Non-trainable params: 0\n",
      "_________________________________________________________________\n"
     ]
    }
   ],
   "source": [
    "# 모델 구성\n",
    "RNN_NE_model = tf.keras.Sequential(name=\"RNN_no_embedding\")\n",
    "RNN_NE_model.add(tf.keras.layers.Embedding(vocab_size, word_vector_dim, input_shape=(None,)))\n",
    "RNN_NE_model.add(tf.keras.layers.LSTM(64))\n",
    "RNN_NE_model.add(tf.keras.layers.Dropout(0.5))  # Dropout 레이어 추가\n",
    "RNN_NE_model.add(tf.keras.layers.Dense(16, activation='relu'))\n",
    "RNN_NE_model.add(tf.keras.layers.Dense(1, activation='sigmoid'))\n",
    "\n",
    "\n",
    "RNN_NE_model.summary()"
   ]
  },
  {
   "cell_type": "code",
   "execution_count": 386,
   "id": "bd6280ee",
   "metadata": {},
   "outputs": [
    {
     "name": "stdout",
     "output_type": "stream",
     "text": [
      "Epoch 1/5\n",
      "196/196 [==============================] - 3s 10ms/step - loss: 0.5377 - accuracy: 0.6890 - val_loss: 0.3708 - val_accuracy: 0.8361\n",
      "Epoch 2/5\n",
      "196/196 [==============================] - 2s 8ms/step - loss: 0.3405 - accuracy: 0.8545 - val_loss: 0.3525 - val_accuracy: 0.8425\n",
      "Epoch 3/5\n",
      "196/196 [==============================] - 2s 8ms/step - loss: 0.3102 - accuracy: 0.8666 - val_loss: 0.3495 - val_accuracy: 0.8463\n",
      "Epoch 4/5\n",
      "196/196 [==============================] - 1s 8ms/step - loss: 0.2843 - accuracy: 0.8789 - val_loss: 0.3538 - val_accuracy: 0.8517\n",
      "Epoch 5/5\n",
      "196/196 [==============================] - 1s 8ms/step - loss: 0.2603 - accuracy: 0.8889 - val_loss: 0.3643 - val_accuracy: 0.8526\n"
     ]
    }
   ],
   "source": [
    "RNN_NE_model_trained, RNN_NE_model_history = train_model(RNN_NE_model, epochs=5)"
   ]
  },
  {
   "cell_type": "code",
   "execution_count": 387,
   "id": "6aed35f2",
   "metadata": {},
   "outputs": [
    {
     "name": "stdout",
     "output_type": "stream",
     "text": [
      "1537/1537 - 3s - loss: 0.3707 - accuracy: 0.8494\n"
     ]
    }
   ],
   "source": [
    "RNN_NE_results = RNN_NE_model_trained.evaluate(X_test,  y_test, verbose=2)"
   ]
  },
  {
   "cell_type": "markdown",
   "id": "586a95b4",
   "metadata": {},
   "source": [
    "- 모델링만으로 목표 정확도 거의 달성"
   ]
  },
  {
   "cell_type": "code",
   "execution_count": 395,
   "id": "0f61ecd3",
   "metadata": {},
   "outputs": [],
   "source": [
    "# 무작위로 임베딩 행렬을 생성\n",
    "embedding_matrix = np.random.rand(vocab_size, Kor_wv.vectors.shape[1])\n",
    "\n",
    "# embedding_matrix에 한국어 Word2Vec 단어 하나씩 복사.\n",
    "for i in range(4,vocab_size):\n",
    "    if index_to_word[i] in Kor_wv:\n",
    "        embedding_matrix[i] = Kor_wv[index_to_word[i]]"
   ]
  },
  {
   "cell_type": "code",
   "execution_count": 396,
   "id": "d2d42445",
   "metadata": {},
   "outputs": [
    {
     "name": "stdout",
     "output_type": "stream",
     "text": [
      "Model: \"RNN_with_embedding\"\n",
      "_________________________________________________________________\n",
      "Layer (type)                 Output Shape              Param #   \n",
      "=================================================================\n",
      "embedding_28 (Embedding)     (None, 41, 100)           1000000   \n",
      "_________________________________________________________________\n",
      "lstm_18 (LSTM)               (None, 64)                42240     \n",
      "_________________________________________________________________\n",
      "dropout_15 (Dropout)         (None, 64)                0         \n",
      "_________________________________________________________________\n",
      "dense_56 (Dense)             (None, 16)                1040      \n",
      "_________________________________________________________________\n",
      "dense_57 (Dense)             (None, 1)                 17        \n",
      "=================================================================\n",
      "Total params: 1,043,297\n",
      "Trainable params: 1,043,297\n",
      "Non-trainable params: 0\n",
      "_________________________________________________________________\n"
     ]
    }
   ],
   "source": [
    "# 모델 구성\n",
    "RNN_WE_model = tf.keras.Sequential(name=\"RNN_with_embedding\")\n",
    "RNN_WE_model.add(tf.keras.layers.Embedding(vocab_size, \n",
    "                                 Kor_wv.vectors.shape[1], \n",
    "                                 embeddings_initializer=Constant(embedding_matrix),  # 임베딩 재활용\n",
    "                                 input_length=maxlen, \n",
    "                                 trainable=True))\n",
    "RNN_WE_model.add(tf.keras.layers.LSTM(64))\n",
    "RNN_WE_model.add(tf.keras.layers.Dropout(0.5))  # Dropout 레이어 추가\n",
    "RNN_WE_model.add(tf.keras.layers.Dense(16, activation='relu'))\n",
    "RNN_WE_model.add(tf.keras.layers.Dense(1, activation='sigmoid'))\n",
    "\n",
    "\n",
    "RNN_WE_model.summary()"
   ]
  },
  {
   "cell_type": "code",
   "execution_count": 397,
   "id": "703aea06",
   "metadata": {},
   "outputs": [
    {
     "name": "stdout",
     "output_type": "stream",
     "text": [
      "Epoch 1/7\n",
      "196/196 [==============================] - 4s 10ms/step - loss: 0.6800 - accuracy: 0.5413 - val_loss: 0.5894 - val_accuracy: 0.6987\n",
      "Epoch 2/7\n",
      "196/196 [==============================] - 1s 8ms/step - loss: 0.4819 - accuracy: 0.7784 - val_loss: 0.4076 - val_accuracy: 0.8174\n",
      "Epoch 3/7\n",
      "196/196 [==============================] - 1s 8ms/step - loss: 0.3798 - accuracy: 0.8347 - val_loss: 0.3660 - val_accuracy: 0.8402\n",
      "Epoch 4/7\n",
      "196/196 [==============================] - 2s 8ms/step - loss: 0.3338 - accuracy: 0.8565 - val_loss: 0.3577 - val_accuracy: 0.8413\n",
      "Epoch 5/7\n",
      "196/196 [==============================] - 2s 8ms/step - loss: 0.3062 - accuracy: 0.8716 - val_loss: 0.3419 - val_accuracy: 0.8495\n",
      "Epoch 6/7\n",
      "196/196 [==============================] - 2s 8ms/step - loss: 0.2865 - accuracy: 0.8806 - val_loss: 0.3400 - val_accuracy: 0.8528\n",
      "Epoch 7/7\n",
      "196/196 [==============================] - 2s 8ms/step - loss: 0.2664 - accuracy: 0.8908 - val_loss: 0.3430 - val_accuracy: 0.8552\n"
     ]
    }
   ],
   "source": [
    "RNN_WE_model_trained, RNN_WE_model_history = train_model(RNN_WE_model, epochs=7)"
   ]
  },
  {
   "cell_type": "code",
   "execution_count": 398,
   "id": "bc43e604",
   "metadata": {},
   "outputs": [
    {
     "name": "stdout",
     "output_type": "stream",
     "text": [
      "1537/1537 - 3s - loss: 0.3486 - accuracy: 0.8534\n"
     ]
    }
   ],
   "source": [
    "RNN_WE_results = RNN_WE_model_trained.evaluate(X_test,  y_test, verbose=2)"
   ]
  },
  {
   "cell_type": "markdown",
   "id": "abf8ecf9",
   "metadata": {},
   "source": [
    "- 임베딩을 제외하고 동일한 모델링으로 0.4%p 정확도 상승하며 목표 정확도 달성"
   ]
  },
  {
   "cell_type": "markdown",
   "id": "70a61c75",
   "metadata": {},
   "source": [
    "## 최종 결과 비교"
   ]
  },
  {
   "cell_type": "code",
   "execution_count": 408,
   "id": "96e5a5af",
   "metadata": {},
   "outputs": [
    {
     "data": {
      "text/html": [
       "<div>\n",
       "<style scoped>\n",
       "    .dataframe tbody tr th:only-of-type {\n",
       "        vertical-align: middle;\n",
       "    }\n",
       "\n",
       "    .dataframe tbody tr th {\n",
       "        vertical-align: top;\n",
       "    }\n",
       "\n",
       "    .dataframe thead th {\n",
       "        text-align: right;\n",
       "    }\n",
       "</style>\n",
       "<table border=\"1\" class=\"dataframe\">\n",
       "  <thead>\n",
       "    <tr style=\"text-align: right;\">\n",
       "      <th></th>\n",
       "      <th>Loss</th>\n",
       "      <th>Acc</th>\n",
       "    </tr>\n",
       "    <tr>\n",
       "      <th>Model</th>\n",
       "      <th></th>\n",
       "      <th></th>\n",
       "    </tr>\n",
       "  </thead>\n",
       "  <tbody>\n",
       "    <tr>\n",
       "      <th>CNN</th>\n",
       "      <td>1.602646</td>\n",
       "      <td>0.815876</td>\n",
       "    </tr>\n",
       "    <tr>\n",
       "      <th>GMP</th>\n",
       "      <td>1.573460</td>\n",
       "      <td>0.820168</td>\n",
       "    </tr>\n",
       "    <tr>\n",
       "      <th>RNN</th>\n",
       "      <td>1.255460</td>\n",
       "      <td>0.818602</td>\n",
       "    </tr>\n",
       "    <tr>\n",
       "      <th>Fine_Tuned_CNN</th>\n",
       "      <td>0.387265</td>\n",
       "      <td>0.838863</td>\n",
       "    </tr>\n",
       "    <tr>\n",
       "      <th>Fine-Tuned_RNN</th>\n",
       "      <td>0.356655</td>\n",
       "      <td>0.847753</td>\n",
       "    </tr>\n",
       "    <tr>\n",
       "      <th>Fine-Tuned_GRU</th>\n",
       "      <td>0.357133</td>\n",
       "      <td>0.853246</td>\n",
       "    </tr>\n",
       "    <tr>\n",
       "      <th>RNN_No_Embedding</th>\n",
       "      <td>0.370706</td>\n",
       "      <td>0.849401</td>\n",
       "    </tr>\n",
       "    <tr>\n",
       "      <th>RNN_with_Embedding</th>\n",
       "      <td>0.348612</td>\n",
       "      <td>0.853368</td>\n",
       "    </tr>\n",
       "  </tbody>\n",
       "</table>\n",
       "</div>"
      ],
      "text/plain": [
       "                        Loss       Acc\n",
       "Model                                 \n",
       "CNN                 1.602646  0.815876\n",
       "GMP                 1.573460  0.820168\n",
       "RNN                 1.255460  0.818602\n",
       "Fine_Tuned_CNN      0.387265  0.838863\n",
       "Fine-Tuned_RNN      0.356655  0.847753\n",
       "Fine-Tuned_GRU      0.357133  0.853246\n",
       "RNN_No_Embedding    0.370706  0.849401\n",
       "RNN_with_Embedding  0.348612  0.853368"
      ]
     },
     "execution_count": 408,
     "metadata": {},
     "output_type": "execute_result"
    }
   ],
   "source": [
    "results_df.loc[\"Fine-Tuned_RNN\"] = RNN_ft_results\n",
    "results_df.loc[\"Fine-Tuned_GRU\"] = GRU_ft_results\n",
    "results_df.loc[\"RNN_No_Embedding\"] = RNN_NE_results\n",
    "results_df.loc[\"RNN_with_Embedding\"] = RNN_WE_results\n",
    "results_df"
   ]
  },
  {
   "cell_type": "markdown",
   "id": "476f119d",
   "metadata": {},
   "source": [
    "- 모델링에 변화만으로 사전 학습된 임베딩을 사용하지 않고도 앞서 사전 학습된 임베딩을 사용한 CNN모델보다 낮은 Loss, 높은 Acc 달성.\n",
    "- 이후 해당 모델에 사전 학습된 임베딩으로 교체한 것 만으로 최저 Loss, 최고 Acc 달성."
   ]
  },
  {
   "cell_type": "markdown",
   "id": "a2d66160",
   "metadata": {},
   "source": [
    "# 회고"
   ]
  },
  {
   "cell_type": "markdown",
   "id": "02f12ab4",
   "metadata": {},
   "source": [
    "### 텍스트 데이터 처리 모델과 임베딩 레이어에 대한 이해도 상승"
   ]
  },
  {
   "cell_type": "markdown",
   "id": "f518f79c",
   "metadata": {},
   "source": [
    "- 직접 텍스트 데이터를 다루고 이를 위한 모델링을 하면서 모델링에도 익숙해지고 텍스트 데이터를 이런식으로 다루게 된다는 점을 체감할 수 있어서 좋았다.\n",
    "\n",
    "- 임베딩 레이어의 원리가 다소 막연한 감이 있었는데 이번 실습을 통해 직접 변경도 해보면서 확실히 이해할 수 있었다.\n",
    "    - 더불어 앞으로 임베딩 레이어를 다루는 데에 있어서 자신감이 생기게 된 프로젝트였다."
   ]
  },
  {
   "cell_type": "markdown",
   "id": "756df772",
   "metadata": {},
   "source": [
    "### 급격하게 찾아오는 과적합으로 인한 아쉬움"
   ]
  },
  {
   "cell_type": "markdown",
   "id": "0d333c49",
   "metadata": {},
   "source": [
    "- 각 모델링 후 학습 과정에서 10 epoch이내에서, 심지어는 2 epoch부터 과적합이 오는 경우도 있어서 뭔가 실수한 것은 아닌지 싶은 생각에 너무 오랜 시간을 방황했다.\n",
    "- 이런 일도 일어날 수 있다는 점을 알았고, 앞으로는 단순히 고민할 시간에 좀 더 다양한 테스트를 진행하여 문제 원인을 파악하거나 해결하는 방식으로 진행해야겠다는 생각을 하게 됐다."
   ]
  },
  {
   "cell_type": "markdown",
   "id": "0bc0fe0c",
   "metadata": {},
   "source": [
    "---"
   ]
  }
 ],
 "metadata": {
  "kernelspec": {
   "display_name": "Python 3 (ipykernel)",
   "language": "python",
   "name": "python3"
  },
  "language_info": {
   "codemirror_mode": {
    "name": "ipython",
    "version": 3
   },
   "file_extension": ".py",
   "mimetype": "text/x-python",
   "name": "python",
   "nbconvert_exporter": "python",
   "pygments_lexer": "ipython3",
   "version": "3.9.7"
  }
 },
 "nbformat": 4,
 "nbformat_minor": 5
}
