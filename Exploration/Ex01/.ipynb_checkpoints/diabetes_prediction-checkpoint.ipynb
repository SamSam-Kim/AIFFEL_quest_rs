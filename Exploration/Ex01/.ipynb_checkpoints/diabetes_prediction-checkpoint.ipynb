{
 "cells": [
  {
   "cell_type": "markdown",
   "id": "5e39cc31",
   "metadata": {},
   "source": [
    "# 9-1. 프로젝트 1 : 손수 설계하는 선형회귀, 당뇨병 수치를 맞춰보자!"
   ]
  },
  {
   "cell_type": "markdown",
   "id": "fc6bc0c3",
   "metadata": {},
   "source": [
    "## (1) 데이터 가져오기"
   ]
  },
  {
   "cell_type": "markdown",
   "id": "e8d16703",
   "metadata": {},
   "source": [
    "- `sklearn.datasets`의 `load_diabetes`에서 데이터 가져오기"
   ]
  },
  {
   "cell_type": "code",
   "execution_count": 1,
   "id": "a6d3cd78",
   "metadata": {},
   "outputs": [
    {
     "data": {
      "text/plain": [
       "{'data': array([[ 0.03807591,  0.05068012,  0.06169621, ..., -0.00259226,\n",
       "          0.01990842, -0.01764613],\n",
       "        [-0.00188202, -0.04464164, -0.05147406, ..., -0.03949338,\n",
       "         -0.06832974, -0.09220405],\n",
       "        [ 0.08529891,  0.05068012,  0.04445121, ..., -0.00259226,\n",
       "          0.00286377, -0.02593034],\n",
       "        ...,\n",
       "        [ 0.04170844,  0.05068012, -0.01590626, ..., -0.01107952,\n",
       "         -0.04687948,  0.01549073],\n",
       "        [-0.04547248, -0.04464164,  0.03906215, ...,  0.02655962,\n",
       "          0.04452837, -0.02593034],\n",
       "        [-0.04547248, -0.04464164, -0.0730303 , ..., -0.03949338,\n",
       "         -0.00421986,  0.00306441]]),\n",
       " 'target': array([151.,  75., 141., 206., 135.,  97., 138.,  63., 110., 310., 101.,\n",
       "         69., 179., 185., 118., 171., 166., 144.,  97., 168.,  68.,  49.,\n",
       "         68., 245., 184., 202., 137.,  85., 131., 283., 129.,  59., 341.,\n",
       "         87.,  65., 102., 265., 276., 252.,  90., 100.,  55.,  61.,  92.,\n",
       "        259.,  53., 190., 142.,  75., 142., 155., 225.,  59., 104., 182.,\n",
       "        128.,  52.,  37., 170., 170.,  61., 144.,  52., 128.,  71., 163.,\n",
       "        150.,  97., 160., 178.,  48., 270., 202., 111.,  85.,  42., 170.,\n",
       "        200., 252., 113., 143.,  51.,  52., 210.,  65., 141.,  55., 134.,\n",
       "         42., 111.,  98., 164.,  48.,  96.,  90., 162., 150., 279.,  92.,\n",
       "         83., 128., 102., 302., 198.,  95.,  53., 134., 144., 232.,  81.,\n",
       "        104.,  59., 246., 297., 258., 229., 275., 281., 179., 200., 200.,\n",
       "        173., 180.,  84., 121., 161.,  99., 109., 115., 268., 274., 158.,\n",
       "        107.,  83., 103., 272.,  85., 280., 336., 281., 118., 317., 235.,\n",
       "         60., 174., 259., 178., 128.,  96., 126., 288.,  88., 292.,  71.,\n",
       "        197., 186.,  25.,  84.,  96., 195.,  53., 217., 172., 131., 214.,\n",
       "         59.,  70., 220., 268., 152.,  47.,  74., 295., 101., 151., 127.,\n",
       "        237., 225.,  81., 151., 107.,  64., 138., 185., 265., 101., 137.,\n",
       "        143., 141.,  79., 292., 178.,  91., 116.,  86., 122.,  72., 129.,\n",
       "        142.,  90., 158.,  39., 196., 222., 277.,  99., 196., 202., 155.,\n",
       "         77., 191.,  70.,  73.,  49.,  65., 263., 248., 296., 214., 185.,\n",
       "         78.,  93., 252., 150.,  77., 208.,  77., 108., 160.,  53., 220.,\n",
       "        154., 259.,  90., 246., 124.,  67.,  72., 257., 262., 275., 177.,\n",
       "         71.,  47., 187., 125.,  78.,  51., 258., 215., 303., 243.,  91.,\n",
       "        150., 310., 153., 346.,  63.,  89.,  50.,  39., 103., 308., 116.,\n",
       "        145.,  74.,  45., 115., 264.,  87., 202., 127., 182., 241.,  66.,\n",
       "         94., 283.,  64., 102., 200., 265.,  94., 230., 181., 156., 233.,\n",
       "         60., 219.,  80.,  68., 332., 248.,  84., 200.,  55.,  85.,  89.,\n",
       "         31., 129.,  83., 275.,  65., 198., 236., 253., 124.,  44., 172.,\n",
       "        114., 142., 109., 180., 144., 163., 147.,  97., 220., 190., 109.,\n",
       "        191., 122., 230., 242., 248., 249., 192., 131., 237.,  78., 135.,\n",
       "        244., 199., 270., 164.,  72.,  96., 306.,  91., 214.,  95., 216.,\n",
       "        263., 178., 113., 200., 139., 139.,  88., 148.,  88., 243.,  71.,\n",
       "         77., 109., 272.,  60.,  54., 221.,  90., 311., 281., 182., 321.,\n",
       "         58., 262., 206., 233., 242., 123., 167.,  63., 197.,  71., 168.,\n",
       "        140., 217., 121., 235., 245.,  40.,  52., 104., 132.,  88.,  69.,\n",
       "        219.,  72., 201., 110.,  51., 277.,  63., 118.,  69., 273., 258.,\n",
       "         43., 198., 242., 232., 175.,  93., 168., 275., 293., 281.,  72.,\n",
       "        140., 189., 181., 209., 136., 261., 113., 131., 174., 257.,  55.,\n",
       "         84.,  42., 146., 212., 233.,  91., 111., 152., 120.,  67., 310.,\n",
       "         94., 183.,  66., 173.,  72.,  49.,  64.,  48., 178., 104., 132.,\n",
       "        220.,  57.]),\n",
       " 'frame': None,\n",
       " 'DESCR': '.. _diabetes_dataset:\\n\\nDiabetes dataset\\n----------------\\n\\nTen baseline variables, age, sex, body mass index, average blood\\npressure, and six blood serum measurements were obtained for each of n =\\n442 diabetes patients, as well as the response of interest, a\\nquantitative measure of disease progression one year after baseline.\\n\\n**Data Set Characteristics:**\\n\\n  :Number of Instances: 442\\n\\n  :Number of Attributes: First 10 columns are numeric predictive values\\n\\n  :Target: Column 11 is a quantitative measure of disease progression one year after baseline\\n\\n  :Attribute Information:\\n      - age     age in years\\n      - sex\\n      - bmi     body mass index\\n      - bp      average blood pressure\\n      - s1      tc, total serum cholesterol\\n      - s2      ldl, low-density lipoproteins\\n      - s3      hdl, high-density lipoproteins\\n      - s4      tch, total cholesterol / HDL\\n      - s5      ltg, possibly log of serum triglycerides level\\n      - s6      glu, blood sugar level\\n\\nNote: Each of these 10 feature variables have been mean centered and scaled by the standard deviation times `n_samples` (i.e. the sum of squares of each column totals 1).\\n\\nSource URL:\\nhttps://www4.stat.ncsu.edu/~boos/var.select/diabetes.html\\n\\nFor more information see:\\nBradley Efron, Trevor Hastie, Iain Johnstone and Robert Tibshirani (2004) \"Least Angle Regression,\" Annals of Statistics (with discussion), 407-499.\\n(https://web.stanford.edu/~hastie/Papers/LARS/LeastAngle_2002.pdf)',\n",
       " 'feature_names': ['age',\n",
       "  'sex',\n",
       "  'bmi',\n",
       "  'bp',\n",
       "  's1',\n",
       "  's2',\n",
       "  's3',\n",
       "  's4',\n",
       "  's5',\n",
       "  's6'],\n",
       " 'data_filename': 'diabetes_data.csv.gz',\n",
       " 'target_filename': 'diabetes_target.csv.gz',\n",
       " 'data_module': 'sklearn.datasets.data'}"
      ]
     },
     "execution_count": 1,
     "metadata": {},
     "output_type": "execute_result"
    }
   ],
   "source": [
    "from sklearn.datasets import load_diabetes\n",
    "\n",
    "diabetes = load_diabetes()\n",
    "diabetes"
   ]
  },
  {
   "cell_type": "markdown",
   "id": "50ef6432",
   "metadata": {},
   "source": [
    "- `diabetes`의 `data`를 `df_X`에, `target`을 `df_y`에 저장"
   ]
  },
  {
   "cell_type": "code",
   "execution_count": 2,
   "id": "978de4a0",
   "metadata": {},
   "outputs": [],
   "source": [
    "df_X = diabetes[\"data\"]\n",
    "df_y = diabetes[\"target\"]"
   ]
  },
  {
   "cell_type": "markdown",
   "id": "c2be25da",
   "metadata": {},
   "source": [
    "- `data`와 `target`의 데이터 개수 확인"
   ]
  },
  {
   "cell_type": "code",
   "execution_count": 3,
   "id": "0421a0c1",
   "metadata": {},
   "outputs": [
    {
     "data": {
      "text/plain": [
       "((442, 10), (442,))"
      ]
     },
     "execution_count": 3,
     "metadata": {},
     "output_type": "execute_result"
    }
   ],
   "source": [
    "df_X.shape, df_y.shape"
   ]
  },
  {
   "cell_type": "markdown",
   "id": "b2cb8da3",
   "metadata": {},
   "source": [
    "- 442개의 데이터(X,y), 10개의 Feature 확인 완료\n",
    "---"
   ]
  },
  {
   "cell_type": "markdown",
   "id": "577bab82",
   "metadata": {},
   "source": [
    "## (2) 모델에 입력할 데이터 X 준비하기"
   ]
  },
  {
   "cell_type": "markdown",
   "id": "15d94f1c",
   "metadata": {},
   "source": [
    "- `df_X`에 있는 값들을 numpy array로 변환해서 저장"
   ]
  },
  {
   "cell_type": "code",
   "execution_count": 4,
   "id": "da709953",
   "metadata": {},
   "outputs": [
    {
     "data": {
      "text/plain": [
       "numpy.ndarray"
      ]
     },
     "execution_count": 4,
     "metadata": {},
     "output_type": "execute_result"
    }
   ],
   "source": [
    "type(df_X)"
   ]
  },
  {
   "cell_type": "markdown",
   "id": "b8e3a94a",
   "metadata": {},
   "source": [
    "- 데이터 타입을 확인해보니 이미 데이터를 가져오는 과정에서 numpy array로 저장되어 있는 것을 확인했으나 이후 과정에서 발생할 수 있는 오류를 예방하기 위해 더블체크"
   ]
  },
  {
   "cell_type": "code",
   "execution_count": 5,
   "id": "d2816180",
   "metadata": {},
   "outputs": [
    {
     "data": {
      "text/plain": [
       "numpy.ndarray"
      ]
     },
     "execution_count": 5,
     "metadata": {},
     "output_type": "execute_result"
    }
   ],
   "source": [
    "import numpy as np\n",
    "\n",
    "df_X = np.array(df_X)\n",
    "type(df_X)"
   ]
  },
  {
   "cell_type": "markdown",
   "id": "a2ce666d",
   "metadata": {},
   "source": [
    "## (3) 모델에 예측할 데이터 y 준비하기"
   ]
  },
  {
   "cell_type": "markdown",
   "id": "49811d55",
   "metadata": {},
   "source": [
    "- `df_y`에 있는 값들을 numpy array로 변환해서 저장"
   ]
  },
  {
   "cell_type": "code",
   "execution_count": 6,
   "id": "c299a7ec",
   "metadata": {},
   "outputs": [
    {
     "data": {
      "text/plain": [
       "numpy.ndarray"
      ]
     },
     "execution_count": 6,
     "metadata": {},
     "output_type": "execute_result"
    }
   ],
   "source": [
    "df_y = np.array(df_y)\n",
    "type(df_y)"
   ]
  },
  {
   "cell_type": "markdown",
   "id": "ea89f39f",
   "metadata": {},
   "source": [
    "## (4) train 데이터와 test 데이터로 분리하기"
   ]
  },
  {
   "cell_type": "markdown",
   "id": "0721c9a6",
   "metadata": {},
   "source": [
    "- `X`와 `y` 데이터를 각각 train 데이터와 test 데이터로 분리 후 확인"
   ]
  },
  {
   "cell_type": "code",
   "execution_count": 7,
   "id": "a82a0ba0",
   "metadata": {},
   "outputs": [
    {
     "name": "stdout",
     "output_type": "stream",
     "text": [
      "(353, 10) (353,)\n",
      "(89, 10) (89,)\n"
     ]
    }
   ],
   "source": [
    "from sklearn.model_selection import train_test_split\n",
    "\n",
    "X_train, X_test, y_train, y_test = train_test_split(df_X, df_y, test_size=0.2, random_state=33)\n",
    "\n",
    "print(X_train.shape, y_train.shape)\n",
    "print(X_test.shape, y_test.shape)"
   ]
  },
  {
   "cell_type": "markdown",
   "id": "aabb8f99",
   "metadata": {},
   "source": [
    "## (5) 모델 준비하기"
   ]
  },
  {
   "cell_type": "markdown",
   "id": "09651ed7",
   "metadata": {},
   "source": [
    "- 입력 데이터 개수에 맞는 가중치 `W`와 `b`를 준비"
   ]
  },
  {
   "cell_type": "code",
   "execution_count": 8,
   "id": "99e88515",
   "metadata": {},
   "outputs": [],
   "source": [
    "# 입력 데이터에 맞는 가중치 개수(X_train.shape[1])만큼 각각의 초기 가중치 임의 생성\n",
    "W = np.random.rand(X_train.shape[1])\n",
    "\n",
    "# b는 하나만 필요하므로 1개만 생성\n",
    "b = np.random.rand()"
   ]
  },
  {
   "cell_type": "markdown",
   "id": "0aae57e1",
   "metadata": {},
   "source": [
    "- 생성된 `W`, `b` 확인"
   ]
  },
  {
   "cell_type": "code",
   "execution_count": 9,
   "id": "12a397e6",
   "metadata": {},
   "outputs": [
    {
     "data": {
      "text/plain": [
       "array([0.03870124, 0.02512629, 0.48452273, 0.23968551, 0.92260302,\n",
       "       0.34278212, 0.49398454, 0.23157361, 0.89490567, 0.19970537])"
      ]
     },
     "execution_count": 9,
     "metadata": {},
     "output_type": "execute_result"
    }
   ],
   "source": [
    "W"
   ]
  },
  {
   "cell_type": "code",
   "execution_count": 10,
   "id": "52ae2be2",
   "metadata": {},
   "outputs": [
    {
     "data": {
      "text/plain": [
       "0.16960542163637204"
      ]
     },
     "execution_count": 10,
     "metadata": {},
     "output_type": "execute_result"
    }
   ],
   "source": [
    "b"
   ]
  },
  {
   "cell_type": "markdown",
   "id": "051c36dc",
   "metadata": {},
   "source": [
    "- 모델 함수 구현\n",
    "\n",
    "$$\n",
    "predictions = b + \\sum\\limits_{j=1}^M w_jx_j\n",
    "$$"
   ]
  },
  {
   "cell_type": "code",
   "execution_count": 11,
   "id": "593673b5",
   "metadata": {},
   "outputs": [],
   "source": [
    "def model(X, W, b):\n",
    "    # 한 번만 더해주면 되는 b를 우선 넣고 시작\n",
    "    predictions = b\n",
    "    \n",
    "    # 입력된 가중치(W) 만큼 반복하여 x * w를 수행\n",
    "    for i in range(len(W)):\n",
    "        predictions += X[:, i] * W[i]\n",
    "    \n",
    "    return predictions"
   ]
  },
  {
   "cell_type": "markdown",
   "id": "865b91ac",
   "metadata": {},
   "source": [
    "## (6) 손실함수 loss 정의하기"
   ]
  },
  {
   "cell_type": "markdown",
   "id": "f5ce6e4f",
   "metadata": {},
   "source": [
    "- 손실함수는 MSE 함수"
   ]
  },
  {
   "cell_type": "code",
   "execution_count": 12,
   "id": "a94a45c2",
   "metadata": {},
   "outputs": [],
   "source": [
    "def MSE(a, b):\n",
    "    mse = ((a - b) ** 2).mean()\n",
    "    return mse"
   ]
  },
  {
   "cell_type": "markdown",
   "id": "c6edd93f",
   "metadata": {},
   "source": [
    "- loss 함수 정의"
   ]
  },
  {
   "cell_type": "code",
   "execution_count": 13,
   "id": "0a0b82eb",
   "metadata": {},
   "outputs": [],
   "source": [
    "def loss(X, W, b, y):\n",
    "    predictions = model(X, W, b)\n",
    "    L = MSE(predictions, y)\n",
    "    return L"
   ]
  },
  {
   "cell_type": "markdown",
   "id": "b879e7fe",
   "metadata": {},
   "source": [
    "## (7) 기울기를 구하는 gradient 함수 구현하기"
   ]
  },
  {
   "cell_type": "code",
   "execution_count": 14,
   "id": "fbd430f0",
   "metadata": {},
   "outputs": [],
   "source": [
    "def gradient(X, W, b, y):\n",
    "    # N은 데이터 포인트의 개수\n",
    "    N = len(y)\n",
    "    \n",
    "    # y_pred 준비\n",
    "    y_pred = model(X, W, b)\n",
    "    \n",
    "    # 공식에 맞게 gradient 계산\n",
    "    dW = 1/N * 2 * X.T.dot(y_pred - y)\n",
    "        \n",
    "    # b의 gradient 계산\n",
    "    db = 2 * (y_pred - y).mean()\n",
    "    return dW, db"
   ]
  },
  {
   "cell_type": "markdown",
   "id": "840e4e92",
   "metadata": {},
   "source": [
    "## (8) 하이퍼 파라미터인 학습률 설정하기"
   ]
  },
  {
   "cell_type": "markdown",
   "id": "089f4a37",
   "metadata": {},
   "source": [
    "- 학습률, learning rate 설정"
   ]
  },
  {
   "cell_type": "code",
   "execution_count": 15,
   "id": "09b114a6",
   "metadata": {},
   "outputs": [],
   "source": [
    "learning_rate = 0.99"
   ]
  },
  {
   "cell_type": "markdown",
   "id": "ce42cca7",
   "metadata": {},
   "source": [
    "- learning_rate는 0.0001 부터 1까지 다양하게 실험해본 결과 중 0.99가 가장 효율이 좋아서 이렇게 설정하였습니다."
   ]
  },
  {
   "cell_type": "markdown",
   "id": "96505d29",
   "metadata": {},
   "source": [
    "## (9) 모델 학습하기"
   ]
  },
  {
   "cell_type": "markdown",
   "id": "655edf0e",
   "metadata": {},
   "source": [
    "- 앞서 정의한 손실함수와 기울기 함수로 모델 학습"
   ]
  },
  {
   "cell_type": "code",
   "execution_count": 16,
   "id": "21cffa14",
   "metadata": {
    "scrolled": false
   },
   "outputs": [
    {
     "name": "stdout",
     "output_type": "stream",
     "text": [
      "Iteration 20 : Loss 15357.2930\n",
      "Iteration 40 : Loss 8941.0738\n",
      "Iteration 60 : Loss 5991.1544\n",
      "Iteration 80 : Loss 4607.6497\n",
      "Iteration 100 : Loss 3936.9874\n",
      "Iteration 120 : Loss 3594.7032\n",
      "Iteration 140 : Loss 3406.8687\n",
      "Iteration 160 : Loss 3294.2015\n",
      "Iteration 180 : Loss 3220.0869\n",
      "Iteration 200 : Loss 3167.2378\n",
      "Iteration 220 : Loss 3127.1949\n",
      "Iteration 240 : Loss 3095.5888\n",
      "Iteration 260 : Loss 3069.9900\n",
      "Iteration 280 : Loss 3048.9248\n",
      "Iteration 300 : Loss 3031.4177\n",
      "Iteration 320 : Loss 3016.7731\n",
      "Iteration 340 : Loss 3004.4665\n",
      "Iteration 360 : Loss 2994.0879\n",
      "Iteration 380 : Loss 2985.3088\n",
      "Iteration 400 : Loss 2977.8625\n",
      "Iteration 420 : Loss 2971.5303\n",
      "Iteration 440 : Loss 2966.1320\n",
      "Iteration 460 : Loss 2961.5184\n",
      "Iteration 480 : Loss 2957.5655\n",
      "Iteration 500 : Loss 2954.1702\n"
     ]
    }
   ],
   "source": [
    "losses = []\n",
    "\n",
    "for i in range(1, 501): # 500번 반복하여 학습 진행\n",
    "    dW, db = gradient(X_train, W, b, y_train) # 기울기 업데이트\n",
    "    W -= learning_rate * dW # W 업데이트\n",
    "    b -= learning_rate * db # b 업데이트\n",
    "    L = loss(X_train, W, b, y_train) # loss 확인\n",
    "    losses.append(L) # loss 기록\n",
    "    \n",
    "    # 20번 학습마다 학습 횟수, 당 회차 Loss 출력\n",
    "    if i % 20 == 0:\n",
    "        print('Iteration %d : Loss %0.4f' % (i, L))"
   ]
  },
  {
   "cell_type": "markdown",
   "id": "c46c8527",
   "metadata": {},
   "source": [
    "- learning rate를 다양하게 실험하며 Iteration 역시 여러 차례 다른 값으로 시도해보았으나 1천번 이상의 Iteration을 돌려도 전부 2천 후반대를 기록하였습니다.\n",
    "- Iteration 460번째 쯤에서부터 Loss 하강 수치가 5이하로 확인하였습니다.\n",
    "- Loss 하강률을 보아 이 이상의 학습은 크게 의미가 없거나 과적합이 우려되어 결론적으로 500번의 Iteration을 가장 적당한 수치로 선정하였습니다."
   ]
  },
  {
   "cell_type": "markdown",
   "id": "5b1d9bb5",
   "metadata": {},
   "source": [
    "## (10) test 데이터에 대한 성능 확인하기"
   ]
  },
  {
   "cell_type": "code",
   "execution_count": 17,
   "id": "4621db90",
   "metadata": {
    "scrolled": true
   },
   "outputs": [
    {
     "data": {
      "text/plain": [
       "(array([   8.73303747, -220.75609553,  476.65149221,  313.99795015,\n",
       "         -86.81152834, -126.03655298, -233.24786943,  137.74023706,\n",
       "         410.51783634,   96.93834787]),\n",
       " 154.3409957308415)"
      ]
     },
     "execution_count": 17,
     "metadata": {},
     "output_type": "execute_result"
    }
   ],
   "source": [
    "# 현재 W, b 확인\n",
    "W, b"
   ]
  },
  {
   "cell_type": "code",
   "execution_count": 18,
   "id": "db1c9cb1",
   "metadata": {
    "scrolled": true
   },
   "outputs": [
    {
     "data": {
      "text/plain": [
       "2710.0457489843902"
      ]
     },
     "execution_count": 18,
     "metadata": {},
     "output_type": "execute_result"
    }
   ],
   "source": [
    "# Test Data에 대한 MSE값으로 성능 확인\n",
    "mse = loss(X_test, W, b, y_test)\n",
    "mse"
   ]
  },
  {
   "cell_type": "markdown",
   "id": "c76c81f2",
   "metadata": {},
   "source": [
    "- Train Data에서의 Loss 2954와 비교했을 때, 유사한 값인 2710을 얻음.\n",
    "- 오히려 학습때보다 나아진 Loss값으로 보아 과적합 가능성은 낮아 보임."
   ]
  },
  {
   "cell_type": "markdown",
   "id": "c926e4cc",
   "metadata": {},
   "source": [
    "## (11) 정답 데이터와 예측한 데이터 시각화하기"
   ]
  },
  {
   "cell_type": "code",
   "execution_count": 19,
   "id": "0b54c0db",
   "metadata": {},
   "outputs": [],
   "source": [
    "import matplotlib.pyplot as plt\n",
    "%matplotlib inline "
   ]
  },
  {
   "cell_type": "code",
   "execution_count": 20,
   "id": "e0a1dc65",
   "metadata": {},
   "outputs": [],
   "source": [
    "# Test Data에 대한 예측값 저장\n",
    "predictions = model(X_test, W, b)"
   ]
  },
  {
   "cell_type": "code",
   "execution_count": 21,
   "id": "f2cda876",
   "metadata": {},
   "outputs": [
    {
     "data": {
      "image/png": "[encoded data removed]",
      "text/plain": [
       "<Figure size 432x288 with 1 Axes>"
      ]
     },
     "metadata": {
      "needs_background": "light"
     },
     "output_type": "display_data"
    }
   ],
   "source": [
    "plt.scatter(X_test[:, 0], y_test, label=\"true\")\n",
    "plt.scatter(X_test[:, 0], predictions, label=\"pred\")\n",
    "plt.legend()\n",
    "plt.show()"
   ]
  }
 ],
 "metadata": {
  "kernelspec": {
   "display_name": "Python 3 (ipykernel)",
   "language": "python",
   "name": "python3"
  },
  "language_info": {
   "codemirror_mode": {
    "name": "ipython",
    "version": 3
   },
   "file_extension": ".py",
   "mimetype": "text/x-python",
   "name": "python",
   "nbconvert_exporter": "python",
   "pygments_lexer": "ipython3",
   "version": "3.9.7"
  }
 },
 "nbformat": 4,
 "nbformat_minor": 5
}
