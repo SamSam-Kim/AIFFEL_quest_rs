{
 "cells": [
  {
   "cell_type": "markdown",
   "id": "cde2e699",
   "metadata": {},
   "source": [
    "# Ex07. 한국어 데이터로 챗봇 만들기"
   ]
  },
  {
   "cell_type": "markdown",
   "id": "f00af705",
   "metadata": {},
   "source": [
    "영어로 만들었던 챗봇을 한국어 데이터로 바꿔서 훈련시켜봅니다."
   ]
  },
  {
   "cell_type": "code",
   "execution_count": 1,
   "id": "640fd92a",
   "metadata": {},
   "outputs": [],
   "source": [
    "import pandas as pd\n",
    "import re\n",
    "import tensorflow_datasets as tfds\n",
    "import tensorflow as tf\n",
    "import numpy as np\n",
    "import matplotlib.pyplot as plt\n",
    "\n",
    "from tensorflow.keras.callbacks import EarlyStopping\n",
    "from collections import Counter"
   ]
  },
  {
   "cell_type": "code",
   "execution_count": 3,
   "id": "674e053f",
   "metadata": {},
   "outputs": [
    {
     "name": "stdout",
     "output_type": "stream",
     "text": [
      "2.6.0\n"
     ]
    }
   ],
   "source": [
    "print(tf.__version__)"
   ]
  },
  {
   "cell_type": "markdown",
   "id": "a1727c06",
   "metadata": {},
   "source": [
    "# Step 1. 데이터 수집하기"
   ]
  },
  {
   "cell_type": "markdown",
   "id": "525afde0",
   "metadata": {},
   "source": [
    "한국어 챗봇 데이터는 송영숙님이 공개한 챗봇 데이터를 사용합니다.\n",
    "\n",
    "이 데이터는 아래의 링크에서 다운로드할 수 있습니다.\n",
    "\n",
    "- [songys/Chatbot_data](https://github.com/songys/Chatbot_data/blob/master/ChatbotData.csv)"
   ]
  },
  {
   "cell_type": "code",
   "execution_count": 4,
   "id": "ae45330a",
   "metadata": {},
   "outputs": [
    {
     "data": {
      "text/html": [
       "<div>\n",
       "<style scoped>\n",
       "    .dataframe tbody tr th:only-of-type {\n",
       "        vertical-align: middle;\n",
       "    }\n",
       "\n",
       "    .dataframe tbody tr th {\n",
       "        vertical-align: top;\n",
       "    }\n",
       "\n",
       "    .dataframe thead th {\n",
       "        text-align: right;\n",
       "    }\n",
       "</style>\n",
       "<table border=\"1\" class=\"dataframe\">\n",
       "  <thead>\n",
       "    <tr style=\"text-align: right;\">\n",
       "      <th></th>\n",
       "      <th>Q</th>\n",
       "      <th>A</th>\n",
       "      <th>label</th>\n",
       "    </tr>\n",
       "  </thead>\n",
       "  <tbody>\n",
       "    <tr>\n",
       "      <th>0</th>\n",
       "      <td>12시 땡!</td>\n",
       "      <td>하루가 또 가네요.</td>\n",
       "      <td>0</td>\n",
       "    </tr>\n",
       "    <tr>\n",
       "      <th>1</th>\n",
       "      <td>1지망 학교 떨어졌어</td>\n",
       "      <td>위로해 드립니다.</td>\n",
       "      <td>0</td>\n",
       "    </tr>\n",
       "    <tr>\n",
       "      <th>2</th>\n",
       "      <td>3박4일 놀러가고 싶다</td>\n",
       "      <td>여행은 언제나 좋죠.</td>\n",
       "      <td>0</td>\n",
       "    </tr>\n",
       "    <tr>\n",
       "      <th>3</th>\n",
       "      <td>3박4일 정도 놀러가고 싶다</td>\n",
       "      <td>여행은 언제나 좋죠.</td>\n",
       "      <td>0</td>\n",
       "    </tr>\n",
       "    <tr>\n",
       "      <th>4</th>\n",
       "      <td>PPL 심하네</td>\n",
       "      <td>눈살이 찌푸려지죠.</td>\n",
       "      <td>0</td>\n",
       "    </tr>\n",
       "    <tr>\n",
       "      <th>...</th>\n",
       "      <td>...</td>\n",
       "      <td>...</td>\n",
       "      <td>...</td>\n",
       "    </tr>\n",
       "    <tr>\n",
       "      <th>11818</th>\n",
       "      <td>훔쳐보는 것도 눈치 보임.</td>\n",
       "      <td>티가 나니까 눈치가 보이는 거죠!</td>\n",
       "      <td>2</td>\n",
       "    </tr>\n",
       "    <tr>\n",
       "      <th>11819</th>\n",
       "      <td>훔쳐보는 것도 눈치 보임.</td>\n",
       "      <td>훔쳐보는 거 티나나봐요.</td>\n",
       "      <td>2</td>\n",
       "    </tr>\n",
       "    <tr>\n",
       "      <th>11820</th>\n",
       "      <td>흑기사 해주는 짝남.</td>\n",
       "      <td>설렜겠어요.</td>\n",
       "      <td>2</td>\n",
       "    </tr>\n",
       "    <tr>\n",
       "      <th>11821</th>\n",
       "      <td>힘든 연애 좋은 연애라는게 무슨 차이일까?</td>\n",
       "      <td>잘 헤어질 수 있는 사이 여부인 거 같아요.</td>\n",
       "      <td>2</td>\n",
       "    </tr>\n",
       "    <tr>\n",
       "      <th>11822</th>\n",
       "      <td>힘들어서 결혼할까봐</td>\n",
       "      <td>도피성 결혼은 하지 않길 바라요.</td>\n",
       "      <td>2</td>\n",
       "    </tr>\n",
       "  </tbody>\n",
       "</table>\n",
       "<p>11823 rows × 3 columns</p>\n",
       "</div>"
      ],
      "text/plain": [
       "                             Q                         A  label\n",
       "0                       12시 땡!                하루가 또 가네요.      0\n",
       "1                  1지망 학교 떨어졌어                 위로해 드립니다.      0\n",
       "2                 3박4일 놀러가고 싶다               여행은 언제나 좋죠.      0\n",
       "3              3박4일 정도 놀러가고 싶다               여행은 언제나 좋죠.      0\n",
       "4                      PPL 심하네                눈살이 찌푸려지죠.      0\n",
       "...                        ...                       ...    ...\n",
       "11818           훔쳐보는 것도 눈치 보임.        티가 나니까 눈치가 보이는 거죠!      2\n",
       "11819           훔쳐보는 것도 눈치 보임.             훔쳐보는 거 티나나봐요.      2\n",
       "11820              흑기사 해주는 짝남.                    설렜겠어요.      2\n",
       "11821  힘든 연애 좋은 연애라는게 무슨 차이일까?  잘 헤어질 수 있는 사이 여부인 거 같아요.      2\n",
       "11822               힘들어서 결혼할까봐        도피성 결혼은 하지 않길 바라요.      2\n",
       "\n",
       "[11823 rows x 3 columns]"
      ]
     },
     "execution_count": 4,
     "metadata": {},
     "output_type": "execute_result"
    }
   ],
   "source": [
    "data = pd.read_csv('./ChatbotData .csv')\n",
    "data"
   ]
  },
  {
   "cell_type": "markdown",
   "id": "65f2e934",
   "metadata": {},
   "source": [
    "- 총 11,823개의 샘플\n",
    "\n",
    "- 하나의 문장(Q)과 그에 대한 반응 문장(A), 그리고 분위기 라벨(0: 일상, 1: 부정, 2: 긍정)로 이루어진 데이터셋.\n",
    "\n",
    "- 우리는 여기서 Q, A만 사용하기로 한다."
   ]
  },
  {
   "cell_type": "markdown",
   "id": "baed3d1b",
   "metadata": {},
   "source": [
    "# Step 2. 데이터 전처리하기"
   ]
  },
  {
   "cell_type": "markdown",
   "id": "df86f2ff",
   "metadata": {},
   "source": [
    "영어 데이터와는 전혀 다른 데이터인 만큼 영어 데이터에 사용했던 전처리와 일부 동일한 전처리도 필요하겠지만 전체적으로는 다른 전처리를 수행합니다."
   ]
  },
  {
   "cell_type": "code",
   "execution_count": 5,
   "id": "974aee40",
   "metadata": {},
   "outputs": [],
   "source": [
    "# 전처리 함수\n",
    "def preprocess_sentence(sentence):\n",
    "    # 입력받은 sentence 양쪽 공백을 제거\n",
    "    sentence = sentence.strip()\n",
    "\n",
    "    # 단어와 구두점(punctuation) 사이의 거리를 만듭니다.\n",
    "    sentence = re.sub(r\"([?.!,])\", r\" \\1 \", sentence)\n",
    "    sentence = re.sub(r'[\" \"]+', \" \", sentence)\n",
    "\n",
    "    # (영문, 숫자, 한글, \"?\", \"!\")를 제외한 모든 문자를 공백인 ' '로 대체합니다.\n",
    "    sentence = re.sub(\"[^0-9a-zA-Z가-힣?!]+\", \" \", sentence)\n",
    "    sentence = sentence.strip()\n",
    "    return sentence"
   ]
  },
  {
   "cell_type": "markdown",
   "id": "587e6eaa",
   "metadata": {},
   "source": [
    "- 데이터가 모두 한 문장씩으로 이루어져 있으므로 \".\"이 의미가 없으니 삭제.\n",
    "- 간혹 등장하는 숫자와 영단어가 있으므로 영어, 숫자 살림.\n",
    "- \"!\", \"?\" 외의 특수문자는 불필요해 보이므로 삭제.\n",
    "- 처리 전후 예시 확인"
   ]
  },
  {
   "cell_type": "code",
   "execution_count": 6,
   "id": "6a95394e",
   "metadata": {
    "scrolled": false
   },
   "outputs": [
    {
     "name": "stdout",
     "output_type": "stream",
     "text": [
      "전: 12시 땡! \n",
      "후: 12시 땡 !\n",
      "==================================================\n",
      "전: 3박4일 정도 놀러가고 싶다 \n",
      "후: 3박4일 정도 놀러가고 싶다\n",
      "==================================================\n",
      "전: 떠나요~ 제주도~ \n",
      "후: 떠나요 제주도\n",
      "==================================================\n",
      "전: 밥먹자. \n",
      "후: 밥먹자\n",
      "==================================================\n",
      "전: 베터리 겨우 15%야 \n",
      "후: 베터리 겨우 15 야\n",
      "==================================================\n",
      "전: 스트레스~ \n",
      "후: 스트레스\n",
      "==================================================\n",
      "전: 새출발, 트라우마 \n",
      "후: 새출발 트라우마\n",
      "==================================================\n"
     ]
    }
   ],
   "source": [
    "for i in [0, 3, 1398, 1972, 2060, 2692, 6665]:\n",
    "    print(f'전: {data.loc[i, \"Q\"]} \\n후: {preprocess_sentence(data.loc[i, \"Q\"])}')\n",
    "    print(\"=\"*50)"
   ]
  },
  {
   "cell_type": "markdown",
   "id": "26e1034e",
   "metadata": {},
   "source": [
    "- 전처리 진행 및 문답 분리"
   ]
  },
  {
   "cell_type": "code",
   "execution_count": 7,
   "id": "f60589be",
   "metadata": {},
   "outputs": [],
   "source": [
    "questions, answers = [], []\n",
    "\n",
    "for i in range(len(data)):\n",
    "    q, a, _ = data.loc[i]\n",
    "    questions.append(preprocess_sentence(q))\n",
    "    answers.append(preprocess_sentence(a))"
   ]
  },
  {
   "cell_type": "code",
   "execution_count": 8,
   "id": "0ead21fb",
   "metadata": {},
   "outputs": [
    {
     "name": "stdout",
     "output_type": "stream",
     "text": [
      "전체 샘플 수 : 11823\n",
      "전체 샘플 수 : 11823\n"
     ]
    }
   ],
   "source": [
    "print('전체 샘플 수 :', len(questions))\n",
    "print('전체 샘플 수 :', len(answers))"
   ]
  },
  {
   "cell_type": "code",
   "execution_count": 9,
   "id": "da702544",
   "metadata": {},
   "outputs": [
    {
     "name": "stdout",
     "output_type": "stream",
     "text": [
      "전처리 후의 2060번째 질문 샘플: 베터리 겨우 15 야\n",
      "전처리 후의 2060번째 답변 샘플: 미리 충전하세요\n"
     ]
    }
   ],
   "source": [
    "idx = 2060\n",
    "print(f'전처리 후의 {idx}번째 질문 샘플: {questions[idx]}')\n",
    "print(f'전처리 후의 {idx}번째 답변 샘플: {answers[idx]}')"
   ]
  },
  {
   "cell_type": "markdown",
   "id": "912ac906",
   "metadata": {},
   "source": [
    "# Step 3. SubwordTextEncoder 사용하기"
   ]
  },
  {
   "cell_type": "markdown",
   "id": "af0c3a7a",
   "metadata": {},
   "source": [
    "한국어 데이터는 형태소 분석기를 사용하여 토크나이징을 해야 한다고 많은 분이 알고 있습니다. 하지만 여기서는 형태소 분석기가 아닌 위 실습에서 사용했던 내부 단어 토크나이저인 `SubwordTextEncoder`를 그대로 사용합니다."
   ]
  },
  {
   "cell_type": "markdown",
   "id": "03784047",
   "metadata": {},
   "source": [
    "## Tokenizing & Integer Encoding"
   ]
  },
  {
   "cell_type": "code",
   "execution_count": 10,
   "id": "28f61636",
   "metadata": {},
   "outputs": [],
   "source": [
    "# 질문과 답변 데이터셋에 대해서 Vocabulary 생성\n",
    "tokenizer = tfds.deprecated.text.SubwordTextEncoder.build_from_corpus(\n",
    "    questions + answers, target_vocab_size=2**14)"
   ]
  },
  {
   "cell_type": "markdown",
   "id": "d1a1de96",
   "metadata": {},
   "source": [
    "- 기존 `2**13`에서 `2**14`로 사이즈 증량\n",
    "- 참고자료: [당신의 코드에서 2의 제곱수가 계속 보이는 이유](https://torchtorchkimtorch.tistory.com/3)"
   ]
  },
  {
   "cell_type": "code",
   "execution_count": 11,
   "id": "09eadc42",
   "metadata": {},
   "outputs": [
    {
     "data": {
      "text/plain": [
       "21880"
      ]
     },
     "execution_count": 11,
     "metadata": {},
     "output_type": "execute_result"
    }
   ],
   "source": [
    "tokenizer.vocab_size"
   ]
  },
  {
   "cell_type": "code",
   "execution_count": 12,
   "id": "b813de4e",
   "metadata": {},
   "outputs": [
    {
     "name": "stdout",
     "output_type": "stream",
     "text": [
      "VOCAB_SIZE : 21882\n",
      "START_TOKEN의 번호 : [21880]\n",
      "END_TOKEN의 번호 : [21881]\n"
     ]
    }
   ],
   "source": [
    "# 시작 토큰과 종료 토큰에 고유한 정수를 부여합니다.\n",
    "START_TOKEN, END_TOKEN = [tokenizer.vocab_size], [tokenizer.vocab_size + 1]\n",
    "\n",
    "# 시작 토큰과 종료 토큰을 고려하여 +2를 하여 단어장의 크기를 산정합니다.\n",
    "VOCAB_SIZE = tokenizer.vocab_size + 2\n",
    "\n",
    "print('VOCAB_SIZE :', VOCAB_SIZE)\n",
    "print('START_TOKEN의 번호 :' ,[tokenizer.vocab_size])\n",
    "print('END_TOKEN의 번호 :' ,[tokenizer.vocab_size + 1])"
   ]
  },
  {
   "cell_type": "code",
   "execution_count": 13,
   "id": "6fbaf6e4",
   "metadata": {},
   "outputs": [],
   "source": [
    "def get_tokenized(inputs, outputs):\n",
    "    tokenized_inputs, tokenized_outputs = [], []\n",
    "  \n",
    "    for (sentence1, sentence2) in zip(inputs, outputs):\n",
    "        # 정수 인코딩 과정에서 시작 토큰과 종료 토큰을 추가\n",
    "        sentence1 = START_TOKEN + tokenizer.encode(sentence1) + END_TOKEN\n",
    "        sentence2 = START_TOKEN + tokenizer.encode(sentence2) + END_TOKEN\n",
    "        \n",
    "        tokenized_inputs.append(sentence1)\n",
    "        tokenized_outputs.append(sentence2)\n",
    "        \n",
    "    return tokenized_inputs, tokenized_outputs"
   ]
  },
  {
   "cell_type": "code",
   "execution_count": 14,
   "id": "1c449f7b",
   "metadata": {},
   "outputs": [
    {
     "name": "stdout",
     "output_type": "stream",
     "text": [
      "Tokenizing & Integer Encoding 후의 2060번째 질문 샘플: [21880, 4691, 1979, 9664, 3303, 21881]\n",
      "Tokenizing & Integer Encoding 후의 2060번째 답변 샘플: [21880, 484, 2051, 21881]\n"
     ]
    }
   ],
   "source": [
    "tokenized_Q, tokenized_A = get_tokenized(questions, answers)\n",
    "\n",
    "print(f'Tokenizing & Integer Encoding 후의 {idx}번째 질문 샘플: {tokenized_Q[idx]}')\n",
    "print(f'Tokenizing & Integer Encoding 후의 {idx}번째 답변 샘플: {tokenized_A[idx]}')"
   ]
  },
  {
   "cell_type": "markdown",
   "id": "7730c0ae",
   "metadata": {},
   "source": [
    "## 샘플 길이 설정"
   ]
  },
  {
   "cell_type": "markdown",
   "id": "dacaf26f",
   "metadata": {},
   "source": [
    "- 샘플들을 최대한 많이 학습 데이터로 사용하기 위해 최대 길이 확인"
   ]
  },
  {
   "cell_type": "code",
   "execution_count": 15,
   "id": "31a9f0e1",
   "metadata": {},
   "outputs": [],
   "source": [
    "# 길이 분포 출력\n",
    "def get_len_graph(questions, answers, encode=False):\n",
    "    if encode:\n",
    "        q_len = [len(s) for s in questions]\n",
    "        a_len = [len(s) for s in answers]\n",
    "    else:\n",
    "        q_len = [len(s.split()) for s in questions]\n",
    "        a_len = [len(s.split()) for s in answers]\n",
    "\n",
    "    print('질문의 최소 길이 \\t: {}'.format(np.min(q_len)))\n",
    "    print('질문의 최대 길이 \\t: {}'.format(np.max(q_len)))\n",
    "    print('질문의 평균 길이 \\t: {}'.format(np.mean(q_len)))\n",
    "    print('답변의 최소 길이 \\t: {}'.format(np.min(a_len)))\n",
    "    print('답변의 최대 길이 \\t: {}'.format(np.max(a_len)))\n",
    "    print('답변의 평균 길이 \\t: {}'.format(np.mean(a_len)))\n",
    "\n",
    "    plt.subplot(1,2,1)\n",
    "    plt.boxplot(q_len)\n",
    "    plt.title('questions')\n",
    "    plt.subplot(1,2,2)\n",
    "    plt.boxplot(a_len)\n",
    "    plt.title('answers')\n",
    "    plt.tight_layout()\n",
    "    plt.show()\n",
    "\n",
    "    plt.title('questions')\n",
    "    plt.hist(q_len, bins = 40)\n",
    "    plt.xlabel('length of samples')\n",
    "    plt.ylabel('number of samples')\n",
    "    plt.show()\n",
    "\n",
    "    plt.title('answers')\n",
    "    plt.hist(a_len, bins = 40)\n",
    "    plt.xlabel('length of samples')\n",
    "    plt.ylabel('number of samples')\n",
    "    plt.show()"
   ]
  },
  {
   "cell_type": "code",
   "execution_count": 16,
   "id": "9b364641",
   "metadata": {},
   "outputs": [
    {
     "name": "stdout",
     "output_type": "stream",
     "text": [
      "질문의 최소 길이 \t: 3\n",
      "질문의 최대 길이 \t: 18\n",
      "질문의 평균 길이 \t: 5.740505793791762\n",
      "답변의 최소 길이 \t: 3\n",
      "답변의 최대 길이 \t: 24\n",
      "답변의 평균 길이 \t: 5.721221348219572\n"
     ]
    },
    {
     "data": {
      "image/png": "[encoded data removed]",
      "text/plain": [
       "<Figure size 432x288 with 2 Axes>"
      ]
     },
     "metadata": {
      "needs_background": "light"
     },
     "output_type": "display_data"
    },
    {
     "data": {
      "image/png": "[encoded data removed]",
      "text/plain": [
       "<Figure size 432x288 with 1 Axes>"
      ]
     },
     "metadata": {
      "needs_background": "light"
     },
     "output_type": "display_data"
    },
    {
     "data": {
      "image/png": "[encoded data removed]",
      "text/plain": [
       "<Figure size 432x288 with 1 Axes>"
      ]
     },
     "metadata": {
      "needs_background": "light"
     },
     "output_type": "display_data"
    }
   ],
   "source": [
    "get_len_graph(tokenized_Q, tokenized_A, True)"
   ]
  },
  {
   "cell_type": "code",
   "execution_count": 17,
   "id": "0eeaf93b",
   "metadata": {},
   "outputs": [],
   "source": [
    "MAX_LENGTH = 24"
   ]
  },
  {
   "cell_type": "markdown",
   "id": "c70a879e",
   "metadata": {},
   "source": [
    "## Padding"
   ]
  },
  {
   "cell_type": "code",
   "execution_count": 18,
   "id": "e3e2db7e",
   "metadata": {},
   "outputs": [],
   "source": [
    "def get_padding(tokenized_samples, max_length):\n",
    "    padded_samples = tf.keras.preprocessing.sequence.pad_sequences(\n",
    "        tokenized_samples, maxlen=max_length, padding='post')\n",
    "    return padded_samples"
   ]
  },
  {
   "cell_type": "code",
   "execution_count": 19,
   "id": "f4986fe7",
   "metadata": {},
   "outputs": [
    {
     "name": "stdout",
     "output_type": "stream",
     "text": [
      "패딩 후의 2060번째 질문 샘플: [21880  4691  1979  9664  3303 21881     0     0     0     0     0     0\n",
      "     0     0     0     0     0     0     0     0     0     0     0     0]\n",
      "패딩 후의 2060번째 답변 샘플: [21880   484  2051 21881     0     0     0     0     0     0     0     0\n",
      "     0     0     0     0     0     0     0     0     0     0     0     0]\n"
     ]
    }
   ],
   "source": [
    "tokenized_Q = get_padding(tokenized_Q, MAX_LENGTH)\n",
    "tokenized_A = get_padding(tokenized_A, MAX_LENGTH)\n",
    "\n",
    "print(f'패딩 후의 {idx}번째 질문 샘플: {tokenized_Q[idx]}')\n",
    "print(f'패딩 후의 {idx}번째 답변 샘플: {tokenized_A[idx]}')"
   ]
  },
  {
   "cell_type": "code",
   "execution_count": 20,
   "id": "57dec7f4",
   "metadata": {},
   "outputs": [
    {
     "data": {
      "text/plain": [
       "((11823, 24), (11823, 24))"
      ]
     },
     "execution_count": 20,
     "metadata": {},
     "output_type": "execute_result"
    }
   ],
   "source": [
    "tokenized_Q.shape, tokenized_A.shape"
   ]
  },
  {
   "cell_type": "markdown",
   "id": "62d882cb",
   "metadata": {},
   "source": [
    "## Teacher Forcing"
   ]
  },
  {
   "cell_type": "code",
   "execution_count": 21,
   "id": "ea32186f",
   "metadata": {},
   "outputs": [],
   "source": [
    "BATCH_SIZE = 64\n",
    "BUFFER_SIZE = len(tokenized_Q)\n",
    "\n",
    "# 디코더는 이전의 target을 다음의 input으로 사용.\n",
    "# 이에 따라 outputs에서는 START_TOKEN을 제거.\n",
    "dataset = tf.data.Dataset.from_tensor_slices((\n",
    "    {\n",
    "        'inputs': tokenized_Q,\n",
    "        'dec_inputs': tokenized_A[:, :-1]\n",
    "    },\n",
    "    {\n",
    "        'outputs': tokenized_A[:, 1:]\n",
    "    },\n",
    "))\n",
    "\n",
    "dataset = dataset.cache()\n",
    "dataset = dataset.shuffle(BUFFER_SIZE)\n",
    "dataset = dataset.batch(BATCH_SIZE)\n",
    "dataset = dataset.prefetch(tf.data.experimental.AUTOTUNE)"
   ]
  },
  {
   "cell_type": "markdown",
   "id": "bc412808",
   "metadata": {},
   "source": [
    "# Step 4. 모델 구성하기"
   ]
  },
  {
   "cell_type": "markdown",
   "id": "5fd74c96",
   "metadata": {},
   "source": [
    "위 실습 내용을 참고하여 트랜스포머 모델을 구현합니다."
   ]
  },
  {
   "cell_type": "markdown",
   "id": "27e583f3",
   "metadata": {},
   "source": [
    "## Scaled Dot Product Attention"
   ]
  },
  {
   "cell_type": "code",
   "execution_count": 22,
   "id": "1fc57193",
   "metadata": {},
   "outputs": [],
   "source": [
    "def scaled_dot_product_attention(query, key, value, mask):\n",
    "    # 어텐션 가중치는 Q와 K의 닷 프로덕트\n",
    "    matmul_qk = tf.matmul(query, key, transpose_b=True)\n",
    "\n",
    "    # 가중치를 정규화\n",
    "    depth = tf.cast(tf.shape(key)[-1], tf.float32)\n",
    "    logits = matmul_qk / tf.math.sqrt(depth)\n",
    "\n",
    "    # 패딩에 마스크 추가\n",
    "    if mask is not None:\n",
    "        logits += (mask * -1e9)\n",
    "\n",
    "    # softmax적용\n",
    "    attention_weights = tf.nn.softmax(logits, axis=-1)\n",
    "\n",
    "    # 최종 어텐션은 가중치와 V의 닷 프로덕트\n",
    "    output = tf.matmul(attention_weights, value)\n",
    "    return output"
   ]
  },
  {
   "cell_type": "markdown",
   "id": "7c831b53",
   "metadata": {},
   "source": [
    "## Multi Head Attention"
   ]
  },
  {
   "cell_type": "code",
   "execution_count": 23,
   "id": "bc91ec75",
   "metadata": {},
   "outputs": [],
   "source": [
    "class MultiHeadAttention(tf.keras.layers.Layer):\n",
    "\n",
    "    def __init__(self, d_model, num_heads, name=\"multi_head_attention\"):\n",
    "        super(MultiHeadAttention, self).__init__(name=name)\n",
    "        self.num_heads = num_heads\n",
    "        self.d_model = d_model\n",
    "\n",
    "        assert d_model % self.num_heads == 0\n",
    "\n",
    "        self.depth = d_model // self.num_heads\n",
    "\n",
    "        self.query_dense = tf.keras.layers.Dense(units=d_model)\n",
    "        self.key_dense = tf.keras.layers.Dense(units=d_model)\n",
    "        self.value_dense = tf.keras.layers.Dense(units=d_model)\n",
    "\n",
    "        self.dense = tf.keras.layers.Dense(units=d_model)\n",
    "\n",
    "    def split_heads(self, inputs, batch_size):\n",
    "        inputs = tf.reshape(\n",
    "            inputs, shape=(batch_size, -1, self.num_heads, self.depth))\n",
    "        return tf.transpose(inputs, perm=[0, 2, 1, 3])\n",
    "\n",
    "    def call(self, inputs):\n",
    "        query, key, value, mask = inputs['query'], inputs['key'], inputs[\n",
    "            'value'], inputs['mask']\n",
    "        batch_size = tf.shape(query)[0]\n",
    "\n",
    "        # Q, K, V에 각각 Dense를 적용합니다\n",
    "        query = self.query_dense(query) # [[YOUR CODE]]\n",
    "        key = self.key_dense(key) # [[YOUR CODE]]\n",
    "        value = self.value_dense(value) # [[YOUR CODE]]\n",
    "\n",
    "        # 병렬 연산을 위한 머리를 여러 개 만듭니다\n",
    "        query = self.split_heads(query, batch_size) # [[YOUR CODE]]\n",
    "        key = self.split_heads(key, batch_size) # [[YOUR CODE]]\n",
    "        value = self.split_heads(value, batch_size) # [[YOUR CODE]]\n",
    "\n",
    "        # 스케일드 닷 프로덕트 어텐션 함수\n",
    "        scaled_attention = scaled_dot_product_attention(query, key, value, mask)\n",
    "\n",
    "        scaled_attention = tf.transpose(scaled_attention, perm=[0, 2, 1, 3])\n",
    "\n",
    "        # 어텐션 연산 후에 각 결과를 다시 연결(concatenate)합니다\n",
    "        concat_attention = tf.reshape(scaled_attention,\n",
    "                                      (batch_size, -1, self.d_model))\n",
    "\n",
    "        # 최종 결과에도 Dense를 한 번 더 적용합니다\n",
    "        outputs = self.dense(concat_attention)\n",
    "\n",
    "        return outputs"
   ]
  },
  {
   "cell_type": "markdown",
   "id": "8251a2ff",
   "metadata": {},
   "source": [
    "## Padding Masking"
   ]
  },
  {
   "cell_type": "code",
   "execution_count": 24,
   "id": "39097f0b",
   "metadata": {},
   "outputs": [],
   "source": [
    "def create_padding_mask(x):\n",
    "    mask = tf.cast(tf.math.equal(x, 0), tf.float32)\n",
    "    # (batch_size, 1, 1, sequence length)\n",
    "    return mask[:, tf.newaxis, tf.newaxis, :]\n",
    "\n",
    "\n",
    "def create_look_ahead_mask(x):\n",
    "    seq_len = tf.shape(x)[1]\n",
    "    look_ahead_mask = 1 - tf.linalg.band_part(tf.ones((seq_len, seq_len)), -1, 0)\n",
    "    padding_mask = create_padding_mask(x)\n",
    "    return tf.maximum(look_ahead_mask, padding_mask)"
   ]
  },
  {
   "cell_type": "markdown",
   "id": "1eb2aa12",
   "metadata": {},
   "source": [
    "## Positional Encoding"
   ]
  },
  {
   "cell_type": "code",
   "execution_count": 25,
   "id": "94e0ee72",
   "metadata": {},
   "outputs": [],
   "source": [
    "class PositionalEncoding(tf.keras.layers.Layer):\n",
    "    def __init__(self, position, d_model):\n",
    "        super(PositionalEncoding, self).__init__()\n",
    "        # positional_encoding 함수를 호출하여 포지셔널 인코딩 행렬을 생성하고 저장합니다.\n",
    "        # position: 문장의 최대 길이 또는 임베딩될 수 있는 최대 위치의 수\n",
    "        # d_model: 임베딩 벡터의 차원\n",
    "        self.pos_encoding = self.positional_encoding(position, d_model)\n",
    "\n",
    "    # 각도(angle)를 계산하는 함수입니다.\n",
    "    # position: 현재 단어의 위치\n",
    "    # i: 임베딩 벡터 내의 차원 인덱스\n",
    "    # d_model: 임베딩 벡터의 차원\n",
    "    def get_angles(self, position, i, d_model):\n",
    "        # 10000의 (2 * (i // 2)) / d_model 제곱으로 나누어지는 값을 계산합니다.\n",
    "        # 이는 주파수가 점차 감소하는 사인 및 코사인 함수의 주기를 결정합니다.\n",
    "        angles = 1 / tf.pow(10000, (2 * (i // 2)) / tf.cast(d_model, tf.float32))\n",
    "        # 현재 위치와 계산된 각도를 곱하여 최종 각도 값을 얻습니다.\n",
    "        return position * angles\n",
    "\n",
    "      \n",
    "    # 포지셔널 인코딩 행렬을 생성하는 함수입니다.\n",
    "    # position: 문장의 최대 길이 또는 임베딩될 수 있는 최대 위치의 수\n",
    "    # d_model: 임베딩 벡터의 차원\n",
    "    def positional_encoding(self, position, d_model):\n",
    "        # 각도 배열을 생성합니다.\n",
    "        # position 축에는 0부터 position-1까지의 값을 가집니다.\n",
    "        # i 축에는 0부터 d_model-1까지의 값을 가집니다.\n",
    "        angle_rads = self.get_angles(\n",
    "            position=tf.range(position, dtype=tf.float32)[:, tf.newaxis],\n",
    "            i=tf.range(d_model, dtype=tf.float32)[tf.newaxis, :],\n",
    "            d_model=d_model)\n",
    "\n",
    "        # 배열의 짝수 인덱스(2i)에는 사인 함수를 적용합니다.\n",
    "        sines = tf.math.sin(angle_rads[:, 0::2])\n",
    "        # 배열의 홀수 인덱스(2i+1)에는 코사인 함수를 적용합니다.\n",
    "        cosines = tf.math.cos(angle_rads[:, 1::2])\n",
    "\n",
    "        # 사인과 코사인 값을 번갈아 가며 쌓습니다.\n",
    "        pos_encoding = tf.stack([sines, cosines], axis=0)\n",
    "        # [2, position, d_model/2] 형태를 [position, d_model/2, 2] 형태로 transpose 합니다.\n",
    "        pos_encoding = tf.transpose(pos_encoding,[1, 2, 0])\n",
    "        # [position, d_model/2, 2] 형태를 [position, d_model] 형태로 reshape 합니다.\n",
    "        pos_encoding = tf.reshape(pos_encoding, [position, d_model])\n",
    "\n",
    "        # 배치 차원을 추가하여 [1, position, d_model] 형태로 만듭니다.\n",
    "        pos_encoding = pos_encoding[tf.newaxis, ...]\n",
    "        # 데이터 타입을 float32로 변환하여 반환합니다.\n",
    "        return tf.cast(pos_encoding, tf.float32)\n",
    "    \n",
    "    \n",
    "        # Layer의 call 메소드입니다. 입력 텐서에 포지셔널 인코딩을 더하여 반환합니다.\n",
    "        # inputs: 입력 텐서 (일반적으로 단어 임베딩)\n",
    "    def call(self, inputs):\n",
    "        # 입력 텐서의 두 번째 차원(sequence length)만큼 포지셔널 인코딩을 잘라서 더합니다.\n",
    "        return inputs + self.pos_encoding[:, :tf.shape(inputs)[1], :]"
   ]
  },
  {
   "cell_type": "markdown",
   "id": "30e98a1d",
   "metadata": {},
   "source": [
    "## Encoder"
   ]
  },
  {
   "cell_type": "code",
   "execution_count": 26,
   "id": "e575295e",
   "metadata": {},
   "outputs": [],
   "source": [
    "def encoder_layer(units, d_model, num_heads, dropout, name=\"encoder_layer\"):\n",
    "    inputs = tf.keras.Input(shape=(None, d_model), name=\"inputs\")\n",
    "\n",
    "    # 패딩 마스크 사용\n",
    "    padding_mask = tf.keras.Input(shape=(1, 1, None), name=\"padding_mask\")\n",
    "\n",
    "    # 첫 번째 서브 레이어 : 멀티 헤드 어텐션 수행 (셀프 어텐션)\n",
    "    attention = MultiHeadAttention(\n",
    "        d_model, num_heads, name=\"attention\")({'query': inputs,\n",
    "                                               'key': inputs,\n",
    "                                               'value': inputs,\n",
    "                                               'mask': padding_mask})\n",
    "\n",
    "    # 어텐션의 결과는 Dropout과 Layer Normalization이라는 훈련을 돕는 테크닉을 수행\n",
    "    attention = tf.keras.layers.Dropout(rate=dropout)(attention)\n",
    "    attention = tf.keras.layers.LayerNormalization(epsilon=1e-6)(inputs + attention)\n",
    "\n",
    "    # 두 번째 서브 레이어 : 2개의 완전연결층\n",
    "    outputs = tf.keras.layers.Dense(units=units, activation='relu')(attention)\n",
    "    outputs = tf.keras.layers.Dense(units=d_model)(outputs)\n",
    "\n",
    "    # 완전연결층의 결과는 Dropout과 LayerNormalization이라는 훈련을 돕는 테크닉을 수행\n",
    "    outputs = tf.keras.layers.Dropout(rate=dropout)(outputs)\n",
    "    outputs = tf.keras.layers.LayerNormalization(epsilon=1e-6)(attention + outputs)\n",
    "\n",
    "    return tf.keras.Model(inputs=[inputs, padding_mask], outputs=outputs, name=name)\n",
    "\n",
    "\n",
    "def encoder(vocab_size, num_layers, units, d_model, num_heads, dropout, name=\"encoder\"):\n",
    "    inputs = tf.keras.Input(shape=(None,), name=\"inputs\")\n",
    "    \n",
    "    # 패딩 마스크 사용\n",
    "    padding_mask = tf.keras.Input(shape=(1, 1, None), name=\"padding_mask\")\n",
    "    \n",
    "    # 임베딩 레이어\n",
    "    embeddings = tf.keras.layers.Embedding(vocab_size, d_model)(inputs)\n",
    "    embeddings *= tf.math.sqrt(tf.cast(d_model, tf.float32))\n",
    "\n",
    "    # 포지셔널 인코딩\n",
    "    embeddings = PositionalEncoding(vocab_size, d_model)(embeddings)\n",
    "\n",
    "    outputs = tf.keras.layers.Dropout(rate=dropout)(embeddings)\n",
    "\n",
    "    # num_layers만큼 쌓아올린 인코더의 층.\n",
    "    for i in range(num_layers):\n",
    "        outputs = encoder_layer(units=units,\n",
    "                                d_model=d_model,\n",
    "                                num_heads=num_heads,\n",
    "                                dropout=dropout,\n",
    "                                name=\"encoder_layer_{}\".format(i), )([outputs, padding_mask])\n",
    "\n",
    "    return tf.keras.Model(inputs=[inputs, padding_mask], outputs=outputs, name=name)"
   ]
  },
  {
   "cell_type": "markdown",
   "id": "604681e8",
   "metadata": {},
   "source": [
    "## Decoder"
   ]
  },
  {
   "cell_type": "code",
   "execution_count": 27,
   "id": "d29c0b6c",
   "metadata": {},
   "outputs": [],
   "source": [
    "def decoder_layer(units, d_model, num_heads, dropout, name=\"decoder_layer\"):\n",
    "    inputs = tf.keras.Input(shape=(None, d_model), name=\"inputs\")\n",
    "    enc_outputs = tf.keras.Input(shape=(None, d_model), name=\"encoder_outputs\")\n",
    "    look_ahead_mask = tf.keras.Input(shape=(1, None, None), name=\"look_ahead_mask\")\n",
    "    padding_mask = tf.keras.Input(shape=(1, 1, None), name='padding_mask')\n",
    "\n",
    "    # 첫 번째 서브 레이어 : look_ahead_mask를 사용한 멀티 헤드 어텐션 수행 (셀프 어텐션)\n",
    "    attention1 = MultiHeadAttention(\n",
    "        d_model, num_heads, name=\"attention_1\")(inputs={'query': inputs,\n",
    "                                                        'key': inputs,\n",
    "                                                        'value': inputs,\n",
    "                                                        'mask': look_ahead_mask})\n",
    "\n",
    "    # 멀티 헤드 어텐션의 결과는 LayerNormalization이라는 훈련을 돕는 테크닉을 수행\n",
    "    attention1 = tf.keras.layers.LayerNormalization(epsilon=1e-6)(attention1 + inputs)\n",
    "\n",
    "    # 두 번째 서브 레이어 : \n",
    "    # 인코더 출력을 Key와 Value로 사용한 멀티 헤드 어텐션 수행 (인코더-디코더 어텐션)\n",
    "    attention2 = MultiHeadAttention(\n",
    "        d_model, num_heads, name=\"attention_2\")(inputs={'query': attention1,\n",
    "                                                        'key': enc_outputs,\n",
    "                                                        'value': enc_outputs,\n",
    "                                                        'mask': padding_mask})\n",
    "\n",
    "    # 마스크드 멀티 헤드 어텐션의 결과는\n",
    "    # Dropout과 LayerNormalization이라는 훈련을 돕는 테크닉을 수행\n",
    "    attention2 = tf.keras.layers.Dropout(rate=dropout)(attention2)\n",
    "    attention2 = tf.keras.layers.LayerNormalization(epsilon=1e-6)(attention2 + attention1)\n",
    "\n",
    "    # 세 번째 서브 레이어 : 2개의 완전연결층\n",
    "    outputs = tf.keras.layers.Dense(units=units, activation='relu')(attention2)\n",
    "    outputs = tf.keras.layers.Dense(units=d_model)(outputs)\n",
    "\n",
    "    # 완전연결층의 결과는 Dropout과 LayerNormalization 수행\n",
    "    outputs = tf.keras.layers.Dropout(rate=dropout)(outputs)\n",
    "    outputs = tf.keras.layers.LayerNormalization(epsilon=1e-6)(outputs + attention2)\n",
    "\n",
    "    return tf.keras.Model(inputs=[inputs, enc_outputs, look_ahead_mask, padding_mask],\n",
    "                          outputs=outputs, name=name)\n",
    "\n"
   ]
  },
  {
   "cell_type": "code",
   "execution_count": 28,
   "id": "db7efcfd",
   "metadata": {},
   "outputs": [],
   "source": [
    "def decoder(vocab_size, num_layers, units, d_model, num_heads, dropout, name='decoder'):\n",
    "    inputs = tf.keras.Input(shape=(None,), name='inputs')\n",
    "    enc_outputs = tf.keras.Input(shape=(None, d_model), name='encoder_outputs')\n",
    "    look_ahead_mask = tf.keras.Input(shape=(1, None, None), name='look_ahead_mask')\n",
    "\n",
    "    # 패딩 마스크\n",
    "    padding_mask = tf.keras.Input(shape=(1, 1, None), name='padding_mask')\n",
    "  \n",
    "    # 임베딩 레이어\n",
    "    embeddings = tf.keras.layers.Embedding(vocab_size, d_model)(inputs)\n",
    "    embeddings *= tf.math.sqrt(tf.cast(d_model, tf.float32))\n",
    "\n",
    "    # 포지셔널 인코딩\n",
    "    embeddings = PositionalEncoding(vocab_size, d_model)(embeddings)\n",
    "\n",
    "    # Dropout이라는 훈련을 돕는 테크닉을 수행\n",
    "    outputs = tf.keras.layers.Dropout(rate=dropout)(embeddings)\n",
    "\n",
    "    for i in range(num_layers):\n",
    "        outputs = decoder_layer(units=units,\n",
    "                                d_model=d_model,\n",
    "                                num_heads=num_heads,\n",
    "                                dropout=dropout,\n",
    "                                name='decoder_layer_{}'.format(i),\n",
    "                                )(inputs=[outputs, enc_outputs, look_ahead_mask, padding_mask])\n",
    "    \n",
    "    return tf.keras.Model(inputs=[inputs, enc_outputs, look_ahead_mask, padding_mask],\n",
    "                          outputs=outputs, name=name)"
   ]
  },
  {
   "cell_type": "markdown",
   "id": "cf93dcf6",
   "metadata": {},
   "source": [
    "## Transformer"
   ]
  },
  {
   "cell_type": "code",
   "execution_count": 29,
   "id": "e7ba8244",
   "metadata": {},
   "outputs": [],
   "source": [
    "def transformer(vocab_size, num_layers, units, d_model, num_heads, dropout, name=\"transformer\"):\n",
    "    inputs = tf.keras.Input(shape=(None,), name=\"inputs\")\n",
    "    dec_inputs = tf.keras.Input(shape=(None,), name=\"dec_inputs\")\n",
    "\n",
    "    # 인코더에서 패딩을 위한 마스크\n",
    "    enc_padding_mask = tf.keras.layers.Lambda(\n",
    "        create_padding_mask, output_shape=(1, 1, None),\n",
    "        name='enc_padding_mask')(inputs)\n",
    "\n",
    "    # 디코더에서 미래의 토큰을 마스크 하기 위해서 사용합니다.\n",
    "    # 내부적으로 패딩 마스크도 포함되어져 있습니다.\n",
    "    look_ahead_mask = tf.keras.layers.Lambda(\n",
    "        create_look_ahead_mask,\n",
    "        output_shape=(1, None, None),\n",
    "        name='look_ahead_mask')(dec_inputs)\n",
    "\n",
    "    # 두 번째 어텐션 블록에서 인코더의 벡터들을 마스킹\n",
    "    # 디코더에서 패딩을 위한 마스크\n",
    "    dec_padding_mask = tf.keras.layers.Lambda(\n",
    "        create_padding_mask, output_shape=(1, 1, None),\n",
    "        name='dec_padding_mask')(inputs)\n",
    "\n",
    "    # 인코더\n",
    "    enc_outputs = encoder(vocab_size=vocab_size,\n",
    "                          num_layers=num_layers,\n",
    "                          units=units,\n",
    "                          d_model=d_model,\n",
    "                          num_heads=num_heads,\n",
    "                          dropout=dropout,)(inputs=[inputs, enc_padding_mask])\n",
    "\n",
    "    # 디코더\n",
    "    dec_outputs = decoder(vocab_size=vocab_size,\n",
    "                          num_layers=num_layers,\n",
    "                          units=units,\n",
    "                          d_model=d_model,\n",
    "                          num_heads=num_heads,\n",
    "                          dropout=dropout,\n",
    "                          )(inputs=[dec_inputs, enc_outputs, look_ahead_mask, dec_padding_mask])\n",
    "\n",
    "    # 완전연결층\n",
    "    outputs = tf.keras.layers.Dense(units=vocab_size, name=\"outputs\")(dec_outputs)\n",
    "\n",
    "    return tf.keras.Model(inputs=[inputs, dec_inputs], outputs=outputs, name=name)"
   ]
  },
  {
   "cell_type": "markdown",
   "id": "552a5ace",
   "metadata": {},
   "source": [
    "## Modeling"
   ]
  },
  {
   "cell_type": "code",
   "execution_count": 30,
   "id": "c6ddbb30",
   "metadata": {},
   "outputs": [
    {
     "name": "stdout",
     "output_type": "stream",
     "text": [
      "Model: \"transformer\"\n",
      "__________________________________________________________________________________________________\n",
      "Layer (type)                    Output Shape         Param #     Connected to                     \n",
      "==================================================================================================\n",
      "inputs (InputLayer)             [(None, None)]       0                                            \n",
      "__________________________________________________________________________________________________\n",
      "dec_inputs (InputLayer)         [(None, None)]       0                                            \n",
      "__________________________________________________________________________________________________\n",
      "enc_padding_mask (Lambda)       (None, 1, 1, None)   0           inputs[0][0]                     \n",
      "__________________________________________________________________________________________________\n",
      "encoder (Functional)            (None, None, 256)    6656000     inputs[0][0]                     \n",
      "                                                                 enc_padding_mask[0][0]           \n",
      "__________________________________________________________________________________________________\n",
      "look_ahead_mask (Lambda)        (None, 1, None, None 0           dec_inputs[0][0]                 \n",
      "__________________________________________________________________________________________________\n",
      "dec_padding_mask (Lambda)       (None, 1, 1, None)   0           inputs[0][0]                     \n",
      "__________________________________________________________________________________________________\n",
      "decoder (Functional)            (None, None, 256)    7183360     dec_inputs[0][0]                 \n",
      "                                                                 encoder[0][0]                    \n",
      "                                                                 look_ahead_mask[0][0]            \n",
      "                                                                 dec_padding_mask[0][0]           \n",
      "__________________________________________________________________________________________________\n",
      "outputs (Dense)                 (None, None, 21882)  5623674     decoder[0][0]                    \n",
      "==================================================================================================\n",
      "Total params: 19,463,034\n",
      "Trainable params: 19,463,034\n",
      "Non-trainable params: 0\n",
      "__________________________________________________________________________________________________\n"
     ]
    }
   ],
   "source": [
    "tf.keras.backend.clear_session()\n",
    "\n",
    "# 하이퍼파라미터\n",
    "NUM_LAYERS = 2 # 인코더와 디코더의 층의 개수\n",
    "D_MODEL = 256 # 인코더와 디코더 내부의 입, 출력의 고정 차원\n",
    "NUM_HEADS = 8 # 멀티 헤드 어텐션에서의 헤드 수 \n",
    "UNITS = 512 # 피드 포워드 신경망의 은닉층의 크기\n",
    "DROPOUT = 0.1 # 드롭아웃의 비율\n",
    "\n",
    "model = transformer(\n",
    "    vocab_size=VOCAB_SIZE,\n",
    "    num_layers=NUM_LAYERS,\n",
    "    units=UNITS,\n",
    "    d_model=D_MODEL,\n",
    "    num_heads=NUM_HEADS,\n",
    "    dropout=DROPOUT)\n",
    "\n",
    "model.summary()"
   ]
  },
  {
   "cell_type": "markdown",
   "id": "6cbd3fdb",
   "metadata": {},
   "source": [
    "## Loss function"
   ]
  },
  {
   "cell_type": "code",
   "execution_count": 31,
   "id": "5fab4503",
   "metadata": {},
   "outputs": [],
   "source": [
    "def loss_function(y_true, y_pred):\n",
    "    y_true = tf.reshape(y_true, shape=(-1, MAX_LENGTH - 1))\n",
    "\n",
    "    loss = tf.keras.losses.SparseCategoricalCrossentropy(\n",
    "        from_logits=True, reduction='none')(y_true, y_pred)\n",
    "\n",
    "    mask = tf.cast(tf.not_equal(y_true, 0), tf.float32)\n",
    "    loss = tf.multiply(loss, mask)\n",
    "\n",
    "    return tf.reduce_mean(loss)"
   ]
  },
  {
   "cell_type": "markdown",
   "id": "d0145d96",
   "metadata": {},
   "source": [
    "## Learning rate"
   ]
  },
  {
   "cell_type": "code",
   "execution_count": 32,
   "id": "bf785c7d",
   "metadata": {},
   "outputs": [],
   "source": [
    "class CustomSchedule(tf.keras.optimizers.schedules.LearningRateSchedule):\n",
    "\n",
    "    def __init__(self, d_model, warmup_steps=4000):\n",
    "        super(CustomSchedule, self).__init__()\n",
    "\n",
    "        self.d_model = d_model\n",
    "        self.d_model = tf.cast(self.d_model, tf.float32)\n",
    "\n",
    "        self.warmup_steps = warmup_steps\n",
    "\n",
    "    def __call__(self, step):\n",
    "        arg1 = tf.math.rsqrt(step)\n",
    "        arg2 = step * (self.warmup_steps**-1.5)\n",
    "\n",
    "        return tf.math.rsqrt(self.d_model) * tf.math.minimum(arg1, arg2)"
   ]
  },
  {
   "cell_type": "markdown",
   "id": "8bfd5363",
   "metadata": {},
   "source": [
    "## Compile"
   ]
  },
  {
   "cell_type": "code",
   "execution_count": 33,
   "id": "d6c309b2",
   "metadata": {},
   "outputs": [],
   "source": [
    "learning_rate = CustomSchedule(D_MODEL)\n",
    "\n",
    "optimizer = tf.keras.optimizers.Adam(\n",
    "    learning_rate, beta_1=0.9, beta_2=0.98, epsilon=1e-9)\n",
    "\n",
    "def accuracy(y_true, y_pred):\n",
    "    y_true = tf.reshape(y_true, shape=(-1, MAX_LENGTH - 1))\n",
    "    return tf.keras.metrics.sparse_categorical_accuracy(y_true, y_pred)\n",
    "\n",
    "model.compile(optimizer=optimizer, loss=loss_function, metrics=[accuracy])"
   ]
  },
  {
   "cell_type": "markdown",
   "id": "ee70f93e",
   "metadata": {},
   "source": [
    "## Train"
   ]
  },
  {
   "cell_type": "code",
   "execution_count": 34,
   "id": "a99f3ef4",
   "metadata": {},
   "outputs": [
    {
     "name": "stdout",
     "output_type": "stream",
     "text": [
      "Epoch 1/15\n",
      "185/185 [==============================] - 37s 68ms/step - loss: 1.9356 - accuracy: 0.0352\n",
      "Epoch 2/15\n",
      "185/185 [==============================] - 12s 67ms/step - loss: 1.6108 - accuracy: 0.0435\n",
      "Epoch 3/15\n",
      "185/185 [==============================] - 13s 68ms/step - loss: 1.3962 - accuracy: 0.0435\n",
      "Epoch 4/15\n",
      "185/185 [==============================] - 13s 68ms/step - loss: 1.3011 - accuracy: 0.0455\n",
      "Epoch 5/15\n",
      "185/185 [==============================] - 13s 69ms/step - loss: 1.2076 - accuracy: 0.0509\n",
      "Epoch 6/15\n",
      "185/185 [==============================] - 13s 69ms/step - loss: 1.1207 - accuracy: 0.0564\n",
      "Epoch 7/15\n",
      "185/185 [==============================] - 13s 70ms/step - loss: 1.0263 - accuracy: 0.0638\n",
      "Epoch 8/15\n",
      "185/185 [==============================] - 13s 71ms/step - loss: 0.9211 - accuracy: 0.0744\n",
      "Epoch 9/15\n",
      "185/185 [==============================] - 13s 71ms/step - loss: 0.8096 - accuracy: 0.0875\n",
      "Epoch 10/15\n",
      "185/185 [==============================] - 13s 71ms/step - loss: 0.6915 - accuracy: 0.1017\n",
      "Epoch 11/15\n",
      "185/185 [==============================] - 13s 70ms/step - loss: 0.5712 - accuracy: 0.1164\n",
      "Epoch 12/15\n",
      "185/185 [==============================] - 13s 70ms/step - loss: 0.4550 - accuracy: 0.1312\n",
      "Epoch 13/15\n",
      "185/185 [==============================] - 13s 70ms/step - loss: 0.3489 - accuracy: 0.1463\n",
      "Epoch 14/15\n",
      "185/185 [==============================] - 13s 71ms/step - loss: 0.2566 - accuracy: 0.1600\n",
      "Epoch 15/15\n",
      "185/185 [==============================] - 13s 71ms/step - loss: 0.1828 - accuracy: 0.1727\n"
     ]
    },
    {
     "data": {
      "text/plain": [
       "<keras.callbacks.History at 0x73ca574bbb20>"
      ]
     },
     "execution_count": 34,
     "metadata": {},
     "output_type": "execute_result"
    }
   ],
   "source": [
    "EPOCHS = 15\n",
    "model.fit(dataset, epochs=EPOCHS, verbose=1)"
   ]
  },
  {
   "cell_type": "markdown",
   "id": "923b981b",
   "metadata": {},
   "source": [
    "- Loss가 진동없이 Epoch마다 꾸준히 감소하여 약 90% 감소했다.\n",
    "- Acc역시 진동없이 꾸준히 상승하였다."
   ]
  },
  {
   "cell_type": "markdown",
   "id": "8a0eb705",
   "metadata": {},
   "source": [
    "# Step 5. 모델 평가하기"
   ]
  },
  {
   "cell_type": "markdown",
   "id": "7e46d363",
   "metadata": {},
   "source": [
    "Step 1에서 선택한 전처리 방법을 고려하여 입력된 문장에 대해서 대답을 얻는 예측 함수를 만듭니다."
   ]
  },
  {
   "cell_type": "code",
   "execution_count": 35,
   "id": "f46132b8",
   "metadata": {},
   "outputs": [],
   "source": [
    "def decoder_inference(sentence):\n",
    "    # 1. 새로운 입력 문장에 대해서는 훈련 때와 동일한 전처리를 거친다.\n",
    "    sentence = preprocess_sentence(sentence)\n",
    "\n",
    "    # 2. 입력된 문장을 정수 인코딩 후, 시작 토큰과 종료 토큰을 앞뒤로 추가.\n",
    "    sentence = tf.expand_dims(\n",
    "        START_TOKEN + tokenizer.encode(sentence) + END_TOKEN, axis=0)\n",
    "\n",
    "    # 디코더의 현재까지의 예측한 출력 시퀀스가 지속적으로 저장되는 변수.\n",
    "    # 처음에는 예측한 내용이 없음으로 시작 토큰만 별도 저장.\n",
    "    output_sequence = tf.expand_dims(START_TOKEN, 0)\n",
    "\n",
    "    # 디코더의 인퍼런스 단계\n",
    "    for i in range(MAX_LENGTH):\n",
    "        # 디코더는 최대 MAX_LENGTH의 길이만큼 다음 단어 예측을 반복.\n",
    "        predictions = model(inputs=[sentence, output_sequence], training=False)\n",
    "        predictions = predictions[:, -1:, :]\n",
    "\n",
    "        # 현재 예측한 단어의 정수\n",
    "        predicted_id = tf.cast(tf.argmax(predictions, axis=-1), tf.int32)\n",
    "\n",
    "        # 만약 현재 예측한 단어가 종료 토큰이라면 for문을 종료\n",
    "        if tf.equal(predicted_id, END_TOKEN[0]):\n",
    "            break\n",
    "\n",
    "        # 예측한 단어들은 지속적으로 output_sequence에 추가.\n",
    "        # 이 output_sequence는 다시 디코더의 입력이 됩니다.\n",
    "        output_sequence = tf.concat([output_sequence, predicted_id], axis=-1)\n",
    "\n",
    "    return tf.squeeze(output_sequence, axis=0)\n",
    "\n",
    "def sentence_generation(sentence, show=True):\n",
    "    # 입력 문장에 대해서 디코더를 동작 시켜 예측된 정수 시퀀스를 리턴받습니다.\n",
    "    prediction = decoder_inference(sentence)\n",
    "\n",
    "    # 정수 시퀀스를 다시 텍스트 시퀀스로 변환합니다.\n",
    "    predicted_sentence = tokenizer.decode(\n",
    "        [i for i in prediction if i < tokenizer.vocab_size])\n",
    "\n",
    "    if show:\n",
    "        print('입력 : {}'.format(sentence))\n",
    "        print('출력 : {}'.format(predicted_sentence))\n",
    "    else:\n",
    "        return predicted_sentence\n"
   ]
  },
  {
   "cell_type": "code",
   "execution_count": 36,
   "id": "2cf677a9",
   "metadata": {},
   "outputs": [],
   "source": [
    "# 데이터셋 원본 답변과 모델의 답변을 비교 출력\n",
    "def compare2original(start_idx, num_samples):\n",
    "    for idx in range(start_idx, start_idx + num_samples):\n",
    "        q, a, _ = data.loc[idx]\n",
    "        print(f\"입  력: {q}\")\n",
    "        print(f\"원본답: {a}\")\n",
    "        print(f\"모델답: {sentence_generation(q, False)}\")\n",
    "        print(\"=\"*50)"
   ]
  },
  {
   "cell_type": "code",
   "execution_count": 37,
   "id": "8122249d",
   "metadata": {},
   "outputs": [],
   "source": [
    "# 대화 모드\n",
    "def conversation_mode():\n",
    "    prompt = input(\"나:\")\n",
    "    \n",
    "    while prompt != \"EOC\":\n",
    "        print(f\"봇: {sentence_generation(prompt, False)}\")\n",
    "        prompt = input(\"나:\")\n",
    "    print(\"End of Conversation\")"
   ]
  },
  {
   "cell_type": "markdown",
   "id": "804ecd61",
   "metadata": {},
   "source": [
    "## 원본 데이터와 비교 평가"
   ]
  },
  {
   "cell_type": "code",
   "execution_count": 38,
   "id": "b4b1712b",
   "metadata": {},
   "outputs": [
    {
     "name": "stdout",
     "output_type": "stream",
     "text": [
      "입  력: 감 말랭이 먹어야지\n",
      "원본답: 맛있게 드세요.\n",
      "모델답: 맛있게 드세요\n",
      "==================================================\n",
      "입  력: 감기 같애\n",
      "원본답: 병원가세요.\n",
      "모델답: 이럴 때 잘 쉬는 게 중요해요\n",
      "==================================================\n",
      "입  력: 감기 걸린 것 같아\n",
      "원본답: 이럴 때 잘 쉬는 게 중요해요.\n",
      "모델답: 이럴 때 잘 쉬는 게 중요해요\n",
      "==================================================\n",
      "입  력: 감기 기운이 있어\n",
      "원본답: 이럴 때 잘 쉬는 게 중요해요.\n",
      "모델답: 이럴 때 잘 쉬는 게 중요해요\n",
      "==================================================\n",
      "입  력: 감기 들 거 같애\n",
      "원본답: 이럴 때 잘 쉬는 게 중요해요.\n",
      "모델답: 이럴 때 잘 쉬는 게 중요해요\n",
      "==================================================\n",
      "입  력: 감기가 오려나\n",
      "원본답: 따뜻하게 관리하세요.\n",
      "모델답: 따뜻하게 관리하세요\n",
      "==================================================\n",
      "입  력: 감기약이 없어\n",
      "원본답: 병원가세요.\n",
      "모델답: 병원가세요\n",
      "==================================================\n",
      "입  력: 감기인거 같애\n",
      "원본답: 병원가세요.\n",
      "모델답: 병원가세요\n",
      "==================================================\n",
      "입  력: 감미로운 목소리 좋아\n",
      "원본답: 저도 듣고 싶네요.\n",
      "모델답: 저도 듣고 싶네요\n",
      "==================================================\n",
      "입  력: 감정이 쓰레기통처럼 엉망진창이야\n",
      "원본답: 자신을 더 사랑해주세요.\n",
      "모델답: 자신을 더 사랑해주세요\n",
      "==================================================\n"
     ]
    }
   ],
   "source": [
    "compare2original(50, 10)"
   ]
  },
  {
   "cell_type": "code",
   "execution_count": 39,
   "id": "cba76509",
   "metadata": {},
   "outputs": [
    {
     "name": "stdout",
     "output_type": "stream",
     "text": [
      "입  력: 결혼식때 하객이 없을 까봐 걱정돼\n",
      "원본답: 생각보다 신경 안 씁니다.\n",
      "모델답: 생각보다 신경 안 씁니다\n",
      "==================================================\n",
      "입  력: 결혼식이 너무 많아\n",
      "원본답: 인맥이 넓으신가봐요.\n",
      "모델답: 인맥이 넓으신가봐요\n",
      "==================================================\n",
      "입  력: 결혼이나 하지 왜 자꾸 나한테 화 내냐구!\n",
      "원본답: 힘들겠네요.\n",
      "모델답: 힘들겠네요\n",
      "==================================================\n",
      "입  력: 결혼준비 돈 많이 들겠지\n",
      "원본답: 많이 들지만 줄일 수 있을 거예요.\n",
      "모델답: 많이 들지만 줄일 수 있을 거예요\n",
      "==================================================\n",
      "입  력: 결혼준비하는데 돈 얼마나 드나\n",
      "원본답: 욕심에 따라 천지 차이일 거예요.\n",
      "모델답: 욕심에 따라 천지 차이일 거예요\n",
      "==================================================\n",
      "입  력: 결혼하는데 돈 많이 드네\n",
      "원본답: 허례허식이에요.\n",
      "모델답: 허례허식이에요\n",
      "==================================================\n",
      "입  력: 결혼하는데 돈 얼마나 들까\n",
      "원본답: 욕심에 따라 천지 차이일 거예요.\n",
      "모델답: 욕심에 따라 천지 차이일 거예요\n",
      "==================================================\n",
      "입  력: 결혼하면 좋아?\n",
      "원본답: 해봐요.\n",
      "모델답: 사람마다 다를 것 같아요\n",
      "==================================================\n",
      "입  력: 결혼하면 좋을까\n",
      "원본답: 서로 노력하면 행복할 거예요.\n",
      "모델답: 서로 노력하면 행복할 거예요\n",
      "==================================================\n",
      "입  력: 결혼하면 행복할까?\n",
      "원본답: 서로 노력하면 행복할 거예요.\n",
      "모델답: 서로 노력하면 행복할 거예요\n",
      "==================================================\n"
     ]
    }
   ],
   "source": [
    "compare2original(150, 10)"
   ]
  },
  {
   "cell_type": "markdown",
   "id": "8d41d08f",
   "metadata": {},
   "source": [
    "- 과적합인가 싶을 정도로 원본답과 대부분 동일한 대답을 출력한다.\n",
    "- 10개 중 1개씩 원본과 다른 답이 나왔지만 맥락상 충분히 적절한 답을 출력해냈다.\n",
    "    - 사실 이 부분은 유사한 질문과 답이 반복되며 나타나는 현상으로 보인다."
   ]
  },
  {
   "cell_type": "markdown",
   "id": "bde65aee",
   "metadata": {},
   "source": [
    "## 새로운 문장 입력"
   ]
  },
  {
   "cell_type": "markdown",
   "id": "290178a2",
   "metadata": {},
   "source": [
    "### 주제: 없음. (무작위 입력)"
   ]
  },
  {
   "cell_type": "code",
   "execution_count": 90,
   "id": "5e7022d3",
   "metadata": {},
   "outputs": [
    {
     "name": "stdout",
     "output_type": "stream",
     "text": [
      "입력 : 이게 잘 될까?\n",
      "출력 : 사랑은 때론 잔인하죠\n"
     ]
    }
   ],
   "source": [
    "sentence_generation('이게 잘 될까?')"
   ]
  },
  {
   "cell_type": "markdown",
   "id": "8597d865",
   "metadata": {},
   "source": [
    "- 생뚱맞은 답변.\n",
    "    - 다소 억지스럽게 긍정적으로 평가해보자면, 데이터셋이 주로 사랑이나 이별 관련 내용이다보니 \"이게\"를 \"사랑\" 혹은 \"연애\" 등으로 해석한다면 나름 해줄법한 답변이긴 하다."
   ]
  },
  {
   "cell_type": "code",
   "execution_count": 112,
   "id": "179a4f29",
   "metadata": {},
   "outputs": [
    {
     "name": "stdout",
     "output_type": "stream",
     "text": [
      "입력 : 답변이 잘 나올까?\n",
      "출력 : 그건 좀 힘들 거예요\n"
     ]
    }
   ],
   "source": [
    "sentence_generation('답변이 잘 나올까?')"
   ]
  },
  {
   "cell_type": "markdown",
   "id": "066d077d",
   "metadata": {},
   "source": [
    "- 역설적이게도 그럴싸한 답변."
   ]
  },
  {
   "cell_type": "code",
   "execution_count": 113,
   "id": "ff0e0ae4",
   "metadata": {},
   "outputs": [
    {
     "name": "stdout",
     "output_type": "stream",
     "text": [
      "입력 : 오늘은 날씨가 좋으려나\n",
      "출력 : 무슨 일이 있었나봐요\n"
     ]
    }
   ],
   "source": [
    "sentence_generation('오늘은 날씨가 좋으려나')"
   ]
  },
  {
   "cell_type": "markdown",
   "id": "78bb077d",
   "metadata": {},
   "source": [
    "- 날씨에 대한 답변을 기대했으나 다른 답변이 나옴.\n",
    "- 그러나 해석하기에 따라서 감성적으로는 납득할 수도 있는 답변.\n",
    "    - 날씨가 좋을지 걱정하는 걸 보면서 무슨 일이 있어서 저러나 걱정해주는...? (억지지만)"
   ]
  },
  {
   "cell_type": "code",
   "execution_count": 43,
   "id": "ef72b504",
   "metadata": {},
   "outputs": [
    {
     "name": "stdout",
     "output_type": "stream",
     "text": [
      "입력 : 야\n",
      "출력 : 네\n"
     ]
    }
   ],
   "source": [
    "sentence_generation('야')"
   ]
  },
  {
   "cell_type": "code",
   "execution_count": 111,
   "id": "5c8bfcf0",
   "metadata": {},
   "outputs": [
    {
     "name": "stdout",
     "output_type": "stream",
     "text": [
      "입력 : 쉬고 싶다\n",
      "출력 : 잠깐 핸드폰을 내려두세요\n"
     ]
    }
   ],
   "source": [
    "sentence_generation('쉬고 싶다')"
   ]
  },
  {
   "cell_type": "markdown",
   "id": "18d9cf15",
   "metadata": {},
   "source": [
    "### 주제: 음식"
   ]
  },
  {
   "cell_type": "markdown",
   "id": "589cef2b",
   "metadata": {},
   "source": [
    "- 좋은 사례"
   ]
  },
  {
   "cell_type": "code",
   "execution_count": 123,
   "id": "8b97d754",
   "metadata": {},
   "outputs": [
    {
     "name": "stdout",
     "output_type": "stream",
     "text": [
      "입력 : 피자 먹고싶다\n",
      "출력 : 같이 먹어요 !\n"
     ]
    }
   ],
   "source": [
    "sentence_generation('피자 먹고싶다')"
   ]
  },
  {
   "cell_type": "code",
   "execution_count": 135,
   "id": "e1681436",
   "metadata": {},
   "outputs": [
    {
     "name": "stdout",
     "output_type": "stream",
     "text": [
      "입력 : 와! 여기 짜장면 맛있어\n",
      "출력 : 한 잔 하세요\n"
     ]
    }
   ],
   "source": [
    "sentence_generation('와! 여기 짜장면 맛있어')"
   ]
  },
  {
   "cell_type": "code",
   "execution_count": 129,
   "id": "c20c1ebe",
   "metadata": {},
   "outputs": [
    {
     "name": "stdout",
     "output_type": "stream",
     "text": [
      "입력 : 짜장면 맛있어\n",
      "출력 : 짜장면은 혼자 먹어도 맛있어요\n"
     ]
    }
   ],
   "source": [
    "sentence_generation('짜장면 맛있어')"
   ]
  },
  {
   "cell_type": "markdown",
   "id": "7031b75f",
   "metadata": {},
   "source": [
    "- 나쁜 사례"
   ]
  },
  {
   "cell_type": "code",
   "execution_count": 124,
   "id": "fae75518",
   "metadata": {},
   "outputs": [
    {
     "name": "stdout",
     "output_type": "stream",
     "text": [
      "입력 : 점심 먹으러 가고싶다\n",
      "출력 : 진심으로 다가가면 친구가 될 수 있을 거예요\n"
     ]
    }
   ],
   "source": [
    "sentence_generation('점심 먹으러 가고싶다')"
   ]
  },
  {
   "cell_type": "code",
   "execution_count": 125,
   "id": "28249eac",
   "metadata": {},
   "outputs": [
    {
     "name": "stdout",
     "output_type": "stream",
     "text": [
      "입력 : 넌 무슨 음식 좋아해?\n",
      "출력 : 안 좋은 회사네요\n"
     ]
    }
   ],
   "source": [
    "sentence_generation('넌 무슨 음식 좋아해?')"
   ]
  },
  {
   "cell_type": "code",
   "execution_count": 136,
   "id": "1236d860",
   "metadata": {},
   "outputs": [
    {
     "name": "stdout",
     "output_type": "stream",
     "text": [
      "입력 : 치킨 좋아해?\n",
      "출력 : 즐거운 주말 보내실 것 같네요\n"
     ]
    }
   ],
   "source": [
    "sentence_generation('치킨 좋아해?')"
   ]
  },
  {
   "cell_type": "markdown",
   "id": "c7de239f",
   "metadata": {},
   "source": [
    "### 주제: 스포츠"
   ]
  },
  {
   "cell_type": "code",
   "execution_count": 137,
   "id": "5c097384",
   "metadata": {},
   "outputs": [
    {
     "name": "stdout",
     "output_type": "stream",
     "text": [
      "입력 : 축구하러 갈래?\n",
      "출력 : 저 나가면 될까요 ?\n"
     ]
    }
   ],
   "source": [
    "sentence_generation('축구하러 갈래?')"
   ]
  },
  {
   "cell_type": "code",
   "execution_count": 138,
   "id": "f4e44acc",
   "metadata": {},
   "outputs": [
    {
     "name": "stdout",
     "output_type": "stream",
     "text": [
      "입력 : 야구 보는게 좋아? 하는게 좋아?\n",
      "출력 : 그럼요 한 잔 하세요\n"
     ]
    }
   ],
   "source": [
    "sentence_generation('야구 보는게 좋아? 하는게 좋아?')"
   ]
  },
  {
   "cell_type": "code",
   "execution_count": 139,
   "id": "df3c5925",
   "metadata": {},
   "outputs": [
    {
     "name": "stdout",
     "output_type": "stream",
     "text": [
      "입력 : 농구 재미있다\n",
      "출력 : 새로운 도전은 용기가 필요하죠\n"
     ]
    }
   ],
   "source": [
    "sentence_generation('농구 재미있다')"
   ]
  },
  {
   "cell_type": "markdown",
   "id": "aeb4866e",
   "metadata": {},
   "source": [
    "### 주제: 연애"
   ]
  },
  {
   "cell_type": "code",
   "execution_count": 144,
   "id": "3b8b0142",
   "metadata": {},
   "outputs": [
    {
     "name": "stdout",
     "output_type": "stream",
     "text": [
      "나:친구가 짝사랑 중이야\n",
      "봇: 친구가 들으면 서운해 할 수도 있겠어요\n",
      "나:친구가 짝녀한테 고백하고 싶어해\n",
      "봇: 친구가 아닌가봐요\n",
      "나:고백 방법 조언해줄래?\n",
      "봇: 연락은 기본 중의 기본이에요\n",
      "나:결혼까지 가능할까?\n",
      "봇: 슬픈 이야기네요\n",
      "나:결혼이 왜 슬퍼?\n",
      "봇: 달콤한 말과 몸짓으로 리드를 해보세요\n",
      "나:짝녀가 이별한지 얼만 안 됐나봐\n",
      "봇: 내 맘같지 않으니까요\n",
      "나:전 남친이 나쁜놈이었어\n",
      "봇: 이제 그녀를 놓아주세요\n",
      "나:둘이 결혼했으면 좋겠다\n",
      "봇: 누가 욕하고 있나봐요\n",
      "나:EOC\n",
      "End of Conversation\n"
     ]
    }
   ],
   "source": [
    "conversation_mode()"
   ]
  },
  {
   "cell_type": "markdown",
   "id": "cce2070d",
   "metadata": {},
   "source": [
    "- 데이터셋 특성 상 연애 관련 이야기는 좀 더 잘 답변할 것으로 기대했지만 기대 이하."
   ]
  },
  {
   "cell_type": "markdown",
   "id": "6b2d3d5d",
   "metadata": {},
   "source": [
    "## 최종 평가"
   ]
  },
  {
   "cell_type": "markdown",
   "id": "5a42611b",
   "metadata": {},
   "source": [
    "**해당 트랜스포머 모델이 한국어 병렬 데이터 학습에서 나름 안정적으로 수렴하였다.**\n",
    "- Loss가 진동없이 Epoch마다 꾸준히 감소하여 약 90% 감소했다.\n",
    "- Acc역시 진동없이 꾸준히 상승하였다.\n",
    "- 생성 문장 단독으로 보면 자연스럽고 다양하다.\n",
    "    - 다만, 입력과 출력 전체적으로 보면 부자연스러운 경우도 많다.\n",
    "- 특정 패턴이나 반복 없이 출력이 되고 있다.\n",
    "\n",
    "**주제와 분위기에 따라 맥락에 맞는 적절한 답변을 주기도 한다.**\n",
    "- 데이터셋에 포함된 단어와 주제, 분위기의 입력인 경우는 나름 그럴싸한 답변을 출력하는 경우를 볼 수 있었다.\n",
    "- 다만 그 외 다양한 상황에 적용할만한 일반화에 이르지는 못한 것 같다."
   ]
  },
  {
   "cell_type": "markdown",
   "id": "069e02cd",
   "metadata": {},
   "source": [
    "# 회고"
   ]
  },
  {
   "cell_type": "markdown",
   "id": "78afd916",
   "metadata": {},
   "source": [
    "**새로운 시도**\n",
    "- 한글 데이터 전처리\n",
    "    - 데이터 내 영문, 숫자, 불용어 등을 제거하지 않았다. 각 데이터 샘플이 하나의 문장인 것을 고려할 때, 해당 부분을 지우면 맥락 파악이 너무 어려울 것으로 판단했기 때문이다.\n",
    "    - 기존 영문 뉴스 기사 요약 실습을 통해 불용어 등을 지웠더니 모델이 출력한 글의 내용을 너무 알아보기 어려웠던 기억이 있어서 이번엔 챗봇이라는 특성상 더욱 그러면 안 되기에 있는 특수문자를 제외하고는 그대로 입력으로 넣어봤다.\n",
    "    - 결과적으로 좋은 선택이었다고 본다. 데이터 내에서 숫자나 영문이 차지하는 비율이 크지 않았기 때문이기도 했지만 덕분에 자연스러운 문장이 출력된 것 같다.\n",
    "    \n",
    "- Vocab Size\n",
    "    - 기존 실습보다 2배 큰 Vocab Size를 설정했다. 데이터 샘플의 양은 기존 실습보다 적었지만, 한국어 특성상 영어보다 많은 단어로 나뉠 것이라 판단했기 때문이다.\n",
    "    - 또한, 기존 실습에서 Vocab Size가 적었기 때문인지 결과물의 단어가 다양하지 않았던 느낌도 있었기 때문에 Vocab Size를 늘려보는 시도를 했다.\n",
    "    - Vocab size가 너무 커서 각 단어의 의미를 충분히 학습하지 못하는 경우를 우려했으나 결과를 보면 충분히 학습한 것 같다.\n",
    "    \n",
    "- 샘플 길이 설정\n",
    "    - 어텐션 알고리즘에 마스킹 방식도 적용했기 때문에 샘플의 길이는 큰 상관이 없을 것 같았다.\n",
    "    - 다만, 너무 짧게 설정해서 안 그래도 부족한 데이터를 더 줄이고 싶지 않았고, 또 너무 길게 설정하여 불필요한 메모리 낭비를 줄이고자 적당한 샘플 길이를 찾는 시도를 했다.\n",
    "    - 나름 세심한 시도였다는 점에서 만족한다.\n",
    "    - 돌이켜보니 기존 실습에서 불필요하게 같은 말은 반복하는 출력이 많았는데, 샘플 최대 길이가 너무 길어서 짧은 문장은 반복하여 그 길이를 맞추려는 경향을 보인 것은 아니었나 싶기도 하다. 그러면에서도 샘플의 적정 길이를 데이터를 통해 정한 것은 잘한 부분인 것 같다.\n",
    "    \n",
    "**어텐션 구조 파악**\n",
    "- 학습 시 그래프로 그려진 내용으로만 볼때보다 직접 각 레이어에서 어떤 일이 일어나는지, 언제 무슨 일을 하는지 코드를 붙여가며 좀 더 이해할 수 있는 시간이었다.\n",
    "\n",
    "**좀 더 친근해진 Language Model**\n",
    "- 언어 모델은 정말 이해할 수 없는 먼 영역이라고만 생각했었다. 이번 기회에 적은 데이터로, 가벼운 모델로 직접 경험하면서 멀게만 느껴졌던 언어 모델에 보다 친근해질 수 있었다.\n",
    "\n",
    "**나중에 더 해보고 싶은 실험**\n",
    "- 새로운 시도들이 얼마나 유효했는지 보다 명확하게 파악하기 위해 각 설정을 바꿔가며 테스트해보고 싶다.\n",
    "    - Vocab Size를 줄이면 결과가 어떻게 달라지는지.\n",
    "    - 데이터 전처리 단계에서 최대한 원본 그대로 한 경우와, 반대로 최대한 한글만 남기는 경우의 변화.\n",
    "    - 샘플 최대 길이를 늘리면 이상 반응을 보일지, 학습에는 어떤 영향을 미칠지."
   ]
  },
  {
   "cell_type": "markdown",
   "id": "31df2c77",
   "metadata": {},
   "source": [
    "**전체 플로우**"
   ]
  },
  {
   "attachments": {
    "image.png": {
     "image/png": "[encoded data removed]"
    }
   },
   "cell_type": "markdown",
   "id": "94511c05",
   "metadata": {},
   "source": [
    "![image.png](attachment:image.png)"
   ]
  },
  {
   "cell_type": "markdown",
   "id": "ac5f6aa0",
   "metadata": {},
   "source": [
    "---"
   ]
  }
 ],
 "metadata": {
  "kernelspec": {
   "display_name": "Python 3 (ipykernel)",
   "language": "python",
   "name": "python3"
  },
  "language_info": {
   "codemirror_mode": {
    "name": "ipython",
    "version": 3
   },
   "file_extension": ".py",
   "mimetype": "text/x-python",
   "name": "python",
   "nbconvert_exporter": "python",
   "pygments_lexer": "ipython3",
   "version": "3.9.7"
  }
 },
 "nbformat": 4,
 "nbformat_minor": 5
}
