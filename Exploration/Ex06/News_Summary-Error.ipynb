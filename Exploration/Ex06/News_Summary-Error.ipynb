{
 "cells": [
  {
   "cell_type": "markdown",
   "id": "12aa3524",
   "metadata": {},
   "source": [
    "# 프로젝트: 뉴스기사 요약해보기"
   ]
  },
  {
   "cell_type": "markdown",
   "id": "ed354cfc",
   "metadata": {},
   "source": [
    "추상적 요약과 추출적 요약"
   ]
  },
  {
   "cell_type": "code",
   "execution_count": 1,
   "id": "5b0f93c0",
   "metadata": {},
   "outputs": [
    {
     "name": "stdout",
     "output_type": "stream",
     "text": [
      "3.6.5\n",
      "2.6.0\n",
      "1.3.3\n",
      "1.2.0\n"
     ]
    }
   ],
   "source": [
    "from importlib.metadata import version\n",
    "import nltk\n",
    "import tensorflow\n",
    "import summa\n",
    "import pandas as pd\n",
    "\n",
    "print(nltk.__version__)\n",
    "print(tensorflow.__version__)\n",
    "print(pd.__version__)\n",
    "print(version('summa'))"
   ]
  },
  {
   "cell_type": "code",
   "execution_count": 430,
   "id": "72310d61",
   "metadata": {},
   "outputs": [],
   "source": [
    "from bs4 import BeautifulSoup \n",
    "from nltk.corpus import stopwords\n",
    "import re\n",
    "import numpy as np\n",
    "import matplotlib.pyplot as plt\n",
    "from tensorflow.keras.preprocessing.text import Tokenizer \n",
    "from tensorflow.keras.preprocessing.sequence import pad_sequences\n",
    "\n",
    "from tensorflow.keras.layers import Input, LSTM, Embedding, Dense, Concatenate, TimeDistributed\n",
    "from tensorflow.keras.models import Model\n",
    "from tensorflow.keras.callbacks import EarlyStopping, ModelCheckpoint\n",
    "from tensorflow.keras.layers import AdditiveAttention\n",
    "\n",
    "from summa.summarizer import summarize"
   ]
  },
  {
   "cell_type": "markdown",
   "id": "acc5bb35",
   "metadata": {},
   "source": [
    "# Step 1. 데이터 수집하기"
   ]
  },
  {
   "cell_type": "markdown",
   "id": "57f64118",
   "metadata": {},
   "source": [
    "- 출처: [sunnysai12345/News_Summary](https://github.com/sunnysai12345/News_Summary)"
   ]
  },
  {
   "cell_type": "code",
   "execution_count": 3,
   "id": "be0d05b6",
   "metadata": {},
   "outputs": [
    {
     "data": {
      "text/html": [
       "<div>\n",
       "<style scoped>\n",
       "    .dataframe tbody tr th:only-of-type {\n",
       "        vertical-align: middle;\n",
       "    }\n",
       "\n",
       "    .dataframe tbody tr th {\n",
       "        vertical-align: top;\n",
       "    }\n",
       "\n",
       "    .dataframe thead th {\n",
       "        text-align: right;\n",
       "    }\n",
       "</style>\n",
       "<table border=\"1\" class=\"dataframe\">\n",
       "  <thead>\n",
       "    <tr style=\"text-align: right;\">\n",
       "      <th></th>\n",
       "      <th>headlines</th>\n",
       "      <th>text</th>\n",
       "    </tr>\n",
       "  </thead>\n",
       "  <tbody>\n",
       "    <tr>\n",
       "      <th>20726</th>\n",
       "      <td>Malaysia suspends $22 billion worth of China-b...</td>\n",
       "      <td>Malaysian PM Mahathir Mohamad, who is on a fiv...</td>\n",
       "    </tr>\n",
       "    <tr>\n",
       "      <th>2567</th>\n",
       "      <td>Ex-CBI chief quits IPS, refuses to take role o...</td>\n",
       "      <td>Alok Verma has refused to take charge as Direc...</td>\n",
       "    </tr>\n",
       "    <tr>\n",
       "      <th>26816</th>\n",
       "      <td>Biker jumps over 16 buses, covers more than 19...</td>\n",
       "      <td>American stunt performer Travis Pastrana honou...</td>\n",
       "    </tr>\n",
       "    <tr>\n",
       "      <th>33809</th>\n",
       "      <td>I-T Dept issues fresh notice to Chanda Kochhar...</td>\n",
       "      <td>The Income Tax Department has reportedly issue...</td>\n",
       "    </tr>\n",
       "    <tr>\n",
       "      <th>61077</th>\n",
       "      <td>Sun Pharma profit falls 59% to Ã¢ÂÂ¹912 crore...</td>\n",
       "      <td>India's largest drugmaker Sun Pharmaceutical o...</td>\n",
       "    </tr>\n",
       "    <tr>\n",
       "      <th>84897</th>\n",
       "      <td>Startup to launch 24x7 open self-driving store...</td>\n",
       "      <td>Swedish startup Wheelys is launching a 24x7 op...</td>\n",
       "    </tr>\n",
       "    <tr>\n",
       "      <th>91476</th>\n",
       "      <td>Reebok trolls Nordstrom with a Ã¢ÂÂ¹27,000 sw...</td>\n",
       "      <td>Sportswear brand Reebok has advertised a sweat...</td>\n",
       "    </tr>\n",
       "    <tr>\n",
       "      <th>90983</th>\n",
       "      <td>India to sell only electric cars by 2030: Powe...</td>\n",
       "      <td>Power Minister Piyush Goyal on Sunday said Ind...</td>\n",
       "    </tr>\n",
       "    <tr>\n",
       "      <th>58543</th>\n",
       "      <td>US man accidentally shoots grandson during tar...</td>\n",
       "      <td>A 68-year-old man accidentally shot his 22-yea...</td>\n",
       "    </tr>\n",
       "    <tr>\n",
       "      <th>4179</th>\n",
       "      <td>Let's make positivity viral: PM in 2018's last...</td>\n",
       "      <td>In the last 'Mann ki Baat' address of 2018, PM...</td>\n",
       "    </tr>\n",
       "  </tbody>\n",
       "</table>\n",
       "</div>"
      ],
      "text/plain": [
       "                                               headlines  \\\n",
       "20726  Malaysia suspends $22 billion worth of China-b...   \n",
       "2567   Ex-CBI chief quits IPS, refuses to take role o...   \n",
       "26816  Biker jumps over 16 buses, covers more than 19...   \n",
       "33809  I-T Dept issues fresh notice to Chanda Kochhar...   \n",
       "61077  Sun Pharma profit falls 59% to Ã¢ÂÂ¹912 crore...   \n",
       "84897  Startup to launch 24x7 open self-driving store...   \n",
       "91476  Reebok trolls Nordstrom with a Ã¢ÂÂ¹27,000 sw...   \n",
       "90983  India to sell only electric cars by 2030: Powe...   \n",
       "58543  US man accidentally shoots grandson during tar...   \n",
       "4179   Let's make positivity viral: PM in 2018's last...   \n",
       "\n",
       "                                                    text  \n",
       "20726  Malaysian PM Mahathir Mohamad, who is on a fiv...  \n",
       "2567   Alok Verma has refused to take charge as Direc...  \n",
       "26816  American stunt performer Travis Pastrana honou...  \n",
       "33809  The Income Tax Department has reportedly issue...  \n",
       "61077  India's largest drugmaker Sun Pharmaceutical o...  \n",
       "84897  Swedish startup Wheelys is launching a 24x7 op...  \n",
       "91476  Sportswear brand Reebok has advertised a sweat...  \n",
       "90983  Power Minister Piyush Goyal on Sunday said Ind...  \n",
       "58543  A 68-year-old man accidentally shot his 22-yea...  \n",
       "4179   In the last 'Mann ki Baat' address of 2018, PM...  "
      ]
     },
     "execution_count": 3,
     "metadata": {},
     "output_type": "execute_result"
    }
   ],
   "source": [
    "data = pd.read_csv('/aiffel/news_summary_more.csv', encoding='iso-8859-1')\n",
    "data.sample(10)"
   ]
  },
  {
   "cell_type": "markdown",
   "id": "e9cbf79c",
   "metadata": {},
   "source": [
    "- 기사의 본문에 해당되는 text와 headlines 두 가지 열로 구성\n",
    "\n",
    "- 추상적 요약을 하는 경우에는 text를 본문, headlines를 이미 요약된 데이터로 삼아서 모델 학습\n",
    "- 추출적 요약을 하는 경우에는 오직 text열만을 사용"
   ]
  },
  {
   "cell_type": "markdown",
   "id": "5bac35e6",
   "metadata": {},
   "source": [
    "# Step 2. 데이터 전처리하기 (추상적 요약)"
   ]
  },
  {
   "cell_type": "markdown",
   "id": "d8c34a06",
   "metadata": {},
   "source": [
    "## 중복 샘플과 NULL 값이 존재하는 샘플 제거"
   ]
  },
  {
   "cell_type": "code",
   "execution_count": 28,
   "id": "da34417f",
   "metadata": {},
   "outputs": [
    {
     "name": "stdout",
     "output_type": "stream",
     "text": [
      "전체 데이터의 샘플 수 \t:  98401\n",
      "text 중복 샘플 수 \t:  41\n",
      "headlines 중복 샘플 수\t:  121\n"
     ]
    }
   ],
   "source": [
    "print(\"전체 데이터의 샘플 수 \\t: \", len(data))\n",
    "print(\"text 중복 샘플 수 \\t: \", len(data['text']) - data['text'].nunique())\n",
    "print(\"headlines 중복 샘플 수\\t: \", len(data['headlines']) - data['headlines'].nunique())"
   ]
  },
  {
   "cell_type": "markdown",
   "id": "7476f699",
   "metadata": {},
   "source": [
    "- 다른 기사라도 같은 headline으로 쓰일 수 있기 때문에 headlines 중복은 무시.\n",
    "- text의 중복은 제거"
   ]
  },
  {
   "cell_type": "code",
   "execution_count": 29,
   "id": "d647fc94",
   "metadata": {},
   "outputs": [
    {
     "name": "stdout",
     "output_type": "stream",
     "text": [
      "중복 제거 후 전체 샘플 수 : 98360\n"
     ]
    }
   ],
   "source": [
    "data.drop_duplicates(subset = ['text'], inplace=True)\n",
    "print('중복 제거 후 전체 샘플 수 :', (len(data)))"
   ]
  },
  {
   "cell_type": "code",
   "execution_count": 30,
   "id": "c7e8f4d7",
   "metadata": {},
   "outputs": [
    {
     "name": "stdout",
     "output_type": "stream",
     "text": [
      "headlines    0\n",
      "text         0\n",
      "dtype: int64\n"
     ]
    }
   ],
   "source": [
    "print(data.isnull().sum())"
   ]
  },
  {
   "cell_type": "markdown",
   "id": "bef6502c",
   "metadata": {},
   "source": [
    "- Null 부존재 확인"
   ]
  },
  {
   "cell_type": "markdown",
   "id": "01c7e916",
   "metadata": {},
   "source": [
    "## 텍스트 정규화 및 불용어 제거"
   ]
  },
  {
   "cell_type": "markdown",
   "id": "78d3472b",
   "metadata": {},
   "source": [
    "- 불용어는 자연어 처리 효율을 위해 본문(text)에서는 제거하되, 헤드라인은 그 특성상 길이도 짧고 불용어 사용이 잦으므로 불용어를 제거하지 않고 진행한다. \n",
    "- [정규화 사전 출처](https://stackoverflow.com/questions/19790188/expanding-english-language-contractions-in-python)"
   ]
  },
  {
   "cell_type": "code",
   "execution_count": 36,
   "id": "3b92ba1d",
   "metadata": {},
   "outputs": [],
   "source": [
    "contractions = {\"ain't\": \"is not\", \"aren't\": \"are not\",\"can't\": \"cannot\", \"'cause\": \"because\", \"could've\": \"could have\", \"couldn't\": \"could not\",\n",
    "                           \"didn't\": \"did not\",  \"doesn't\": \"does not\", \"don't\": \"do not\", \"hadn't\": \"had not\", \"hasn't\": \"has not\", \"haven't\": \"have not\",\n",
    "                           \"he'd\": \"he would\",\"he'll\": \"he will\", \"he's\": \"he is\", \"how'd\": \"how did\", \"how'd'y\": \"how do you\", \"how'll\": \"how will\", \"how's\": \"how is\",\n",
    "                           \"I'd\": \"I would\", \"I'd've\": \"I would have\", \"I'll\": \"I will\", \"I'll've\": \"I will have\",\"I'm\": \"I am\", \"I've\": \"I have\", \"i'd\": \"i would\",\n",
    "                           \"i'd've\": \"i would have\", \"i'll\": \"i will\",  \"i'll've\": \"i will have\",\"i'm\": \"i am\", \"i've\": \"i have\", \"isn't\": \"is not\", \"it'd\": \"it would\",\n",
    "                           \"it'd've\": \"it would have\", \"it'll\": \"it will\", \"it'll've\": \"it will have\",\"it's\": \"it is\", \"let's\": \"let us\", \"ma'am\": \"madam\",\n",
    "                           \"mayn't\": \"may not\", \"might've\": \"might have\",\"mightn't\": \"might not\",\"mightn't've\": \"might not have\", \"must've\": \"must have\",\n",
    "                           \"mustn't\": \"must not\", \"mustn't've\": \"must not have\", \"needn't\": \"need not\", \"needn't've\": \"need not have\",\"o'clock\": \"of the clock\",\n",
    "                           \"oughtn't\": \"ought not\", \"oughtn't've\": \"ought not have\", \"shan't\": \"shall not\", \"sha'n't\": \"shall not\", \"shan't've\": \"shall not have\",\n",
    "                           \"she'd\": \"she would\", \"she'd've\": \"she would have\", \"she'll\": \"she will\", \"she'll've\": \"she will have\", \"she's\": \"she is\",\n",
    "                           \"should've\": \"should have\", \"shouldn't\": \"should not\", \"shouldn't've\": \"should not have\", \"so've\": \"so have\",\"so's\": \"so as\",\n",
    "                           \"this's\": \"this is\",\"that'd\": \"that would\", \"that'd've\": \"that would have\", \"that's\": \"that is\", \"there'd\": \"there would\",\n",
    "                           \"there'd've\": \"there would have\", \"there's\": \"there is\", \"here's\": \"here is\",\"they'd\": \"they would\", \"they'd've\": \"they would have\",\n",
    "                           \"they'll\": \"they will\", \"they'll've\": \"they will have\", \"they're\": \"they are\", \"they've\": \"they have\", \"to've\": \"to have\",\n",
    "                           \"wasn't\": \"was not\", \"we'd\": \"we would\", \"we'd've\": \"we would have\", \"we'll\": \"we will\", \"we'll've\": \"we will have\", \"we're\": \"we are\",\n",
    "                           \"we've\": \"we have\", \"weren't\": \"were not\", \"what'll\": \"what will\", \"what'll've\": \"what will have\", \"what're\": \"what are\",\n",
    "                           \"what's\": \"what is\", \"what've\": \"what have\", \"when's\": \"when is\", \"when've\": \"when have\", \"where'd\": \"where did\", \"where's\": \"where is\",\n",
    "                           \"where've\": \"where have\", \"who'll\": \"who will\", \"who'll've\": \"who will have\", \"who's\": \"who is\", \"who've\": \"who have\",\n",
    "                           \"why's\": \"why is\", \"why've\": \"why have\", \"will've\": \"will have\", \"won't\": \"will not\", \"won't've\": \"will not have\",\n",
    "                           \"would've\": \"would have\", \"wouldn't\": \"would not\", \"wouldn't've\": \"would not have\", \"y'all\": \"you all\",\n",
    "                           \"y'all'd\": \"you all would\",\"y'all'd've\": \"you all would have\",\"y'all're\": \"you all are\",\"y'all've\": \"you all have\",\n",
    "                           \"you'd\": \"you would\", \"you'd've\": \"you would have\", \"you'll\": \"you will\", \"you'll've\": \"you will have\",\n",
    "                           \"you're\": \"you are\", \"you've\": \"you have\"}"
   ]
  },
  {
   "cell_type": "code",
   "execution_count": 40,
   "id": "0feb54ef",
   "metadata": {},
   "outputs": [],
   "source": [
    "# 데이터 전처리 함수\n",
    "def preprocess_sentence(sentence, remove_stopwords=True):\n",
    "    sentence = sentence.lower() # 텍스트 소문자화\n",
    "    sentence = BeautifulSoup(sentence, \"lxml\").text # html 태그 제거\n",
    "    sentence = re.sub(r'\\([^)]*\\)', '', sentence) # 괄호로 닫힌 문자열 (...) 제거 Ex) my husband (and myself!) for => my husband for\n",
    "    sentence = re.sub('\"','', sentence) # 쌍따옴표 \" 제거\n",
    "    sentence = ' '.join([contractions[t] if t in contractions else t for t in sentence.split(\" \")]) # 약어 정규화\n",
    "    sentence = re.sub(r\"'s\\b\",\"\", sentence) # 소유격 제거. Ex) roland's -> roland\n",
    "    sentence = re.sub(\"[^a-zA-Z]\", \" \", sentence) # 영어 외 문자(숫자, 특수문자 등) 공백으로 변환\n",
    "    sentence = re.sub('[m]{2,}', 'mm', sentence) # m이 3개 이상이면 2개로 변경. Ex) ummmmmmm yeah -> umm yeah\n",
    "    \n",
    "    # 불용어 제거 (text)\n",
    "    if remove_stopwords:\n",
    "        tokens = ' '.join(word for word in sentence.split() if not word in stopwords.words('english') if len(word) > 1)\n",
    "    # 불용어 미제거 (headlines)\n",
    "    else:\n",
    "        tokens = ' '.join(word for word in sentence.split() if len(word) > 1)\n",
    "    return tokens"
   ]
  },
  {
   "cell_type": "code",
   "execution_count": 45,
   "id": "2b492277",
   "metadata": {},
   "outputs": [],
   "source": [
    "clean_text = []\n",
    "\n",
    "clean_text = data['text'].apply(lambda x: preprocess_sentence(x, remove_stopwords=True))"
   ]
  },
  {
   "cell_type": "code",
   "execution_count": 47,
   "id": "ff673755",
   "metadata": {},
   "outputs": [],
   "source": [
    "clean_headlines = []\n",
    "\n",
    "for i in data[\"headlines\"]:\n",
    "    clean_headlines.append(preprocess_sentence(i, remove_stopwords=False))"
   ]
  },
  {
   "cell_type": "code",
   "execution_count": 74,
   "id": "c2283858",
   "metadata": {},
   "outputs": [
    {
     "data": {
      "text/plain": [
       "(pandas.core.series.Series, list)"
      ]
     },
     "execution_count": 74,
     "metadata": {},
     "output_type": "execute_result"
    }
   ],
   "source": [
    "type(clean_text), type(clean_headlines)"
   ]
  },
  {
   "cell_type": "markdown",
   "id": "96871b35",
   "metadata": {},
   "source": [
    "- 전처리 결과 확인"
   ]
  },
  {
   "cell_type": "code",
   "execution_count": 63,
   "id": "d4fe0afa",
   "metadata": {},
   "outputs": [],
   "source": [
    "# 인덱스를 리셋하여 해당 인덱스 전후 차이를 확인\n",
    "data.reset_index(inplace=True, drop=True)"
   ]
  },
  {
   "cell_type": "code",
   "execution_count": 58,
   "id": "45baeb70",
   "metadata": {},
   "outputs": [
    {
     "name": "stdout",
     "output_type": "stream",
     "text": [
      "Why does popcorn make the 'pop' sound?\n",
      "why does popcorn make the pop sound\n"
     ]
    }
   ],
   "source": [
    "print(data.loc[91476, 'headlines'])\n",
    "print(clean_headlines[91476])"
   ]
  },
  {
   "cell_type": "code",
   "execution_count": 67,
   "id": "088c2afd",
   "metadata": {},
   "outputs": [
    {
     "name": "stdout",
     "output_type": "stream",
     "text": [
      "Reebok trolls Nordstrom with a Ã¢ÂÂ¹27,000 sweat-soaked T-shirt \n",
      "reebok trolls nordstrom with sweat soaked shirt\n"
     ]
    }
   ],
   "source": [
    "print(data.loc[91435, 'headlines'])\n",
    "print(clean_headlines[91435])"
   ]
  },
  {
   "cell_type": "code",
   "execution_count": 76,
   "id": "2a8f8112",
   "metadata": {},
   "outputs": [],
   "source": [
    "clean_text.reset_index(drop=True, inplace=True)"
   ]
  },
  {
   "cell_type": "code",
   "execution_count": 77,
   "id": "eff68f26",
   "metadata": {},
   "outputs": [
    {
     "name": "stdout",
     "output_type": "stream",
     "text": [
      "The 'pop' sound of a popcorn is due to pressurised water vapour rapidly escaping from the interior. Inside the protective covering, each popcorn kernel comprises starchy endosperm and water. As it is cooked, the water inside heats up, creates steam and expands. The water and steam eventually create enough internal pressure to break the covering and make the kernel pop. \n",
      "\n",
      "pop sound popcorn due pressurised water vapour rapidly escaping interior inside protective covering popcorn kernel comprises starchy endosperm water cooked water inside heats creates steam expands water steam eventually create enough internal pressure break covering make kernel pop\n"
     ]
    }
   ],
   "source": [
    "print(data.loc[91476, 'text'], \"\\n\")\n",
    "print(clean_text[91476])"
   ]
  },
  {
   "cell_type": "markdown",
   "id": "4dfe90c1",
   "metadata": {},
   "source": [
    "- 전처리 후 빈 샘플 확인"
   ]
  },
  {
   "cell_type": "code",
   "execution_count": 82,
   "id": "8e336167",
   "metadata": {},
   "outputs": [
    {
     "data": {
      "text/plain": [
       "(0, 0)"
      ]
     },
     "execution_count": 82,
     "metadata": {},
     "output_type": "execute_result"
    }
   ],
   "source": [
    "clean_headlines.count(\"\"), clean_text.isnull().sum()"
   ]
  },
  {
   "cell_type": "code",
   "execution_count": 84,
   "id": "32b4d8b2",
   "metadata": {},
   "outputs": [
    {
     "data": {
      "text/html": [
       "<div>\n",
       "<style scoped>\n",
       "    .dataframe tbody tr th:only-of-type {\n",
       "        vertical-align: middle;\n",
       "    }\n",
       "\n",
       "    .dataframe tbody tr th {\n",
       "        vertical-align: top;\n",
       "    }\n",
       "\n",
       "    .dataframe thead th {\n",
       "        text-align: right;\n",
       "    }\n",
       "</style>\n",
       "<table border=\"1\" class=\"dataframe\">\n",
       "  <thead>\n",
       "    <tr style=\"text-align: right;\">\n",
       "      <th></th>\n",
       "      <th>headlines</th>\n",
       "      <th>text</th>\n",
       "    </tr>\n",
       "  </thead>\n",
       "  <tbody>\n",
       "    <tr>\n",
       "      <th>0</th>\n",
       "      <td>upgrad learner switches to career in ml al wit...</td>\n",
       "      <td>saurav kant alumnus upgrad iiit pg program mac...</td>\n",
       "    </tr>\n",
       "    <tr>\n",
       "      <th>1</th>\n",
       "      <td>delhi techie wins free food from swiggy for on...</td>\n",
       "      <td>kunal shah credit card bill payment platform c...</td>\n",
       "    </tr>\n",
       "    <tr>\n",
       "      <th>2</th>\n",
       "      <td>new zealand end rohit sharma led india match w...</td>\n",
       "      <td>new zealand defeated india wickets fourth odi ...</td>\n",
       "    </tr>\n",
       "    <tr>\n",
       "      <th>3</th>\n",
       "      <td>aegon life iterm insurance plan helps customer...</td>\n",
       "      <td>aegon life iterm insurance plan customers enjo...</td>\n",
       "    </tr>\n",
       "    <tr>\n",
       "      <th>4</th>\n",
       "      <td>have known hirani for yrs what if metoo claims...</td>\n",
       "      <td>speaking sexual harassment allegations rajkuma...</td>\n",
       "    </tr>\n",
       "  </tbody>\n",
       "</table>\n",
       "</div>"
      ],
      "text/plain": [
       "                                           headlines  \\\n",
       "0  upgrad learner switches to career in ml al wit...   \n",
       "1  delhi techie wins free food from swiggy for on...   \n",
       "2  new zealand end rohit sharma led india match w...   \n",
       "3  aegon life iterm insurance plan helps customer...   \n",
       "4  have known hirani for yrs what if metoo claims...   \n",
       "\n",
       "                                                text  \n",
       "0  saurav kant alumnus upgrad iiit pg program mac...  \n",
       "1  kunal shah credit card bill payment platform c...  \n",
       "2  new zealand defeated india wickets fourth odi ...  \n",
       "3  aegon life iterm insurance plan customers enjo...  \n",
       "4  speaking sexual harassment allegations rajkuma...  "
      ]
     },
     "execution_count": 84,
     "metadata": {},
     "output_type": "execute_result"
    }
   ],
   "source": [
    "data['text'] = clean_text\n",
    "data['headlines'] = clean_headlines\n",
    "\n",
    "data.head()"
   ]
  },
  {
   "cell_type": "code",
   "execution_count": 88,
   "id": "d141b2b2",
   "metadata": {},
   "outputs": [
    {
     "data": {
      "text/plain": [
       "headlines    0\n",
       "text         0\n",
       "dtype: int64"
      ]
     },
     "execution_count": 88,
     "metadata": {},
     "output_type": "execute_result"
    }
   ],
   "source": [
    "data.replace('', np.nan).isnull().sum()"
   ]
  },
  {
   "cell_type": "markdown",
   "id": "3238ba98",
   "metadata": {},
   "source": [
    "## 샘플 최대 길이 제한"
   ]
  },
  {
   "cell_type": "code",
   "execution_count": 96,
   "id": "29810431",
   "metadata": {},
   "outputs": [
    {
     "name": "stdout",
     "output_type": "stream",
     "text": [
      "텍스트의 최소 길이 \t: 1\n",
      "텍스트의 최대 길이 \t: 60\n",
      "텍스트의 평균 길이 \t: 35.09968483123221\n",
      "헤드라인의 최소 길이 \t: 1\n",
      "헤드라인의 최대 길이 \t: 16\n",
      "헤드라인의 평균 길이 \t: 9.299532330215534\n"
     ]
    },
    {
     "data": {
      "image/png": "[encoded data removed]",
      "text/plain": [
       "<Figure size 432x288 with 2 Axes>"
      ]
     },
     "metadata": {
      "needs_background": "light"
     },
     "output_type": "display_data"
    },
    {
     "data": {
      "image/png": "[encoded data removed]",
      "text/plain": [
       "<Figure size 432x288 with 1 Axes>"
      ]
     },
     "metadata": {
      "needs_background": "light"
     },
     "output_type": "display_data"
    },
    {
     "data": {
      "image/png": "[encoded data removed]",
      "text/plain": [
       "<Figure size 432x288 with 1 Axes>"
      ]
     },
     "metadata": {
      "needs_background": "light"
     },
     "output_type": "display_data"
    }
   ],
   "source": [
    "# 길이 분포 출력\n",
    "def get_len_graph(data):\n",
    "    text_len = [len(s.split()) for s in data['text']]\n",
    "    headlines_len = [len(s.split()) for s in data['headlines']]\n",
    "\n",
    "    print('텍스트의 최소 길이 \\t: {}'.format(np.min(text_len)))\n",
    "    print('텍스트의 최대 길이 \\t: {}'.format(np.max(text_len)))\n",
    "    print('텍스트의 평균 길이 \\t: {}'.format(np.mean(text_len)))\n",
    "    print('헤드라인의 최소 길이 \\t: {}'.format(np.min(headlines_len)))\n",
    "    print('헤드라인의 최대 길이 \\t: {}'.format(np.max(headlines_len)))\n",
    "    print('헤드라인의 평균 길이 \\t: {}'.format(np.mean(headlines_len)))\n",
    "\n",
    "    plt.subplot(1,2,1)\n",
    "    plt.boxplot(text_len)\n",
    "    plt.title('text')\n",
    "    plt.subplot(1,2,2)\n",
    "    plt.boxplot(headlines_len)\n",
    "    plt.title('headlines')\n",
    "    plt.tight_layout()\n",
    "    plt.show()\n",
    "\n",
    "    plt.title('text')\n",
    "    plt.hist(text_len, bins = 40)\n",
    "    plt.xlabel('length of samples')\n",
    "    plt.ylabel('number of samples')\n",
    "    plt.show()\n",
    "\n",
    "    plt.title('headlines')\n",
    "    plt.hist(headlines_len, bins = 40)\n",
    "    plt.xlabel('length of samples')\n",
    "    plt.ylabel('number of samples')\n",
    "    plt.show()\n",
    "\n",
    "get_len_graph(data)"
   ]
  },
  {
   "cell_type": "markdown",
   "id": "37d59b7a",
   "metadata": {},
   "source": [
    "### Outlier 확인 (짧은 길이의 샘플)"
   ]
  },
  {
   "cell_type": "code",
   "execution_count": 101,
   "id": "a9bfc169",
   "metadata": {},
   "outputs": [
    {
     "data": {
      "text/html": [
       "<div>\n",
       "<style scoped>\n",
       "    .dataframe tbody tr th:only-of-type {\n",
       "        vertical-align: middle;\n",
       "    }\n",
       "\n",
       "    .dataframe tbody tr th {\n",
       "        vertical-align: top;\n",
       "    }\n",
       "\n",
       "    .dataframe thead th {\n",
       "        text-align: right;\n",
       "    }\n",
       "</style>\n",
       "<table border=\"1\" class=\"dataframe\">\n",
       "  <thead>\n",
       "    <tr style=\"text-align: right;\">\n",
       "      <th></th>\n",
       "      <th>headlines</th>\n",
       "      <th>text</th>\n",
       "    </tr>\n",
       "  </thead>\n",
       "  <tbody>\n",
       "    <tr>\n",
       "      <th>52</th>\n",
       "      <td>headlines</td>\n",
       "      <td>text</td>\n",
       "    </tr>\n",
       "    <tr>\n",
       "      <th>19018</th>\n",
       "      <td>as an actor you are always lonely shahid kapoor</td>\n",
       "      <td>shahid kapoor said actor one always lonely add...</td>\n",
       "    </tr>\n",
       "    <tr>\n",
       "      <th>70244</th>\n",
       "      <td>how much will iphone cost in other countries</td>\n",
       "      <td>apple newly launched iphone edge edge display ...</td>\n",
       "    </tr>\n",
       "  </tbody>\n",
       "</table>\n",
       "</div>"
      ],
      "text/plain": [
       "                                             headlines  \\\n",
       "52                                           headlines   \n",
       "19018  as an actor you are always lonely shahid kapoor   \n",
       "70244     how much will iphone cost in other countries   \n",
       "\n",
       "                                                    text  \n",
       "52                                                  text  \n",
       "19018  shahid kapoor said actor one always lonely add...  \n",
       "70244  apple newly launched iphone edge edge display ...  "
      ]
     },
     "execution_count": 101,
     "metadata": {},
     "output_type": "execute_result"
    }
   ],
   "source": [
    "data[data['text'].str.split().str.len() < 19]"
   ]
  },
  {
   "cell_type": "code",
   "execution_count": 107,
   "id": "199d13bc",
   "metadata": {},
   "outputs": [
    {
     "name": "stdout",
     "output_type": "stream",
     "text": [
      "how much will iphone cost in other countries\n",
      "============================================\n",
      "apple newly launched iphone edge edge display face recognition wireless charging technology available russia italy cost uk priced\n"
     ]
    }
   ],
   "source": [
    "def show_sample(idx):\n",
    "    print(data.loc[idx, 'headlines'])\n",
    "    print(\"=\"*len(data.loc[idx, 'headlines']))\n",
    "    print(data.loc[idx, 'text'])\n",
    "    \n",
    "show_sample(70244)"
   ]
  },
  {
   "cell_type": "code",
   "execution_count": 108,
   "id": "5072999b",
   "metadata": {},
   "outputs": [
    {
     "name": "stdout",
     "output_type": "stream",
     "text": [
      "as an actor you are always lonely shahid kapoor\n",
      "===============================================\n",
      "shahid kapoor said actor one always lonely adding always spotlight people see lonely actors emote inside throw said\n"
     ]
    }
   ],
   "source": [
    "show_sample(19018)"
   ]
  },
  {
   "cell_type": "code",
   "execution_count": 102,
   "id": "a5d34aa1",
   "metadata": {
    "scrolled": true
   },
   "outputs": [
    {
     "data": {
      "text/html": [
       "<div>\n",
       "<style scoped>\n",
       "    .dataframe tbody tr th:only-of-type {\n",
       "        vertical-align: middle;\n",
       "    }\n",
       "\n",
       "    .dataframe tbody tr th {\n",
       "        vertical-align: top;\n",
       "    }\n",
       "\n",
       "    .dataframe thead th {\n",
       "        text-align: right;\n",
       "    }\n",
       "</style>\n",
       "<table border=\"1\" class=\"dataframe\">\n",
       "  <thead>\n",
       "    <tr style=\"text-align: right;\">\n",
       "      <th></th>\n",
       "      <th>headlines</th>\n",
       "      <th>text</th>\n",
       "    </tr>\n",
       "  </thead>\n",
       "  <tbody>\n",
       "    <tr>\n",
       "      <th>52</th>\n",
       "      <td>headlines</td>\n",
       "      <td>text</td>\n",
       "    </tr>\n",
       "    <tr>\n",
       "      <th>729</th>\n",
       "      <td>angola decriminalises homosexuality</td>\n",
       "      <td>african nation angola decriminalised homosexua...</td>\n",
       "    </tr>\n",
       "    <tr>\n",
       "      <th>26211</th>\n",
       "      <td>what is friggatriskaidekaphobia</td>\n",
       "      <td>friggatriskaidekaphobia person irrational fear...</td>\n",
       "    </tr>\n",
       "  </tbody>\n",
       "</table>\n",
       "</div>"
      ],
      "text/plain": [
       "                                 headlines  \\\n",
       "52                               headlines   \n",
       "729    angola decriminalises homosexuality   \n",
       "26211      what is friggatriskaidekaphobia   \n",
       "\n",
       "                                                    text  \n",
       "52                                                  text  \n",
       "729    african nation angola decriminalised homosexua...  \n",
       "26211  friggatriskaidekaphobia person irrational fear...  "
      ]
     },
     "execution_count": 102,
     "metadata": {},
     "output_type": "execute_result"
    }
   ],
   "source": [
    "data[data['headlines'].str.split().str.len() < 4]"
   ]
  },
  {
   "cell_type": "code",
   "execution_count": 109,
   "id": "1a6830dc",
   "metadata": {},
   "outputs": [
    {
     "name": "stdout",
     "output_type": "stream",
     "text": [
      "angola decriminalises homosexuality\n",
      "===================================\n",
      "african nation angola decriminalised homosexuality parliament removed vices nature provision government also banned discrimination people basis sexual orientation changes come angola parliament adopted first new penal code since gained independence portugal removed provision\n"
     ]
    }
   ],
   "source": [
    "show_sample(729)"
   ]
  },
  {
   "cell_type": "code",
   "execution_count": 112,
   "id": "42f98a77",
   "metadata": {},
   "outputs": [
    {
     "name": "stdout",
     "output_type": "stream",
     "text": [
      "what is friggatriskaidekaphobia\n",
      "===============================\n",
      "friggatriskaidekaphobia person irrational fear month th day falling friday long standing legend claims day date unlucky number considered unlucky many cultures least one friday th every year maximum three\n"
     ]
    }
   ],
   "source": [
    "show_sample(26211)"
   ]
  },
  {
   "cell_type": "markdown",
   "id": "c993a908",
   "metadata": {},
   "source": [
    "- 52번 행의 값을 제외하면 괜찮아 보임.\n",
    "- 52번 행 삭제"
   ]
  },
  {
   "cell_type": "code",
   "execution_count": 123,
   "id": "13305793",
   "metadata": {},
   "outputs": [],
   "source": [
    "data.drop(52, inplace=True)"
   ]
  },
  {
   "cell_type": "code",
   "execution_count": 124,
   "id": "238fab97",
   "metadata": {},
   "outputs": [
    {
     "data": {
      "text/html": [
       "<div>\n",
       "<style scoped>\n",
       "    .dataframe tbody tr th:only-of-type {\n",
       "        vertical-align: middle;\n",
       "    }\n",
       "\n",
       "    .dataframe tbody tr th {\n",
       "        vertical-align: top;\n",
       "    }\n",
       "\n",
       "    .dataframe thead th {\n",
       "        text-align: right;\n",
       "    }\n",
       "</style>\n",
       "<table border=\"1\" class=\"dataframe\">\n",
       "  <thead>\n",
       "    <tr style=\"text-align: right;\">\n",
       "      <th></th>\n",
       "      <th>headlines</th>\n",
       "      <th>text</th>\n",
       "    </tr>\n",
       "  </thead>\n",
       "  <tbody>\n",
       "    <tr>\n",
       "      <th>729</th>\n",
       "      <td>angola decriminalises homosexuality</td>\n",
       "      <td>african nation angola decriminalised homosexua...</td>\n",
       "    </tr>\n",
       "    <tr>\n",
       "      <th>26211</th>\n",
       "      <td>what is friggatriskaidekaphobia</td>\n",
       "      <td>friggatriskaidekaphobia person irrational fear...</td>\n",
       "    </tr>\n",
       "  </tbody>\n",
       "</table>\n",
       "</div>"
      ],
      "text/plain": [
       "                                 headlines  \\\n",
       "729    angola decriminalises homosexuality   \n",
       "26211      what is friggatriskaidekaphobia   \n",
       "\n",
       "                                                    text  \n",
       "729    african nation angola decriminalised homosexua...  \n",
       "26211  friggatriskaidekaphobia person irrational fear...  "
      ]
     },
     "execution_count": 124,
     "metadata": {},
     "output_type": "execute_result"
    }
   ],
   "source": [
    "data[data['headlines'].str.split().str.len() < 4]"
   ]
  },
  {
   "cell_type": "code",
   "execution_count": 126,
   "id": "b9446080",
   "metadata": {},
   "outputs": [
    {
     "data": {
      "text/html": [
       "<div>\n",
       "<style scoped>\n",
       "    .dataframe tbody tr th:only-of-type {\n",
       "        vertical-align: middle;\n",
       "    }\n",
       "\n",
       "    .dataframe tbody tr th {\n",
       "        vertical-align: top;\n",
       "    }\n",
       "\n",
       "    .dataframe thead th {\n",
       "        text-align: right;\n",
       "    }\n",
       "</style>\n",
       "<table border=\"1\" class=\"dataframe\">\n",
       "  <thead>\n",
       "    <tr style=\"text-align: right;\">\n",
       "      <th></th>\n",
       "      <th>headlines</th>\n",
       "      <th>text</th>\n",
       "    </tr>\n",
       "  </thead>\n",
       "  <tbody>\n",
       "    <tr>\n",
       "      <th>51</th>\n",
       "      <td>boeing sales cross bn for st time in its yr hi...</td>\n",
       "      <td>us based boeing wednesday reported annual sale...</td>\n",
       "    </tr>\n",
       "    <tr>\n",
       "      <th>53</th>\n",
       "      <td>oneplus named bestselling premium smartphone b...</td>\n",
       "      <td>oneplus emerged india best selling premium sma...</td>\n",
       "    </tr>\n",
       "  </tbody>\n",
       "</table>\n",
       "</div>"
      ],
      "text/plain": [
       "                                            headlines  \\\n",
       "51  boeing sales cross bn for st time in its yr hi...   \n",
       "53  oneplus named bestselling premium smartphone b...   \n",
       "\n",
       "                                                 text  \n",
       "51  us based boeing wednesday reported annual sale...  \n",
       "53  oneplus emerged india best selling premium sma...  "
      ]
     },
     "execution_count": 126,
     "metadata": {},
     "output_type": "execute_result"
    }
   ],
   "source": [
    "data.loc[51:53]"
   ]
  },
  {
   "cell_type": "markdown",
   "id": "c30f8c59",
   "metadata": {},
   "source": [
    "- 인덱스 리셋"
   ]
  },
  {
   "cell_type": "code",
   "execution_count": 127,
   "id": "35320223",
   "metadata": {},
   "outputs": [
    {
     "data": {
      "text/html": [
       "<div>\n",
       "<style scoped>\n",
       "    .dataframe tbody tr th:only-of-type {\n",
       "        vertical-align: middle;\n",
       "    }\n",
       "\n",
       "    .dataframe tbody tr th {\n",
       "        vertical-align: top;\n",
       "    }\n",
       "\n",
       "    .dataframe thead th {\n",
       "        text-align: right;\n",
       "    }\n",
       "</style>\n",
       "<table border=\"1\" class=\"dataframe\">\n",
       "  <thead>\n",
       "    <tr style=\"text-align: right;\">\n",
       "      <th></th>\n",
       "      <th>headlines</th>\n",
       "      <th>text</th>\n",
       "    </tr>\n",
       "  </thead>\n",
       "  <tbody>\n",
       "    <tr>\n",
       "      <th>51</th>\n",
       "      <td>boeing sales cross bn for st time in its yr hi...</td>\n",
       "      <td>us based boeing wednesday reported annual sale...</td>\n",
       "    </tr>\n",
       "    <tr>\n",
       "      <th>52</th>\n",
       "      <td>oneplus named bestselling premium smartphone b...</td>\n",
       "      <td>oneplus emerged india best selling premium sma...</td>\n",
       "    </tr>\n",
       "    <tr>\n",
       "      <th>53</th>\n",
       "      <td>can never look at female body even if naked in...</td>\n",
       "      <td>filmmaker pooja bhatt talking presentation wom...</td>\n",
       "    </tr>\n",
       "  </tbody>\n",
       "</table>\n",
       "</div>"
      ],
      "text/plain": [
       "                                            headlines  \\\n",
       "51  boeing sales cross bn for st time in its yr hi...   \n",
       "52  oneplus named bestselling premium smartphone b...   \n",
       "53  can never look at female body even if naked in...   \n",
       "\n",
       "                                                 text  \n",
       "51  us based boeing wednesday reported annual sale...  \n",
       "52  oneplus emerged india best selling premium sma...  \n",
       "53  filmmaker pooja bhatt talking presentation wom...  "
      ]
     },
     "execution_count": 127,
     "metadata": {},
     "output_type": "execute_result"
    }
   ],
   "source": [
    "data.reset_index(inplace=True, drop=True)\n",
    "data.loc[51:53]"
   ]
  },
  {
   "cell_type": "markdown",
   "id": "7b8feccd",
   "metadata": {},
   "source": [
    "### Outlier  확인 (긴 길이의 샘플)"
   ]
  },
  {
   "cell_type": "markdown",
   "id": "5d18b051",
   "metadata": {},
   "source": [
    "- 데이터 내 일반적이지 않게 긴 샘플로 인해 대다수의 데이터에 필요 이상의 긴 패딩이 들어가 모델 성능을 저하시키는 문제가 발생할 수 있다.\n",
    "\n",
    "- 적당한 최대 길이를 선정하여 그보다 긴 샘플을 제외한다."
   ]
  },
  {
   "cell_type": "code",
   "execution_count": 134,
   "id": "dcc00852",
   "metadata": {},
   "outputs": [],
   "source": [
    "text_max_len = 45\n",
    "headlines_max_len = 13"
   ]
  },
  {
   "cell_type": "code",
   "execution_count": 162,
   "id": "7412fa72",
   "metadata": {},
   "outputs": [],
   "source": [
    "def check_above_thres(max_len, column):\n",
    "    num_outlier = len(data[data[column].str.split().str.len() > max_len])\n",
    "    print(f'길이 {max_len} 초과의 샘플 수  : {num_outlier}')\n",
    "    print(f'길이 {max_len} 이하의 샘플 비율: {100 * (1 - num_outlier / len(data)):.2f}%')"
   ]
  },
  {
   "cell_type": "markdown",
   "id": "a9aafe37",
   "metadata": {},
   "source": [
    "- 헤드라인의 경우 13을 초과 하는 경우 Outlier로 계산"
   ]
  },
  {
   "cell_type": "code",
   "execution_count": 163,
   "id": "a59ed9fd",
   "metadata": {},
   "outputs": [
    {
     "name": "stdout",
     "output_type": "stream",
     "text": [
      "길이 13 초과의 샘플 수  : 180\n",
      "길이 13 이하의 샘플 비율: 99.82%\n"
     ]
    }
   ],
   "source": [
    "check_above_thres(headlines_max_len, 'headlines')"
   ]
  },
  {
   "cell_type": "markdown",
   "id": "92f37b50",
   "metadata": {},
   "source": [
    "- 본문의 경우 45를 초과 하는 경우 Outlier로 계산"
   ]
  },
  {
   "cell_type": "code",
   "execution_count": 164,
   "id": "1932a3a8",
   "metadata": {},
   "outputs": [
    {
     "name": "stdout",
     "output_type": "stream",
     "text": [
      "길이 45 초과의 샘플 수  : 317\n",
      "길이 45 이하의 샘플 비율: 99.68%\n"
     ]
    }
   ],
   "source": [
    "check_above_thres(text_max_len, 'text')"
   ]
  },
  {
   "cell_type": "markdown",
   "id": "2888302e",
   "metadata": {},
   "source": [
    "- 헤드라인, 본문의 아웃라이어 중복 여부 확인"
   ]
  },
  {
   "cell_type": "code",
   "execution_count": 201,
   "id": "4352e1eb",
   "metadata": {},
   "outputs": [
    {
     "data": {
      "text/plain": [
       "0"
      ]
     },
     "execution_count": 201,
     "metadata": {},
     "output_type": "execute_result"
    }
   ],
   "source": [
    "headlines_out = data[data['headlines'].str.split().str.len() > headlines_max_len].index\n",
    "text_out = data[data['text'].str.split().str.len() > text_max_len].index\n",
    "\n",
    "len(headlines_out.intersection(text_out))"
   ]
  },
  {
   "cell_type": "markdown",
   "id": "49486fe0",
   "metadata": {},
   "source": [
    "- 중복되지 않는 각 아웃라이어를 제외하면 총 97,862개의 데이터가 남을 것으로 예상"
   ]
  },
  {
   "cell_type": "code",
   "execution_count": 203,
   "id": "35280294",
   "metadata": {},
   "outputs": [
    {
     "data": {
      "text/plain": [
       "97862"
      ]
     },
     "execution_count": 203,
     "metadata": {},
     "output_type": "execute_result"
    }
   ],
   "source": [
    "len(data) - 180 - 317"
   ]
  },
  {
   "cell_type": "code",
   "execution_count": 200,
   "id": "4349fcfd",
   "metadata": {},
   "outputs": [
    {
     "data": {
      "text/plain": [
       "97862"
      ]
     },
     "execution_count": 200,
     "metadata": {},
     "output_type": "execute_result"
    }
   ],
   "source": [
    "headlines_out = data[data['headlines'].str.split().str.len() <= headlines_max_len].index\n",
    "text_out = data[data['text'].str.split().str.len() <= text_max_len].index\n",
    "\n",
    "len(headlines_out.intersection(text_out))"
   ]
  },
  {
   "cell_type": "code",
   "execution_count": 205,
   "id": "940bdc50",
   "metadata": {},
   "outputs": [
    {
     "data": {
      "text/html": [
       "<div>\n",
       "<style scoped>\n",
       "    .dataframe tbody tr th:only-of-type {\n",
       "        vertical-align: middle;\n",
       "    }\n",
       "\n",
       "    .dataframe tbody tr th {\n",
       "        vertical-align: top;\n",
       "    }\n",
       "\n",
       "    .dataframe thead th {\n",
       "        text-align: right;\n",
       "    }\n",
       "</style>\n",
       "<table border=\"1\" class=\"dataframe\">\n",
       "  <thead>\n",
       "    <tr style=\"text-align: right;\">\n",
       "      <th></th>\n",
       "      <th>headlines</th>\n",
       "      <th>text</th>\n",
       "    </tr>\n",
       "  </thead>\n",
       "  <tbody>\n",
       "    <tr>\n",
       "      <th>0</th>\n",
       "      <td>upgrad learner switches to career in ml al wit...</td>\n",
       "      <td>saurav kant alumnus upgrad iiit pg program mac...</td>\n",
       "    </tr>\n",
       "    <tr>\n",
       "      <th>1</th>\n",
       "      <td>delhi techie wins free food from swiggy for on...</td>\n",
       "      <td>kunal shah credit card bill payment platform c...</td>\n",
       "    </tr>\n",
       "    <tr>\n",
       "      <th>2</th>\n",
       "      <td>new zealand end rohit sharma led india match w...</td>\n",
       "      <td>new zealand defeated india wickets fourth odi ...</td>\n",
       "    </tr>\n",
       "    <tr>\n",
       "      <th>3</th>\n",
       "      <td>aegon life iterm insurance plan helps customer...</td>\n",
       "      <td>aegon life iterm insurance plan customers enjo...</td>\n",
       "    </tr>\n",
       "    <tr>\n",
       "      <th>4</th>\n",
       "      <td>have known hirani for yrs what if metoo claims...</td>\n",
       "      <td>speaking sexual harassment allegations rajkuma...</td>\n",
       "    </tr>\n",
       "    <tr>\n",
       "      <th>...</th>\n",
       "      <td>...</td>\n",
       "      <td>...</td>\n",
       "    </tr>\n",
       "    <tr>\n",
       "      <th>98354</th>\n",
       "      <td>crpf jawan axed to death by maoists in chhatti...</td>\n",
       "      <td>crpf jawan tuesday axed death sharp edged weap...</td>\n",
       "    </tr>\n",
       "    <tr>\n",
       "      <th>98355</th>\n",
       "      <td>first song from sonakshi sinha noor titled uff...</td>\n",
       "      <td>uff yeh first song sonakshi sinha starrer upco...</td>\n",
       "    </tr>\n",
       "    <tr>\n",
       "      <th>98356</th>\n",
       "      <td>the matrix film to get reboot reports</td>\n",
       "      <td>according reports new version science fiction ...</td>\n",
       "    </tr>\n",
       "    <tr>\n",
       "      <th>98357</th>\n",
       "      <td>snoop dogg aims gun at clown dressed as trump ...</td>\n",
       "      <td>new music video shows rapper snoop dogg aiming...</td>\n",
       "    </tr>\n",
       "    <tr>\n",
       "      <th>98358</th>\n",
       "      <td>madhesi morcha withdraws support to nepalese g...</td>\n",
       "      <td>madhesi morcha alliance seven political partie...</td>\n",
       "    </tr>\n",
       "  </tbody>\n",
       "</table>\n",
       "<p>97862 rows × 2 columns</p>\n",
       "</div>"
      ],
      "text/plain": [
       "                                               headlines  \\\n",
       "0      upgrad learner switches to career in ml al wit...   \n",
       "1      delhi techie wins free food from swiggy for on...   \n",
       "2      new zealand end rohit sharma led india match w...   \n",
       "3      aegon life iterm insurance plan helps customer...   \n",
       "4      have known hirani for yrs what if metoo claims...   \n",
       "...                                                  ...   \n",
       "98354  crpf jawan axed to death by maoists in chhatti...   \n",
       "98355  first song from sonakshi sinha noor titled uff...   \n",
       "98356              the matrix film to get reboot reports   \n",
       "98357  snoop dogg aims gun at clown dressed as trump ...   \n",
       "98358  madhesi morcha withdraws support to nepalese g...   \n",
       "\n",
       "                                                    text  \n",
       "0      saurav kant alumnus upgrad iiit pg program mac...  \n",
       "1      kunal shah credit card bill payment platform c...  \n",
       "2      new zealand defeated india wickets fourth odi ...  \n",
       "3      aegon life iterm insurance plan customers enjo...  \n",
       "4      speaking sexual harassment allegations rajkuma...  \n",
       "...                                                  ...  \n",
       "98354  crpf jawan tuesday axed death sharp edged weap...  \n",
       "98355  uff yeh first song sonakshi sinha starrer upco...  \n",
       "98356  according reports new version science fiction ...  \n",
       "98357  new music video shows rapper snoop dogg aiming...  \n",
       "98358  madhesi morcha alliance seven political partie...  \n",
       "\n",
       "[97862 rows x 2 columns]"
      ]
     },
     "execution_count": 205,
     "metadata": {},
     "output_type": "execute_result"
    }
   ],
   "source": [
    "data = data[((data['headlines'].str.split().str.len() <= headlines_max_len) &\n",
    "             (data['text'].str.split().str.len() <= text_max_len))]\n",
    "\n",
    "data"
   ]
  },
  {
   "cell_type": "code",
   "execution_count": 343,
   "id": "d4fea5dd",
   "metadata": {},
   "outputs": [
    {
     "name": "stdout",
     "output_type": "stream",
     "text": [
      "텍스트의 최소 길이 \t: 18\n",
      "텍스트의 최대 길이 \t: 45\n",
      "텍스트의 평균 길이 \t: 35.063354519629684\n",
      "헤드라인의 최소 길이 \t: 3\n",
      "헤드라인의 최대 길이 \t: 13\n",
      "헤드라인의 평균 길이 \t: 9.289959330485786\n"
     ]
    },
    {
     "data": {
      "image/png": "[encoded data removed]",
      "text/plain": [
       "<Figure size 432x288 with 2 Axes>"
      ]
     },
     "metadata": {
      "needs_background": "light"
     },
     "output_type": "display_data"
    },
    {
     "data": {
      "image/png": "[encoded data removed]",
      "text/plain": [
       "<Figure size 432x288 with 1 Axes>"
      ]
     },
     "metadata": {
      "needs_background": "light"
     },
     "output_type": "display_data"
    },
    {
     "data": {
      "image/png": "[encoded data removed]",
      "text/plain": [
       "<Figure size 432x288 with 1 Axes>"
      ]
     },
     "metadata": {
      "needs_background": "light"
     },
     "output_type": "display_data"
    }
   ],
   "source": [
    "get_len_graph(data)"
   ]
  },
  {
   "cell_type": "markdown",
   "id": "f27c607c",
   "metadata": {},
   "source": [
    "## 시작 및 종료 토큰 추가"
   ]
  },
  {
   "cell_type": "code",
   "execution_count": 219,
   "id": "8ef3ca23",
   "metadata": {},
   "outputs": [
    {
     "name": "stderr",
     "output_type": "stream",
     "text": [
      "/opt/conda/lib/python3.9/site-packages/pandas/core/indexing.py:1667: SettingWithCopyWarning: \n",
      "A value is trying to be set on a copy of a slice from a DataFrame.\n",
      "Try using .loc[row_indexer,col_indexer] = value instead\n",
      "\n",
      "See the caveats in the documentation: https://pandas.pydata.org/pandas-docs/stable/user_guide/indexing.html#returning-a-view-versus-a-copy\n",
      "  self.obj[key] = value\n"
     ]
    },
    {
     "data": {
      "text/html": [
       "<div>\n",
       "<style scoped>\n",
       "    .dataframe tbody tr th:only-of-type {\n",
       "        vertical-align: middle;\n",
       "    }\n",
       "\n",
       "    .dataframe tbody tr th {\n",
       "        vertical-align: top;\n",
       "    }\n",
       "\n",
       "    .dataframe thead th {\n",
       "        text-align: right;\n",
       "    }\n",
       "</style>\n",
       "<table border=\"1\" class=\"dataframe\">\n",
       "  <thead>\n",
       "    <tr style=\"text-align: right;\">\n",
       "      <th></th>\n",
       "      <th>headlines</th>\n",
       "      <th>text</th>\n",
       "      <th>decoder_input</th>\n",
       "      <th>decoder_target</th>\n",
       "    </tr>\n",
       "  </thead>\n",
       "  <tbody>\n",
       "    <tr>\n",
       "      <th>0</th>\n",
       "      <td>upgrad learner switches to career in ml al wit...</td>\n",
       "      <td>saurav kant alumnus upgrad iiit pg program mac...</td>\n",
       "      <td>sostoken upgrad learner switches to career in ...</td>\n",
       "      <td>upgrad learner switches to career in ml al wit...</td>\n",
       "    </tr>\n",
       "    <tr>\n",
       "      <th>1</th>\n",
       "      <td>delhi techie wins free food from swiggy for on...</td>\n",
       "      <td>kunal shah credit card bill payment platform c...</td>\n",
       "      <td>sostoken delhi techie wins free food from swig...</td>\n",
       "      <td>delhi techie wins free food from swiggy for on...</td>\n",
       "    </tr>\n",
       "    <tr>\n",
       "      <th>2</th>\n",
       "      <td>new zealand end rohit sharma led india match w...</td>\n",
       "      <td>new zealand defeated india wickets fourth odi ...</td>\n",
       "      <td>sostoken new zealand end rohit sharma led indi...</td>\n",
       "      <td>new zealand end rohit sharma led india match w...</td>\n",
       "    </tr>\n",
       "    <tr>\n",
       "      <th>3</th>\n",
       "      <td>aegon life iterm insurance plan helps customer...</td>\n",
       "      <td>aegon life iterm insurance plan customers enjo...</td>\n",
       "      <td>sostoken aegon life iterm insurance plan helps...</td>\n",
       "      <td>aegon life iterm insurance plan helps customer...</td>\n",
       "    </tr>\n",
       "    <tr>\n",
       "      <th>4</th>\n",
       "      <td>have known hirani for yrs what if metoo claims...</td>\n",
       "      <td>speaking sexual harassment allegations rajkuma...</td>\n",
       "      <td>sostoken have known hirani for yrs what if met...</td>\n",
       "      <td>have known hirani for yrs what if metoo claims...</td>\n",
       "    </tr>\n",
       "    <tr>\n",
       "      <th>...</th>\n",
       "      <td>...</td>\n",
       "      <td>...</td>\n",
       "      <td>...</td>\n",
       "      <td>...</td>\n",
       "    </tr>\n",
       "    <tr>\n",
       "      <th>98354</th>\n",
       "      <td>crpf jawan axed to death by maoists in chhatti...</td>\n",
       "      <td>crpf jawan tuesday axed death sharp edged weap...</td>\n",
       "      <td>sostoken crpf jawan axed to death by maoists i...</td>\n",
       "      <td>crpf jawan axed to death by maoists in chhatti...</td>\n",
       "    </tr>\n",
       "    <tr>\n",
       "      <th>98355</th>\n",
       "      <td>first song from sonakshi sinha noor titled uff...</td>\n",
       "      <td>uff yeh first song sonakshi sinha starrer upco...</td>\n",
       "      <td>sostoken first song from sonakshi sinha noor t...</td>\n",
       "      <td>first song from sonakshi sinha noor titled uff...</td>\n",
       "    </tr>\n",
       "    <tr>\n",
       "      <th>98356</th>\n",
       "      <td>the matrix film to get reboot reports</td>\n",
       "      <td>according reports new version science fiction ...</td>\n",
       "      <td>sostoken the matrix film to get reboot reports</td>\n",
       "      <td>the matrix film to get reboot reports eostoken</td>\n",
       "    </tr>\n",
       "    <tr>\n",
       "      <th>98357</th>\n",
       "      <td>snoop dogg aims gun at clown dressed as trump ...</td>\n",
       "      <td>new music video shows rapper snoop dogg aiming...</td>\n",
       "      <td>sostoken snoop dogg aims gun at clown dressed ...</td>\n",
       "      <td>snoop dogg aims gun at clown dressed as trump ...</td>\n",
       "    </tr>\n",
       "    <tr>\n",
       "      <th>98358</th>\n",
       "      <td>madhesi morcha withdraws support to nepalese g...</td>\n",
       "      <td>madhesi morcha alliance seven political partie...</td>\n",
       "      <td>sostoken madhesi morcha withdraws support to n...</td>\n",
       "      <td>madhesi morcha withdraws support to nepalese g...</td>\n",
       "    </tr>\n",
       "  </tbody>\n",
       "</table>\n",
       "<p>97862 rows × 4 columns</p>\n",
       "</div>"
      ],
      "text/plain": [
       "                                               headlines  \\\n",
       "0      upgrad learner switches to career in ml al wit...   \n",
       "1      delhi techie wins free food from swiggy for on...   \n",
       "2      new zealand end rohit sharma led india match w...   \n",
       "3      aegon life iterm insurance plan helps customer...   \n",
       "4      have known hirani for yrs what if metoo claims...   \n",
       "...                                                  ...   \n",
       "98354  crpf jawan axed to death by maoists in chhatti...   \n",
       "98355  first song from sonakshi sinha noor titled uff...   \n",
       "98356              the matrix film to get reboot reports   \n",
       "98357  snoop dogg aims gun at clown dressed as trump ...   \n",
       "98358  madhesi morcha withdraws support to nepalese g...   \n",
       "\n",
       "                                                    text  \\\n",
       "0      saurav kant alumnus upgrad iiit pg program mac...   \n",
       "1      kunal shah credit card bill payment platform c...   \n",
       "2      new zealand defeated india wickets fourth odi ...   \n",
       "3      aegon life iterm insurance plan customers enjo...   \n",
       "4      speaking sexual harassment allegations rajkuma...   \n",
       "...                                                  ...   \n",
       "98354  crpf jawan tuesday axed death sharp edged weap...   \n",
       "98355  uff yeh first song sonakshi sinha starrer upco...   \n",
       "98356  according reports new version science fiction ...   \n",
       "98357  new music video shows rapper snoop dogg aiming...   \n",
       "98358  madhesi morcha alliance seven political partie...   \n",
       "\n",
       "                                           decoder_input  \\\n",
       "0      sostoken upgrad learner switches to career in ...   \n",
       "1      sostoken delhi techie wins free food from swig...   \n",
       "2      sostoken new zealand end rohit sharma led indi...   \n",
       "3      sostoken aegon life iterm insurance plan helps...   \n",
       "4      sostoken have known hirani for yrs what if met...   \n",
       "...                                                  ...   \n",
       "98354  sostoken crpf jawan axed to death by maoists i...   \n",
       "98355  sostoken first song from sonakshi sinha noor t...   \n",
       "98356     sostoken the matrix film to get reboot reports   \n",
       "98357  sostoken snoop dogg aims gun at clown dressed ...   \n",
       "98358  sostoken madhesi morcha withdraws support to n...   \n",
       "\n",
       "                                          decoder_target  \n",
       "0      upgrad learner switches to career in ml al wit...  \n",
       "1      delhi techie wins free food from swiggy for on...  \n",
       "2      new zealand end rohit sharma led india match w...  \n",
       "3      aegon life iterm insurance plan helps customer...  \n",
       "4      have known hirani for yrs what if metoo claims...  \n",
       "...                                                  ...  \n",
       "98354  crpf jawan axed to death by maoists in chhatti...  \n",
       "98355  first song from sonakshi sinha noor titled uff...  \n",
       "98356     the matrix film to get reboot reports eostoken  \n",
       "98357  snoop dogg aims gun at clown dressed as trump ...  \n",
       "98358  madhesi morcha withdraws support to nepalese g...  \n",
       "\n",
       "[97862 rows x 4 columns]"
      ]
     },
     "execution_count": 219,
     "metadata": {},
     "output_type": "execute_result"
    }
   ],
   "source": [
    "data.loc[:, 'decoder_input'] = 'sostoken ' + data['headlines']\n",
    "data.loc[:, 'decoder_target'] = data['headlines'] + ' eostoken'\n",
    "\n",
    "data"
   ]
  },
  {
   "cell_type": "code",
   "execution_count": 220,
   "id": "2b395f9d",
   "metadata": {},
   "outputs": [
    {
     "data": {
      "text/plain": [
       "'upgrad learner switches to career in ml al with salary hike eostoken'"
      ]
     },
     "execution_count": 220,
     "metadata": {},
     "output_type": "execute_result"
    }
   ],
   "source": [
    "data.loc[0, 'decoder_target']"
   ]
  },
  {
   "cell_type": "markdown",
   "id": "9007fcf5",
   "metadata": {},
   "source": [
    "## 데이터 나누기"
   ]
  },
  {
   "cell_type": "markdown",
   "id": "3ee87f9d",
   "metadata": {},
   "source": [
    "- 데이터 샘플 순서를 동일하게 섞어서 각 인코더의 입력, 디코더의 입력과 레이블로 나누기"
   ]
  },
  {
   "cell_type": "code",
   "execution_count": 323,
   "id": "6e74024c",
   "metadata": {},
   "outputs": [
    {
     "data": {
      "text/plain": [
       "((97862,), (97862,), (97862,))"
      ]
     },
     "execution_count": 323,
     "metadata": {},
     "output_type": "execute_result"
    }
   ],
   "source": [
    "encoder_input = np.array(data.sample(frac=1, random_state=33)['text'])\n",
    "decoder_input = np.array(data.sample(frac=1, random_state=33)['decoder_input'])\n",
    "decoder_target = np.array(data.sample(frac=1, random_state=33)['decoder_target'])\n",
    "\n",
    "encoder_input.shape, decoder_input.shape, decoder_target.shape"
   ]
  },
  {
   "cell_type": "markdown",
   "id": "a336551b",
   "metadata": {},
   "source": [
    "- 8:2 비율로 Train, Validation Set으로 분리"
   ]
  },
  {
   "cell_type": "code",
   "execution_count": 338,
   "id": "7ae11e01",
   "metadata": {},
   "outputs": [
    {
     "name": "stdout",
     "output_type": "stream",
     "text": [
      "validation 데이터의 수 : 19572\n"
     ]
    }
   ],
   "source": [
    "n_of_val = int(len(data)*0.2)\n",
    "print('validation 데이터의 수 :', n_of_val)"
   ]
  },
  {
   "cell_type": "code",
   "execution_count": 363,
   "id": "5bcc670b",
   "metadata": {},
   "outputs": [
    {
     "name": "stdout",
     "output_type": "stream",
     "text": [
      "훈련 데이터의 개수 : 78290\n",
      "훈련 레이블의 개수 : 78290\n",
      "검증 데이터의 개수 : 19572\n",
      "검증 레이블의 개수 : 19572\n"
     ]
    }
   ],
   "source": [
    "encoder_input_train = encoder_input[:-n_of_val]\n",
    "decoder_input_train = decoder_input[:-n_of_val]\n",
    "decoder_target_train = decoder_target[:-n_of_val]\n",
    "\n",
    "encoder_input_val = encoder_input[-n_of_val:]\n",
    "decoder_input_val = decoder_input[-n_of_val:]\n",
    "decoder_target_val = decoder_target[-n_of_val:]\n",
    "\n",
    "print('훈련 데이터의 개수 :', len(encoder_input_train))\n",
    "print('훈련 레이블의 개수 :', len(decoder_input_train))\n",
    "print('검증 데이터의 개수 :', len(encoder_input_val))\n",
    "print('검증 레이블의 개수 :', len(decoder_input_val))"
   ]
  },
  {
   "cell_type": "markdown",
   "id": "9e23761f",
   "metadata": {},
   "source": [
    "## 단어 집합(vocabulary) 만들기 및 정수 인코딩"
   ]
  },
  {
   "cell_type": "markdown",
   "id": "cf0a5ab0",
   "metadata": {},
   "source": [
    "### Encoder Input"
   ]
  },
  {
   "cell_type": "markdown",
   "id": "2e66a079",
   "metadata": {},
   "source": [
    "- 토크나이저를 이용하여 단어 집합 생성"
   ]
  },
  {
   "cell_type": "code",
   "execution_count": 364,
   "id": "897c753b",
   "metadata": {},
   "outputs": [],
   "source": [
    "src_tokenizer = Tokenizer() # 토크나이저 정의\n",
    "src_tokenizer.fit_on_texts(encoder_input_train) # 입력된 데이터로부터 단어 집합 생성"
   ]
  },
  {
   "cell_type": "code",
   "execution_count": 378,
   "id": "d45010bf",
   "metadata": {},
   "outputs": [],
   "source": [
    "def vocab_analysis(tokenizer, threshold):\n",
    "    total_cnt = len(tokenizer.word_index) # 단어의 수\n",
    "    rare_cnt = 0 # 등장 빈도수가 threshold보다 작은 단어의 개수를 카운트\n",
    "    total_freq = 0 # 훈련 데이터의 전체 단어 빈도수 총 합\n",
    "    rare_freq = 0 # 등장 빈도수가 threshold보다 작은 단어의 등장 빈도수의 총 합\n",
    "\n",
    "    # 단어와 빈도수의 쌍(pair)을 key와 value로 받는다.\n",
    "    for key, value in tokenizer.word_counts.items():\n",
    "        total_freq = total_freq + value\n",
    "\n",
    "        # 단어의 등장 빈도수가 threshold보다 작으면\n",
    "        if(value < threshold):\n",
    "            rare_cnt = rare_cnt + 1\n",
    "            rare_freq = rare_freq + value\n",
    "\n",
    "    print('단어 집합(vocabulary)의 크기 :', total_cnt)\n",
    "    print('등장 빈도가 %s번 이하인 희귀 단어의 수: %s'%(threshold - 1, rare_cnt))\n",
    "    print('단어 집합에서 희귀 단어를 제외시킬 경우의 단어 집합의 크기: %s'%(total_cnt - rare_cnt))\n",
    "    print(\"단어 집합에서 희귀 단어의 비율:\", (rare_cnt / total_cnt)*100)\n",
    "    print(\"전체 등장 빈도에서 희귀 단어 등장 빈도 비율:\", (rare_freq / total_freq)*100)"
   ]
  },
  {
   "cell_type": "code",
   "execution_count": 381,
   "id": "7044b711",
   "metadata": {},
   "outputs": [
    {
     "name": "stdout",
     "output_type": "stream",
     "text": [
      "단어 집합(vocabulary)의 크기 : 69409\n",
      "등장 빈도가 7번 이하인 희귀 단어의 수: 48730\n",
      "단어 집합에서 희귀 단어를 제외시킬 경우의 단어 집합의 크기: 20679\n",
      "단어 집합에서 희귀 단어의 비율: 70.20703366998517\n",
      "전체 등장 빈도에서 희귀 단어 등장 빈도 비율: 3.8632789653055117\n"
     ]
    }
   ],
   "source": [
    "vocab_analysis(src_tokenizer, 8)"
   ]
  },
  {
   "cell_type": "markdown",
   "id": "f1ff3433",
   "metadata": {},
   "source": [
    "- 약 6만 9천여 개의 단어 중 2만 개의 단어로 집합의 크기를 제한.\n",
    "- 약 96% 이상 등장 빈도를 갖는 단어들로 단어 집합 구성."
   ]
  },
  {
   "cell_type": "code",
   "execution_count": 366,
   "id": "fc0eee41",
   "metadata": {},
   "outputs": [],
   "source": [
    "src_vocab = 20000\n",
    "src_tokenizer = Tokenizer(num_words=src_vocab) # 단어 집합의 크기를 20,000으로 제한\n",
    "src_tokenizer.fit_on_texts(encoder_input_train) # 단어 집합 재생성"
   ]
  },
  {
   "cell_type": "markdown",
   "id": "df0bebc4",
   "metadata": {},
   "source": [
    "- 정수 인코딩"
   ]
  },
  {
   "cell_type": "code",
   "execution_count": 367,
   "id": "5d6a1530",
   "metadata": {},
   "outputs": [
    {
     "name": "stdout",
     "output_type": "stream",
     "text": [
      "[[239, 429, 466, 3250, 1953, 136, 10948, 61, 81, 69, 574, 160, 60, 6323, 154, 112, 3352, 3778, 2403, 9, 1330, 85, 10, 985, 77, 7220, 24, 773, 1797, 1197], [160, 60, 9, 1975, 640, 66, 717, 3530, 177, 6791, 255, 15942, 971, 156, 109, 66, 432, 1975, 3751, 3317, 1408, 65, 1899, 255, 37, 6, 159, 5865, 1408, 3489], [11513, 214, 45, 150, 15, 114, 47, 88, 1, 1016, 748, 135, 1008, 7408, 1066, 320, 1651, 887, 2842, 3653, 9264, 47, 4, 2, 420, 1968, 8210, 232, 197, 6479, 288, 12153, 5796, 1968, 752]]\n"
     ]
    }
   ],
   "source": [
    "encoder_input_train = src_tokenizer.texts_to_sequences(encoder_input_train)\n",
    "encoder_input_val = src_tokenizer.texts_to_sequences(encoder_input_val)\n",
    "\n",
    "# 샘플 출력\n",
    "print(encoder_input_train[:3])"
   ]
  },
  {
   "cell_type": "markdown",
   "id": "16d95fdb",
   "metadata": {},
   "source": [
    "### Decoder Input & Target"
   ]
  },
  {
   "cell_type": "markdown",
   "id": "1a0f4237",
   "metadata": {},
   "source": [
    "- 집합 생성"
   ]
  },
  {
   "cell_type": "code",
   "execution_count": 382,
   "id": "1c2e36cd",
   "metadata": {},
   "outputs": [],
   "source": [
    "tar_tokenizer = Tokenizer()\n",
    "tar_tokenizer.fit_on_texts(decoder_input_train)"
   ]
  },
  {
   "cell_type": "code",
   "execution_count": 391,
   "id": "00ddd673",
   "metadata": {},
   "outputs": [
    {
     "name": "stdout",
     "output_type": "stream",
     "text": [
      "단어 집합(vocabulary)의 크기 : 30071\n",
      "등장 빈도가 8번 이하인 희귀 단어의 수: 21957\n",
      "단어 집합에서 희귀 단어를 제외시킬 경우의 단어 집합의 크기: 8114\n",
      "단어 집합에서 희귀 단어의 비율: 73.01719264407569\n",
      "전체 등장 빈도에서 희귀 단어 등장 빈도 비율: 6.609342342387069\n"
     ]
    }
   ],
   "source": [
    "vocab_analysis(tar_tokenizer, 9)"
   ]
  },
  {
   "cell_type": "markdown",
   "id": "48416874",
   "metadata": {},
   "source": [
    "- 약 3만여 개의 단어 중 8천 개의 단어로 집합의 크기를 제한.\n",
    "- 약 93% 이상 등장 빈도를 갖는 단어들로 단어 집합 구성."
   ]
  },
  {
   "cell_type": "code",
   "execution_count": 393,
   "id": "750d0941",
   "metadata": {},
   "outputs": [],
   "source": [
    "tar_vocab = 8000\n",
    "tar_tokenizer = Tokenizer(num_words=tar_vocab) \n",
    "tar_tokenizer.fit_on_texts(decoder_input_train)\n",
    "tar_tokenizer.fit_on_texts(decoder_target_train)"
   ]
  },
  {
   "cell_type": "markdown",
   "id": "24e603e0",
   "metadata": {},
   "source": [
    "- 정수 인코딩"
   ]
  },
  {
   "cell_type": "code",
   "execution_count": 396,
   "id": "06918b1a",
   "metadata": {},
   "outputs": [
    {
     "name": "stdout",
     "output_type": "stream",
     "text": [
      "input\n",
      "input  [[1, 337, 321, 2482, 1922, 4, 25], [1, 427, 641, 11, 75, 243, 122, 3108, 260, 12, 5409], [1, 1364, 2524, 4, 346, 860, 19, 431, 38], [1, 427, 125, 5, 688, 40, 7, 6, 521], [1, 8, 2905, 9, 2433, 12, 4255, 4989, 478, 4, 1285]]\n",
      "==================================================\n",
      "target\n",
      "decoder  [[337, 321, 2482, 1922, 4, 25, 2], [427, 641, 11, 75, 243, 122, 3108, 260, 12, 5409, 2], [1364, 2524, 4, 346, 860, 19, 431, 38, 2], [427, 125, 5, 688, 40, 7, 6, 521, 2], [8, 2905, 9, 2433, 12, 4255, 4989, 478, 4, 1285, 2]]\n"
     ]
    }
   ],
   "source": [
    "decoder_input_train = tar_tokenizer.texts_to_sequences(decoder_input_train) \n",
    "decoder_target_train = tar_tokenizer.texts_to_sequences(decoder_target_train)\n",
    "decoder_input_val = tar_tokenizer.texts_to_sequences(decoder_input_val)\n",
    "decoder_target_val = tar_tokenizer.texts_to_sequences(decoder_target_val)\n",
    "\n",
    "# 변환 결과 확인\n",
    "print('input')\n",
    "print('input ',decoder_input_train[:5])\n",
    "print('='*50)\n",
    "print('target')\n",
    "print('decoder ',decoder_target_train[:5])"
   ]
  },
  {
   "cell_type": "markdown",
   "id": "fe379fb9",
   "metadata": {},
   "source": [
    "## 빈 샘플 제거"
   ]
  },
  {
   "cell_type": "markdown",
   "id": "1465cdb8",
   "metadata": {},
   "source": [
    "- 인코딩 후 빈도수가 낮은 단어로만 구성되어 빈 샘플이 있는지 확인하여 제거"
   ]
  },
  {
   "cell_type": "code",
   "execution_count": 397,
   "id": "aad2c7fd",
   "metadata": {},
   "outputs": [
    {
     "name": "stdout",
     "output_type": "stream",
     "text": [
      "훈련 데이터의 개수 : 78290\n",
      "훈련 레이블의 개수 : 78290\n",
      "검증 데이터의 개수 : 19572\n",
      "검증 레이블의 개수 : 19572\n"
     ]
    }
   ],
   "source": [
    "print('훈련 데이터의 개수 :', len(encoder_input_train))\n",
    "print('훈련 레이블의 개수 :', len(decoder_input_train))\n",
    "print('검증 데이터의 개수 :', len(encoder_input_val))\n",
    "print('검증 레이블의 개수 :', len(decoder_input_val))"
   ]
  },
  {
   "cell_type": "code",
   "execution_count": 399,
   "id": "d59383dc",
   "metadata": {},
   "outputs": [
    {
     "name": "stdout",
     "output_type": "stream",
     "text": [
      "삭제할 훈련 데이터의 개수 : 0\n",
      "삭제할 테스트 데이터의 개수 : 0\n",
      "훈련 데이터의 개수 : 78290\n",
      "훈련 레이블의 개수 : 78290\n",
      "검증 데이터의 개수 : 19572\n",
      "검증 레이블의 개수 : 19572\n"
     ]
    }
   ],
   "source": [
    "drop_train = [index for index, sentence in enumerate(decoder_input_train) if len(sentence) == 1]\n",
    "drop_val = [index for index, sentence in enumerate(decoder_input_val) if len(sentence) == 1]\n",
    "\n",
    "print('삭제할 훈련 데이터의 개수 :', len(drop_train))\n",
    "print('삭제할 테스트 데이터의 개수 :', len(drop_val))\n",
    "\n",
    "encoder_input_train = [sentence for index, sentence in enumerate(encoder_input_train) if index not in drop_train]\n",
    "decoder_input_train = [sentence for index, sentence in enumerate(decoder_input_train) if index not in drop_train]\n",
    "decoder_target_train = [sentence for index, sentence in enumerate(decoder_target_train) if index not in drop_train]\n",
    "\n",
    "encoder_input_val = [sentence for index, sentence in enumerate(encoder_input_val) if index not in drop_val]\n",
    "decoder_input_val = [sentence for index, sentence in enumerate(decoder_input_val) if index not in drop_val]\n",
    "decoder_target_val = [sentence for index, sentence in enumerate(decoder_target_val) if index not in drop_val]\n",
    "\n",
    "print('훈련 데이터의 개수 :', len(encoder_input_train))\n",
    "print('훈련 레이블의 개수 :', len(decoder_input_train))\n",
    "print('검증 데이터의 개수 :', len(encoder_input_val))\n",
    "print('검증 레이블의 개수 :', len(decoder_input_val))"
   ]
  },
  {
   "cell_type": "markdown",
   "id": "8d6b4084",
   "metadata": {},
   "source": [
    "## 패딩"
   ]
  },
  {
   "cell_type": "markdown",
   "id": "a27fc629",
   "metadata": {},
   "source": [
    "- 최대 길이에 맞추어 패딩"
   ]
  },
  {
   "cell_type": "code",
   "execution_count": 401,
   "id": "e8c01dbc",
   "metadata": {},
   "outputs": [],
   "source": [
    "encoder_input_train = pad_sequences(encoder_input_train, maxlen=text_max_len, padding='post')\n",
    "encoder_input_val = pad_sequences(encoder_input_val, maxlen=text_max_len, padding='post')\n",
    "decoder_input_train = pad_sequences(decoder_input_train, maxlen=headlines_max_len, padding='post')\n",
    "decoder_target_train = pad_sequences(decoder_target_train, maxlen=headlines_max_len, padding='post')\n",
    "decoder_input_val = pad_sequences(decoder_input_val, maxlen=headlines_max_len, padding='post')\n",
    "decoder_target_val = pad_sequences(decoder_target_val, maxlen=headlines_max_len, padding='post')"
   ]
  },
  {
   "cell_type": "markdown",
   "id": "aac388d8",
   "metadata": {},
   "source": [
    "# Step 3. 어텐션 메커니즘 사용하기 (추상적 요약)"
   ]
  },
  {
   "cell_type": "markdown",
   "id": "148ab7ac",
   "metadata": {},
   "source": [
    "실습 내용을 참고하여 어텐션 메커니즘을 사용한 seq2seq를 설계."
   ]
  },
  {
   "cell_type": "markdown",
   "id": "07259ea2",
   "metadata": {},
   "source": [
    "## Modeling"
   ]
  },
  {
   "cell_type": "code",
   "execution_count": 404,
   "id": "c6c919d6",
   "metadata": {},
   "outputs": [
    {
     "name": "stdout",
     "output_type": "stream",
     "text": [
      "Model: \"model\"\n",
      "__________________________________________________________________________________________________\n",
      "Layer (type)                    Output Shape         Param #     Connected to                     \n",
      "==================================================================================================\n",
      "input_1 (InputLayer)            [(None, 45)]         0                                            \n",
      "__________________________________________________________________________________________________\n",
      "embedding (Embedding)           (None, 45, 128)      2560000     input_1[0][0]                    \n",
      "__________________________________________________________________________________________________\n",
      "lstm (LSTM)                     [(None, 45, 256), (N 394240      embedding[0][0]                  \n",
      "__________________________________________________________________________________________________\n",
      "input_2 (InputLayer)            [(None, None)]       0                                            \n",
      "__________________________________________________________________________________________________\n",
      "lstm_1 (LSTM)                   [(None, 45, 256), (N 525312      lstm[0][0]                       \n",
      "__________________________________________________________________________________________________\n",
      "embedding_1 (Embedding)         (None, None, 128)    1024000     input_2[0][0]                    \n",
      "__________________________________________________________________________________________________\n",
      "lstm_2 (LSTM)                   [(None, 45, 256), (N 525312      lstm_1[0][0]                     \n",
      "__________________________________________________________________________________________________\n",
      "lstm_3 (LSTM)                   [(None, None, 256),  394240      embedding_1[0][0]                \n",
      "                                                                 lstm_2[0][1]                     \n",
      "                                                                 lstm_2[0][2]                     \n",
      "__________________________________________________________________________________________________\n",
      "attention_layer (AdditiveAttent (None, None, 256)    256         lstm_3[0][0]                     \n",
      "                                                                 lstm_2[0][0]                     \n",
      "__________________________________________________________________________________________________\n",
      "concat_layer (Concatenate)      (None, None, 512)    0           lstm_3[0][0]                     \n",
      "                                                                 attention_layer[0][0]            \n",
      "__________________________________________________________________________________________________\n",
      "dense (Dense)                   (None, None, 8000)   4104000     concat_layer[0][0]               \n",
      "==================================================================================================\n",
      "Total params: 9,527,360\n",
      "Trainable params: 9,527,360\n",
      "Non-trainable params: 0\n",
      "__________________________________________________________________________________________________\n"
     ]
    }
   ],
   "source": [
    "'''\n",
    "Encoder\n",
    "'''\n",
    "# 인코더 설계 시작\n",
    "embedding_dim = 128\n",
    "hidden_size = 256\n",
    "\n",
    "# 인코더\n",
    "encoder_inputs = Input(shape=(text_max_len,))\n",
    "\n",
    "# 인코더의 임베딩 층\n",
    "enc_emb = Embedding(src_vocab, embedding_dim)(encoder_inputs)\n",
    "\n",
    "# 인코더의 LSTM 1\n",
    "encoder_lstm1 = LSTM(hidden_size, return_sequences=True, return_state=True ,dropout = 0.4)\n",
    "encoder_output1, state_h1, state_c1 = encoder_lstm1(enc_emb)\n",
    "\n",
    "# 인코더의 LSTM 2\n",
    "encoder_lstm2 = LSTM(hidden_size, return_sequences=True, return_state=True, dropout = 0.4)\n",
    "encoder_output2, state_h2, state_c2 = encoder_lstm2(encoder_output1)\n",
    "\n",
    "# 인코더의 LSTM 3\n",
    "encoder_lstm3 = LSTM(hidden_size, return_sequences=True, return_state=True, dropout = 0.4)\n",
    "encoder_output3, state_h3, state_c3 = encoder_lstm3(encoder_output2)\n",
    "\n",
    "'''\n",
    "Decoder\n",
    "'''\n",
    "# 디코더 설계\n",
    "decoder_inputs = Input(shape=(None,))\n",
    "\n",
    "# 디코더의 임베딩 층\n",
    "dec_emb_layer = Embedding(tar_vocab, embedding_dim)\n",
    "dec_emb = dec_emb_layer(decoder_inputs)\n",
    "\n",
    "# 디코더의 LSTM\n",
    "decoder_lstm = LSTM(hidden_size, return_sequences=True, return_state=True, dropout=0.4)\n",
    "decoder_outputs, _, _ = decoder_lstm(dec_emb, initial_state=[state_h3, state_c3])\n",
    "\n",
    "\n",
    "'''\n",
    "Attention\n",
    "'''\n",
    "# 어텐션 층(어텐션 함수)\n",
    "attn_layer = AdditiveAttention(name='attention_layer')\n",
    "\n",
    "# 인코더와 디코더의 모든 time step의 hidden state를 어텐션 층에 전달하고 결과를 리턴\n",
    "attn_out = attn_layer([decoder_outputs, encoder_output3])\n",
    "\n",
    "# 어텐션의 결과와 디코더의 hidden state들을 연결\n",
    "decoder_concat_input = Concatenate(axis=-1, name='concat_layer')([decoder_outputs, attn_out])\n",
    "\n",
    "\n",
    "# 디코더의 출력층\n",
    "decoder_softmax_layer = Dense(tar_vocab, activation='softmax')\n",
    "decoder_softmax_outputs = decoder_softmax_layer(decoder_concat_input)\n",
    "\n",
    "# 모델 정의\n",
    "model = Model([encoder_inputs, decoder_inputs], decoder_softmax_outputs)\n",
    "model.summary()"
   ]
  },
  {
   "cell_type": "markdown",
   "id": "95a2eacb",
   "metadata": {},
   "source": [
    "## Training"
   ]
  },
  {
   "cell_type": "code",
   "execution_count": 416,
   "id": "b556a518",
   "metadata": {},
   "outputs": [
    {
     "name": "stdout",
     "output_type": "stream",
     "text": [
      "Epoch 1/50\n",
      "306/306 [==============================] - 36s 100ms/step - loss: 4.5076 - val_loss: 4.2905\n",
      "Epoch 2/50\n",
      "306/306 [==============================] - 31s 101ms/step - loss: 4.1697 - val_loss: 4.0315\n",
      "Epoch 3/50\n",
      "306/306 [==============================] - 32s 104ms/step - loss: 3.9314 - val_loss: 3.8639\n",
      "Epoch 4/50\n",
      "306/306 [==============================] - 33s 109ms/step - loss: 3.7462 - val_loss: 3.7354\n",
      "Epoch 5/50\n",
      "306/306 [==============================] - 32s 106ms/step - loss: 3.5915 - val_loss: 3.6378\n",
      "Epoch 6/50\n",
      "306/306 [==============================] - 33s 107ms/step - loss: 3.4592 - val_loss: 3.5623\n",
      "Epoch 7/50\n",
      "306/306 [==============================] - 32s 106ms/step - loss: 3.3439 - val_loss: 3.4915\n",
      "Epoch 8/50\n",
      "306/306 [==============================] - 33s 107ms/step - loss: 3.2445 - val_loss: 3.4439\n",
      "Epoch 9/50\n",
      "306/306 [==============================] - 33s 107ms/step - loss: 3.1556 - val_loss: 3.4029\n",
      "Epoch 10/50\n",
      "306/306 [==============================] - 33s 107ms/step - loss: 3.0751 - val_loss: 3.3721\n",
      "Epoch 11/50\n",
      "306/306 [==============================] - 33s 106ms/step - loss: 3.0030 - val_loss: 3.3460\n",
      "Epoch 12/50\n",
      "306/306 [==============================] - 32s 106ms/step - loss: 2.9359 - val_loss: 3.3157\n",
      "Epoch 13/50\n",
      "306/306 [==============================] - 32s 106ms/step - loss: 2.8773 - val_loss: 3.2973\n",
      "Epoch 14/50\n",
      "306/306 [==============================] - 33s 106ms/step - loss: 2.8213 - val_loss: 3.2910\n",
      "Epoch 15/50\n",
      "306/306 [==============================] - 32s 106ms/step - loss: 2.7690 - val_loss: 3.2718\n",
      "Epoch 16/50\n",
      "306/306 [==============================] - 33s 106ms/step - loss: 2.7202 - val_loss: 3.2634\n",
      "Epoch 17/50\n",
      "306/306 [==============================] - 33s 106ms/step - loss: 2.6755 - val_loss: 3.2574\n",
      "Epoch 18/50\n",
      "306/306 [==============================] - 33s 106ms/step - loss: 2.6327 - val_loss: 3.2475\n",
      "Epoch 19/50\n",
      "306/306 [==============================] - 33s 107ms/step - loss: 2.5914 - val_loss: 3.2449\n",
      "Epoch 20/50\n",
      "306/306 [==============================] - 33s 108ms/step - loss: 2.5537 - val_loss: 3.2406\n",
      "Epoch 21/50\n",
      "306/306 [==============================] - 33s 107ms/step - loss: 2.5165 - val_loss: 3.2363\n",
      "Epoch 22/50\n",
      "306/306 [==============================] - 33s 107ms/step - loss: 2.4830 - val_loss: 3.2363\n",
      "Epoch 23/50\n",
      "306/306 [==============================] - 33s 108ms/step - loss: 2.4515 - val_loss: 3.2333\n",
      "Epoch 24/50\n",
      "306/306 [==============================] - 33s 108ms/step - loss: 2.4209 - val_loss: 3.2333\n",
      "Epoch 25/50\n",
      "306/306 [==============================] - 33s 107ms/step - loss: 2.3920 - val_loss: 3.2357\n",
      "Epoch 26/50\n",
      "306/306 [==============================] - 33s 107ms/step - loss: 2.3634 - val_loss: 3.2340\n",
      "Epoch 00026: early stopping\n"
     ]
    }
   ],
   "source": [
    "model.compile(optimizer='rmsprop', loss='sparse_categorical_crossentropy')\n",
    "es = EarlyStopping(monitor='val_loss', patience=3, verbose=1)\n",
    "history = model.fit(x=[encoder_input_train, decoder_input_train], y=decoder_target_train, \\\n",
    "          validation_data=([encoder_input_val, decoder_input_val], decoder_target_val), \\\n",
    "          batch_size=256, callbacks=[es], epochs=50)"
   ]
  },
  {
   "cell_type": "markdown",
   "id": "3b094ffc",
   "metadata": {},
   "source": [
    "- 훈련 과정 시각화"
   ]
  },
  {
   "cell_type": "code",
   "execution_count": 417,
   "id": "5f0c13f2",
   "metadata": {},
   "outputs": [
    {
     "data": {
      "image/png": "[encoded data removed]",
      "text/plain": [
       "<Figure size 432x288 with 1 Axes>"
      ]
     },
     "metadata": {
      "needs_background": "light"
     },
     "output_type": "display_data"
    }
   ],
   "source": [
    "plt.plot(history.history['loss'], label='train')\n",
    "plt.plot(history.history['val_loss'], label='test')\n",
    "plt.legend()\n",
    "plt.show()"
   ]
  },
  {
   "cell_type": "markdown",
   "id": "ad36f216",
   "metadata": {},
   "source": [
    "## Inference Modeling"
   ]
  },
  {
   "cell_type": "markdown",
   "id": "4e7dc957",
   "metadata": {},
   "source": [
    "- 사전 준비"
   ]
  },
  {
   "cell_type": "code",
   "execution_count": 418,
   "id": "c7ec53c4",
   "metadata": {},
   "outputs": [],
   "source": [
    "src_index_to_word = src_tokenizer.index_word # 원문 단어 집합에서 정수 -> 단어를 얻음\n",
    "tar_word_to_index = tar_tokenizer.word_index # 요약 단어 집합에서 단어 -> 정수를 얻음\n",
    "tar_index_to_word = tar_tokenizer.index_word # 요약 단어 집합에서 정수 -> 단어를 얻음"
   ]
  },
  {
   "cell_type": "markdown",
   "id": "7d197e85",
   "metadata": {},
   "source": [
    "- 모델링"
   ]
  },
  {
   "cell_type": "code",
   "execution_count": 419,
   "id": "df5b987b",
   "metadata": {},
   "outputs": [],
   "source": [
    "# 인코더 설계\n",
    "encoder_model = Model(inputs=encoder_inputs, outputs=[encoder_output3, state_h3, state_c3])\n",
    "\n",
    "# 이전 시점의 상태들을 저장하는 텐서\n",
    "decoder_state_input_h = Input(shape=(hidden_size,))\n",
    "decoder_state_input_c = Input(shape=(hidden_size,))\n",
    "\n",
    "dec_emb2 = dec_emb_layer(decoder_inputs)\n",
    "\n",
    "# 문장의 다음 단어를 예측하기 위해서 초기 상태(initial_state)를 이전 시점의 상태로 사용. 이는 뒤의 함수 decode_sequence()에 구현\n",
    "# 훈련 과정에서와 달리 LSTM의 리턴하는 은닉 상태와 셀 상태인 state_h와 state_c를 버리지 않음.\n",
    "decoder_outputs2, state_h2, state_c2 = decoder_lstm(dec_emb2, initial_state=[decoder_state_input_h, decoder_state_input_c])\n",
    "\n",
    "# 어텐션 함수\n",
    "decoder_hidden_state_input = Input(shape=(text_max_len, hidden_size))\n",
    "attn_out_inf = attn_layer([decoder_outputs2, decoder_hidden_state_input])\n",
    "decoder_inf_concat = Concatenate(axis=-1, name='concat')([decoder_outputs2, attn_out_inf])\n",
    "\n",
    "# 디코더의 출력층\n",
    "decoder_outputs2 = decoder_softmax_layer(decoder_inf_concat) \n",
    "\n",
    "# 최종 디코더 모델\n",
    "decoder_model = Model(\n",
    "    [decoder_inputs] + [decoder_hidden_state_input,decoder_state_input_h, decoder_state_input_c],\n",
    "    [decoder_outputs2] + [state_h2, state_c2])"
   ]
  },
  {
   "cell_type": "code",
   "execution_count": 420,
   "id": "c6608bb5",
   "metadata": {},
   "outputs": [
    {
     "name": "stdout",
     "output_type": "stream",
     "text": [
      "Model: \"model_1\"\n",
      "_________________________________________________________________\n",
      "Layer (type)                 Output Shape              Param #   \n",
      "=================================================================\n",
      "input_1 (InputLayer)         [(None, 45)]              0         \n",
      "_________________________________________________________________\n",
      "embedding (Embedding)        (None, 45, 128)           2560000   \n",
      "_________________________________________________________________\n",
      "lstm (LSTM)                  [(None, 45, 256), (None,  394240    \n",
      "_________________________________________________________________\n",
      "lstm_1 (LSTM)                [(None, 45, 256), (None,  525312    \n",
      "_________________________________________________________________\n",
      "lstm_2 (LSTM)                [(None, 45, 256), (None,  525312    \n",
      "=================================================================\n",
      "Total params: 4,004,864\n",
      "Trainable params: 4,004,864\n",
      "Non-trainable params: 0\n",
      "_________________________________________________________________\n"
     ]
    }
   ],
   "source": [
    "encoder_model.summary()"
   ]
  },
  {
   "cell_type": "code",
   "execution_count": 421,
   "id": "d0fddccf",
   "metadata": {},
   "outputs": [
    {
     "name": "stdout",
     "output_type": "stream",
     "text": [
      "Model: \"model_2\"\n",
      "__________________________________________________________________________________________________\n",
      "Layer (type)                    Output Shape         Param #     Connected to                     \n",
      "==================================================================================================\n",
      "input_2 (InputLayer)            [(None, None)]       0                                            \n",
      "__________________________________________________________________________________________________\n",
      "embedding_1 (Embedding)         (None, None, 128)    1024000     input_2[0][0]                    \n",
      "__________________________________________________________________________________________________\n",
      "input_3 (InputLayer)            [(None, 256)]        0                                            \n",
      "__________________________________________________________________________________________________\n",
      "input_4 (InputLayer)            [(None, 256)]        0                                            \n",
      "__________________________________________________________________________________________________\n",
      "lstm_3 (LSTM)                   [(None, None, 256),  394240      embedding_1[1][0]                \n",
      "                                                                 input_3[0][0]                    \n",
      "                                                                 input_4[0][0]                    \n",
      "__________________________________________________________________________________________________\n",
      "input_5 (InputLayer)            [(None, 45, 256)]    0                                            \n",
      "__________________________________________________________________________________________________\n",
      "attention_layer (AdditiveAttent (None, None, 256)    256         lstm_3[1][0]                     \n",
      "                                                                 input_5[0][0]                    \n",
      "__________________________________________________________________________________________________\n",
      "concat (Concatenate)            (None, None, 512)    0           lstm_3[1][0]                     \n",
      "                                                                 attention_layer[1][0]            \n",
      "__________________________________________________________________________________________________\n",
      "dense (Dense)                   (None, None, 8000)   4104000     concat[0][0]                     \n",
      "==================================================================================================\n",
      "Total params: 5,522,496\n",
      "Trainable params: 5,522,496\n",
      "Non-trainable params: 0\n",
      "__________________________________________________________________________________________________\n"
     ]
    }
   ],
   "source": [
    "decoder_model.summary()"
   ]
  },
  {
   "cell_type": "markdown",
   "id": "88e627f4",
   "metadata": {},
   "source": [
    "- 시퀀스 완성 함수"
   ]
  },
  {
   "cell_type": "code",
   "execution_count": 422,
   "id": "4aad35d5",
   "metadata": {},
   "outputs": [],
   "source": [
    "def decode_sequence(input_seq):\n",
    "    # 입력으로부터 인코더의 상태를 얻음\n",
    "    e_out, e_h, e_c = encoder_model.predict(input_seq)\n",
    "\n",
    "     # <SOS>에 해당하는 토큰 생성\n",
    "    target_seq = np.zeros((1,1))\n",
    "    target_seq[0, 0] = tar_word_to_index['sostoken']\n",
    "\n",
    "    stop_condition = False\n",
    "    decoded_sentence = ''\n",
    "    while not stop_condition: # stop_condition이 True가 될 때까지 루프 반복\n",
    "\n",
    "        output_tokens, h, c = decoder_model.predict([target_seq] + [e_out, e_h, e_c])\n",
    "        sampled_token_index = np.argmax(output_tokens[0, -1, :])\n",
    "        sampled_token = tar_index_to_word[sampled_token_index]\n",
    "\n",
    "        if (sampled_token!='eostoken'):\n",
    "            decoded_sentence += ' '+sampled_token\n",
    "\n",
    "        #  <eos>에 도달하거나 최대 길이를 넘으면 중단.\n",
    "        if (sampled_token == 'eostoken'  or len(decoded_sentence.split()) >= (headlines_max_len-1)):\n",
    "            stop_condition = True\n",
    "\n",
    "        # 길이가 1인 타겟 시퀀스를 업데이트\n",
    "        target_seq = np.zeros((1,1))\n",
    "        target_seq[0, 0] = sampled_token_index\n",
    "\n",
    "        # 상태를 업데이트 합니다.\n",
    "        e_h, e_c = h, c\n",
    "\n",
    "    return decoded_sentence"
   ]
  },
  {
   "cell_type": "markdown",
   "id": "54607c9a",
   "metadata": {},
   "source": [
    "# Step 4. 실제 결과와 요약문 비교하기 (추상적 요약)"
   ]
  },
  {
   "cell_type": "markdown",
   "id": "3873627c",
   "metadata": {},
   "source": [
    "- 원래의 요약문(headlines 열)과 학습을 통해 얻은 추상적 요약의 결과 비교"
   ]
  },
  {
   "cell_type": "markdown",
   "id": "f0c3e9ee",
   "metadata": {},
   "source": [
    "- 실제 헤드라인과 추론 결과 비교를 위한 시퀀스 투 텍스트 함수"
   ]
  },
  {
   "cell_type": "code",
   "execution_count": 423,
   "id": "0b44cb62",
   "metadata": {},
   "outputs": [],
   "source": [
    "# 원문의 정수 시퀀스를 텍스트 시퀀스로 변환\n",
    "def seq2text(input_seq):\n",
    "    temp=''\n",
    "    for i in input_seq:\n",
    "        if (i!=0):\n",
    "            temp = temp + src_index_to_word[i]+' '\n",
    "    return temp\n",
    "\n",
    "# 요약문의 정수 시퀀스를 텍스트 시퀀스로 변환\n",
    "def seq2headlines(input_seq):\n",
    "    temp=''\n",
    "    for i in input_seq:\n",
    "        if (i!=0 and i!=tar_word_to_index['sostoken'] and i!=tar_word_to_index['eostoken']):\n",
    "            temp = temp + tar_index_to_word[i] + ' '\n",
    "    return temp"
   ]
  },
  {
   "cell_type": "code",
   "execution_count": 426,
   "id": "446db8b2",
   "metadata": {},
   "outputs": [
    {
     "name": "stdout",
     "output_type": "stream",
     "text": [
      "원문 : railway protection force personnel mumbai saved five year old girl falling gap platform coach slipped train begun moving suddenly child boarding according reports incident captured cctv later passengers also rushed help personnel \n",
      "실제 요약 : mumbai personnel saves child who while boarding \n",
      "예측 요약 :  mumbai railway station saves yr old girl from falling \n",
      " \n",
      "\n",
      "원문 : reacting late actress sridevi win th national film awards family said super actor super wife super mom husband boney kapoor daughters janhvi khushi thanked government jury members fans celebrating achievements sridevi received national award best actress mom posthumously \n",
      "실제 요약 : sridevi was super wife super mom says family on award win \n",
      "예측 요약 :  sridevi was the best actress in sridevi demise \n",
      " \n",
      "\n",
      "원문 : union finance minister arun jaitley wednesday said lok sabha process almost added government making attempts implement gst july moving towards time shadow economy still seeing cash transactions added \n",
      "실제 요약 : process is almost over arun jaitley \n",
      "예측 요약 :  gst will be fm arun jaitley \n",
      " \n",
      "\n",
      "원문 : first song diljit dosanjh taapsee pannu starrer film soorma released song titled ishq di sung diljit additional vocals shankar mahadevan ishq di composed shankar penned gulzar directed ali film also stars angad bedi \n",
      "실제 요약 : first song from diljit dosanjh starrer released \n",
      "예측 요약 :  first song from diljit starrer released \n",
      " \n",
      "\n",
      "원문 : reacting low rating given recently released film mulk imdb filmmaker anubhav sinha tweeted give flying people love film added mulk courtroom drama restoring honour muslim family accused treason currently imdb rating \n",
      "실제 요약 : do not give flying mulk maker on low rating \n",
      "예측 요약 :  no one of bollywood films in bollywood says it is not sexually \n",
      " \n",
      "\n",
      "원문 : shops damaged injuries reported far blast took place darjeeling saturday bomb blast darjeeling motor stand area post midnight one got injured place empty police said group individual claimed responsibility blast far \n",
      "실제 요약 : bomb blast in darjeeling shops damaged \n",
      "예측 요약 :  blast in blast at in \n",
      " \n",
      "\n",
      "원문 : thanking mumbai police support daughter sonam kapoor wedding anil kapoor tweeted constant support mumbai police major reason behind family able celebrate occasion sonam married delhi based businessman anand ahuja may mumbai attended celebrities like karan johar alia bhatt among others \n",
      "실제 요약 : mumbai cops helped us enjoy sonam wedding to anil \n",
      "예측 요약 :  sonam kapoor to marry sonam in mumbai \n",
      " \n",
      "\n",
      "원문 : actor arjun kapoor slammed website publishing report half sister janhvi kapoor pointed sexy dress wore making everything visible shameful eye would go searching something like ashamed tweeted website deleted report following arjun tweet \n",
      "실제 요약 : it is shameful arjun slams report sister janhvi \n",
      "예측 요약 :  arjun kapoor arjun kapoor arjun kapoor unlock sister \n",
      " \n",
      "\n",
      "원문 : pm narendra modi statement selling pakodas also form employment former uttar pradesh chief minister akhilesh yadav said people would soon decide want government expressway government metro pm modi took along south korean president built sp government akhilesh pointed government \n",
      "실제 요약 : voters will choose between and expressway akhilesh \n",
      "예측 요약 :  pm modi will not be to be given up to pm narendra \n",
      " \n",
      "\n",
      "원문 : amidst reports congress vice president rahul gandhi would soon elevated party president uttar pradesh cm yogi adityanath tuesday said would make bjp task making congress free india easier comes day congress working committee approved schedule election new party president \n",
      "실제 요약 : rahul elevation as cong prez to make bjp job easier up cm \n",
      "예측 요약 :  rahul in up cong to be renamed as bjp leader \n",
      " \n",
      "\n"
     ]
    }
   ],
   "source": [
    "for i in range(10):\n",
    "    print(\"원문 :\", seq2text(encoder_input_val[i]))\n",
    "    print(\"실제 요약 :\", seq2headlines(decoder_input_val[i]))\n",
    "    print(\"예측 요약 :\", decode_sequence(encoder_input_val[i].reshape(1, text_max_len)), \"\\n \\n\")"
   ]
  },
  {
   "cell_type": "code",
   "execution_count": 428,
   "id": "d1389eaa",
   "metadata": {},
   "outputs": [],
   "source": [
    "def compare_headlines(idx):\n",
    "    print(\"원문 :\", seq2text(encoder_input_val[idx]))\n",
    "    print(\"실제 요약 :\", seq2headlines(decoder_input_val[idx]))\n",
    "    print(\"예측 요약 :\", decode_sequence(encoder_input_val[idx].reshape(1, text_max_len)))"
   ]
  },
  {
   "cell_type": "code",
   "execution_count": 429,
   "id": "6798d4fa",
   "metadata": {},
   "outputs": [
    {
     "name": "stdout",
     "output_type": "stream",
     "text": [
      "원문 : railway protection force personnel mumbai saved five year old girl falling gap platform coach slipped train begun moving suddenly child boarding according reports incident captured cctv later passengers also rushed help personnel \n",
      "실제 요약 : mumbai personnel saves child who while boarding \n",
      "예측 요약 :  mumbai railway station saves yr old girl from falling\n"
     ]
    }
   ],
   "source": [
    "compare_headlines(0)"
   ]
  },
  {
   "cell_type": "code",
   "execution_count": null,
   "id": "c45ebed3",
   "metadata": {},
   "outputs": [],
   "source": []
  },
  {
   "cell_type": "markdown",
   "id": "f408619e",
   "metadata": {},
   "source": [
    "# Step 5. Summa을 이용해서 추출적 요약해보기"
   ]
  },
  {
   "cell_type": "markdown",
   "id": "9b73d5dd",
   "metadata": {},
   "source": [
    "- Summa의 summarize를 사용하여 추출적 요약 적용."
   ]
  },
  {
   "cell_type": "code",
   "execution_count": 431,
   "id": "902b9a40",
   "metadata": {},
   "outputs": [
    {
     "name": "stdout",
     "output_type": "stream",
     "text": [
      "summa                         1.2.0\r\n"
     ]
    }
   ],
   "source": [
    "!pip list | grep summa"
   ]
  },
  {
   "cell_type": "code",
   "execution_count": 473,
   "id": "552bc4db",
   "metadata": {},
   "outputs": [],
   "source": [
    "def compare2summa(idx):\n",
    "    compare_headlines(idx)\n",
    "    print(\"Summa 요약:\", summarize(data_summ.loc[idx, \"text\"], words=headlines_max_len))"
   ]
  },
  {
   "cell_type": "code",
   "execution_count": 468,
   "id": "4d99346b",
   "metadata": {},
   "outputs": [
    {
     "data": {
      "text/html": [
       "<div>\n",
       "<style scoped>\n",
       "    .dataframe tbody tr th:only-of-type {\n",
       "        vertical-align: middle;\n",
       "    }\n",
       "\n",
       "    .dataframe tbody tr th {\n",
       "        vertical-align: top;\n",
       "    }\n",
       "\n",
       "    .dataframe thead th {\n",
       "        text-align: right;\n",
       "    }\n",
       "</style>\n",
       "<table border=\"1\" class=\"dataframe\">\n",
       "  <thead>\n",
       "    <tr style=\"text-align: right;\">\n",
       "      <th></th>\n",
       "      <th>headlines</th>\n",
       "      <th>text</th>\n",
       "    </tr>\n",
       "  </thead>\n",
       "  <tbody>\n",
       "    <tr>\n",
       "      <th>0</th>\n",
       "      <td>upGrad learner switches to career in ML &amp; Al w...</td>\n",
       "      <td>Saurav Kant, an alumnus of upGrad and IIIT-B's...</td>\n",
       "    </tr>\n",
       "    <tr>\n",
       "      <th>1</th>\n",
       "      <td>Delhi techie wins free food from Swiggy for on...</td>\n",
       "      <td>Kunal Shah's credit card bill payment platform...</td>\n",
       "    </tr>\n",
       "    <tr>\n",
       "      <th>2</th>\n",
       "      <td>New Zealand end Rohit Sharma-led India's 12-ma...</td>\n",
       "      <td>New Zealand defeated India by 8 wickets in the...</td>\n",
       "    </tr>\n",
       "    <tr>\n",
       "      <th>3</th>\n",
       "      <td>Aegon life iTerm insurance plan helps customer...</td>\n",
       "      <td>With Aegon Life iTerm Insurance plan, customer...</td>\n",
       "    </tr>\n",
       "    <tr>\n",
       "      <th>4</th>\n",
       "      <td>Have known Hirani for yrs, what if MeToo claim...</td>\n",
       "      <td>Speaking about the sexual harassment allegatio...</td>\n",
       "    </tr>\n",
       "    <tr>\n",
       "      <th>5</th>\n",
       "      <td>Rahat Fateh Ali Khan denies getting notice for...</td>\n",
       "      <td>Pakistani singer Rahat Fateh Ali Khan has deni...</td>\n",
       "    </tr>\n",
       "    <tr>\n",
       "      <th>6</th>\n",
       "      <td>India get all out for 92, their lowest ODI tot...</td>\n",
       "      <td>India recorded their lowest ODI total in New Z...</td>\n",
       "    </tr>\n",
       "    <tr>\n",
       "      <th>7</th>\n",
       "      <td>Govt directs Alok Verma to join work 1 day bef...</td>\n",
       "      <td>Weeks after ex-CBI Director Alok Verma told th...</td>\n",
       "    </tr>\n",
       "    <tr>\n",
       "      <th>8</th>\n",
       "      <td>Called PM Modi 'sir' 10 times to satisfy his e...</td>\n",
       "      <td>Andhra Pradesh CM N Chandrababu Naidu has said...</td>\n",
       "    </tr>\n",
       "    <tr>\n",
       "      <th>9</th>\n",
       "      <td>Cong wins Ramgarh bypoll in Rajasthan, takes t...</td>\n",
       "      <td>Congress candidate Shafia Zubair won the Ramga...</td>\n",
       "    </tr>\n",
       "    <tr>\n",
       "      <th>10</th>\n",
       "      <td>UP cousins fed human excreta for friendship wi...</td>\n",
       "      <td>Two minor cousins in Uttar Pradesh's Gorakhpur...</td>\n",
       "    </tr>\n",
       "  </tbody>\n",
       "</table>\n",
       "</div>"
      ],
      "text/plain": [
       "                                            headlines  \\\n",
       "0   upGrad learner switches to career in ML & Al w...   \n",
       "1   Delhi techie wins free food from Swiggy for on...   \n",
       "2   New Zealand end Rohit Sharma-led India's 12-ma...   \n",
       "3   Aegon life iTerm insurance plan helps customer...   \n",
       "4   Have known Hirani for yrs, what if MeToo claim...   \n",
       "5   Rahat Fateh Ali Khan denies getting notice for...   \n",
       "6   India get all out for 92, their lowest ODI tot...   \n",
       "7   Govt directs Alok Verma to join work 1 day bef...   \n",
       "8   Called PM Modi 'sir' 10 times to satisfy his e...   \n",
       "9   Cong wins Ramgarh bypoll in Rajasthan, takes t...   \n",
       "10  UP cousins fed human excreta for friendship wi...   \n",
       "\n",
       "                                                 text  \n",
       "0   Saurav Kant, an alumnus of upGrad and IIIT-B's...  \n",
       "1   Kunal Shah's credit card bill payment platform...  \n",
       "2   New Zealand defeated India by 8 wickets in the...  \n",
       "3   With Aegon Life iTerm Insurance plan, customer...  \n",
       "4   Speaking about the sexual harassment allegatio...  \n",
       "5   Pakistani singer Rahat Fateh Ali Khan has deni...  \n",
       "6   India recorded their lowest ODI total in New Z...  \n",
       "7   Weeks after ex-CBI Director Alok Verma told th...  \n",
       "8   Andhra Pradesh CM N Chandrababu Naidu has said...  \n",
       "9   Congress candidate Shafia Zubair won the Ramga...  \n",
       "10  Two minor cousins in Uttar Pradesh's Gorakhpur...  "
      ]
     },
     "execution_count": 468,
     "metadata": {},
     "output_type": "execute_result"
    }
   ],
   "source": [
    "data_summ = pd.read_csv('/aiffel/news_summary_more.csv', encoding='iso-8859-1')\n",
    "data_summ = data_summ.loc[:10]\n",
    "data_summ"
   ]
  },
  {
   "cell_type": "code",
   "execution_count": 474,
   "id": "7c008553",
   "metadata": {
    "scrolled": true
   },
   "outputs": [
    {
     "name": "stdout",
     "output_type": "stream",
     "text": [
      "원문 : railway protection force personnel mumbai saved five year old girl falling gap platform coach slipped train begun moving suddenly child boarding according reports incident captured cctv later passengers also rushed help personnel \n",
      "실제 요약 : mumbai personnel saves child who while boarding \n",
      "예측 요약 :  mumbai railway station saves yr old girl from falling\n",
      "Summa 요약: upGrad's Online Power Learning has powered 3 lakh+ careers.\n"
     ]
    }
   ],
   "source": [
    "compare2summa(0)"
   ]
  },
  {
   "cell_type": "code",
   "execution_count": null,
   "id": "d3d576e4",
   "metadata": {},
   "outputs": [],
   "source": []
  },
  {
   "cell_type": "code",
   "execution_count": null,
   "id": "b32a08c1",
   "metadata": {},
   "outputs": [],
   "source": [
    "data_summ = pd.read_csv('/aiffel/news_summary_more.csv', encoding='iso-8859-1')\n",
    "data_summ.drop_duplicates(subset = ['text'], inplace=True)\n",
    "data_summ"
   ]
  },
  {
   "cell_type": "code",
   "execution_count": null,
   "id": "91ec4b3c",
   "metadata": {},
   "outputs": [],
   "source": []
  },
  {
   "cell_type": "code",
   "execution_count": null,
   "id": "b92df585",
   "metadata": {},
   "outputs": [],
   "source": []
  },
  {
   "cell_type": "code",
   "execution_count": null,
   "id": "feb835a7",
   "metadata": {},
   "outputs": [],
   "source": []
  },
  {
   "cell_type": "code",
   "execution_count": null,
   "id": "eeb91a35",
   "metadata": {},
   "outputs": [],
   "source": []
  },
  {
   "cell_type": "code",
   "execution_count": null,
   "id": "aa25d523",
   "metadata": {},
   "outputs": [],
   "source": []
  },
  {
   "cell_type": "code",
   "execution_count": 511,
   "id": "e88e90b7",
   "metadata": {},
   "outputs": [
    {
     "data": {
      "text/html": [
       "<div>\n",
       "<style scoped>\n",
       "    .dataframe tbody tr th:only-of-type {\n",
       "        vertical-align: middle;\n",
       "    }\n",
       "\n",
       "    .dataframe tbody tr th {\n",
       "        vertical-align: top;\n",
       "    }\n",
       "\n",
       "    .dataframe thead th {\n",
       "        text-align: right;\n",
       "    }\n",
       "</style>\n",
       "<table border=\"1\" class=\"dataframe\">\n",
       "  <thead>\n",
       "    <tr style=\"text-align: right;\">\n",
       "      <th></th>\n",
       "      <th>headlines</th>\n",
       "      <th>text</th>\n",
       "    </tr>\n",
       "  </thead>\n",
       "  <tbody>\n",
       "    <tr>\n",
       "      <th>0</th>\n",
       "      <td>upGrad learner switches to career in ML &amp; Al w...</td>\n",
       "      <td>Saurav Kant, an alumnus of upGrad and IIIT-B's...</td>\n",
       "    </tr>\n",
       "    <tr>\n",
       "      <th>1</th>\n",
       "      <td>Delhi techie wins free food from Swiggy for on...</td>\n",
       "      <td>Kunal Shah's credit card bill payment platform...</td>\n",
       "    </tr>\n",
       "    <tr>\n",
       "      <th>2</th>\n",
       "      <td>New Zealand end Rohit Sharma-led India's 12-ma...</td>\n",
       "      <td>New Zealand defeated India by 8 wickets in the...</td>\n",
       "    </tr>\n",
       "    <tr>\n",
       "      <th>3</th>\n",
       "      <td>Aegon life iTerm insurance plan helps customer...</td>\n",
       "      <td>With Aegon Life iTerm Insurance plan, customer...</td>\n",
       "    </tr>\n",
       "    <tr>\n",
       "      <th>4</th>\n",
       "      <td>Have known Hirani for yrs, what if MeToo claim...</td>\n",
       "      <td>Speaking about the sexual harassment allegatio...</td>\n",
       "    </tr>\n",
       "    <tr>\n",
       "      <th>5</th>\n",
       "      <td>Rahat Fateh Ali Khan denies getting notice for...</td>\n",
       "      <td>Pakistani singer Rahat Fateh Ali Khan has deni...</td>\n",
       "    </tr>\n",
       "    <tr>\n",
       "      <th>6</th>\n",
       "      <td>India get all out for 92, their lowest ODI tot...</td>\n",
       "      <td>India recorded their lowest ODI total in New Z...</td>\n",
       "    </tr>\n",
       "    <tr>\n",
       "      <th>7</th>\n",
       "      <td>Govt directs Alok Verma to join work 1 day bef...</td>\n",
       "      <td>Weeks after ex-CBI Director Alok Verma told th...</td>\n",
       "    </tr>\n",
       "    <tr>\n",
       "      <th>8</th>\n",
       "      <td>Called PM Modi 'sir' 10 times to satisfy his e...</td>\n",
       "      <td>Andhra Pradesh CM N Chandrababu Naidu has said...</td>\n",
       "    </tr>\n",
       "    <tr>\n",
       "      <th>9</th>\n",
       "      <td>Cong wins Ramgarh bypoll in Rajasthan, takes t...</td>\n",
       "      <td>Congress candidate Shafia Zubair won the Ramga...</td>\n",
       "    </tr>\n",
       "    <tr>\n",
       "      <th>10</th>\n",
       "      <td>UP cousins fed human excreta for friendship wi...</td>\n",
       "      <td>Two minor cousins in Uttar Pradesh's Gorakhpur...</td>\n",
       "    </tr>\n",
       "  </tbody>\n",
       "</table>\n",
       "</div>"
      ],
      "text/plain": [
       "                                            headlines  \\\n",
       "0   upGrad learner switches to career in ML & Al w...   \n",
       "1   Delhi techie wins free food from Swiggy for on...   \n",
       "2   New Zealand end Rohit Sharma-led India's 12-ma...   \n",
       "3   Aegon life iTerm insurance plan helps customer...   \n",
       "4   Have known Hirani for yrs, what if MeToo claim...   \n",
       "5   Rahat Fateh Ali Khan denies getting notice for...   \n",
       "6   India get all out for 92, their lowest ODI tot...   \n",
       "7   Govt directs Alok Verma to join work 1 day bef...   \n",
       "8   Called PM Modi 'sir' 10 times to satisfy his e...   \n",
       "9   Cong wins Ramgarh bypoll in Rajasthan, takes t...   \n",
       "10  UP cousins fed human excreta for friendship wi...   \n",
       "\n",
       "                                                 text  \n",
       "0   Saurav Kant, an alumnus of upGrad and IIIT-B's...  \n",
       "1   Kunal Shah's credit card bill payment platform...  \n",
       "2   New Zealand defeated India by 8 wickets in the...  \n",
       "3   With Aegon Life iTerm Insurance plan, customer...  \n",
       "4   Speaking about the sexual harassment allegatio...  \n",
       "5   Pakistani singer Rahat Fateh Ali Khan has deni...  \n",
       "6   India recorded their lowest ODI total in New Z...  \n",
       "7   Weeks after ex-CBI Director Alok Verma told th...  \n",
       "8   Andhra Pradesh CM N Chandrababu Naidu has said...  \n",
       "9   Congress candidate Shafia Zubair won the Ramga...  \n",
       "10  Two minor cousins in Uttar Pradesh's Gorakhpur...  "
      ]
     },
     "execution_count": 511,
     "metadata": {},
     "output_type": "execute_result"
    }
   ],
   "source": [
    "data_summ"
   ]
  },
  {
   "cell_type": "code",
   "execution_count": 507,
   "id": "01a17c8a",
   "metadata": {},
   "outputs": [
    {
     "data": {
      "text/html": [
       "<div>\n",
       "<style scoped>\n",
       "    .dataframe tbody tr th:only-of-type {\n",
       "        vertical-align: middle;\n",
       "    }\n",
       "\n",
       "    .dataframe tbody tr th {\n",
       "        vertical-align: top;\n",
       "    }\n",
       "\n",
       "    .dataframe thead th {\n",
       "        text-align: right;\n",
       "    }\n",
       "</style>\n",
       "<table border=\"1\" class=\"dataframe\">\n",
       "  <thead>\n",
       "    <tr style=\"text-align: right;\">\n",
       "      <th></th>\n",
       "      <th>headlines</th>\n",
       "      <th>text</th>\n",
       "    </tr>\n",
       "  </thead>\n",
       "  <tbody>\n",
       "    <tr>\n",
       "      <th>0</th>\n",
       "      <td>upGrad learner switches to career in ML &amp; Al w...</td>\n",
       "      <td>Saurav Kant, an alumnus of upGrad and IIIT-B's...</td>\n",
       "    </tr>\n",
       "    <tr>\n",
       "      <th>1</th>\n",
       "      <td>Delhi techie wins free food from Swiggy for on...</td>\n",
       "      <td>Kunal Shah's credit card bill payment platform...</td>\n",
       "    </tr>\n",
       "    <tr>\n",
       "      <th>2</th>\n",
       "      <td>New Zealand end Rohit Sharma-led India's 12-ma...</td>\n",
       "      <td>New Zealand defeated India by 8 wickets in the...</td>\n",
       "    </tr>\n",
       "    <tr>\n",
       "      <th>3</th>\n",
       "      <td>Aegon life iTerm insurance plan helps customer...</td>\n",
       "      <td>With Aegon Life iTerm Insurance plan, customer...</td>\n",
       "    </tr>\n",
       "    <tr>\n",
       "      <th>4</th>\n",
       "      <td>Have known Hirani for yrs, what if MeToo claim...</td>\n",
       "      <td>Speaking about the sexual harassment allegatio...</td>\n",
       "    </tr>\n",
       "    <tr>\n",
       "      <th>5</th>\n",
       "      <td>Rahat Fateh Ali Khan denies getting notice for...</td>\n",
       "      <td>Pakistani singer Rahat Fateh Ali Khan has deni...</td>\n",
       "    </tr>\n",
       "    <tr>\n",
       "      <th>6</th>\n",
       "      <td>India get all out for 92, their lowest ODI tot...</td>\n",
       "      <td>India recorded their lowest ODI total in New Z...</td>\n",
       "    </tr>\n",
       "    <tr>\n",
       "      <th>7</th>\n",
       "      <td>Govt directs Alok Verma to join work 1 day bef...</td>\n",
       "      <td>Weeks after ex-CBI Director Alok Verma told th...</td>\n",
       "    </tr>\n",
       "    <tr>\n",
       "      <th>8</th>\n",
       "      <td>Called PM Modi 'sir' 10 times to satisfy his e...</td>\n",
       "      <td>Andhra Pradesh CM N Chandrababu Naidu has said...</td>\n",
       "    </tr>\n",
       "    <tr>\n",
       "      <th>9</th>\n",
       "      <td>Cong wins Ramgarh bypoll in Rajasthan, takes t...</td>\n",
       "      <td>Congress candidate Shafia Zubair won the Ramga...</td>\n",
       "    </tr>\n",
       "    <tr>\n",
       "      <th>10</th>\n",
       "      <td>UP cousins fed human excreta for friendship wi...</td>\n",
       "      <td>Two minor cousins in Uttar Pradesh's Gorakhpur...</td>\n",
       "    </tr>\n",
       "  </tbody>\n",
       "</table>\n",
       "</div>"
      ],
      "text/plain": [
       "                                            headlines  \\\n",
       "0   upGrad learner switches to career in ML & Al w...   \n",
       "1   Delhi techie wins free food from Swiggy for on...   \n",
       "2   New Zealand end Rohit Sharma-led India's 12-ma...   \n",
       "3   Aegon life iTerm insurance plan helps customer...   \n",
       "4   Have known Hirani for yrs, what if MeToo claim...   \n",
       "5   Rahat Fateh Ali Khan denies getting notice for...   \n",
       "6   India get all out for 92, their lowest ODI tot...   \n",
       "7   Govt directs Alok Verma to join work 1 day bef...   \n",
       "8   Called PM Modi 'sir' 10 times to satisfy his e...   \n",
       "9   Cong wins Ramgarh bypoll in Rajasthan, takes t...   \n",
       "10  UP cousins fed human excreta for friendship wi...   \n",
       "\n",
       "                                                 text  \n",
       "0   Saurav Kant, an alumnus of upGrad and IIIT-B's...  \n",
       "1   Kunal Shah's credit card bill payment platform...  \n",
       "2   New Zealand defeated India by 8 wickets in the...  \n",
       "3   With Aegon Life iTerm Insurance plan, customer...  \n",
       "4   Speaking about the sexual harassment allegatio...  \n",
       "5   Pakistani singer Rahat Fateh Ali Khan has deni...  \n",
       "6   India recorded their lowest ODI total in New Z...  \n",
       "7   Weeks after ex-CBI Director Alok Verma told th...  \n",
       "8   Andhra Pradesh CM N Chandrababu Naidu has said...  \n",
       "9   Congress candidate Shafia Zubair won the Ramga...  \n",
       "10  Two minor cousins in Uttar Pradesh's Gorakhpur...  "
      ]
     },
     "execution_count": 507,
     "metadata": {},
     "output_type": "execute_result"
    }
   ],
   "source": [
    "data_summ"
   ]
  },
  {
   "cell_type": "code",
   "execution_count": 490,
   "id": "bc05673b",
   "metadata": {},
   "outputs": [],
   "source": [
    "condition = data['headlines'].str.contains(sentence[0], case=False)"
   ]
  },
  {
   "cell_type": "code",
   "execution_count": 510,
   "id": "721a0cfd",
   "metadata": {},
   "outputs": [
    {
     "name": "stderr",
     "output_type": "stream",
     "text": [
      "/tmp/ipykernel_77/978734016.py:1: UserWarning: Boolean Series key will be reindexed to match DataFrame index.\n",
      "  data_summ[data['headlines'].str.contains('platform', case=False)]\n"
     ]
    },
    {
     "data": {
      "text/html": [
       "<div>\n",
       "<style scoped>\n",
       "    .dataframe tbody tr th:only-of-type {\n",
       "        vertical-align: middle;\n",
       "    }\n",
       "\n",
       "    .dataframe tbody tr th {\n",
       "        vertical-align: top;\n",
       "    }\n",
       "\n",
       "    .dataframe thead th {\n",
       "        text-align: right;\n",
       "    }\n",
       "</style>\n",
       "<table border=\"1\" class=\"dataframe\">\n",
       "  <thead>\n",
       "    <tr style=\"text-align: right;\">\n",
       "      <th></th>\n",
       "      <th>headlines</th>\n",
       "      <th>text</th>\n",
       "    </tr>\n",
       "  </thead>\n",
       "  <tbody>\n",
       "  </tbody>\n",
       "</table>\n",
       "</div>"
      ],
      "text/plain": [
       "Empty DataFrame\n",
       "Columns: [headlines, text]\n",
       "Index: []"
      ]
     },
     "execution_count": 510,
     "metadata": {},
     "output_type": "execute_result"
    }
   ],
   "source": [
    "data_summ[data['headlines'].str.contains('platform', case=False)]"
   ]
  },
  {
   "cell_type": "code",
   "execution_count": 496,
   "id": "d53cd5a6",
   "metadata": {},
   "outputs": [
    {
     "ename": "ValueError",
     "evalue": "The truth value of a Series is ambiguous. Use a.empty, a.bool(), a.item(), a.any() or a.all().",
     "output_type": "error",
     "traceback": [
      "\u001b[0;31m---------------------------------------------------------------------------\u001b[0m",
      "\u001b[0;31mValueError\u001b[0m                                Traceback (most recent call last)",
      "\u001b[0;32m/tmp/ipykernel_77/1579535858.py\u001b[0m in \u001b[0;36m<module>\u001b[0;34m\u001b[0m\n\u001b[0;32m----> 1\u001b[0;31m \u001b[0;32mif\u001b[0m \u001b[0mdata\u001b[0m\u001b[0;34m[\u001b[0m\u001b[0;34m'headlines'\u001b[0m\u001b[0;34m]\u001b[0m\u001b[0;34m.\u001b[0m\u001b[0mstr\u001b[0m\u001b[0;34m.\u001b[0m\u001b[0mcontains\u001b[0m\u001b[0;34m(\u001b[0m\u001b[0;34m'railway'\u001b[0m\u001b[0;34m,\u001b[0m \u001b[0mcase\u001b[0m\u001b[0;34m=\u001b[0m\u001b[0;32mFalse\u001b[0m\u001b[0;34m)\u001b[0m\u001b[0;34m:\u001b[0m\u001b[0;34m\u001b[0m\u001b[0;34m\u001b[0m\u001b[0m\n\u001b[0m\u001b[1;32m      2\u001b[0m     \u001b[0mprint\u001b[0m\u001b[0;34m(\u001b[0m\u001b[0;34m)\u001b[0m\u001b[0;34m\u001b[0m\u001b[0;34m\u001b[0m\u001b[0m\n",
      "\u001b[0;32m/opt/conda/lib/python3.9/site-packages/pandas/core/generic.py\u001b[0m in \u001b[0;36m__nonzero__\u001b[0;34m(self)\u001b[0m\n\u001b[1;32m   1535\u001b[0m     \u001b[0;34m@\u001b[0m\u001b[0mfinal\u001b[0m\u001b[0;34m\u001b[0m\u001b[0;34m\u001b[0m\u001b[0m\n\u001b[1;32m   1536\u001b[0m     \u001b[0;32mdef\u001b[0m \u001b[0m__nonzero__\u001b[0m\u001b[0;34m(\u001b[0m\u001b[0mself\u001b[0m\u001b[0;34m)\u001b[0m\u001b[0;34m:\u001b[0m\u001b[0;34m\u001b[0m\u001b[0;34m\u001b[0m\u001b[0m\n\u001b[0;32m-> 1537\u001b[0;31m         raise ValueError(\n\u001b[0m\u001b[1;32m   1538\u001b[0m             \u001b[0;34mf\"The truth value of a {type(self).__name__} is ambiguous. \"\u001b[0m\u001b[0;34m\u001b[0m\u001b[0;34m\u001b[0m\u001b[0m\n\u001b[1;32m   1539\u001b[0m             \u001b[0;34m\"Use a.empty, a.bool(), a.item(), a.any() or a.all().\"\u001b[0m\u001b[0;34m\u001b[0m\u001b[0;34m\u001b[0m\u001b[0m\n",
      "\u001b[0;31mValueError\u001b[0m: The truth value of a Series is ambiguous. Use a.empty, a.bool(), a.item(), a.any() or a.all()."
     ]
    }
   ],
   "source": [
    "if data['headlines'].str.contains('railway', case=False):\n",
    "    print()"
   ]
  },
  {
   "cell_type": "code",
   "execution_count": 491,
   "id": "add05d52",
   "metadata": {},
   "outputs": [
    {
     "name": "stderr",
     "output_type": "stream",
     "text": [
      "/tmp/ipykernel_77/950845103.py:1: UserWarning: Boolean Series key will be reindexed to match DataFrame index.\n",
      "  data_summ[condition]\n"
     ]
    },
    {
     "data": {
      "text/html": [
       "<div>\n",
       "<style scoped>\n",
       "    .dataframe tbody tr th:only-of-type {\n",
       "        vertical-align: middle;\n",
       "    }\n",
       "\n",
       "    .dataframe tbody tr th {\n",
       "        vertical-align: top;\n",
       "    }\n",
       "\n",
       "    .dataframe thead th {\n",
       "        text-align: right;\n",
       "    }\n",
       "</style>\n",
       "<table border=\"1\" class=\"dataframe\">\n",
       "  <thead>\n",
       "    <tr style=\"text-align: right;\">\n",
       "      <th></th>\n",
       "      <th>headlines</th>\n",
       "      <th>text</th>\n",
       "    </tr>\n",
       "  </thead>\n",
       "  <tbody>\n",
       "  </tbody>\n",
       "</table>\n",
       "</div>"
      ],
      "text/plain": [
       "Empty DataFrame\n",
       "Columns: [headlines, text]\n",
       "Index: []"
      ]
     },
     "execution_count": 491,
     "metadata": {},
     "output_type": "execute_result"
    }
   ],
   "source": [
    "data_summ[condition]"
   ]
  },
  {
   "cell_type": "code",
   "execution_count": null,
   "id": "403cdb77",
   "metadata": {},
   "outputs": [],
   "source": [
    "condition = \n",
    "for word in sentence:\n",
    "    condition = data['headlines'].str.contains(sentence[0], case=False)"
   ]
  },
  {
   "cell_type": "code",
   "execution_count": null,
   "id": "db29d1d3",
   "metadata": {},
   "outputs": [],
   "source": []
  },
  {
   "cell_type": "code",
   "execution_count": null,
   "id": "4bba99cc",
   "metadata": {},
   "outputs": [],
   "source": []
  },
  {
   "cell_type": "code",
   "execution_count": null,
   "id": "47c4c8ac",
   "metadata": {},
   "outputs": [],
   "source": []
  },
  {
   "cell_type": "code",
   "execution_count": null,
   "id": "531b01ef",
   "metadata": {},
   "outputs": [],
   "source": []
  },
  {
   "cell_type": "code",
   "execution_count": 469,
   "id": "600fc3a0",
   "metadata": {},
   "outputs": [
    {
     "data": {
      "text/plain": [
       "\"Saurav Kant, an alumnus of upGrad and IIIT-B's PG Program in Machine learning and Artificial Intelligence, was a Sr Systems Engineer at Infosys with almost 5 years of work experience. The program and upGrad's 360-degree career support helped him transition to a Data Scientist at Tech Mahindra with 90% salary hike. upGrad's Online Power Learning has powered 3 lakh+ careers.\""
      ]
     },
     "execution_count": 469,
     "metadata": {},
     "output_type": "execute_result"
    }
   ],
   "source": [
    "data_summ.loc[0, \"text\"]"
   ]
  },
  {
   "cell_type": "code",
   "execution_count": 472,
   "id": "68e7cf45",
   "metadata": {},
   "outputs": [
    {
     "data": {
      "text/plain": [
       "\"upGrad's Online Power Learning has powered 3 lakh+ careers.\""
      ]
     },
     "execution_count": 472,
     "metadata": {},
     "output_type": "execute_result"
    }
   ],
   "source": [
    "summarize(data_summ.loc[0, \"text\"], words=headlines_max_len)"
   ]
  },
  {
   "cell_type": "code",
   "execution_count": null,
   "id": "f61f62f1",
   "metadata": {},
   "outputs": [],
   "source": [
    "headlines_max_len = 13"
   ]
  },
  {
   "cell_type": "code",
   "execution_count": null,
   "id": "8628276a",
   "metadata": {},
   "outputs": [],
   "source": []
  },
  {
   "cell_type": "code",
   "execution_count": null,
   "id": "6d226a60",
   "metadata": {},
   "outputs": [],
   "source": []
  },
  {
   "cell_type": "code",
   "execution_count": null,
   "id": "5abbba63",
   "metadata": {},
   "outputs": [],
   "source": []
  },
  {
   "cell_type": "code",
   "execution_count": null,
   "id": "8284bc0a",
   "metadata": {},
   "outputs": [],
   "source": []
  },
  {
   "cell_type": "code",
   "execution_count": null,
   "id": "77e5a962",
   "metadata": {},
   "outputs": [],
   "source": []
  },
  {
   "cell_type": "code",
   "execution_count": null,
   "id": "5064f9f2",
   "metadata": {},
   "outputs": [],
   "source": []
  },
  {
   "cell_type": "markdown",
   "id": "ccc6b2d1",
   "metadata": {},
   "source": [
    "---"
   ]
  },
  {
   "attachments": {
    "image.png": {
     "image/png": "[encoded data removed]"
    }
   },
   "cell_type": "markdown",
   "id": "e6b7e3f8",
   "metadata": {},
   "source": [
    "![image.png](attachment:image.png)"
   ]
  },
  {
   "cell_type": "code",
   "execution_count": null,
   "id": "92b18fc9",
   "metadata": {},
   "outputs": [],
   "source": []
  }
 ],
 "metadata": {
  "kernelspec": {
   "display_name": "Python 3 (ipykernel)",
   "language": "python",
   "name": "python3"
  },
  "language_info": {
   "codemirror_mode": {
    "name": "ipython",
    "version": 3
   },
   "file_extension": ".py",
   "mimetype": "text/x-python",
   "name": "python",
   "nbconvert_exporter": "python",
   "pygments_lexer": "ipython3",
   "version": "3.9.7"
  }
 },
 "nbformat": 4,
 "nbformat_minor": 5
}
