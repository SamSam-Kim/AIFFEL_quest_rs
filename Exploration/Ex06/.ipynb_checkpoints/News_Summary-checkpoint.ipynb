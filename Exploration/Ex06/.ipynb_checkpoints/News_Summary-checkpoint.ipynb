{
 "cells": [
  {
   "cell_type": "markdown",
   "id": "3ebf0fc2",
   "metadata": {},
   "source": [
    "# 프로젝트: 뉴스기사 요약해보기"
   ]
  },
  {
   "cell_type": "markdown",
   "id": "59fb4057",
   "metadata": {},
   "source": [
    "추상적 요약과 추출적 요약"
   ]
  },
  {
   "cell_type": "code",
   "execution_count": 10,
   "id": "18a46ec1",
   "metadata": {},
   "outputs": [
    {
     "name": "stdout",
     "output_type": "stream",
     "text": [
      "3.6.5\n",
      "2.6.0\n",
      "1.3.3\n",
      "1.2.0\n"
     ]
    }
   ],
   "source": [
    "import numpy as np\n",
    "import matplotlib.pyplot as plt\n",
    "import nltk\n",
    "import tensorflow\n",
    "import summa\n",
    "import pandas as pd\n",
    "import re\n",
    "\n",
    "from importlib.metadata import version\n",
    "from bs4 import BeautifulSoup \n",
    "from nltk.corpus import stopwords\n",
    "from tensorflow.keras.preprocessing.text import Tokenizer \n",
    "from tensorflow.keras.preprocessing.sequence import pad_sequences\n",
    "\n",
    "from tensorflow.keras.layers import Input, LSTM, Embedding, Dense, Concatenate, TimeDistributed\n",
    "from tensorflow.keras.models import Model\n",
    "from tensorflow.keras.callbacks import EarlyStopping, ModelCheckpoint\n",
    "from tensorflow.keras.layers import AdditiveAttention\n",
    "\n",
    "from summa.summarizer import summarize\n",
    "\n",
    "print(nltk.__version__)\n",
    "print(tensorflow.__version__)\n",
    "print(pd.__version__)\n",
    "print(version('summa'))"
   ]
  },
  {
   "cell_type": "markdown",
   "id": "a5b3d7e2",
   "metadata": {},
   "source": [
    "# Step 1. 데이터 수집하기"
   ]
  },
  {
   "cell_type": "markdown",
   "id": "940eed1a",
   "metadata": {},
   "source": [
    "- 출처: [sunnysai12345/News_Summary](https://github.com/sunnysai12345/News_Summary)"
   ]
  },
  {
   "cell_type": "code",
   "execution_count": 17,
   "id": "0240d2a2",
   "metadata": {},
   "outputs": [
    {
     "data": {
      "text/html": [
       "<div>\n",
       "<style scoped>\n",
       "    .dataframe tbody tr th:only-of-type {\n",
       "        vertical-align: middle;\n",
       "    }\n",
       "\n",
       "    .dataframe tbody tr th {\n",
       "        vertical-align: top;\n",
       "    }\n",
       "\n",
       "    .dataframe thead th {\n",
       "        text-align: right;\n",
       "    }\n",
       "</style>\n",
       "<table border=\"1\" class=\"dataframe\">\n",
       "  <thead>\n",
       "    <tr style=\"text-align: right;\">\n",
       "      <th></th>\n",
       "      <th>headlines</th>\n",
       "      <th>text</th>\n",
       "    </tr>\n",
       "  </thead>\n",
       "  <tbody>\n",
       "    <tr>\n",
       "      <th>71016</th>\n",
       "      <td>'Threatened' by teachers, MP boy sets himself ...</td>\n",
       "      <td>A 12-year-old boy from Madhya Pradesh's Chhind...</td>\n",
       "    </tr>\n",
       "    <tr>\n",
       "      <th>94287</th>\n",
       "      <td>Thief runs into police station after stealing ...</td>\n",
       "      <td>Surveillance footage has emerged of a thief in...</td>\n",
       "    </tr>\n",
       "    <tr>\n",
       "      <th>52273</th>\n",
       "      <td>Navy to buy its 3rd aircraft carrier for Ã¢ÂÂ...</td>\n",
       "      <td>The Indian Navy is planning to acquire its thi...</td>\n",
       "    </tr>\n",
       "    <tr>\n",
       "      <th>54489</th>\n",
       "      <td>Officials should have been arrested: Renuka on...</td>\n",
       "      <td>TV actress Renuka Shahane, slammed the mere su...</td>\n",
       "    </tr>\n",
       "    <tr>\n",
       "      <th>32216</th>\n",
       "      <td>SC transfers Kathua rape case from J&amp;K to Punj...</td>\n",
       "      <td>The Supreme Court on Monday transferred the Ka...</td>\n",
       "    </tr>\n",
       "    <tr>\n",
       "      <th>21336</th>\n",
       "      <td>Main nishabd hoon, shoonya mein hoon: PM Modi ...</td>\n",
       "      <td>Following the passing away of former PM Atal B...</td>\n",
       "    </tr>\n",
       "    <tr>\n",
       "      <th>39076</th>\n",
       "      <td>Started single wicket bowling on Nehra's advic...</td>\n",
       "      <td>Team India pacer Umesh Yadav has said he has s...</td>\n",
       "    </tr>\n",
       "    <tr>\n",
       "      <th>52779</th>\n",
       "      <td>Will sue Honeypreet's mother for Ã¢ÂÂ¹20 cror...</td>\n",
       "      <td>Responding to the Ã¢ÂÂ¹5 crore defamation not...</td>\n",
       "    </tr>\n",
       "    <tr>\n",
       "      <th>46684</th>\n",
       "      <td>Charges of favouring one telecom operator 'bas...</td>\n",
       "      <td>Telecom regulator TRAI has termed the cellular...</td>\n",
       "    </tr>\n",
       "    <tr>\n",
       "      <th>54857</th>\n",
       "      <td>India should wage war against Pak, split it in...</td>\n",
       "      <td>Slamming Pakistan over its treatment towards f...</td>\n",
       "    </tr>\n",
       "  </tbody>\n",
       "</table>\n",
       "</div>"
      ],
      "text/plain": [
       "                                               headlines  \\\n",
       "71016  'Threatened' by teachers, MP boy sets himself ...   \n",
       "94287  Thief runs into police station after stealing ...   \n",
       "52273  Navy to buy its 3rd aircraft carrier for Ã¢ÂÂ...   \n",
       "54489  Officials should have been arrested: Renuka on...   \n",
       "32216  SC transfers Kathua rape case from J&K to Punj...   \n",
       "21336  Main nishabd hoon, shoonya mein hoon: PM Modi ...   \n",
       "39076  Started single wicket bowling on Nehra's advic...   \n",
       "52779  Will sue Honeypreet's mother for Ã¢ÂÂ¹20 cror...   \n",
       "46684  Charges of favouring one telecom operator 'bas...   \n",
       "54857  India should wage war against Pak, split it in...   \n",
       "\n",
       "                                                    text  \n",
       "71016  A 12-year-old boy from Madhya Pradesh's Chhind...  \n",
       "94287  Surveillance footage has emerged of a thief in...  \n",
       "52273  The Indian Navy is planning to acquire its thi...  \n",
       "54489  TV actress Renuka Shahane, slammed the mere su...  \n",
       "32216  The Supreme Court on Monday transferred the Ka...  \n",
       "21336  Following the passing away of former PM Atal B...  \n",
       "39076  Team India pacer Umesh Yadav has said he has s...  \n",
       "52779  Responding to the Ã¢ÂÂ¹5 crore defamation not...  \n",
       "46684  Telecom regulator TRAI has termed the cellular...  \n",
       "54857  Slamming Pakistan over its treatment towards f...  "
      ]
     },
     "execution_count": 17,
     "metadata": {},
     "output_type": "execute_result"
    }
   ],
   "source": [
    "data = pd.read_csv('/aiffel/news_summary_more.csv', encoding='iso-8859-1')\n",
    "data.sample(10)"
   ]
  },
  {
   "cell_type": "markdown",
   "id": "ba1e8d68",
   "metadata": {},
   "source": [
    "- 기사의 본문에 해당되는 text와 headlines 두 가지 열로 구성\n",
    "\n",
    "- 추상적 요약을 하는 경우에는 text를 본문, headlines를 이미 요약된 데이터로 삼아서 모델 학습\n",
    "- 추출적 요약을 하는 경우에는 오직 text열만을 사용"
   ]
  },
  {
   "cell_type": "markdown",
   "id": "a9140543",
   "metadata": {},
   "source": [
    "# Step 2. 데이터 전처리하기 (추상적 요약)"
   ]
  },
  {
   "cell_type": "markdown",
   "id": "1ead7c09",
   "metadata": {},
   "source": [
    "## 중복 샘플과 NULL 값이 존재하는 샘플 제거"
   ]
  },
  {
   "cell_type": "code",
   "execution_count": 18,
   "id": "4dc51db3",
   "metadata": {},
   "outputs": [
    {
     "name": "stdout",
     "output_type": "stream",
     "text": [
      "전체 데이터의 샘플 수 \t:  98401\n",
      "text 중복 샘플 수 \t:  41\n",
      "headlines 중복 샘플 수\t:  121\n"
     ]
    }
   ],
   "source": [
    "print(\"전체 데이터의 샘플 수 \\t: \", len(data))\n",
    "print(\"text 중복 샘플 수 \\t: \", len(data['text']) - data['text'].nunique())\n",
    "print(\"headlines 중복 샘플 수\\t: \", len(data['headlines']) - data['headlines'].nunique())"
   ]
  },
  {
   "cell_type": "markdown",
   "id": "6ebc4697",
   "metadata": {},
   "source": [
    "- 다른 기사라도 같은 headline으로 쓰일 수 있기 때문에 headlines 중복은 무시.\n",
    "- text의 중복은 제거"
   ]
  },
  {
   "cell_type": "code",
   "execution_count": 20,
   "id": "115c14df",
   "metadata": {},
   "outputs": [
    {
     "name": "stdout",
     "output_type": "stream",
     "text": [
      "중복 제거 후 전체 샘플 수 : 98360\n"
     ]
    }
   ],
   "source": [
    "data.drop_duplicates(subset = ['text'], inplace=True)\n",
    "print('중복 제거 후 전체 샘플 수 :', (len(data)))"
   ]
  },
  {
   "cell_type": "code",
   "execution_count": 21,
   "id": "40776f84",
   "metadata": {},
   "outputs": [
    {
     "name": "stdout",
     "output_type": "stream",
     "text": [
      "headlines    0\n",
      "text         0\n",
      "dtype: int64\n"
     ]
    }
   ],
   "source": [
    "print(data.isnull().sum())"
   ]
  },
  {
   "cell_type": "markdown",
   "id": "ebdf6f1c",
   "metadata": {},
   "source": [
    "- Null 부존재 확인"
   ]
  },
  {
   "cell_type": "markdown",
   "id": "34ae601b",
   "metadata": {},
   "source": [
    "## 텍스트 정규화 및 불용어 제거"
   ]
  },
  {
   "cell_type": "markdown",
   "id": "bdb1dc6c",
   "metadata": {},
   "source": [
    "- 불용어는 자연어 처리 효율을 위해 본문(text)에서는 제거하되, 헤드라인은 그 특성상 길이도 짧고 불용어 사용이 잦으므로 불용어를 제거하지 않고 진행한다. \n",
    "- [정규화 사전 출처](https://stackoverflow.com/questions/19790188/expanding-english-language-contractions-in-python)"
   ]
  },
  {
   "cell_type": "code",
   "execution_count": 7,
   "id": "49cad9ed",
   "metadata": {},
   "outputs": [],
   "source": [
    "contractions = {\"ain't\": \"is not\", \"aren't\": \"are not\",\"can't\": \"cannot\", \"'cause\": \"because\", \"could've\": \"could have\", \"couldn't\": \"could not\",\n",
    "                           \"didn't\": \"did not\",  \"doesn't\": \"does not\", \"don't\": \"do not\", \"hadn't\": \"had not\", \"hasn't\": \"has not\", \"haven't\": \"have not\",\n",
    "                           \"he'd\": \"he would\",\"he'll\": \"he will\", \"he's\": \"he is\", \"how'd\": \"how did\", \"how'd'y\": \"how do you\", \"how'll\": \"how will\", \"how's\": \"how is\",\n",
    "                           \"I'd\": \"I would\", \"I'd've\": \"I would have\", \"I'll\": \"I will\", \"I'll've\": \"I will have\",\"I'm\": \"I am\", \"I've\": \"I have\", \"i'd\": \"i would\",\n",
    "                           \"i'd've\": \"i would have\", \"i'll\": \"i will\",  \"i'll've\": \"i will have\",\"i'm\": \"i am\", \"i've\": \"i have\", \"isn't\": \"is not\", \"it'd\": \"it would\",\n",
    "                           \"it'd've\": \"it would have\", \"it'll\": \"it will\", \"it'll've\": \"it will have\",\"it's\": \"it is\", \"let's\": \"let us\", \"ma'am\": \"madam\",\n",
    "                           \"mayn't\": \"may not\", \"might've\": \"might have\",\"mightn't\": \"might not\",\"mightn't've\": \"might not have\", \"must've\": \"must have\",\n",
    "                           \"mustn't\": \"must not\", \"mustn't've\": \"must not have\", \"needn't\": \"need not\", \"needn't've\": \"need not have\",\"o'clock\": \"of the clock\",\n",
    "                           \"oughtn't\": \"ought not\", \"oughtn't've\": \"ought not have\", \"shan't\": \"shall not\", \"sha'n't\": \"shall not\", \"shan't've\": \"shall not have\",\n",
    "                           \"she'd\": \"she would\", \"she'd've\": \"she would have\", \"she'll\": \"she will\", \"she'll've\": \"she will have\", \"she's\": \"she is\",\n",
    "                           \"should've\": \"should have\", \"shouldn't\": \"should not\", \"shouldn't've\": \"should not have\", \"so've\": \"so have\",\"so's\": \"so as\",\n",
    "                           \"this's\": \"this is\",\"that'd\": \"that would\", \"that'd've\": \"that would have\", \"that's\": \"that is\", \"there'd\": \"there would\",\n",
    "                           \"there'd've\": \"there would have\", \"there's\": \"there is\", \"here's\": \"here is\",\"they'd\": \"they would\", \"they'd've\": \"they would have\",\n",
    "                           \"they'll\": \"they will\", \"they'll've\": \"they will have\", \"they're\": \"they are\", \"they've\": \"they have\", \"to've\": \"to have\",\n",
    "                           \"wasn't\": \"was not\", \"we'd\": \"we would\", \"we'd've\": \"we would have\", \"we'll\": \"we will\", \"we'll've\": \"we will have\", \"we're\": \"we are\",\n",
    "                           \"we've\": \"we have\", \"weren't\": \"were not\", \"what'll\": \"what will\", \"what'll've\": \"what will have\", \"what're\": \"what are\",\n",
    "                           \"what's\": \"what is\", \"what've\": \"what have\", \"when's\": \"when is\", \"when've\": \"when have\", \"where'd\": \"where did\", \"where's\": \"where is\",\n",
    "                           \"where've\": \"where have\", \"who'll\": \"who will\", \"who'll've\": \"who will have\", \"who's\": \"who is\", \"who've\": \"who have\",\n",
    "                           \"why's\": \"why is\", \"why've\": \"why have\", \"will've\": \"will have\", \"won't\": \"will not\", \"won't've\": \"will not have\",\n",
    "                           \"would've\": \"would have\", \"wouldn't\": \"would not\", \"wouldn't've\": \"would not have\", \"y'all\": \"you all\",\n",
    "                           \"y'all'd\": \"you all would\",\"y'all'd've\": \"you all would have\",\"y'all're\": \"you all are\",\"y'all've\": \"you all have\",\n",
    "                           \"you'd\": \"you would\", \"you'd've\": \"you would have\", \"you'll\": \"you will\", \"you'll've\": \"you will have\",\n",
    "                           \"you're\": \"you are\", \"you've\": \"you have\"}"
   ]
  },
  {
   "cell_type": "code",
   "execution_count": 8,
   "id": "f3fb8393",
   "metadata": {},
   "outputs": [],
   "source": [
    "# 데이터 전처리 함수\n",
    "def preprocess_sentence(sentence, remove_stopwords=True):\n",
    "    sentence = sentence.lower() # 텍스트 소문자화\n",
    "    sentence = BeautifulSoup(sentence, \"lxml\").text # html 태그 제거\n",
    "    sentence = re.sub(r'\\([^)]*\\)', '', sentence) # 괄호로 닫힌 문자열 (...) 제거 Ex) my husband (and myself!) for => my husband for\n",
    "    sentence = re.sub('\"','', sentence) # 쌍따옴표 \" 제거\n",
    "    sentence = ' '.join([contractions[t] if t in contractions else t for t in sentence.split(\" \")]) # 약어 정규화\n",
    "    sentence = re.sub(r\"'s\\b\",\"\", sentence) # 소유격 제거. Ex) roland's -> roland\n",
    "    sentence = re.sub(\"[^a-zA-Z]\", \" \", sentence) # 영어 외 문자(숫자, 특수문자 등) 공백으로 변환\n",
    "    sentence = re.sub('[m]{2,}', 'mm', sentence) # m이 3개 이상이면 2개로 변경. Ex) ummmmmmm yeah -> umm yeah\n",
    "    \n",
    "    # 불용어 제거 (text)\n",
    "    if remove_stopwords:\n",
    "        tokens = ' '.join(word for word in sentence.split() if not word in stopwords.words('english') if len(word) > 1)\n",
    "    # 불용어 미제거 (headlines)\n",
    "    else:\n",
    "        tokens = ' '.join(word for word in sentence.split() if len(word) > 1)\n",
    "    return tokens"
   ]
  },
  {
   "cell_type": "code",
   "execution_count": 24,
   "id": "d6667263",
   "metadata": {},
   "outputs": [
    {
     "data": {
      "text/html": [
       "<div>\n",
       "<style scoped>\n",
       "    .dataframe tbody tr th:only-of-type {\n",
       "        vertical-align: middle;\n",
       "    }\n",
       "\n",
       "    .dataframe tbody tr th {\n",
       "        vertical-align: top;\n",
       "    }\n",
       "\n",
       "    .dataframe thead th {\n",
       "        text-align: right;\n",
       "    }\n",
       "</style>\n",
       "<table border=\"1\" class=\"dataframe\">\n",
       "  <thead>\n",
       "    <tr style=\"text-align: right;\">\n",
       "      <th></th>\n",
       "      <th>headlines</th>\n",
       "      <th>text</th>\n",
       "    </tr>\n",
       "  </thead>\n",
       "  <tbody>\n",
       "    <tr>\n",
       "      <th>0</th>\n",
       "      <td>upGrad learner switches to career in ML &amp; Al w...</td>\n",
       "      <td>Saurav Kant, an alumnus of upGrad and IIIT-B's...</td>\n",
       "    </tr>\n",
       "    <tr>\n",
       "      <th>1</th>\n",
       "      <td>Delhi techie wins free food from Swiggy for on...</td>\n",
       "      <td>Kunal Shah's credit card bill payment platform...</td>\n",
       "    </tr>\n",
       "    <tr>\n",
       "      <th>2</th>\n",
       "      <td>New Zealand end Rohit Sharma-led India's 12-ma...</td>\n",
       "      <td>New Zealand defeated India by 8 wickets in the...</td>\n",
       "    </tr>\n",
       "    <tr>\n",
       "      <th>3</th>\n",
       "      <td>Aegon life iTerm insurance plan helps customer...</td>\n",
       "      <td>With Aegon Life iTerm Insurance plan, customer...</td>\n",
       "    </tr>\n",
       "    <tr>\n",
       "      <th>4</th>\n",
       "      <td>Have known Hirani for yrs, what if MeToo claim...</td>\n",
       "      <td>Speaking about the sexual harassment allegatio...</td>\n",
       "    </tr>\n",
       "    <tr>\n",
       "      <th>...</th>\n",
       "      <td>...</td>\n",
       "      <td>...</td>\n",
       "    </tr>\n",
       "    <tr>\n",
       "      <th>98396</th>\n",
       "      <td>CRPF jawan axed to death by Maoists in Chhatti...</td>\n",
       "      <td>A CRPF jawan was on Tuesday axed to death with...</td>\n",
       "    </tr>\n",
       "    <tr>\n",
       "      <th>98397</th>\n",
       "      <td>First song from Sonakshi Sinha's 'Noor' titled...</td>\n",
       "      <td>'Uff Yeh', the first song from the Sonakshi Si...</td>\n",
       "    </tr>\n",
       "    <tr>\n",
       "      <th>98398</th>\n",
       "      <td>'The Matrix' film to get a reboot: Reports</td>\n",
       "      <td>According to reports, a new version of the 199...</td>\n",
       "    </tr>\n",
       "    <tr>\n",
       "      <th>98399</th>\n",
       "      <td>Snoop Dogg aims gun at clown dressed as Trump ...</td>\n",
       "      <td>A new music video shows rapper Snoop Dogg aimi...</td>\n",
       "    </tr>\n",
       "    <tr>\n",
       "      <th>98400</th>\n",
       "      <td>Madhesi Morcha withdraws support to Nepalese g...</td>\n",
       "      <td>Madhesi Morcha, an alliance of seven political...</td>\n",
       "    </tr>\n",
       "  </tbody>\n",
       "</table>\n",
       "<p>98360 rows × 2 columns</p>\n",
       "</div>"
      ],
      "text/plain": [
       "                                               headlines  \\\n",
       "0      upGrad learner switches to career in ML & Al w...   \n",
       "1      Delhi techie wins free food from Swiggy for on...   \n",
       "2      New Zealand end Rohit Sharma-led India's 12-ma...   \n",
       "3      Aegon life iTerm insurance plan helps customer...   \n",
       "4      Have known Hirani for yrs, what if MeToo claim...   \n",
       "...                                                  ...   \n",
       "98396  CRPF jawan axed to death by Maoists in Chhatti...   \n",
       "98397  First song from Sonakshi Sinha's 'Noor' titled...   \n",
       "98398         'The Matrix' film to get a reboot: Reports   \n",
       "98399  Snoop Dogg aims gun at clown dressed as Trump ...   \n",
       "98400  Madhesi Morcha withdraws support to Nepalese g...   \n",
       "\n",
       "                                                    text  \n",
       "0      Saurav Kant, an alumnus of upGrad and IIIT-B's...  \n",
       "1      Kunal Shah's credit card bill payment platform...  \n",
       "2      New Zealand defeated India by 8 wickets in the...  \n",
       "3      With Aegon Life iTerm Insurance plan, customer...  \n",
       "4      Speaking about the sexual harassment allegatio...  \n",
       "...                                                  ...  \n",
       "98396  A CRPF jawan was on Tuesday axed to death with...  \n",
       "98397  'Uff Yeh', the first song from the Sonakshi Si...  \n",
       "98398  According to reports, a new version of the 199...  \n",
       "98399  A new music video shows rapper Snoop Dogg aimi...  \n",
       "98400  Madhesi Morcha, an alliance of seven political...  \n",
       "\n",
       "[98360 rows x 2 columns]"
      ]
     },
     "execution_count": 24,
     "metadata": {},
     "output_type": "execute_result"
    }
   ],
   "source": [
    "data"
   ]
  },
  {
   "cell_type": "code",
   "execution_count": 25,
   "id": "ce609027",
   "metadata": {},
   "outputs": [
    {
     "data": {
      "text/html": [
       "<div>\n",
       "<style scoped>\n",
       "    .dataframe tbody tr th:only-of-type {\n",
       "        vertical-align: middle;\n",
       "    }\n",
       "\n",
       "    .dataframe tbody tr th {\n",
       "        vertical-align: top;\n",
       "    }\n",
       "\n",
       "    .dataframe thead th {\n",
       "        text-align: right;\n",
       "    }\n",
       "</style>\n",
       "<table border=\"1\" class=\"dataframe\">\n",
       "  <thead>\n",
       "    <tr style=\"text-align: right;\">\n",
       "      <th></th>\n",
       "      <th>headlines</th>\n",
       "      <th>text</th>\n",
       "    </tr>\n",
       "  </thead>\n",
       "  <tbody>\n",
       "    <tr>\n",
       "      <th>0</th>\n",
       "      <td>upGrad learner switches to career in ML &amp; Al w...</td>\n",
       "      <td>Saurav Kant, an alumnus of upGrad and IIIT-B's...</td>\n",
       "    </tr>\n",
       "    <tr>\n",
       "      <th>1</th>\n",
       "      <td>Delhi techie wins free food from Swiggy for on...</td>\n",
       "      <td>Kunal Shah's credit card bill payment platform...</td>\n",
       "    </tr>\n",
       "    <tr>\n",
       "      <th>2</th>\n",
       "      <td>New Zealand end Rohit Sharma-led India's 12-ma...</td>\n",
       "      <td>New Zealand defeated India by 8 wickets in the...</td>\n",
       "    </tr>\n",
       "    <tr>\n",
       "      <th>3</th>\n",
       "      <td>Aegon life iTerm insurance plan helps customer...</td>\n",
       "      <td>With Aegon Life iTerm Insurance plan, customer...</td>\n",
       "    </tr>\n",
       "    <tr>\n",
       "      <th>4</th>\n",
       "      <td>Have known Hirani for yrs, what if MeToo claim...</td>\n",
       "      <td>Speaking about the sexual harassment allegatio...</td>\n",
       "    </tr>\n",
       "    <tr>\n",
       "      <th>...</th>\n",
       "      <td>...</td>\n",
       "      <td>...</td>\n",
       "    </tr>\n",
       "    <tr>\n",
       "      <th>98355</th>\n",
       "      <td>CRPF jawan axed to death by Maoists in Chhatti...</td>\n",
       "      <td>A CRPF jawan was on Tuesday axed to death with...</td>\n",
       "    </tr>\n",
       "    <tr>\n",
       "      <th>98356</th>\n",
       "      <td>First song from Sonakshi Sinha's 'Noor' titled...</td>\n",
       "      <td>'Uff Yeh', the first song from the Sonakshi Si...</td>\n",
       "    </tr>\n",
       "    <tr>\n",
       "      <th>98357</th>\n",
       "      <td>'The Matrix' film to get a reboot: Reports</td>\n",
       "      <td>According to reports, a new version of the 199...</td>\n",
       "    </tr>\n",
       "    <tr>\n",
       "      <th>98358</th>\n",
       "      <td>Snoop Dogg aims gun at clown dressed as Trump ...</td>\n",
       "      <td>A new music video shows rapper Snoop Dogg aimi...</td>\n",
       "    </tr>\n",
       "    <tr>\n",
       "      <th>98359</th>\n",
       "      <td>Madhesi Morcha withdraws support to Nepalese g...</td>\n",
       "      <td>Madhesi Morcha, an alliance of seven political...</td>\n",
       "    </tr>\n",
       "  </tbody>\n",
       "</table>\n",
       "<p>98360 rows × 2 columns</p>\n",
       "</div>"
      ],
      "text/plain": [
       "                                               headlines  \\\n",
       "0      upGrad learner switches to career in ML & Al w...   \n",
       "1      Delhi techie wins free food from Swiggy for on...   \n",
       "2      New Zealand end Rohit Sharma-led India's 12-ma...   \n",
       "3      Aegon life iTerm insurance plan helps customer...   \n",
       "4      Have known Hirani for yrs, what if MeToo claim...   \n",
       "...                                                  ...   \n",
       "98355  CRPF jawan axed to death by Maoists in Chhatti...   \n",
       "98356  First song from Sonakshi Sinha's 'Noor' titled...   \n",
       "98357         'The Matrix' film to get a reboot: Reports   \n",
       "98358  Snoop Dogg aims gun at clown dressed as Trump ...   \n",
       "98359  Madhesi Morcha withdraws support to Nepalese g...   \n",
       "\n",
       "                                                    text  \n",
       "0      Saurav Kant, an alumnus of upGrad and IIIT-B's...  \n",
       "1      Kunal Shah's credit card bill payment platform...  \n",
       "2      New Zealand defeated India by 8 wickets in the...  \n",
       "3      With Aegon Life iTerm Insurance plan, customer...  \n",
       "4      Speaking about the sexual harassment allegatio...  \n",
       "...                                                  ...  \n",
       "98355  A CRPF jawan was on Tuesday axed to death with...  \n",
       "98356  'Uff Yeh', the first song from the Sonakshi Si...  \n",
       "98357  According to reports, a new version of the 199...  \n",
       "98358  A new music video shows rapper Snoop Dogg aimi...  \n",
       "98359  Madhesi Morcha, an alliance of seven political...  \n",
       "\n",
       "[98360 rows x 2 columns]"
      ]
     },
     "execution_count": 25,
     "metadata": {},
     "output_type": "execute_result"
    }
   ],
   "source": [
    "# 처리 전후 비교를 용이하게 하기 위해 인덱스 리셋\n",
    "data.reset_index(inplace=True, drop=True)\n",
    "data"
   ]
  },
  {
   "cell_type": "code",
   "execution_count": 26,
   "id": "38fb8a1e",
   "metadata": {},
   "outputs": [],
   "source": [
    "clean_text = []\n",
    "\n",
    "clean_text = data['text'].apply(lambda x: preprocess_sentence(x, remove_stopwords=True))"
   ]
  },
  {
   "cell_type": "code",
   "execution_count": 27,
   "id": "247e467a",
   "metadata": {},
   "outputs": [],
   "source": [
    "clean_headlines = []\n",
    "\n",
    "for i in data[\"headlines\"]:\n",
    "    clean_headlines.append(preprocess_sentence(i, remove_stopwords=False))"
   ]
  },
  {
   "cell_type": "code",
   "execution_count": 28,
   "id": "27858a78",
   "metadata": {},
   "outputs": [
    {
     "data": {
      "text/plain": [
       "(pandas.core.series.Series, list)"
      ]
     },
     "execution_count": 28,
     "metadata": {},
     "output_type": "execute_result"
    }
   ],
   "source": [
    "type(clean_text), type(clean_headlines)"
   ]
  },
  {
   "cell_type": "markdown",
   "id": "55297a36",
   "metadata": {},
   "source": [
    "- 전처리 결과 확인"
   ]
  },
  {
   "cell_type": "code",
   "execution_count": 29,
   "id": "27097ea2",
   "metadata": {},
   "outputs": [
    {
     "name": "stdout",
     "output_type": "stream",
     "text": [
      "Why does popcorn make the 'pop' sound?\n",
      "why does popcorn make the pop sound\n"
     ]
    }
   ],
   "source": [
    "print(data.loc[91476, 'headlines'])\n",
    "print(clean_headlines[91476])"
   ]
  },
  {
   "cell_type": "code",
   "execution_count": 31,
   "id": "c7b15b4f",
   "metadata": {},
   "outputs": [
    {
     "name": "stdout",
     "output_type": "stream",
     "text": [
      "The 'pop' sound of a popcorn is due to pressurised water vapour rapidly escaping from the interior. Inside the protective covering, each popcorn kernel comprises starchy endosperm and water. As it is cooked, the water inside heats up, creates steam and expands. The water and steam eventually create enough internal pressure to break the covering and make the kernel pop. \n",
      "\n",
      "pop sound popcorn due pressurised water vapour rapidly escaping interior inside protective covering popcorn kernel comprises starchy endosperm water cooked water inside heats creates steam expands water steam eventually create enough internal pressure break covering make kernel pop\n"
     ]
    }
   ],
   "source": [
    "print(data.loc[91476, 'text'], \"\\n\")\n",
    "print(clean_text[91476])"
   ]
  },
  {
   "cell_type": "code",
   "execution_count": 32,
   "id": "a2f0024b",
   "metadata": {},
   "outputs": [
    {
     "name": "stdout",
     "output_type": "stream",
     "text": [
      "Reebok trolls Nordstrom with a Ã¢ÂÂ¹27,000 sweat-soaked T-shirt \n",
      "reebok trolls nordstrom with sweat soaked shirt\n"
     ]
    }
   ],
   "source": [
    "print(data.loc[91435, 'headlines'])\n",
    "print(clean_headlines[91435])"
   ]
  },
  {
   "cell_type": "markdown",
   "id": "9a1d2564",
   "metadata": {},
   "source": [
    "- 전처리 후 빈 샘플 확인"
   ]
  },
  {
   "cell_type": "code",
   "execution_count": 33,
   "id": "7c8ecbbc",
   "metadata": {},
   "outputs": [
    {
     "data": {
      "text/plain": [
       "(0, 0)"
      ]
     },
     "execution_count": 33,
     "metadata": {},
     "output_type": "execute_result"
    }
   ],
   "source": [
    "clean_headlines.count(\"\"), clean_text.isnull().sum()"
   ]
  },
  {
   "cell_type": "markdown",
   "id": "a43d7bfd",
   "metadata": {},
   "source": [
    "- 원본 별도 저장 후 Data 컬럼을 전처리 결과로 교체"
   ]
  },
  {
   "cell_type": "code",
   "execution_count": 34,
   "id": "81d8bc95",
   "metadata": {},
   "outputs": [
    {
     "data": {
      "text/html": [
       "<div>\n",
       "<style scoped>\n",
       "    .dataframe tbody tr th:only-of-type {\n",
       "        vertical-align: middle;\n",
       "    }\n",
       "\n",
       "    .dataframe tbody tr th {\n",
       "        vertical-align: top;\n",
       "    }\n",
       "\n",
       "    .dataframe thead th {\n",
       "        text-align: right;\n",
       "    }\n",
       "</style>\n",
       "<table border=\"1\" class=\"dataframe\">\n",
       "  <thead>\n",
       "    <tr style=\"text-align: right;\">\n",
       "      <th></th>\n",
       "      <th>headlines</th>\n",
       "      <th>text</th>\n",
       "    </tr>\n",
       "  </thead>\n",
       "  <tbody>\n",
       "    <tr>\n",
       "      <th>0</th>\n",
       "      <td>upGrad learner switches to career in ML &amp; Al w...</td>\n",
       "      <td>Saurav Kant, an alumnus of upGrad and IIIT-B's...</td>\n",
       "    </tr>\n",
       "    <tr>\n",
       "      <th>1</th>\n",
       "      <td>Delhi techie wins free food from Swiggy for on...</td>\n",
       "      <td>Kunal Shah's credit card bill payment platform...</td>\n",
       "    </tr>\n",
       "    <tr>\n",
       "      <th>2</th>\n",
       "      <td>New Zealand end Rohit Sharma-led India's 12-ma...</td>\n",
       "      <td>New Zealand defeated India by 8 wickets in the...</td>\n",
       "    </tr>\n",
       "    <tr>\n",
       "      <th>3</th>\n",
       "      <td>Aegon life iTerm insurance plan helps customer...</td>\n",
       "      <td>With Aegon Life iTerm Insurance plan, customer...</td>\n",
       "    </tr>\n",
       "    <tr>\n",
       "      <th>4</th>\n",
       "      <td>Have known Hirani for yrs, what if MeToo claim...</td>\n",
       "      <td>Speaking about the sexual harassment allegatio...</td>\n",
       "    </tr>\n",
       "    <tr>\n",
       "      <th>...</th>\n",
       "      <td>...</td>\n",
       "      <td>...</td>\n",
       "    </tr>\n",
       "    <tr>\n",
       "      <th>98355</th>\n",
       "      <td>CRPF jawan axed to death by Maoists in Chhatti...</td>\n",
       "      <td>A CRPF jawan was on Tuesday axed to death with...</td>\n",
       "    </tr>\n",
       "    <tr>\n",
       "      <th>98356</th>\n",
       "      <td>First song from Sonakshi Sinha's 'Noor' titled...</td>\n",
       "      <td>'Uff Yeh', the first song from the Sonakshi Si...</td>\n",
       "    </tr>\n",
       "    <tr>\n",
       "      <th>98357</th>\n",
       "      <td>'The Matrix' film to get a reboot: Reports</td>\n",
       "      <td>According to reports, a new version of the 199...</td>\n",
       "    </tr>\n",
       "    <tr>\n",
       "      <th>98358</th>\n",
       "      <td>Snoop Dogg aims gun at clown dressed as Trump ...</td>\n",
       "      <td>A new music video shows rapper Snoop Dogg aimi...</td>\n",
       "    </tr>\n",
       "    <tr>\n",
       "      <th>98359</th>\n",
       "      <td>Madhesi Morcha withdraws support to Nepalese g...</td>\n",
       "      <td>Madhesi Morcha, an alliance of seven political...</td>\n",
       "    </tr>\n",
       "  </tbody>\n",
       "</table>\n",
       "<p>98360 rows × 2 columns</p>\n",
       "</div>"
      ],
      "text/plain": [
       "                                               headlines  \\\n",
       "0      upGrad learner switches to career in ML & Al w...   \n",
       "1      Delhi techie wins free food from Swiggy for on...   \n",
       "2      New Zealand end Rohit Sharma-led India's 12-ma...   \n",
       "3      Aegon life iTerm insurance plan helps customer...   \n",
       "4      Have known Hirani for yrs, what if MeToo claim...   \n",
       "...                                                  ...   \n",
       "98355  CRPF jawan axed to death by Maoists in Chhatti...   \n",
       "98356  First song from Sonakshi Sinha's 'Noor' titled...   \n",
       "98357         'The Matrix' film to get a reboot: Reports   \n",
       "98358  Snoop Dogg aims gun at clown dressed as Trump ...   \n",
       "98359  Madhesi Morcha withdraws support to Nepalese g...   \n",
       "\n",
       "                                                    text  \n",
       "0      Saurav Kant, an alumnus of upGrad and IIIT-B's...  \n",
       "1      Kunal Shah's credit card bill payment platform...  \n",
       "2      New Zealand defeated India by 8 wickets in the...  \n",
       "3      With Aegon Life iTerm Insurance plan, customer...  \n",
       "4      Speaking about the sexual harassment allegatio...  \n",
       "...                                                  ...  \n",
       "98355  A CRPF jawan was on Tuesday axed to death with...  \n",
       "98356  'Uff Yeh', the first song from the Sonakshi Si...  \n",
       "98357  According to reports, a new version of the 199...  \n",
       "98358  A new music video shows rapper Snoop Dogg aimi...  \n",
       "98359  Madhesi Morcha, an alliance of seven political...  \n",
       "\n",
       "[98360 rows x 2 columns]"
      ]
     },
     "execution_count": 34,
     "metadata": {},
     "output_type": "execute_result"
    }
   ],
   "source": [
    "origin_data = data.copy()\n",
    "origin_data"
   ]
  },
  {
   "cell_type": "code",
   "execution_count": 35,
   "id": "bd097404",
   "metadata": {},
   "outputs": [
    {
     "data": {
      "text/html": [
       "<div>\n",
       "<style scoped>\n",
       "    .dataframe tbody tr th:only-of-type {\n",
       "        vertical-align: middle;\n",
       "    }\n",
       "\n",
       "    .dataframe tbody tr th {\n",
       "        vertical-align: top;\n",
       "    }\n",
       "\n",
       "    .dataframe thead th {\n",
       "        text-align: right;\n",
       "    }\n",
       "</style>\n",
       "<table border=\"1\" class=\"dataframe\">\n",
       "  <thead>\n",
       "    <tr style=\"text-align: right;\">\n",
       "      <th></th>\n",
       "      <th>headlines</th>\n",
       "      <th>text</th>\n",
       "    </tr>\n",
       "  </thead>\n",
       "  <tbody>\n",
       "    <tr>\n",
       "      <th>0</th>\n",
       "      <td>upgrad learner switches to career in ml al wit...</td>\n",
       "      <td>saurav kant alumnus upgrad iiit pg program mac...</td>\n",
       "    </tr>\n",
       "    <tr>\n",
       "      <th>1</th>\n",
       "      <td>delhi techie wins free food from swiggy for on...</td>\n",
       "      <td>kunal shah credit card bill payment platform c...</td>\n",
       "    </tr>\n",
       "    <tr>\n",
       "      <th>2</th>\n",
       "      <td>new zealand end rohit sharma led india match w...</td>\n",
       "      <td>new zealand defeated india wickets fourth odi ...</td>\n",
       "    </tr>\n",
       "    <tr>\n",
       "      <th>3</th>\n",
       "      <td>aegon life iterm insurance plan helps customer...</td>\n",
       "      <td>aegon life iterm insurance plan customers enjo...</td>\n",
       "    </tr>\n",
       "    <tr>\n",
       "      <th>4</th>\n",
       "      <td>have known hirani for yrs what if metoo claims...</td>\n",
       "      <td>speaking sexual harassment allegations rajkuma...</td>\n",
       "    </tr>\n",
       "    <tr>\n",
       "      <th>...</th>\n",
       "      <td>...</td>\n",
       "      <td>...</td>\n",
       "    </tr>\n",
       "    <tr>\n",
       "      <th>98355</th>\n",
       "      <td>crpf jawan axed to death by maoists in chhatti...</td>\n",
       "      <td>crpf jawan tuesday axed death sharp edged weap...</td>\n",
       "    </tr>\n",
       "    <tr>\n",
       "      <th>98356</th>\n",
       "      <td>first song from sonakshi sinha noor titled uff...</td>\n",
       "      <td>uff yeh first song sonakshi sinha starrer upco...</td>\n",
       "    </tr>\n",
       "    <tr>\n",
       "      <th>98357</th>\n",
       "      <td>the matrix film to get reboot reports</td>\n",
       "      <td>according reports new version science fiction ...</td>\n",
       "    </tr>\n",
       "    <tr>\n",
       "      <th>98358</th>\n",
       "      <td>snoop dogg aims gun at clown dressed as trump ...</td>\n",
       "      <td>new music video shows rapper snoop dogg aiming...</td>\n",
       "    </tr>\n",
       "    <tr>\n",
       "      <th>98359</th>\n",
       "      <td>madhesi morcha withdraws support to nepalese g...</td>\n",
       "      <td>madhesi morcha alliance seven political partie...</td>\n",
       "    </tr>\n",
       "  </tbody>\n",
       "</table>\n",
       "<p>98360 rows × 2 columns</p>\n",
       "</div>"
      ],
      "text/plain": [
       "                                               headlines  \\\n",
       "0      upgrad learner switches to career in ml al wit...   \n",
       "1      delhi techie wins free food from swiggy for on...   \n",
       "2      new zealand end rohit sharma led india match w...   \n",
       "3      aegon life iterm insurance plan helps customer...   \n",
       "4      have known hirani for yrs what if metoo claims...   \n",
       "...                                                  ...   \n",
       "98355  crpf jawan axed to death by maoists in chhatti...   \n",
       "98356  first song from sonakshi sinha noor titled uff...   \n",
       "98357              the matrix film to get reboot reports   \n",
       "98358  snoop dogg aims gun at clown dressed as trump ...   \n",
       "98359  madhesi morcha withdraws support to nepalese g...   \n",
       "\n",
       "                                                    text  \n",
       "0      saurav kant alumnus upgrad iiit pg program mac...  \n",
       "1      kunal shah credit card bill payment platform c...  \n",
       "2      new zealand defeated india wickets fourth odi ...  \n",
       "3      aegon life iterm insurance plan customers enjo...  \n",
       "4      speaking sexual harassment allegations rajkuma...  \n",
       "...                                                  ...  \n",
       "98355  crpf jawan tuesday axed death sharp edged weap...  \n",
       "98356  uff yeh first song sonakshi sinha starrer upco...  \n",
       "98357  according reports new version science fiction ...  \n",
       "98358  new music video shows rapper snoop dogg aiming...  \n",
       "98359  madhesi morcha alliance seven political partie...  \n",
       "\n",
       "[98360 rows x 2 columns]"
      ]
     },
     "execution_count": 35,
     "metadata": {},
     "output_type": "execute_result"
    }
   ],
   "source": [
    "data['text'] = clean_text\n",
    "data['headlines'] = clean_headlines\n",
    "\n",
    "data"
   ]
  },
  {
   "cell_type": "markdown",
   "id": "ea973be8",
   "metadata": {},
   "source": [
    "## 샘플 최대 길이 제한"
   ]
  },
  {
   "cell_type": "code",
   "execution_count": 37,
   "id": "0a0a021a",
   "metadata": {},
   "outputs": [
    {
     "name": "stdout",
     "output_type": "stream",
     "text": [
      "텍스트의 최소 길이 \t: 1\n",
      "텍스트의 최대 길이 \t: 60\n",
      "텍스트의 평균 길이 \t: 35.09968483123221\n",
      "헤드라인의 최소 길이 \t: 1\n",
      "헤드라인의 최대 길이 \t: 16\n",
      "헤드라인의 평균 길이 \t: 9.299532330215534\n"
     ]
    },
    {
     "data": {
      "image/png": "[encoded data removed]",
      "text/plain": [
       "<Figure size 432x288 with 2 Axes>"
      ]
     },
     "metadata": {
      "needs_background": "light"
     },
     "output_type": "display_data"
    },
    {
     "data": {
      "image/png": "[encoded data removed]",
      "text/plain": [
       "<Figure size 432x288 with 1 Axes>"
      ]
     },
     "metadata": {
      "needs_background": "light"
     },
     "output_type": "display_data"
    },
    {
     "data": {
      "image/png": "[encoded data removed]",
      "text/plain": [
       "<Figure size 432x288 with 1 Axes>"
      ]
     },
     "metadata": {
      "needs_background": "light"
     },
     "output_type": "display_data"
    }
   ],
   "source": [
    "# 길이 분포 출력\n",
    "def get_len_graph(data):\n",
    "    text_len = [len(s.split()) for s in data['text']]\n",
    "    headlines_len = [len(s.split()) for s in data['headlines']]\n",
    "\n",
    "    print('텍스트의 최소 길이 \\t: {}'.format(np.min(text_len)))\n",
    "    print('텍스트의 최대 길이 \\t: {}'.format(np.max(text_len)))\n",
    "    print('텍스트의 평균 길이 \\t: {}'.format(np.mean(text_len)))\n",
    "    print('헤드라인의 최소 길이 \\t: {}'.format(np.min(headlines_len)))\n",
    "    print('헤드라인의 최대 길이 \\t: {}'.format(np.max(headlines_len)))\n",
    "    print('헤드라인의 평균 길이 \\t: {}'.format(np.mean(headlines_len)))\n",
    "\n",
    "    plt.subplot(1,2,1)\n",
    "    plt.boxplot(text_len)\n",
    "    plt.title('text')\n",
    "    plt.subplot(1,2,2)\n",
    "    plt.boxplot(headlines_len)\n",
    "    plt.title('headlines')\n",
    "    plt.tight_layout()\n",
    "    plt.show()\n",
    "\n",
    "    plt.title('text')\n",
    "    plt.hist(text_len, bins = 40)\n",
    "    plt.xlabel('length of samples')\n",
    "    plt.ylabel('number of samples')\n",
    "    plt.show()\n",
    "\n",
    "    plt.title('headlines')\n",
    "    plt.hist(headlines_len, bins = 40)\n",
    "    plt.xlabel('length of samples')\n",
    "    plt.ylabel('number of samples')\n",
    "    plt.show()\n",
    "\n",
    "get_len_graph(data)"
   ]
  },
  {
   "cell_type": "markdown",
   "id": "c6500180",
   "metadata": {},
   "source": [
    "### Outlier 확인 (짧은 길이의 샘플)"
   ]
  },
  {
   "cell_type": "code",
   "execution_count": 38,
   "id": "f2fdec7a",
   "metadata": {},
   "outputs": [
    {
     "data": {
      "text/html": [
       "<div>\n",
       "<style scoped>\n",
       "    .dataframe tbody tr th:only-of-type {\n",
       "        vertical-align: middle;\n",
       "    }\n",
       "\n",
       "    .dataframe tbody tr th {\n",
       "        vertical-align: top;\n",
       "    }\n",
       "\n",
       "    .dataframe thead th {\n",
       "        text-align: right;\n",
       "    }\n",
       "</style>\n",
       "<table border=\"1\" class=\"dataframe\">\n",
       "  <thead>\n",
       "    <tr style=\"text-align: right;\">\n",
       "      <th></th>\n",
       "      <th>headlines</th>\n",
       "      <th>text</th>\n",
       "    </tr>\n",
       "  </thead>\n",
       "  <tbody>\n",
       "    <tr>\n",
       "      <th>52</th>\n",
       "      <td>headlines</td>\n",
       "      <td>text</td>\n",
       "    </tr>\n",
       "    <tr>\n",
       "      <th>19018</th>\n",
       "      <td>as an actor you are always lonely shahid kapoor</td>\n",
       "      <td>shahid kapoor said actor one always lonely add...</td>\n",
       "    </tr>\n",
       "    <tr>\n",
       "      <th>70244</th>\n",
       "      <td>how much will iphone cost in other countries</td>\n",
       "      <td>apple newly launched iphone edge edge display ...</td>\n",
       "    </tr>\n",
       "  </tbody>\n",
       "</table>\n",
       "</div>"
      ],
      "text/plain": [
       "                                             headlines  \\\n",
       "52                                           headlines   \n",
       "19018  as an actor you are always lonely shahid kapoor   \n",
       "70244     how much will iphone cost in other countries   \n",
       "\n",
       "                                                    text  \n",
       "52                                                  text  \n",
       "19018  shahid kapoor said actor one always lonely add...  \n",
       "70244  apple newly launched iphone edge edge display ...  "
      ]
     },
     "execution_count": 38,
     "metadata": {},
     "output_type": "execute_result"
    }
   ],
   "source": [
    "data[data['text'].str.split().str.len() < 19]"
   ]
  },
  {
   "cell_type": "code",
   "execution_count": 39,
   "id": "8ee263ad",
   "metadata": {},
   "outputs": [
    {
     "name": "stdout",
     "output_type": "stream",
     "text": [
      "how much will iphone cost in other countries\n",
      "============================================\n",
      "apple newly launched iphone edge edge display face recognition wireless charging technology available russia italy cost uk priced\n"
     ]
    }
   ],
   "source": [
    "def show_sample(idx):\n",
    "    print(data.loc[idx, 'headlines'])\n",
    "    print(\"=\"*len(data.loc[idx, 'headlines']))\n",
    "    print(data.loc[idx, 'text'])\n",
    "    \n",
    "show_sample(70244)"
   ]
  },
  {
   "cell_type": "code",
   "execution_count": 40,
   "id": "02866924",
   "metadata": {},
   "outputs": [
    {
     "name": "stdout",
     "output_type": "stream",
     "text": [
      "as an actor you are always lonely shahid kapoor\n",
      "===============================================\n",
      "shahid kapoor said actor one always lonely adding always spotlight people see lonely actors emote inside throw said\n"
     ]
    }
   ],
   "source": [
    "show_sample(19018)"
   ]
  },
  {
   "cell_type": "code",
   "execution_count": 41,
   "id": "f86c9571",
   "metadata": {
    "scrolled": true
   },
   "outputs": [
    {
     "data": {
      "text/html": [
       "<div>\n",
       "<style scoped>\n",
       "    .dataframe tbody tr th:only-of-type {\n",
       "        vertical-align: middle;\n",
       "    }\n",
       "\n",
       "    .dataframe tbody tr th {\n",
       "        vertical-align: top;\n",
       "    }\n",
       "\n",
       "    .dataframe thead th {\n",
       "        text-align: right;\n",
       "    }\n",
       "</style>\n",
       "<table border=\"1\" class=\"dataframe\">\n",
       "  <thead>\n",
       "    <tr style=\"text-align: right;\">\n",
       "      <th></th>\n",
       "      <th>headlines</th>\n",
       "      <th>text</th>\n",
       "    </tr>\n",
       "  </thead>\n",
       "  <tbody>\n",
       "    <tr>\n",
       "      <th>52</th>\n",
       "      <td>headlines</td>\n",
       "      <td>text</td>\n",
       "    </tr>\n",
       "    <tr>\n",
       "      <th>729</th>\n",
       "      <td>angola decriminalises homosexuality</td>\n",
       "      <td>african nation angola decriminalised homosexua...</td>\n",
       "    </tr>\n",
       "    <tr>\n",
       "      <th>26211</th>\n",
       "      <td>what is friggatriskaidekaphobia</td>\n",
       "      <td>friggatriskaidekaphobia person irrational fear...</td>\n",
       "    </tr>\n",
       "  </tbody>\n",
       "</table>\n",
       "</div>"
      ],
      "text/plain": [
       "                                 headlines  \\\n",
       "52                               headlines   \n",
       "729    angola decriminalises homosexuality   \n",
       "26211      what is friggatriskaidekaphobia   \n",
       "\n",
       "                                                    text  \n",
       "52                                                  text  \n",
       "729    african nation angola decriminalised homosexua...  \n",
       "26211  friggatriskaidekaphobia person irrational fear...  "
      ]
     },
     "execution_count": 41,
     "metadata": {},
     "output_type": "execute_result"
    }
   ],
   "source": [
    "data[data['headlines'].str.split().str.len() < 4]"
   ]
  },
  {
   "cell_type": "code",
   "execution_count": 42,
   "id": "1933a1e2",
   "metadata": {},
   "outputs": [
    {
     "name": "stdout",
     "output_type": "stream",
     "text": [
      "angola decriminalises homosexuality\n",
      "===================================\n",
      "african nation angola decriminalised homosexuality parliament removed vices nature provision government also banned discrimination people basis sexual orientation changes come angola parliament adopted first new penal code since gained independence portugal removed provision\n"
     ]
    }
   ],
   "source": [
    "show_sample(729)"
   ]
  },
  {
   "cell_type": "code",
   "execution_count": 43,
   "id": "f472a189",
   "metadata": {},
   "outputs": [
    {
     "name": "stdout",
     "output_type": "stream",
     "text": [
      "what is friggatriskaidekaphobia\n",
      "===============================\n",
      "friggatriskaidekaphobia person irrational fear month th day falling friday long standing legend claims day date unlucky number considered unlucky many cultures least one friday th every year maximum three\n"
     ]
    }
   ],
   "source": [
    "show_sample(26211)"
   ]
  },
  {
   "cell_type": "markdown",
   "id": "790bfeff",
   "metadata": {},
   "source": [
    "- 52번 행의 값을 제외하면 괜찮아 보임.\n",
    "- 52번 행 삭제"
   ]
  },
  {
   "cell_type": "code",
   "execution_count": 44,
   "id": "fc8dffff",
   "metadata": {},
   "outputs": [],
   "source": [
    "data.drop(52, inplace=True)"
   ]
  },
  {
   "cell_type": "code",
   "execution_count": 45,
   "id": "c00e6aba",
   "metadata": {},
   "outputs": [
    {
     "data": {
      "text/html": [
       "<div>\n",
       "<style scoped>\n",
       "    .dataframe tbody tr th:only-of-type {\n",
       "        vertical-align: middle;\n",
       "    }\n",
       "\n",
       "    .dataframe tbody tr th {\n",
       "        vertical-align: top;\n",
       "    }\n",
       "\n",
       "    .dataframe thead th {\n",
       "        text-align: right;\n",
       "    }\n",
       "</style>\n",
       "<table border=\"1\" class=\"dataframe\">\n",
       "  <thead>\n",
       "    <tr style=\"text-align: right;\">\n",
       "      <th></th>\n",
       "      <th>headlines</th>\n",
       "      <th>text</th>\n",
       "    </tr>\n",
       "  </thead>\n",
       "  <tbody>\n",
       "    <tr>\n",
       "      <th>729</th>\n",
       "      <td>angola decriminalises homosexuality</td>\n",
       "      <td>african nation angola decriminalised homosexua...</td>\n",
       "    </tr>\n",
       "    <tr>\n",
       "      <th>26211</th>\n",
       "      <td>what is friggatriskaidekaphobia</td>\n",
       "      <td>friggatriskaidekaphobia person irrational fear...</td>\n",
       "    </tr>\n",
       "  </tbody>\n",
       "</table>\n",
       "</div>"
      ],
      "text/plain": [
       "                                 headlines  \\\n",
       "729    angola decriminalises homosexuality   \n",
       "26211      what is friggatriskaidekaphobia   \n",
       "\n",
       "                                                    text  \n",
       "729    african nation angola decriminalised homosexua...  \n",
       "26211  friggatriskaidekaphobia person irrational fear...  "
      ]
     },
     "execution_count": 45,
     "metadata": {},
     "output_type": "execute_result"
    }
   ],
   "source": [
    "data[data['headlines'].str.split().str.len() < 4]"
   ]
  },
  {
   "cell_type": "code",
   "execution_count": 46,
   "id": "c004c312",
   "metadata": {},
   "outputs": [
    {
     "data": {
      "text/html": [
       "<div>\n",
       "<style scoped>\n",
       "    .dataframe tbody tr th:only-of-type {\n",
       "        vertical-align: middle;\n",
       "    }\n",
       "\n",
       "    .dataframe tbody tr th {\n",
       "        vertical-align: top;\n",
       "    }\n",
       "\n",
       "    .dataframe thead th {\n",
       "        text-align: right;\n",
       "    }\n",
       "</style>\n",
       "<table border=\"1\" class=\"dataframe\">\n",
       "  <thead>\n",
       "    <tr style=\"text-align: right;\">\n",
       "      <th></th>\n",
       "      <th>headlines</th>\n",
       "      <th>text</th>\n",
       "    </tr>\n",
       "  </thead>\n",
       "  <tbody>\n",
       "    <tr>\n",
       "      <th>51</th>\n",
       "      <td>boeing sales cross bn for st time in its yr hi...</td>\n",
       "      <td>us based boeing wednesday reported annual sale...</td>\n",
       "    </tr>\n",
       "    <tr>\n",
       "      <th>53</th>\n",
       "      <td>oneplus named bestselling premium smartphone b...</td>\n",
       "      <td>oneplus emerged india best selling premium sma...</td>\n",
       "    </tr>\n",
       "  </tbody>\n",
       "</table>\n",
       "</div>"
      ],
      "text/plain": [
       "                                            headlines  \\\n",
       "51  boeing sales cross bn for st time in its yr hi...   \n",
       "53  oneplus named bestselling premium smartphone b...   \n",
       "\n",
       "                                                 text  \n",
       "51  us based boeing wednesday reported annual sale...  \n",
       "53  oneplus emerged india best selling premium sma...  "
      ]
     },
     "execution_count": 46,
     "metadata": {},
     "output_type": "execute_result"
    }
   ],
   "source": [
    "data.loc[51:53]"
   ]
  },
  {
   "cell_type": "markdown",
   "id": "0a8bf60d",
   "metadata": {},
   "source": [
    "### Outlier  확인 (긴 길이의 샘플)"
   ]
  },
  {
   "cell_type": "markdown",
   "id": "6b1aa70b",
   "metadata": {},
   "source": [
    "- 데이터 내 일반적이지 않게 긴 샘플로 인해 대다수의 데이터에 필요 이상의 긴 패딩이 들어가 모델 성능을 저하시키는 문제가 발생할 수 있다.\n",
    "\n",
    "- 적당한 최대 길이를 선정하여 그보다 긴 샘플을 제외한다."
   ]
  },
  {
   "cell_type": "code",
   "execution_count": 47,
   "id": "53bd4bdf",
   "metadata": {},
   "outputs": [],
   "source": [
    "text_max_len = 45\n",
    "headlines_max_len = 13"
   ]
  },
  {
   "cell_type": "code",
   "execution_count": 48,
   "id": "5ed084f1",
   "metadata": {},
   "outputs": [],
   "source": [
    "def check_above_thres(max_len, column):\n",
    "    num_outlier = len(data[data[column].str.split().str.len() > max_len])\n",
    "    print(f'길이 {max_len} 초과의 샘플 수  : {num_outlier}')\n",
    "    print(f'길이 {max_len} 이하의 샘플 비율: {100 * (1 - num_outlier / len(data)):.2f}%')"
   ]
  },
  {
   "cell_type": "markdown",
   "id": "4d5cd4ab",
   "metadata": {},
   "source": [
    "- 헤드라인의 경우 13을 초과 하는 경우 Outlier로 계산"
   ]
  },
  {
   "cell_type": "code",
   "execution_count": 49,
   "id": "6cc2886f",
   "metadata": {},
   "outputs": [
    {
     "name": "stdout",
     "output_type": "stream",
     "text": [
      "길이 13 초과의 샘플 수  : 180\n",
      "길이 13 이하의 샘플 비율: 99.82%\n"
     ]
    }
   ],
   "source": [
    "check_above_thres(headlines_max_len, 'headlines')"
   ]
  },
  {
   "cell_type": "markdown",
   "id": "b48cb3c1",
   "metadata": {},
   "source": [
    "- 본문의 경우 45를 초과 하는 경우 Outlier로 계산"
   ]
  },
  {
   "cell_type": "code",
   "execution_count": 50,
   "id": "3fbc7d5f",
   "metadata": {},
   "outputs": [
    {
     "name": "stdout",
     "output_type": "stream",
     "text": [
      "길이 45 초과의 샘플 수  : 317\n",
      "길이 45 이하의 샘플 비율: 99.68%\n"
     ]
    }
   ],
   "source": [
    "check_above_thres(text_max_len, 'text')"
   ]
  },
  {
   "cell_type": "markdown",
   "id": "5f07a49e",
   "metadata": {},
   "source": [
    "- 헤드라인, 본문의 아웃라이어 중복 여부 확인"
   ]
  },
  {
   "cell_type": "code",
   "execution_count": 51,
   "id": "1ae05bca",
   "metadata": {},
   "outputs": [
    {
     "data": {
      "text/plain": [
       "0"
      ]
     },
     "execution_count": 51,
     "metadata": {},
     "output_type": "execute_result"
    }
   ],
   "source": [
    "headlines_out = data[data['headlines'].str.split().str.len() > headlines_max_len].index\n",
    "text_out = data[data['text'].str.split().str.len() > text_max_len].index\n",
    "\n",
    "len(headlines_out.intersection(text_out))"
   ]
  },
  {
   "cell_type": "markdown",
   "id": "c31687be",
   "metadata": {},
   "source": [
    "- 중복되지 않는 각 아웃라이어를 제외하면 총 97,862개의 데이터가 남을 것으로 예상"
   ]
  },
  {
   "cell_type": "code",
   "execution_count": 52,
   "id": "96dfaa9b",
   "metadata": {},
   "outputs": [
    {
     "data": {
      "text/plain": [
       "97862"
      ]
     },
     "execution_count": 52,
     "metadata": {},
     "output_type": "execute_result"
    }
   ],
   "source": [
    "len(data) - 180 - 317"
   ]
  },
  {
   "cell_type": "code",
   "execution_count": 54,
   "id": "54c85c63",
   "metadata": {},
   "outputs": [
    {
     "data": {
      "text/plain": [
       "97862"
      ]
     },
     "execution_count": 54,
     "metadata": {},
     "output_type": "execute_result"
    }
   ],
   "source": [
    "# 각 컬럼의 아웃라이어 제거 시 남는 데이터 개수 재확인\n",
    "headlines_out = data[data['headlines'].str.split().str.len() <= headlines_max_len].index\n",
    "text_out = data[data['text'].str.split().str.len() <= text_max_len].index\n",
    "\n",
    "len(headlines_out.intersection(text_out))"
   ]
  },
  {
   "cell_type": "code",
   "execution_count": 55,
   "id": "7cf8dcc6",
   "metadata": {},
   "outputs": [
    {
     "data": {
      "text/html": [
       "<div>\n",
       "<style scoped>\n",
       "    .dataframe tbody tr th:only-of-type {\n",
       "        vertical-align: middle;\n",
       "    }\n",
       "\n",
       "    .dataframe tbody tr th {\n",
       "        vertical-align: top;\n",
       "    }\n",
       "\n",
       "    .dataframe thead th {\n",
       "        text-align: right;\n",
       "    }\n",
       "</style>\n",
       "<table border=\"1\" class=\"dataframe\">\n",
       "  <thead>\n",
       "    <tr style=\"text-align: right;\">\n",
       "      <th></th>\n",
       "      <th>headlines</th>\n",
       "      <th>text</th>\n",
       "    </tr>\n",
       "  </thead>\n",
       "  <tbody>\n",
       "    <tr>\n",
       "      <th>0</th>\n",
       "      <td>upgrad learner switches to career in ml al wit...</td>\n",
       "      <td>saurav kant alumnus upgrad iiit pg program mac...</td>\n",
       "    </tr>\n",
       "    <tr>\n",
       "      <th>1</th>\n",
       "      <td>delhi techie wins free food from swiggy for on...</td>\n",
       "      <td>kunal shah credit card bill payment platform c...</td>\n",
       "    </tr>\n",
       "    <tr>\n",
       "      <th>2</th>\n",
       "      <td>new zealand end rohit sharma led india match w...</td>\n",
       "      <td>new zealand defeated india wickets fourth odi ...</td>\n",
       "    </tr>\n",
       "    <tr>\n",
       "      <th>3</th>\n",
       "      <td>aegon life iterm insurance plan helps customer...</td>\n",
       "      <td>aegon life iterm insurance plan customers enjo...</td>\n",
       "    </tr>\n",
       "    <tr>\n",
       "      <th>4</th>\n",
       "      <td>have known hirani for yrs what if metoo claims...</td>\n",
       "      <td>speaking sexual harassment allegations rajkuma...</td>\n",
       "    </tr>\n",
       "    <tr>\n",
       "      <th>...</th>\n",
       "      <td>...</td>\n",
       "      <td>...</td>\n",
       "    </tr>\n",
       "    <tr>\n",
       "      <th>98355</th>\n",
       "      <td>crpf jawan axed to death by maoists in chhatti...</td>\n",
       "      <td>crpf jawan tuesday axed death sharp edged weap...</td>\n",
       "    </tr>\n",
       "    <tr>\n",
       "      <th>98356</th>\n",
       "      <td>first song from sonakshi sinha noor titled uff...</td>\n",
       "      <td>uff yeh first song sonakshi sinha starrer upco...</td>\n",
       "    </tr>\n",
       "    <tr>\n",
       "      <th>98357</th>\n",
       "      <td>the matrix film to get reboot reports</td>\n",
       "      <td>according reports new version science fiction ...</td>\n",
       "    </tr>\n",
       "    <tr>\n",
       "      <th>98358</th>\n",
       "      <td>snoop dogg aims gun at clown dressed as trump ...</td>\n",
       "      <td>new music video shows rapper snoop dogg aiming...</td>\n",
       "    </tr>\n",
       "    <tr>\n",
       "      <th>98359</th>\n",
       "      <td>madhesi morcha withdraws support to nepalese g...</td>\n",
       "      <td>madhesi morcha alliance seven political partie...</td>\n",
       "    </tr>\n",
       "  </tbody>\n",
       "</table>\n",
       "<p>97862 rows × 2 columns</p>\n",
       "</div>"
      ],
      "text/plain": [
       "                                               headlines  \\\n",
       "0      upgrad learner switches to career in ml al wit...   \n",
       "1      delhi techie wins free food from swiggy for on...   \n",
       "2      new zealand end rohit sharma led india match w...   \n",
       "3      aegon life iterm insurance plan helps customer...   \n",
       "4      have known hirani for yrs what if metoo claims...   \n",
       "...                                                  ...   \n",
       "98355  crpf jawan axed to death by maoists in chhatti...   \n",
       "98356  first song from sonakshi sinha noor titled uff...   \n",
       "98357              the matrix film to get reboot reports   \n",
       "98358  snoop dogg aims gun at clown dressed as trump ...   \n",
       "98359  madhesi morcha withdraws support to nepalese g...   \n",
       "\n",
       "                                                    text  \n",
       "0      saurav kant alumnus upgrad iiit pg program mac...  \n",
       "1      kunal shah credit card bill payment platform c...  \n",
       "2      new zealand defeated india wickets fourth odi ...  \n",
       "3      aegon life iterm insurance plan customers enjo...  \n",
       "4      speaking sexual harassment allegations rajkuma...  \n",
       "...                                                  ...  \n",
       "98355  crpf jawan tuesday axed death sharp edged weap...  \n",
       "98356  uff yeh first song sonakshi sinha starrer upco...  \n",
       "98357  according reports new version science fiction ...  \n",
       "98358  new music video shows rapper snoop dogg aiming...  \n",
       "98359  madhesi morcha alliance seven political partie...  \n",
       "\n",
       "[97862 rows x 2 columns]"
      ]
     },
     "execution_count": 55,
     "metadata": {},
     "output_type": "execute_result"
    }
   ],
   "source": [
    "# 최대 길이를 넘기지 않는 조건에 부합하는 데이터만 남김\n",
    "data = data[((data['headlines'].str.split().str.len() <= headlines_max_len) &\n",
    "             (data['text'].str.split().str.len() <= text_max_len))]\n",
    "\n",
    "data"
   ]
  },
  {
   "cell_type": "code",
   "execution_count": 56,
   "id": "d3fc8fae",
   "metadata": {},
   "outputs": [
    {
     "name": "stdout",
     "output_type": "stream",
     "text": [
      "텍스트의 최소 길이 \t: 18\n",
      "텍스트의 최대 길이 \t: 45\n",
      "텍스트의 평균 길이 \t: 35.063354519629684\n",
      "헤드라인의 최소 길이 \t: 3\n",
      "헤드라인의 최대 길이 \t: 13\n",
      "헤드라인의 평균 길이 \t: 9.289959330485786\n"
     ]
    },
    {
     "data": {
      "image/png": "[encoded data removed]",
      "text/plain": [
       "<Figure size 432x288 with 2 Axes>"
      ]
     },
     "metadata": {
      "needs_background": "light"
     },
     "output_type": "display_data"
    },
    {
     "data": {
      "image/png": "[encoded data removed]",
      "text/plain": [
       "<Figure size 432x288 with 1 Axes>"
      ]
     },
     "metadata": {
      "needs_background": "light"
     },
     "output_type": "display_data"
    },
    {
     "data": {
      "image/png": "[encoded data removed]",
      "text/plain": [
       "<Figure size 432x288 with 1 Axes>"
      ]
     },
     "metadata": {
      "needs_background": "light"
     },
     "output_type": "display_data"
    }
   ],
   "source": [
    "get_len_graph(data)"
   ]
  },
  {
   "cell_type": "markdown",
   "id": "98f7f7e1",
   "metadata": {},
   "source": [
    "## 시작 및 종료 토큰 추가"
   ]
  },
  {
   "cell_type": "code",
   "execution_count": 57,
   "id": "0fcffdb8",
   "metadata": {},
   "outputs": [
    {
     "name": "stderr",
     "output_type": "stream",
     "text": [
      "/opt/conda/lib/python3.9/site-packages/pandas/core/indexing.py:1667: SettingWithCopyWarning: \n",
      "A value is trying to be set on a copy of a slice from a DataFrame.\n",
      "Try using .loc[row_indexer,col_indexer] = value instead\n",
      "\n",
      "See the caveats in the documentation: https://pandas.pydata.org/pandas-docs/stable/user_guide/indexing.html#returning-a-view-versus-a-copy\n",
      "  self.obj[key] = value\n"
     ]
    },
    {
     "data": {
      "text/html": [
       "<div>\n",
       "<style scoped>\n",
       "    .dataframe tbody tr th:only-of-type {\n",
       "        vertical-align: middle;\n",
       "    }\n",
       "\n",
       "    .dataframe tbody tr th {\n",
       "        vertical-align: top;\n",
       "    }\n",
       "\n",
       "    .dataframe thead th {\n",
       "        text-align: right;\n",
       "    }\n",
       "</style>\n",
       "<table border=\"1\" class=\"dataframe\">\n",
       "  <thead>\n",
       "    <tr style=\"text-align: right;\">\n",
       "      <th></th>\n",
       "      <th>headlines</th>\n",
       "      <th>text</th>\n",
       "      <th>decoder_input</th>\n",
       "      <th>decoder_target</th>\n",
       "    </tr>\n",
       "  </thead>\n",
       "  <tbody>\n",
       "    <tr>\n",
       "      <th>0</th>\n",
       "      <td>upgrad learner switches to career in ml al wit...</td>\n",
       "      <td>saurav kant alumnus upgrad iiit pg program mac...</td>\n",
       "      <td>sostoken upgrad learner switches to career in ...</td>\n",
       "      <td>upgrad learner switches to career in ml al wit...</td>\n",
       "    </tr>\n",
       "    <tr>\n",
       "      <th>1</th>\n",
       "      <td>delhi techie wins free food from swiggy for on...</td>\n",
       "      <td>kunal shah credit card bill payment platform c...</td>\n",
       "      <td>sostoken delhi techie wins free food from swig...</td>\n",
       "      <td>delhi techie wins free food from swiggy for on...</td>\n",
       "    </tr>\n",
       "    <tr>\n",
       "      <th>2</th>\n",
       "      <td>new zealand end rohit sharma led india match w...</td>\n",
       "      <td>new zealand defeated india wickets fourth odi ...</td>\n",
       "      <td>sostoken new zealand end rohit sharma led indi...</td>\n",
       "      <td>new zealand end rohit sharma led india match w...</td>\n",
       "    </tr>\n",
       "    <tr>\n",
       "      <th>3</th>\n",
       "      <td>aegon life iterm insurance plan helps customer...</td>\n",
       "      <td>aegon life iterm insurance plan customers enjo...</td>\n",
       "      <td>sostoken aegon life iterm insurance plan helps...</td>\n",
       "      <td>aegon life iterm insurance plan helps customer...</td>\n",
       "    </tr>\n",
       "    <tr>\n",
       "      <th>4</th>\n",
       "      <td>have known hirani for yrs what if metoo claims...</td>\n",
       "      <td>speaking sexual harassment allegations rajkuma...</td>\n",
       "      <td>sostoken have known hirani for yrs what if met...</td>\n",
       "      <td>have known hirani for yrs what if metoo claims...</td>\n",
       "    </tr>\n",
       "    <tr>\n",
       "      <th>...</th>\n",
       "      <td>...</td>\n",
       "      <td>...</td>\n",
       "      <td>...</td>\n",
       "      <td>...</td>\n",
       "    </tr>\n",
       "    <tr>\n",
       "      <th>98355</th>\n",
       "      <td>crpf jawan axed to death by maoists in chhatti...</td>\n",
       "      <td>crpf jawan tuesday axed death sharp edged weap...</td>\n",
       "      <td>sostoken crpf jawan axed to death by maoists i...</td>\n",
       "      <td>crpf jawan axed to death by maoists in chhatti...</td>\n",
       "    </tr>\n",
       "    <tr>\n",
       "      <th>98356</th>\n",
       "      <td>first song from sonakshi sinha noor titled uff...</td>\n",
       "      <td>uff yeh first song sonakshi sinha starrer upco...</td>\n",
       "      <td>sostoken first song from sonakshi sinha noor t...</td>\n",
       "      <td>first song from sonakshi sinha noor titled uff...</td>\n",
       "    </tr>\n",
       "    <tr>\n",
       "      <th>98357</th>\n",
       "      <td>the matrix film to get reboot reports</td>\n",
       "      <td>according reports new version science fiction ...</td>\n",
       "      <td>sostoken the matrix film to get reboot reports</td>\n",
       "      <td>the matrix film to get reboot reports eostoken</td>\n",
       "    </tr>\n",
       "    <tr>\n",
       "      <th>98358</th>\n",
       "      <td>snoop dogg aims gun at clown dressed as trump ...</td>\n",
       "      <td>new music video shows rapper snoop dogg aiming...</td>\n",
       "      <td>sostoken snoop dogg aims gun at clown dressed ...</td>\n",
       "      <td>snoop dogg aims gun at clown dressed as trump ...</td>\n",
       "    </tr>\n",
       "    <tr>\n",
       "      <th>98359</th>\n",
       "      <td>madhesi morcha withdraws support to nepalese g...</td>\n",
       "      <td>madhesi morcha alliance seven political partie...</td>\n",
       "      <td>sostoken madhesi morcha withdraws support to n...</td>\n",
       "      <td>madhesi morcha withdraws support to nepalese g...</td>\n",
       "    </tr>\n",
       "  </tbody>\n",
       "</table>\n",
       "<p>97862 rows × 4 columns</p>\n",
       "</div>"
      ],
      "text/plain": [
       "                                               headlines  \\\n",
       "0      upgrad learner switches to career in ml al wit...   \n",
       "1      delhi techie wins free food from swiggy for on...   \n",
       "2      new zealand end rohit sharma led india match w...   \n",
       "3      aegon life iterm insurance plan helps customer...   \n",
       "4      have known hirani for yrs what if metoo claims...   \n",
       "...                                                  ...   \n",
       "98355  crpf jawan axed to death by maoists in chhatti...   \n",
       "98356  first song from sonakshi sinha noor titled uff...   \n",
       "98357              the matrix film to get reboot reports   \n",
       "98358  snoop dogg aims gun at clown dressed as trump ...   \n",
       "98359  madhesi morcha withdraws support to nepalese g...   \n",
       "\n",
       "                                                    text  \\\n",
       "0      saurav kant alumnus upgrad iiit pg program mac...   \n",
       "1      kunal shah credit card bill payment platform c...   \n",
       "2      new zealand defeated india wickets fourth odi ...   \n",
       "3      aegon life iterm insurance plan customers enjo...   \n",
       "4      speaking sexual harassment allegations rajkuma...   \n",
       "...                                                  ...   \n",
       "98355  crpf jawan tuesday axed death sharp edged weap...   \n",
       "98356  uff yeh first song sonakshi sinha starrer upco...   \n",
       "98357  according reports new version science fiction ...   \n",
       "98358  new music video shows rapper snoop dogg aiming...   \n",
       "98359  madhesi morcha alliance seven political partie...   \n",
       "\n",
       "                                           decoder_input  \\\n",
       "0      sostoken upgrad learner switches to career in ...   \n",
       "1      sostoken delhi techie wins free food from swig...   \n",
       "2      sostoken new zealand end rohit sharma led indi...   \n",
       "3      sostoken aegon life iterm insurance plan helps...   \n",
       "4      sostoken have known hirani for yrs what if met...   \n",
       "...                                                  ...   \n",
       "98355  sostoken crpf jawan axed to death by maoists i...   \n",
       "98356  sostoken first song from sonakshi sinha noor t...   \n",
       "98357     sostoken the matrix film to get reboot reports   \n",
       "98358  sostoken snoop dogg aims gun at clown dressed ...   \n",
       "98359  sostoken madhesi morcha withdraws support to n...   \n",
       "\n",
       "                                          decoder_target  \n",
       "0      upgrad learner switches to career in ml al wit...  \n",
       "1      delhi techie wins free food from swiggy for on...  \n",
       "2      new zealand end rohit sharma led india match w...  \n",
       "3      aegon life iterm insurance plan helps customer...  \n",
       "4      have known hirani for yrs what if metoo claims...  \n",
       "...                                                  ...  \n",
       "98355  crpf jawan axed to death by maoists in chhatti...  \n",
       "98356  first song from sonakshi sinha noor titled uff...  \n",
       "98357     the matrix film to get reboot reports eostoken  \n",
       "98358  snoop dogg aims gun at clown dressed as trump ...  \n",
       "98359  madhesi morcha withdraws support to nepalese g...  \n",
       "\n",
       "[97862 rows x 4 columns]"
      ]
     },
     "execution_count": 57,
     "metadata": {},
     "output_type": "execute_result"
    }
   ],
   "source": [
    "data.loc[:, 'decoder_input'] = 'sostoken ' + data['headlines']\n",
    "data.loc[:, 'decoder_target'] = data['headlines'] + ' eostoken'\n",
    "\n",
    "data"
   ]
  },
  {
   "cell_type": "markdown",
   "id": "55c74846",
   "metadata": {},
   "source": [
    "- 위에서는 eostoken부분이 생략되어 별도로 하나 출력해서 확인"
   ]
  },
  {
   "cell_type": "code",
   "execution_count": 58,
   "id": "eceafe89",
   "metadata": {},
   "outputs": [
    {
     "data": {
      "text/plain": [
       "'upgrad learner switches to career in ml al with salary hike eostoken'"
      ]
     },
     "execution_count": 58,
     "metadata": {},
     "output_type": "execute_result"
    }
   ],
   "source": [
    "data.loc[0, 'decoder_target']"
   ]
  },
  {
   "cell_type": "markdown",
   "id": "8fa73cbf",
   "metadata": {},
   "source": [
    "## 데이터 나누기"
   ]
  },
  {
   "cell_type": "markdown",
   "id": "8136729c",
   "metadata": {},
   "source": [
    "- 데이터 샘플 순서를 동일하게 섞어서 각 인코더의 입력, 디코더의 입력과 레이블로 나누기"
   ]
  },
  {
   "cell_type": "code",
   "execution_count": 59,
   "id": "41d59693",
   "metadata": {},
   "outputs": [
    {
     "data": {
      "text/plain": [
       "((97862,), (97862,), (97862,))"
      ]
     },
     "execution_count": 59,
     "metadata": {},
     "output_type": "execute_result"
    }
   ],
   "source": [
    "encoder_input = np.array(data.sample(frac=1, random_state=33)['text'])\n",
    "decoder_input = np.array(data.sample(frac=1, random_state=33)['decoder_input'])\n",
    "decoder_target = np.array(data.sample(frac=1, random_state=33)['decoder_target'])\n",
    "\n",
    "encoder_input.shape, decoder_input.shape, decoder_target.shape"
   ]
  },
  {
   "cell_type": "markdown",
   "id": "6deae3c2",
   "metadata": {},
   "source": [
    "- 8:2 비율로 Train, Validation Set으로 분리"
   ]
  },
  {
   "cell_type": "code",
   "execution_count": 60,
   "id": "54a9eb0d",
   "metadata": {},
   "outputs": [
    {
     "name": "stdout",
     "output_type": "stream",
     "text": [
      "validation 데이터의 수 : 19572\n"
     ]
    }
   ],
   "source": [
    "n_of_val = int(len(data)*0.2)\n",
    "print('validation 데이터의 수 :', n_of_val)"
   ]
  },
  {
   "cell_type": "code",
   "execution_count": 61,
   "id": "4733002a",
   "metadata": {},
   "outputs": [
    {
     "name": "stdout",
     "output_type": "stream",
     "text": [
      "훈련 데이터의 개수 : 78290\n",
      "훈련 레이블의 개수 : 78290\n",
      "검증 데이터의 개수 : 19572\n",
      "검증 레이블의 개수 : 19572\n"
     ]
    }
   ],
   "source": [
    "encoder_input_train = encoder_input[:-n_of_val]\n",
    "decoder_input_train = decoder_input[:-n_of_val]\n",
    "decoder_target_train = decoder_target[:-n_of_val]\n",
    "\n",
    "encoder_input_val = encoder_input[-n_of_val:]\n",
    "decoder_input_val = decoder_input[-n_of_val:]\n",
    "decoder_target_val = decoder_target[-n_of_val:]\n",
    "\n",
    "print('훈련 데이터의 개수 :', len(encoder_input_train))\n",
    "print('훈련 레이블의 개수 :', len(decoder_input_train))\n",
    "print('검증 데이터의 개수 :', len(encoder_input_val))\n",
    "print('검증 레이블의 개수 :', len(decoder_input_val))"
   ]
  },
  {
   "cell_type": "markdown",
   "id": "9d1cddbe",
   "metadata": {},
   "source": [
    "## 단어 집합(vocabulary) 만들기 및 정수 인코딩"
   ]
  },
  {
   "cell_type": "markdown",
   "id": "bdd9f20a",
   "metadata": {},
   "source": [
    "### Encoder Input"
   ]
  },
  {
   "cell_type": "markdown",
   "id": "a5e1ffb2",
   "metadata": {},
   "source": [
    "- 토크나이저를 이용하여 단어 집합 생성"
   ]
  },
  {
   "cell_type": "code",
   "execution_count": 62,
   "id": "e53325d5",
   "metadata": {},
   "outputs": [],
   "source": [
    "src_tokenizer = Tokenizer() # 토크나이저 정의\n",
    "src_tokenizer.fit_on_texts(encoder_input_train) # 입력된 데이터로부터 단어 집합 생성"
   ]
  },
  {
   "cell_type": "code",
   "execution_count": 63,
   "id": "006c1d5e",
   "metadata": {},
   "outputs": [],
   "source": [
    "def vocab_analysis(tokenizer, threshold):\n",
    "    total_cnt = len(tokenizer.word_index) # 단어의 수\n",
    "    rare_cnt = 0 # 등장 빈도수가 threshold보다 작은 단어의 개수를 카운트\n",
    "    total_freq = 0 # 훈련 데이터의 전체 단어 빈도수 총 합\n",
    "    rare_freq = 0 # 등장 빈도수가 threshold보다 작은 단어의 등장 빈도수의 총 합\n",
    "\n",
    "    # 단어와 빈도수의 쌍(pair)을 key와 value로 받는다.\n",
    "    for key, value in tokenizer.word_counts.items():\n",
    "        total_freq = total_freq + value\n",
    "\n",
    "        # 단어의 등장 빈도수가 threshold보다 작으면\n",
    "        if(value < threshold):\n",
    "            rare_cnt = rare_cnt + 1\n",
    "            rare_freq = rare_freq + value\n",
    "\n",
    "    print('단어 집합(vocabulary)의 크기 :', total_cnt)\n",
    "    print('등장 빈도가 %s번 이하인 희귀 단어의 수: %s'%(threshold - 1, rare_cnt))\n",
    "    print('단어 집합에서 희귀 단어를 제외시킬 경우의 단어 집합의 크기: %s'%(total_cnt - rare_cnt))\n",
    "    print(\"단어 집합에서 희귀 단어의 비율:\", (rare_cnt / total_cnt)*100)\n",
    "    print(\"전체 등장 빈도에서 희귀 단어 등장 빈도 비율:\", (rare_freq / total_freq)*100)"
   ]
  },
  {
   "cell_type": "code",
   "execution_count": 64,
   "id": "3e8b4aeb",
   "metadata": {},
   "outputs": [
    {
     "name": "stdout",
     "output_type": "stream",
     "text": [
      "단어 집합(vocabulary)의 크기 : 69409\n",
      "등장 빈도가 7번 이하인 희귀 단어의 수: 48730\n",
      "단어 집합에서 희귀 단어를 제외시킬 경우의 단어 집합의 크기: 20679\n",
      "단어 집합에서 희귀 단어의 비율: 70.20703366998517\n",
      "전체 등장 빈도에서 희귀 단어 등장 빈도 비율: 3.8632789653055117\n"
     ]
    }
   ],
   "source": [
    "vocab_analysis(src_tokenizer, 8)"
   ]
  },
  {
   "cell_type": "markdown",
   "id": "dccf947a",
   "metadata": {},
   "source": [
    "- 약 6만 9천여 개의 단어 중 2만 개의 단어로 집합의 크기를 제한.\n",
    "- 약 96% 이상 등장 빈도를 갖는 단어들로 단어 집합 구성."
   ]
  },
  {
   "cell_type": "code",
   "execution_count": 65,
   "id": "209dbd9d",
   "metadata": {},
   "outputs": [],
   "source": [
    "src_vocab = 20000\n",
    "src_tokenizer = Tokenizer(num_words=src_vocab) # 단어 집합의 크기를 20,000으로 제한\n",
    "src_tokenizer.fit_on_texts(encoder_input_train) # 단어 집합 재생성"
   ]
  },
  {
   "cell_type": "markdown",
   "id": "e33ee589",
   "metadata": {},
   "source": [
    "- 정수 인코딩"
   ]
  },
  {
   "cell_type": "code",
   "execution_count": 66,
   "id": "6af8c016",
   "metadata": {},
   "outputs": [
    {
     "name": "stdout",
     "output_type": "stream",
     "text": [
      "[[239, 429, 466, 3250, 1953, 136, 10948, 61, 81, 69, 574, 160, 60, 6323, 154, 112, 3352, 3778, 2403, 9, 1330, 85, 10, 985, 77, 7220, 24, 773, 1797, 1197], [160, 60, 9, 1975, 640, 66, 717, 3530, 177, 6791, 255, 15942, 971, 156, 109, 66, 432, 1975, 3751, 3317, 1408, 65, 1899, 255, 37, 6, 159, 5865, 1408, 3489], [11513, 214, 45, 150, 15, 114, 47, 88, 1, 1016, 748, 135, 1008, 7408, 1066, 320, 1651, 887, 2842, 3653, 9264, 47, 4, 2, 420, 1968, 8210, 232, 197, 6479, 288, 12153, 5796, 1968, 752]]\n"
     ]
    }
   ],
   "source": [
    "encoder_input_train = src_tokenizer.texts_to_sequences(encoder_input_train)\n",
    "encoder_input_val = src_tokenizer.texts_to_sequences(encoder_input_val)\n",
    "\n",
    "# 샘플 출력\n",
    "print(encoder_input_train[:3])"
   ]
  },
  {
   "cell_type": "markdown",
   "id": "4c764185",
   "metadata": {},
   "source": [
    "### Decoder Input & Target"
   ]
  },
  {
   "cell_type": "markdown",
   "id": "551cd30f",
   "metadata": {},
   "source": [
    "- 집합 생성"
   ]
  },
  {
   "cell_type": "code",
   "execution_count": 67,
   "id": "814c16a9",
   "metadata": {},
   "outputs": [],
   "source": [
    "tar_tokenizer = Tokenizer()\n",
    "tar_tokenizer.fit_on_texts(decoder_input_train)"
   ]
  },
  {
   "cell_type": "code",
   "execution_count": 68,
   "id": "99920a92",
   "metadata": {},
   "outputs": [
    {
     "name": "stdout",
     "output_type": "stream",
     "text": [
      "단어 집합(vocabulary)의 크기 : 30071\n",
      "등장 빈도가 8번 이하인 희귀 단어의 수: 21957\n",
      "단어 집합에서 희귀 단어를 제외시킬 경우의 단어 집합의 크기: 8114\n",
      "단어 집합에서 희귀 단어의 비율: 73.01719264407569\n",
      "전체 등장 빈도에서 희귀 단어 등장 빈도 비율: 6.609342342387069\n"
     ]
    }
   ],
   "source": [
    "vocab_analysis(tar_tokenizer, 9)"
   ]
  },
  {
   "cell_type": "markdown",
   "id": "52200a27",
   "metadata": {},
   "source": [
    "- 약 3만여 개의 단어 중 8천 개의 단어로 집합의 크기를 제한.\n",
    "- 약 93% 이상 등장 빈도를 갖는 단어들로 단어 집합 구성."
   ]
  },
  {
   "cell_type": "code",
   "execution_count": 69,
   "id": "bd61fbeb",
   "metadata": {},
   "outputs": [],
   "source": [
    "tar_vocab = 8000\n",
    "tar_tokenizer = Tokenizer(num_words=tar_vocab) \n",
    "tar_tokenizer.fit_on_texts(decoder_input_train)\n",
    "tar_tokenizer.fit_on_texts(decoder_target_train)"
   ]
  },
  {
   "cell_type": "markdown",
   "id": "5b257e71",
   "metadata": {},
   "source": [
    "- 정수 인코딩"
   ]
  },
  {
   "cell_type": "code",
   "execution_count": 70,
   "id": "83fa6082",
   "metadata": {},
   "outputs": [
    {
     "name": "stdout",
     "output_type": "stream",
     "text": [
      "input\n",
      "input  [[1, 337, 321, 2482, 1922, 4, 25], [1, 427, 641, 11, 75, 243, 122, 3108, 260, 12, 5409], [1, 1364, 2524, 4, 346, 860, 19, 431, 38], [1, 427, 125, 5, 688, 40, 7, 6, 521], [1, 8, 2905, 9, 2433, 12, 4255, 4989, 478, 4, 1285]]\n",
      "==================================================\n",
      "target\n",
      "decoder  [[337, 321, 2482, 1922, 4, 25, 2], [427, 641, 11, 75, 243, 122, 3108, 260, 12, 5409, 2], [1364, 2524, 4, 346, 860, 19, 431, 38, 2], [427, 125, 5, 688, 40, 7, 6, 521, 2], [8, 2905, 9, 2433, 12, 4255, 4989, 478, 4, 1285, 2]]\n"
     ]
    }
   ],
   "source": [
    "decoder_input_train = tar_tokenizer.texts_to_sequences(decoder_input_train) \n",
    "decoder_target_train = tar_tokenizer.texts_to_sequences(decoder_target_train)\n",
    "decoder_input_val = tar_tokenizer.texts_to_sequences(decoder_input_val)\n",
    "decoder_target_val = tar_tokenizer.texts_to_sequences(decoder_target_val)\n",
    "\n",
    "# 변환 결과 확인\n",
    "print('input')\n",
    "print('input ',decoder_input_train[:5])\n",
    "print('='*50)\n",
    "print('target')\n",
    "print('decoder ',decoder_target_train[:5])"
   ]
  },
  {
   "cell_type": "markdown",
   "id": "afa5780d",
   "metadata": {},
   "source": [
    "## 빈 샘플 제거"
   ]
  },
  {
   "cell_type": "markdown",
   "id": "d7eb5e4b",
   "metadata": {},
   "source": [
    "- 인코딩 후 빈도수가 낮은 단어로만 구성되어 빈 샘플이 있는지 확인하여 제거"
   ]
  },
  {
   "cell_type": "code",
   "execution_count": 71,
   "id": "af36c377",
   "metadata": {},
   "outputs": [
    {
     "name": "stdout",
     "output_type": "stream",
     "text": [
      "훈련 데이터의 개수 : 78290\n",
      "훈련 레이블의 개수 : 78290\n",
      "검증 데이터의 개수 : 19572\n",
      "검증 레이블의 개수 : 19572\n"
     ]
    }
   ],
   "source": [
    "print('훈련 데이터의 개수 :', len(encoder_input_train))\n",
    "print('훈련 레이블의 개수 :', len(decoder_input_train))\n",
    "print('검증 데이터의 개수 :', len(encoder_input_val))\n",
    "print('검증 레이블의 개수 :', len(decoder_input_val))"
   ]
  },
  {
   "cell_type": "code",
   "execution_count": 72,
   "id": "ce0fc1a3",
   "metadata": {},
   "outputs": [
    {
     "name": "stdout",
     "output_type": "stream",
     "text": [
      "삭제할 훈련 데이터의 개수 : 0\n",
      "삭제할 테스트 데이터의 개수 : 0\n",
      "훈련 데이터의 개수 : 78290\n",
      "훈련 레이블의 개수 : 78290\n",
      "검증 데이터의 개수 : 19572\n",
      "검증 레이블의 개수 : 19572\n"
     ]
    }
   ],
   "source": [
    "drop_train = [index for index, sentence in enumerate(decoder_input_train) if len(sentence) == 1]\n",
    "drop_val = [index for index, sentence in enumerate(decoder_input_val) if len(sentence) == 1]\n",
    "\n",
    "print('삭제할 훈련 데이터의 개수 :', len(drop_train))\n",
    "print('삭제할 테스트 데이터의 개수 :', len(drop_val))\n",
    "\n",
    "encoder_input_train = [sentence for index, sentence in enumerate(encoder_input_train) if index not in drop_train]\n",
    "decoder_input_train = [sentence for index, sentence in enumerate(decoder_input_train) if index not in drop_train]\n",
    "decoder_target_train = [sentence for index, sentence in enumerate(decoder_target_train) if index not in drop_train]\n",
    "\n",
    "encoder_input_val = [sentence for index, sentence in enumerate(encoder_input_val) if index not in drop_val]\n",
    "decoder_input_val = [sentence for index, sentence in enumerate(decoder_input_val) if index not in drop_val]\n",
    "decoder_target_val = [sentence for index, sentence in enumerate(decoder_target_val) if index not in drop_val]\n",
    "\n",
    "print('훈련 데이터의 개수 :', len(encoder_input_train))\n",
    "print('훈련 레이블의 개수 :', len(decoder_input_train))\n",
    "print('검증 데이터의 개수 :', len(encoder_input_val))\n",
    "print('검증 레이블의 개수 :', len(decoder_input_val))"
   ]
  },
  {
   "cell_type": "markdown",
   "id": "bb63d3c0",
   "metadata": {},
   "source": [
    "## 패딩"
   ]
  },
  {
   "cell_type": "markdown",
   "id": "7505c814",
   "metadata": {},
   "source": [
    "- 최대 길이에 맞추어 패딩"
   ]
  },
  {
   "cell_type": "code",
   "execution_count": 73,
   "id": "70d9a500",
   "metadata": {},
   "outputs": [],
   "source": [
    "encoder_input_train = pad_sequences(encoder_input_train, maxlen=text_max_len, padding='post')\n",
    "encoder_input_val = pad_sequences(encoder_input_val, maxlen=text_max_len, padding='post')\n",
    "decoder_input_train = pad_sequences(decoder_input_train, maxlen=headlines_max_len, padding='post')\n",
    "decoder_target_train = pad_sequences(decoder_target_train, maxlen=headlines_max_len, padding='post')\n",
    "decoder_input_val = pad_sequences(decoder_input_val, maxlen=headlines_max_len, padding='post')\n",
    "decoder_target_val = pad_sequences(decoder_target_val, maxlen=headlines_max_len, padding='post')"
   ]
  },
  {
   "cell_type": "markdown",
   "id": "c9071a39",
   "metadata": {},
   "source": [
    "# Step 3. 어텐션 메커니즘 사용하기 (추상적 요약)"
   ]
  },
  {
   "cell_type": "markdown",
   "id": "f96df02f",
   "metadata": {},
   "source": [
    "실습 내용을 참고하여 어텐션 메커니즘을 사용한 seq2seq를 설계."
   ]
  },
  {
   "cell_type": "markdown",
   "id": "211d078b",
   "metadata": {},
   "source": [
    "## Modeling"
   ]
  },
  {
   "cell_type": "code",
   "execution_count": 74,
   "id": "37dabafb",
   "metadata": {},
   "outputs": [
    {
     "name": "stdout",
     "output_type": "stream",
     "text": [
      "Model: \"model\"\n",
      "__________________________________________________________________________________________________\n",
      "Layer (type)                    Output Shape         Param #     Connected to                     \n",
      "==================================================================================================\n",
      "input_1 (InputLayer)            [(None, 45)]         0                                            \n",
      "__________________________________________________________________________________________________\n",
      "embedding (Embedding)           (None, 45, 128)      2560000     input_1[0][0]                    \n",
      "__________________________________________________________________________________________________\n",
      "lstm (LSTM)                     [(None, 45, 256), (N 394240      embedding[0][0]                  \n",
      "__________________________________________________________________________________________________\n",
      "input_2 (InputLayer)            [(None, None)]       0                                            \n",
      "__________________________________________________________________________________________________\n",
      "lstm_1 (LSTM)                   [(None, 45, 256), (N 525312      lstm[0][0]                       \n",
      "__________________________________________________________________________________________________\n",
      "embedding_1 (Embedding)         (None, None, 128)    1024000     input_2[0][0]                    \n",
      "__________________________________________________________________________________________________\n",
      "lstm_2 (LSTM)                   [(None, 45, 256), (N 525312      lstm_1[0][0]                     \n",
      "__________________________________________________________________________________________________\n",
      "lstm_3 (LSTM)                   [(None, None, 256),  394240      embedding_1[0][0]                \n",
      "                                                                 lstm_2[0][1]                     \n",
      "                                                                 lstm_2[0][2]                     \n",
      "__________________________________________________________________________________________________\n",
      "attention_layer (AdditiveAttent (None, None, 256)    256         lstm_3[0][0]                     \n",
      "                                                                 lstm_2[0][0]                     \n",
      "__________________________________________________________________________________________________\n",
      "concat_layer (Concatenate)      (None, None, 512)    0           lstm_3[0][0]                     \n",
      "                                                                 attention_layer[0][0]            \n",
      "__________________________________________________________________________________________________\n",
      "dense (Dense)                   (None, None, 8000)   4104000     concat_layer[0][0]               \n",
      "==================================================================================================\n",
      "Total params: 9,527,360\n",
      "Trainable params: 9,527,360\n",
      "Non-trainable params: 0\n",
      "__________________________________________________________________________________________________\n"
     ]
    }
   ],
   "source": [
    "'''\n",
    "Encoder\n",
    "'''\n",
    "# 인코더 설계 시작\n",
    "embedding_dim = 128\n",
    "hidden_size = 256\n",
    "\n",
    "# 인코더\n",
    "encoder_inputs = Input(shape=(text_max_len,))\n",
    "\n",
    "# 인코더의 임베딩 층\n",
    "enc_emb = Embedding(src_vocab, embedding_dim)(encoder_inputs)\n",
    "\n",
    "# 인코더의 LSTM 1\n",
    "encoder_lstm1 = LSTM(hidden_size, return_sequences=True, return_state=True ,dropout = 0.4)\n",
    "encoder_output1, state_h1, state_c1 = encoder_lstm1(enc_emb)\n",
    "\n",
    "# 인코더의 LSTM 2\n",
    "encoder_lstm2 = LSTM(hidden_size, return_sequences=True, return_state=True, dropout = 0.4)\n",
    "encoder_output2, state_h2, state_c2 = encoder_lstm2(encoder_output1)\n",
    "\n",
    "# 인코더의 LSTM 3\n",
    "encoder_lstm3 = LSTM(hidden_size, return_sequences=True, return_state=True, dropout = 0.4)\n",
    "encoder_output3, state_h3, state_c3 = encoder_lstm3(encoder_output2)\n",
    "\n",
    "'''\n",
    "Decoder\n",
    "'''\n",
    "# 디코더 설계\n",
    "decoder_inputs = Input(shape=(None,))\n",
    "\n",
    "# 디코더의 임베딩 층\n",
    "dec_emb_layer = Embedding(tar_vocab, embedding_dim)\n",
    "dec_emb = dec_emb_layer(decoder_inputs)\n",
    "\n",
    "# 디코더의 LSTM\n",
    "decoder_lstm = LSTM(hidden_size, return_sequences=True, return_state=True, dropout=0.4)\n",
    "decoder_outputs, _, _ = decoder_lstm(dec_emb, initial_state=[state_h3, state_c3])\n",
    "\n",
    "\n",
    "'''\n",
    "Attention\n",
    "'''\n",
    "# 어텐션 층(어텐션 함수)\n",
    "attn_layer = AdditiveAttention(name='attention_layer')\n",
    "\n",
    "# 인코더와 디코더의 모든 time step의 hidden state를 어텐션 층에 전달하고 결과를 리턴\n",
    "attn_out = attn_layer([decoder_outputs, encoder_output3])\n",
    "\n",
    "# 어텐션의 결과와 디코더의 hidden state들을 연결\n",
    "decoder_concat_input = Concatenate(axis=-1, name='concat_layer')([decoder_outputs, attn_out])\n",
    "\n",
    "\n",
    "# 디코더의 출력층\n",
    "decoder_softmax_layer = Dense(tar_vocab, activation='softmax')\n",
    "decoder_softmax_outputs = decoder_softmax_layer(decoder_concat_input)\n",
    "\n",
    "# 모델 정의\n",
    "model = Model([encoder_inputs, decoder_inputs], decoder_softmax_outputs)\n",
    "model.summary()"
   ]
  },
  {
   "cell_type": "markdown",
   "id": "fce87fcd",
   "metadata": {},
   "source": [
    "## Training"
   ]
  },
  {
   "cell_type": "code",
   "execution_count": 75,
   "id": "e7396ec5",
   "metadata": {},
   "outputs": [
    {
     "name": "stdout",
     "output_type": "stream",
     "text": [
      "Epoch 1/50\n",
      "306/306 [==============================] - 36s 95ms/step - loss: 5.0704 - val_loss: 4.6763\n",
      "Epoch 2/50\n",
      "306/306 [==============================] - 29s 94ms/step - loss: 4.5336 - val_loss: 4.3196\n",
      "Epoch 3/50\n",
      "306/306 [==============================] - 29s 95ms/step - loss: 4.2157 - val_loss: 4.0688\n",
      "Epoch 4/50\n",
      "306/306 [==============================] - 30s 97ms/step - loss: 3.9682 - val_loss: 3.8869\n",
      "Epoch 5/50\n",
      "306/306 [==============================] - 30s 98ms/step - loss: 3.7738 - val_loss: 3.7563\n",
      "Epoch 6/50\n",
      "306/306 [==============================] - 30s 99ms/step - loss: 3.6171 - val_loss: 3.6539\n",
      "Epoch 7/50\n",
      "306/306 [==============================] - 31s 100ms/step - loss: 3.4855 - val_loss: 3.5787\n",
      "Epoch 8/50\n",
      "306/306 [==============================] - 32s 106ms/step - loss: 3.3700 - val_loss: 3.5152\n",
      "Epoch 9/50\n",
      "306/306 [==============================] - 33s 109ms/step - loss: 3.2691 - val_loss: 3.4642\n",
      "Epoch 10/50\n",
      "306/306 [==============================] - 33s 107ms/step - loss: 3.1786 - val_loss: 3.4222\n",
      "Epoch 11/50\n",
      "306/306 [==============================] - 33s 107ms/step - loss: 3.0978 - val_loss: 3.3873\n",
      "Epoch 12/50\n",
      "306/306 [==============================] - 33s 107ms/step - loss: 3.0257 - val_loss: 3.3617\n",
      "Epoch 13/50\n",
      "306/306 [==============================] - 33s 107ms/step - loss: 2.9579 - val_loss: 3.3394\n",
      "Epoch 14/50\n",
      "306/306 [==============================] - 33s 108ms/step - loss: 2.8959 - val_loss: 3.3145\n",
      "Epoch 15/50\n",
      "306/306 [==============================] - 33s 107ms/step - loss: 2.8384 - val_loss: 3.3024\n",
      "Epoch 16/50\n",
      "306/306 [==============================] - 33s 106ms/step - loss: 2.7855 - val_loss: 3.2919\n",
      "Epoch 17/50\n",
      "306/306 [==============================] - 32s 106ms/step - loss: 2.7354 - val_loss: 3.2836\n",
      "Epoch 18/50\n",
      "306/306 [==============================] - 33s 106ms/step - loss: 2.6874 - val_loss: 3.2710\n",
      "Epoch 19/50\n",
      "306/306 [==============================] - 32s 106ms/step - loss: 2.6463 - val_loss: 3.2640\n",
      "Epoch 20/50\n",
      "306/306 [==============================] - 32s 104ms/step - loss: 2.6052 - val_loss: 3.2594\n",
      "Epoch 21/50\n",
      "306/306 [==============================] - 32s 103ms/step - loss: 2.5676 - val_loss: 3.2599\n",
      "Epoch 22/50\n",
      "306/306 [==============================] - 31s 102ms/step - loss: 2.5295 - val_loss: 3.2514\n",
      "Epoch 23/50\n",
      "306/306 [==============================] - 31s 102ms/step - loss: 2.4947 - val_loss: 3.2516\n",
      "Epoch 24/50\n",
      "306/306 [==============================] - 31s 102ms/step - loss: 2.4631 - val_loss: 3.2547\n",
      "Epoch 25/50\n",
      "306/306 [==============================] - 31s 102ms/step - loss: 2.4319 - val_loss: 3.2537\n",
      "Epoch 00025: early stopping\n"
     ]
    }
   ],
   "source": [
    "model.compile(optimizer='rmsprop', loss='sparse_categorical_crossentropy')\n",
    "es = EarlyStopping(monitor='val_loss', patience=3, verbose=1)\n",
    "history = model.fit(x=[encoder_input_train, decoder_input_train], y=decoder_target_train, \\\n",
    "          validation_data=([encoder_input_val, decoder_input_val], decoder_target_val), \\\n",
    "          batch_size=256, callbacks=[es], epochs=50)"
   ]
  },
  {
   "cell_type": "markdown",
   "id": "42909b5f",
   "metadata": {},
   "source": [
    "- 훈련 과정 시각화"
   ]
  },
  {
   "cell_type": "code",
   "execution_count": 76,
   "id": "11f148af",
   "metadata": {},
   "outputs": [
    {
     "data": {
      "image/png": "[encoded data removed]",
      "text/plain": [
       "<Figure size 432x288 with 1 Axes>"
      ]
     },
     "metadata": {
      "needs_background": "light"
     },
     "output_type": "display_data"
    }
   ],
   "source": [
    "plt.plot(history.history['loss'], label='train')\n",
    "plt.plot(history.history['val_loss'], label='test')\n",
    "plt.legend()\n",
    "plt.show()"
   ]
  },
  {
   "cell_type": "markdown",
   "id": "43b5ca9e",
   "metadata": {},
   "source": [
    "## Inference Modeling"
   ]
  },
  {
   "cell_type": "markdown",
   "id": "a69527c6",
   "metadata": {},
   "source": [
    "- 사전 준비"
   ]
  },
  {
   "cell_type": "code",
   "execution_count": 77,
   "id": "34e7964d",
   "metadata": {},
   "outputs": [],
   "source": [
    "src_index_to_word = src_tokenizer.index_word # 원문 단어 집합에서 정수 -> 단어를 얻음\n",
    "tar_word_to_index = tar_tokenizer.word_index # 요약 단어 집합에서 단어 -> 정수를 얻음\n",
    "tar_index_to_word = tar_tokenizer.index_word # 요약 단어 집합에서 정수 -> 단어를 얻음"
   ]
  },
  {
   "cell_type": "markdown",
   "id": "287c5bb6",
   "metadata": {},
   "source": [
    "- 모델링"
   ]
  },
  {
   "cell_type": "code",
   "execution_count": 78,
   "id": "67ae4f14",
   "metadata": {},
   "outputs": [],
   "source": [
    "# 인코더 설계\n",
    "encoder_model = Model(inputs=encoder_inputs, outputs=[encoder_output3, state_h3, state_c3])\n",
    "\n",
    "# 이전 시점의 상태들을 저장하는 텐서\n",
    "decoder_state_input_h = Input(shape=(hidden_size,))\n",
    "decoder_state_input_c = Input(shape=(hidden_size,))\n",
    "\n",
    "dec_emb2 = dec_emb_layer(decoder_inputs)\n",
    "\n",
    "# 문장의 다음 단어를 예측하기 위해서 초기 상태(initial_state)를 이전 시점의 상태로 사용. 이는 뒤의 함수 decode_sequence()에 구현\n",
    "# 훈련 과정에서와 달리 LSTM의 리턴하는 은닉 상태와 셀 상태인 state_h와 state_c를 버리지 않음.\n",
    "decoder_outputs2, state_h2, state_c2 = decoder_lstm(dec_emb2, initial_state=[decoder_state_input_h, decoder_state_input_c])\n",
    "\n",
    "# 어텐션 함수\n",
    "decoder_hidden_state_input = Input(shape=(text_max_len, hidden_size))\n",
    "attn_out_inf = attn_layer([decoder_outputs2, decoder_hidden_state_input])\n",
    "decoder_inf_concat = Concatenate(axis=-1, name='concat')([decoder_outputs2, attn_out_inf])\n",
    "\n",
    "# 디코더의 출력층\n",
    "decoder_outputs2 = decoder_softmax_layer(decoder_inf_concat) \n",
    "\n",
    "# 최종 디코더 모델\n",
    "decoder_model = Model(\n",
    "    [decoder_inputs] + [decoder_hidden_state_input,decoder_state_input_h, decoder_state_input_c],\n",
    "    [decoder_outputs2] + [state_h2, state_c2])"
   ]
  },
  {
   "cell_type": "code",
   "execution_count": 79,
   "id": "94428a57",
   "metadata": {},
   "outputs": [
    {
     "name": "stdout",
     "output_type": "stream",
     "text": [
      "Model: \"model_1\"\n",
      "_________________________________________________________________\n",
      "Layer (type)                 Output Shape              Param #   \n",
      "=================================================================\n",
      "input_1 (InputLayer)         [(None, 45)]              0         \n",
      "_________________________________________________________________\n",
      "embedding (Embedding)        (None, 45, 128)           2560000   \n",
      "_________________________________________________________________\n",
      "lstm (LSTM)                  [(None, 45, 256), (None,  394240    \n",
      "_________________________________________________________________\n",
      "lstm_1 (LSTM)                [(None, 45, 256), (None,  525312    \n",
      "_________________________________________________________________\n",
      "lstm_2 (LSTM)                [(None, 45, 256), (None,  525312    \n",
      "=================================================================\n",
      "Total params: 4,004,864\n",
      "Trainable params: 4,004,864\n",
      "Non-trainable params: 0\n",
      "_________________________________________________________________\n"
     ]
    }
   ],
   "source": [
    "encoder_model.summary()"
   ]
  },
  {
   "cell_type": "code",
   "execution_count": 80,
   "id": "4aa119a5",
   "metadata": {},
   "outputs": [
    {
     "name": "stdout",
     "output_type": "stream",
     "text": [
      "Model: \"model_2\"\n",
      "__________________________________________________________________________________________________\n",
      "Layer (type)                    Output Shape         Param #     Connected to                     \n",
      "==================================================================================================\n",
      "input_2 (InputLayer)            [(None, None)]       0                                            \n",
      "__________________________________________________________________________________________________\n",
      "embedding_1 (Embedding)         (None, None, 128)    1024000     input_2[0][0]                    \n",
      "__________________________________________________________________________________________________\n",
      "input_3 (InputLayer)            [(None, 256)]        0                                            \n",
      "__________________________________________________________________________________________________\n",
      "input_4 (InputLayer)            [(None, 256)]        0                                            \n",
      "__________________________________________________________________________________________________\n",
      "lstm_3 (LSTM)                   [(None, None, 256),  394240      embedding_1[1][0]                \n",
      "                                                                 input_3[0][0]                    \n",
      "                                                                 input_4[0][0]                    \n",
      "__________________________________________________________________________________________________\n",
      "input_5 (InputLayer)            [(None, 45, 256)]    0                                            \n",
      "__________________________________________________________________________________________________\n",
      "attention_layer (AdditiveAttent (None, None, 256)    256         lstm_3[1][0]                     \n",
      "                                                                 input_5[0][0]                    \n",
      "__________________________________________________________________________________________________\n",
      "concat (Concatenate)            (None, None, 512)    0           lstm_3[1][0]                     \n",
      "                                                                 attention_layer[1][0]            \n",
      "__________________________________________________________________________________________________\n",
      "dense (Dense)                   (None, None, 8000)   4104000     concat[0][0]                     \n",
      "==================================================================================================\n",
      "Total params: 5,522,496\n",
      "Trainable params: 5,522,496\n",
      "Non-trainable params: 0\n",
      "__________________________________________________________________________________________________\n"
     ]
    }
   ],
   "source": [
    "decoder_model.summary()"
   ]
  },
  {
   "cell_type": "markdown",
   "id": "a745d5b7",
   "metadata": {},
   "source": [
    "- 시퀀스 완성 함수"
   ]
  },
  {
   "cell_type": "code",
   "execution_count": 81,
   "id": "4025f8f1",
   "metadata": {},
   "outputs": [],
   "source": [
    "def decode_sequence(input_seq):\n",
    "    # 입력으로부터 인코더의 상태를 얻음\n",
    "    e_out, e_h, e_c = encoder_model.predict(input_seq)\n",
    "\n",
    "     # <SOS>에 해당하는 토큰 생성\n",
    "    target_seq = np.zeros((1,1))\n",
    "    target_seq[0, 0] = tar_word_to_index['sostoken']\n",
    "\n",
    "    stop_condition = False\n",
    "    decoded_sentence = ''\n",
    "    while not stop_condition: # stop_condition이 True가 될 때까지 루프 반복\n",
    "\n",
    "        output_tokens, h, c = decoder_model.predict([target_seq] + [e_out, e_h, e_c])\n",
    "        sampled_token_index = np.argmax(output_tokens[0, -1, :])\n",
    "        sampled_token = tar_index_to_word[sampled_token_index]\n",
    "\n",
    "        if (sampled_token!='eostoken'):\n",
    "            decoded_sentence += ' '+sampled_token\n",
    "\n",
    "        #  <eos>에 도달하거나 최대 길이를 넘으면 중단.\n",
    "        if (sampled_token == 'eostoken'  or len(decoded_sentence.split()) >= (headlines_max_len-1)):\n",
    "            stop_condition = True\n",
    "\n",
    "        # 길이가 1인 타겟 시퀀스를 업데이트\n",
    "        target_seq = np.zeros((1,1))\n",
    "        target_seq[0, 0] = sampled_token_index\n",
    "\n",
    "        # 상태를 업데이트 합니다.\n",
    "        e_h, e_c = h, c\n",
    "\n",
    "    return decoded_sentence"
   ]
  },
  {
   "cell_type": "markdown",
   "id": "afb1f12a",
   "metadata": {},
   "source": [
    "# Step 4. 실제 결과와 요약문 비교하기 (추상적 요약)"
   ]
  },
  {
   "cell_type": "markdown",
   "id": "fda5a665",
   "metadata": {},
   "source": [
    "- 원래의 요약문(headlines 열)과 학습을 통해 얻은 추상적 요약의 결과 비교"
   ]
  },
  {
   "cell_type": "markdown",
   "id": "a7a910b7",
   "metadata": {},
   "source": [
    "- 실제 헤드라인과 추론 결과 비교를 위한 시퀀스 투 텍스트 함수"
   ]
  },
  {
   "cell_type": "code",
   "execution_count": 82,
   "id": "dba98a63",
   "metadata": {},
   "outputs": [],
   "source": [
    "# 원문의 정수 시퀀스를 텍스트 시퀀스로 변환\n",
    "def seq2text(input_seq):\n",
    "    temp=''\n",
    "    for i in input_seq:\n",
    "        if (i!=0):\n",
    "            temp = temp + src_index_to_word[i]+' '\n",
    "    return temp\n",
    "\n",
    "# 요약문의 정수 시퀀스를 텍스트 시퀀스로 변환\n",
    "def seq2headlines(input_seq):\n",
    "    temp=''\n",
    "    for i in input_seq:\n",
    "        if (i!=0 and i!=tar_word_to_index['sostoken'] and i!=tar_word_to_index['eostoken']):\n",
    "            temp = temp + tar_index_to_word[i] + ' '\n",
    "    return temp"
   ]
  },
  {
   "cell_type": "code",
   "execution_count": 140,
   "id": "57d62a39",
   "metadata": {},
   "outputs": [],
   "source": [
    "def compare_headlines(idx, text=True):\n",
    "    origin_idx = data.sample(frac=1, random_state=33).iloc[-n_of_val+idx].name\n",
    "    \n",
    "    print(\"[원본]\")\n",
    "    print(f\"본문:\", origin_data.loc[origin_idx].text)\n",
    "    print(f\"제목:\", origin_data.loc[origin_idx].headlines)\n",
    "    print(\"-\"*len(origin_data.loc[origin_idx].headlines))\n",
    "    print(\"[전처리 후]\")\n",
    "    if text: print(\"원문 :\", seq2text(encoder_input_val[idx]))\n",
    "    print(\"실제 요약 :\", seq2headlines(decoder_input_val[idx]))\n",
    "    print(\"예측 요약 :\"+ decode_sequence(encoder_input_val[idx].reshape(1, text_max_len)))"
   ]
  },
  {
   "cell_type": "code",
   "execution_count": 141,
   "id": "df96c004",
   "metadata": {},
   "outputs": [
    {
     "name": "stdout",
     "output_type": "stream",
     "text": [
      "[원본]\n",
      "본문: A Railway Protection Force (RPF) personnel in Mumbai saved a five-year-old girl from falling in the gap between the platform and coach after she slipped. The train had begun moving suddenly when the child was boarding it, according to reports. The incident was captured on CCTV and later other passengers also rushed to help the personnel.\n",
      "제목: Mumbai RPF personnel saves child who slipped while boarding\n",
      "-----------------------------------------------------------\n",
      "[전처리 후]\n",
      "원문 : railway protection force personnel mumbai saved five year old girl falling gap platform coach slipped train begun moving suddenly child boarding according reports incident captured cctv later passengers also rushed help personnel \n",
      "실제 요약 : mumbai personnel saves child who while boarding \n",
      "예측 요약 : mumbai police saves yr old girl from falling to falling\n"
     ]
    }
   ],
   "source": [
    "compare_headlines(0)"
   ]
  },
  {
   "cell_type": "markdown",
   "id": "7a72bb24",
   "metadata": {},
   "source": [
    "- 같은 맥락으로 잘 요약되었으나 주체가 다름"
   ]
  },
  {
   "cell_type": "code",
   "execution_count": 142,
   "id": "2a281ed8",
   "metadata": {},
   "outputs": [
    {
     "name": "stdout",
     "output_type": "stream",
     "text": [
      "[원본]\n",
      "본문: Reacting to late actress Sridevi's win at the 65th National Film Awards, her family said she was \"not just a Super Actor but a Super Wife and a Super Mom\". Her husband Boney Kapoor and daughters Janhvi and Khushi thanked the government, jury members and fans for celebrating her achievements. Sridevi received National Award for Best Actress for 'Mom' posthumously.\n",
      "제목: Sridevi was Super Wife, Super Mom, says family on award win\n",
      "-----------------------------------------------------------\n",
      "[전처리 후]\n",
      "원문 : reacting late actress sridevi win th national film awards family said super actor super wife super mom husband boney kapoor daughters janhvi khushi thanked government jury members fans celebrating achievements sridevi received national award best actress mom posthumously \n",
      "실제 요약 : sridevi was super wife super mom says family on award win \n",
      "예측 요약 : sridevi wife attend sridevi funeral\n"
     ]
    }
   ],
   "source": [
    "compare_headlines(1)"
   ]
  },
  {
   "cell_type": "markdown",
   "id": "244487e2",
   "metadata": {},
   "source": [
    "- 이름만 같은 전혀 다른 상황"
   ]
  },
  {
   "cell_type": "code",
   "execution_count": 143,
   "id": "b18febe7",
   "metadata": {},
   "outputs": [
    {
     "name": "stdout",
     "output_type": "stream",
     "text": [
      "[원본]\n",
      "본문: Thanking Mumbai Police for its support during his daughter Sonam Kapoor's wedding, Anil Kapoor tweeted, \"The constant support of Mumbai Police was a major reason behind our family being able to celebrate this occasion to the fullest.\" Sonam married Delhi-based businessman Anand Ahuja on May 8 in Mumbai, which was attended by celebrities like Karan Johar, Alia Bhatt among others.  \n",
      "제목: Mumbai cops helped us enjoy Sonam's wedding to fullest: Anil\n",
      "------------------------------------------------------------\n",
      "[전처리 후]\n",
      "원문 : thanking mumbai police support daughter sonam kapoor wedding anil kapoor tweeted constant support mumbai police major reason behind family able celebrate occasion sonam married delhi based businessman anand ahuja may mumbai attended celebrities like karan johar alia bhatt among others \n",
      "실제 요약 : mumbai cops helped us enjoy sonam wedding to anil \n",
      "예측 요약 : mumbai police to marry family in mumbai sonam wedding\n"
     ]
    }
   ],
   "source": [
    "compare_headlines(6)"
   ]
  },
  {
   "cell_type": "markdown",
   "id": "6317c8c2",
   "metadata": {},
   "source": [
    "- 같은 주어, 유사한 상황이지만 틀림."
   ]
  },
  {
   "cell_type": "code",
   "execution_count": 144,
   "id": "f882d911",
   "metadata": {
    "scrolled": true
   },
   "outputs": [
    {
     "name": "stdout",
     "output_type": "stream",
     "text": [
      "[원본]\n",
      "본문: India produced 31 billionaires over the last year due to a record performance by Indian stock markets, according to Hurun Global Rich List 2018. The total number of Indian billionaires on the list is 131 and Mumbai has the maximum number of billionaires at 55. The combined wealth of the Indian billionaires increased by 49% to $454 billion.\n",
      "제목: India added 31 billionaires over last year: Hurun Rich List\n",
      "-----------------------------------------------------------\n",
      "[전처리 후]\n",
      "원문 : india produced billionaires last year due record performance indian stock markets according hurun global rich list total number indian billionaires list mumbai maximum number billionaires combined wealth indian billionaires increased billion \n",
      "실제 요약 : india added billionaires over last year hurun rich list \n",
      "예측 요약 : india top wealth at the top of the world\n"
     ]
    }
   ],
   "source": [
    "compare_headlines(11)"
   ]
  },
  {
   "cell_type": "markdown",
   "id": "023c3a11",
   "metadata": {},
   "source": [
    "- 해석이 과함."
   ]
  },
  {
   "cell_type": "markdown",
   "id": "aec092e3",
   "metadata": {},
   "source": [
    "# Step 5. Summa을 이용해서 추출적 요약해보기"
   ]
  },
  {
   "cell_type": "markdown",
   "id": "3a883240",
   "metadata": {},
   "source": [
    "- Summa의 summarize를 사용하여 추출적 요약 적용."
   ]
  },
  {
   "cell_type": "markdown",
   "id": "6d165b82",
   "metadata": {},
   "source": [
    "## 기존 데이터에 적용"
   ]
  },
  {
   "cell_type": "code",
   "execution_count": 147,
   "id": "11c749f7",
   "metadata": {},
   "outputs": [],
   "source": [
    "def compare2summa(idx):\n",
    "    compare_headlines(idx)\n",
    "    origin_idx = data.sample(frac=1, random_state=33).iloc[-n_of_val+idx].name\n",
    "    print(\"Summa 요약:\", summarize(origin_data.loc[origin_idx].text, words=headlines_max_len))"
   ]
  },
  {
   "cell_type": "code",
   "execution_count": 148,
   "id": "176cfae3",
   "metadata": {},
   "outputs": [
    {
     "name": "stdout",
     "output_type": "stream",
     "text": [
      "[원본]\n",
      "본문: A Railway Protection Force (RPF) personnel in Mumbai saved a five-year-old girl from falling in the gap between the platform and coach after she slipped. The train had begun moving suddenly when the child was boarding it, according to reports. The incident was captured on CCTV and later other passengers also rushed to help the personnel.\n",
      "제목: Mumbai RPF personnel saves child who slipped while boarding\n",
      "-----------------------------------------------------------\n",
      "[전처리 후]\n",
      "원문 : railway protection force personnel mumbai saved five year old girl falling gap platform coach slipped train begun moving suddenly child boarding according reports incident captured cctv later passengers also rushed help personnel \n",
      "실제 요약 : mumbai personnel saves child who while boarding \n",
      "예측 요약 : mumbai police saves yr old girl from falling to falling\n",
      "Summa 요약: A Railway Protection Force (RPF) personnel in Mumbai saved a five-year-old girl from falling in the gap between the platform and coach after she slipped.\n"
     ]
    }
   ],
   "source": [
    "compare2summa(0)"
   ]
  },
  {
   "cell_type": "markdown",
   "id": "cddcd87f",
   "metadata": {},
   "source": [
    "- 원본 본문의 첫 문장을 추출함. 전체 내용을 대변하는 문장으로써 적절한 추출적 요약이라 할 수 있음.\n",
    "- 핵심 단어: personnel, saves, child\n",
    "- 추출적 요약의 문법적 완성도는 본문 문장을 추출했으므로 본문의 완성도와 일치하여 논외로 한다."
   ]
  },
  {
   "cell_type": "markdown",
   "id": "5e01a987",
   "metadata": {},
   "source": [
    "|방법|문법완성도|핵심단어|\n",
    "|-|-|-|\n",
    "|추상적 요약|문법적으로 거의 문제가 없다. 마지막 \"from falling to falling\"은 적절하자 않았다. \"from falling\"까지만 있었으면 문장 완성도는 매우 좋았을 것으로 보인다.|핵심 단어 중 주어가 틀렸으나 \"saves\", \"girl\" 두 가지는 포함됐다고 할 수 있겠다.|\n",
    "|추출적 요약|논외|정확하게 핵심 단어가 모두 포함되었다.|"
   ]
  },
  {
   "cell_type": "markdown",
   "id": "7d7ec91e",
   "metadata": {},
   "source": [
    "- 추출적 요약 승!"
   ]
  },
  {
   "cell_type": "code",
   "execution_count": 149,
   "id": "26574ff0",
   "metadata": {},
   "outputs": [
    {
     "name": "stdout",
     "output_type": "stream",
     "text": [
      "[원본]\n",
      "본문: India produced 31 billionaires over the last year due to a record performance by Indian stock markets, according to Hurun Global Rich List 2018. The total number of Indian billionaires on the list is 131 and Mumbai has the maximum number of billionaires at 55. The combined wealth of the Indian billionaires increased by 49% to $454 billion.\n",
      "제목: India added 31 billionaires over last year: Hurun Rich List\n",
      "-----------------------------------------------------------\n",
      "[전처리 후]\n",
      "원문 : india produced billionaires last year due record performance indian stock markets according hurun global rich list total number indian billionaires list mumbai maximum number billionaires combined wealth indian billionaires increased billion \n",
      "실제 요약 : india added billionaires over last year hurun rich list \n",
      "예측 요약 : india top wealth at the top of the world\n",
      "Summa 요약: The total number of Indian billionaires on the list is 131 and Mumbai has the maximum number of billionaires at 55.\n"
     ]
    }
   ],
   "source": [
    "compare2summa(11)"
   ]
  },
  {
   "cell_type": "markdown",
   "id": "586a1741",
   "metadata": {},
   "source": [
    "- 두번째 문장을 추출하였고, 역시 가장 전체 내용을 잘 대변하고 있다.\n",
    "- 핵심 단어: india, billionares, last year"
   ]
  },
  {
   "cell_type": "markdown",
   "id": "dae50123",
   "metadata": {},
   "source": [
    "|방법|문법완성도|핵심단어|\n",
    "|-|-|-|\n",
    "|추상적 요약|불용어 제거 등 처리과정으로 인해 훼손된 문장임을 감안하면 문법적 완성도는 높다고 할 수 있다.|핵심 단어 \"india\"가 포함되었고 \"billionaires\"대신 \"top wealth\"정도도 부분 점수를 줄 수 있을 것 같다. \"last year\"를 의미하는 단어가 빠진 것은 아쉽다.|\n",
    "|추출적 요약|논외|\"last year\"를 의미하는 단어가 역시 빠졌다.|"
   ]
  },
  {
   "cell_type": "markdown",
   "id": "70dfd479",
   "metadata": {},
   "source": [
    "- 추출적 요약이 불필요한 단어가 너무 많이 섞였고, 추상적 요약은 틀린 내용으로 요약했다. 무승부!"
   ]
  },
  {
   "cell_type": "code",
   "execution_count": 152,
   "id": "aba9e9b3",
   "metadata": {},
   "outputs": [
    {
     "name": "stdout",
     "output_type": "stream",
     "text": [
      "[원본]\n",
      "본문: The French government has announced a plan to reintroduce compulsory national service for all 16-year-olds. Under the plan, French boys and girls would do a minimum of one-month service in the first phase which would focus on voluntary teaching and working with charities among others. The second phase will be voluntary and focus on areas linked to defence and security. \n",
      "제목: France brings back mandatory national service for 16-yr-olds\n",
      "------------------------------------------------------------\n",
      "[전처리 후]\n",
      "원문 : french government announced plan compulsory national service year olds plan french boys girls would minimum one month service first phase would focus voluntary teaching working charities among others second phase voluntary focus areas linked defence security \n",
      "실제 요약 : france brings back mandatory national service for yr \n",
      "예측 요약 : france to allow free to introduce school for free\n",
      "Summa 요약: \n"
     ]
    }
   ],
   "source": [
    "compare2summa(111)"
   ]
  },
  {
   "cell_type": "markdown",
   "id": "505bacb7",
   "metadata": {},
   "source": [
    "- Summa에 설정한 옵션에 따라 요약 결과물을 출력하지 못하는 경우도 있음.\n",
    "- 핵심단어: france, national service"
   ]
  },
  {
   "cell_type": "markdown",
   "id": "b4d9ef97",
   "metadata": {},
   "source": [
    "|방법|문법완성도|핵심단어|\n",
    "|-|-|-|\n",
    "|추상적 요약|의미를 알 수 없는 문장으로 완성도가 떨어진다.|핵심 단어 \"france\"만 포함되었을 뿐 그외 단어는 전혀 잡아내지 못했다.|\n",
    "|추출적 요약|논외이지만 문장 자체를 추출하지 못했으므로 완성도 아예 없다.|모든 단어가 빠졌다.|"
   ]
  },
  {
   "cell_type": "markdown",
   "id": "a88efdc7",
   "metadata": {},
   "source": [
    "- 추상적 요약 판정 승."
   ]
  },
  {
   "cell_type": "code",
   "execution_count": 163,
   "id": "fcad7bf3",
   "metadata": {},
   "outputs": [
    {
     "data": {
      "text/plain": [
       "13"
      ]
     },
     "execution_count": 163,
     "metadata": {},
     "output_type": "execute_result"
    }
   ],
   "source": [
    "headlines_max_len"
   ]
  },
  {
   "cell_type": "code",
   "execution_count": 167,
   "id": "698d1dd9",
   "metadata": {},
   "outputs": [
    {
     "name": "stdout",
     "output_type": "stream",
     "text": [
      "15\n",
      "30\n",
      "15\n",
      "0\n"
     ]
    }
   ],
   "source": [
    "sentences = \"The French government has announced a plan to reintroduce compulsory national service for all 16-year-olds. Under the plan, French boys and girls would do a minimum of one-month service in the first phase which would focus on voluntary teaching and working with charities among others. The second phase will be voluntary and focus on areas linked to defence and security.\"\n",
    "\n",
    "for sentence in sentences.split('.'):\n",
    "    print(len(sentence.split()))"
   ]
  },
  {
   "cell_type": "markdown",
   "id": "c8aabfc9",
   "metadata": {},
   "source": [
    "- 모든 문장이 최대 길이보다 길기 때문에 하나의 문장을 추출하여 출력할 수 없게 된 것으로 보임."
   ]
  },
  {
   "cell_type": "code",
   "execution_count": 153,
   "id": "eda83d17",
   "metadata": {},
   "outputs": [
    {
     "name": "stdout",
     "output_type": "stream",
     "text": [
      "[원본]\n",
      "본문: The Viral Fever (TVF) CEO Arunabh Kumar, who is accused of sexual harassment by several women, has said that he is being victimised by some people, but he doesn't know who they are. The 34-year-old received anticipatory bail on Monday after an FIR was registered against him in Mumbai. He has been interrogated eight times since the case was registered.\n",
      "제목: Victimised by some people, don't know who they are: TVF CEO\n",
      "-----------------------------------------------------------\n",
      "[전처리 후]\n",
      "원문 : viral fever ceo arunabh kumar accused sexual harassment several women said people know year old received anticipatory bail monday fir registered mumbai interrogated eight times since case registered \n",
      "실제 요약 : by some people do not know who they are tvf ceo \n",
      "예측 요약 : tvf ceo accused of sexual misconduct allegations\n",
      "Summa 요약: The 34-year-old received anticipatory bail on Monday after an FIR was registered against him in Mumbai.\n"
     ]
    }
   ],
   "source": [
    "compare2summa(777)"
   ]
  },
  {
   "cell_type": "markdown",
   "id": "a4216036",
   "metadata": {},
   "source": [
    "- 추상적 요약이 실제 제목과 다르면서도 굉장히 자연스럽고 오히려 더 적절한 제목으로 보인다.\n",
    "- Summa 요약은 엉뚱한 문장을 요약 문장으로 선택하였다.\n",
    "    - 옵션으로 설정된 길이 내에서 최대한 뽑아내려는 경향이 있는 것 같다.\n",
    "- 핵심 단어: victim or people, TVF CEO, know, sexual harassment"
   ]
  },
  {
   "cell_type": "markdown",
   "id": "ffe5f22f",
   "metadata": {},
   "source": [
    "|방법|문법완성도|핵심단어|\n",
    "|-|-|-|\n",
    "|추상적 요약|처리 과정으로 훼손된 것을 감안하면 문법 완성도는 적당해 보인다.|가장 핵심이 되는 단어들로 구성되었다고 볼 수 있다.|\n",
    "|추출적 요약|논외|모든 단어가 빠졌다.|"
   ]
  },
  {
   "cell_type": "markdown",
   "id": "5e3a3236",
   "metadata": {},
   "source": [
    "- 추상적 요약 승!"
   ]
  },
  {
   "cell_type": "markdown",
   "id": "f3ea49b8",
   "metadata": {},
   "source": [
    "- 위 4가지 경우만 볼때는 추상적 요약이 2승 1무 1패로 추출적 요약을 이겼다. 다만 추상적 요약이 너무 엉뚱한 답을 만들어 내는 경향이 큰 만큼 이번 데이터셋 내에서 더 많은 사례를 다루면 추출적 요약이 상대적으로 유리할 것으로 보인다."
   ]
  },
  {
   "cell_type": "markdown",
   "id": "f09f438f",
   "metadata": {},
   "source": [
    "## 추가 실험"
   ]
  },
  {
   "cell_type": "markdown",
   "id": "e4bc48ce",
   "metadata": {},
   "source": [
    "### 한 문장에서 추출적 요약이 가능 여부"
   ]
  },
  {
   "cell_type": "code",
   "execution_count": 161,
   "id": "4e7ee7c1",
   "metadata": {},
   "outputs": [
    {
     "data": {
      "text/plain": [
       "'since case.\\nregistered'"
      ]
     },
     "execution_count": 161,
     "metadata": {},
     "output_type": "execute_result"
    }
   ],
   "source": [
    "summarize(\"since case. registered\", words=headlines_max_len)"
   ]
  },
  {
   "cell_type": "code",
   "execution_count": 162,
   "id": "dc8d773d",
   "metadata": {},
   "outputs": [
    {
     "data": {
      "text/plain": [
       "''"
      ]
     },
     "execution_count": 162,
     "metadata": {},
     "output_type": "execute_result"
    }
   ],
   "source": [
    "summarize(\"since case registered\", words=headlines_max_len)"
   ]
  },
  {
   "cell_type": "markdown",
   "id": "5c08615c",
   "metadata": {},
   "source": [
    "- 한 문장은 추출 요약 적용 불가."
   ]
  },
  {
   "cell_type": "markdown",
   "id": "a938e739",
   "metadata": {},
   "source": [
    "### 뉴스 기사에 적용"
   ]
  },
  {
   "cell_type": "markdown",
   "id": "5060999a",
   "metadata": {},
   "source": [
    "- 기사 출처: 한국 경제, [에버랜드·서울랜드도 일회용컵과 '헤어질 결심'](https://n.news.naver.com/article/015/0005121440)"
   ]
  },
  {
   "cell_type": "code",
   "execution_count": 168,
   "id": "fd5708d5",
   "metadata": {
    "scrolled": true
   },
   "outputs": [
    {
     "data": {
      "text/plain": [
       "'에버랜드, 서울랜드 등 대형 놀이동산들이 일회용컵 사용량을 줄이는 데 앞장서기로 했다.\\n20일 업계에 따르면 삼성물산 리조트부문은 환경부, 용인시와 함께 최근 ‘에버랜드 맞춤형 일회용컵 사용 감량을 위한 자발적 협약’을 체결했다. 환경부가 작년 10월부터 놀이동산 야구장 등 대형 시설과 진행하고 있는 일회용컵 감량 정책의 일환이다.\\n에버랜드는 오는 6월부터 음료 포장(테이크아웃) 시에도 일회용컵 대신 다회용컵에 담아 제공하기로 했다. 놀이공원 내 전체 45개 매장 중 음료를 판매하는 28개 매장(직영 18개 포함)이 참여한다. 에버랜드는 소비자 불편을 줄이기 위해 공원 주요 거점 20여 곳에 다회용컵 반납함을 설치하기로 했다. 에버랜드는 다회용컵 사용이 정착되면 연간 200만 개에 달하는 일회용컵 사용량이 대폭 줄어들 것으로 기대하고 있다.\\n서울랜드는 6월부터 보증금제를 도입해 일회용컵 회수에 초점을 맞추기로 했다. 일회용컵으로 판매할 때 물린 보증금을 반납할 때 돌려주는 이 제도는 2022년부터 세종·제주 지역 프랜차이즈 매장에서 시범 시행하고 있다. 서울랜드는 연간 100만 개에 달하는 일회용컵 상당량을 회수할 것으로 기대하고 있다.\\n스타벅스는 충북 청주의 모든 매장에 이 제도를 도입하기로 했다. 다음달부터 청주 스타벅스 매장 28곳에 플라스틱 일회용 컵 5개를 반납하면 스타벅스 에코별 1개를 적립받는다. 스타벅스 에코별을 12개 모으면 음료 1잔 교환 쿠폰을 받을 수 있다. 일회용컵 60개를 반납하면 무료 음료 한 잔을 마실 수 있는 셈이다.'"
      ]
     },
     "execution_count": 168,
     "metadata": {},
     "output_type": "execute_result"
    }
   ],
   "source": [
    "news = '''에버랜드, 서울랜드 등 대형 놀이동산들이 일회용컵 사용량을 줄이는 데 앞장서기로 했다.\n",
    "20일 업계에 따르면 삼성물산 리조트부문은 환경부, 용인시와 함께 최근 ‘에버랜드 맞춤형 일회용컵 사용 감량을 위한 자발적 협약’을 체결했다. 환경부가 작년 10월부터 놀이동산 야구장 등 대형 시설과 진행하고 있는 일회용컵 감량 정책의 일환이다.\n",
    "에버랜드는 오는 6월부터 음료 포장(테이크아웃) 시에도 일회용컵 대신 다회용컵에 담아 제공하기로 했다. 놀이공원 내 전체 45개 매장 중 음료를 판매하는 28개 매장(직영 18개 포함)이 참여한다. 에버랜드는 소비자 불편을 줄이기 위해 공원 주요 거점 20여 곳에 다회용컵 반납함을 설치하기로 했다. 에버랜드는 다회용컵 사용이 정착되면 연간 200만 개에 달하는 일회용컵 사용량이 대폭 줄어들 것으로 기대하고 있다.\n",
    "서울랜드는 6월부터 보증금제를 도입해 일회용컵 회수에 초점을 맞추기로 했다. 일회용컵으로 판매할 때 물린 보증금을 반납할 때 돌려주는 이 제도는 2022년부터 세종·제주 지역 프랜차이즈 매장에서 시범 시행하고 있다. 서울랜드는 연간 100만 개에 달하는 일회용컵 상당량을 회수할 것으로 기대하고 있다.\n",
    "스타벅스는 충북 청주의 모든 매장에 이 제도를 도입하기로 했다. 다음달부터 청주 스타벅스 매장 28곳에 플라스틱 일회용 컵 5개를 반납하면 스타벅스 에코별 1개를 적립받는다. 스타벅스 에코별을 12개 모으면 음료 1잔 교환 쿠폰을 받을 수 있다. 일회용컵 60개를 반납하면 무료 음료 한 잔을 마실 수 있는 셈이다.'''\n",
    "\n",
    "news"
   ]
  },
  {
   "cell_type": "code",
   "execution_count": 175,
   "id": "52c61d24",
   "metadata": {},
   "outputs": [
    {
     "name": "stdout",
     "output_type": "stream",
     "text": [
      "35\n",
      "에버랜드, 서울랜드 등 대형 놀이동산들이 일회용컵 사용량을 줄이는 데 앞장서기로 했다.\n",
      "\n",
      "에버랜드는 다회용컵 사용이 정착되면 연간 200만 개에 달하는 일회용컵 사용량이 대폭 줄어들 것으로 기대하고 있다.\n",
      "\n",
      "서울랜드는 6월부터 보증금제를 도입해 일회용컵 회수에 초점을 맞추기로 했다.\n"
     ]
    }
   ],
   "source": [
    "naver_summary_bot = '''에버랜드, 서울랜드 등 대형 놀이동산들이 일회용컵 사용량을 줄이는 데 앞장서기로 했다.\n",
    "\n",
    "에버랜드는 다회용컵 사용이 정착되면 연간 200만 개에 달하는 일회용컵 사용량이 대폭 줄어들 것으로 기대하고 있다.\n",
    "\n",
    "서울랜드는 6월부터 보증금제를 도입해 일회용컵 회수에 초점을 맞추기로 했다.'''\n",
    "print(len(naver_summary_bot.split()))\n",
    "print(naver_summary_bot)"
   ]
  },
  {
   "cell_type": "code",
   "execution_count": 176,
   "id": "b0bf8c58",
   "metadata": {},
   "outputs": [
    {
     "name": "stdout",
     "output_type": "stream",
     "text": [
      "에버랜드는 오는 6월부터 음료 포장(테이크아웃) 시에도 일회용컵 대신 다회용컵에 담아 제공하기로 했다.\n",
      "에버랜드는 다회용컵 사용이 정착되면 연간 200만 개에 달하는 일회용컵 사용량이 대폭 줄어들 것으로 기대하고 있다.\n",
      "서울랜드는 연간 100만 개에 달하는 일회용컵 상당량을 회수할 것으로 기대하고 있다.\n"
     ]
    }
   ],
   "source": [
    "print(summarize(news, words=35))"
   ]
  },
  {
   "cell_type": "markdown",
   "id": "f2141827",
   "metadata": {},
   "source": [
    "- 네이버 요약봇과 비교해도 나름 괜찮은 결과물"
   ]
  },
  {
   "cell_type": "markdown",
   "id": "cda922c0",
   "metadata": {},
   "source": [
    "## 결론"
   ]
  },
  {
   "cell_type": "markdown",
   "id": "fe638f39",
   "metadata": {},
   "source": [
    "- 추상적 요약의 특징\n",
    "    - 입력을 바탕으로 새로운 문장을 생성한다.\n",
    "    - 이때, 입력에 없었던 단어를 사용하기도 한다.\n",
    "    - 그 과정에서 엉뚱한 단어를 사용하여 전혀 다른 내용으로 요약할 가능성도 있다.\n",
    "    - 반대로 오히려 기존 라벨보다도 적절한 요약을 생성할 가능성도 있다.\n",
    "    \n",
    "- 추출적 요약(Summa)의 특징\n",
    "    - 입력된 문장 중 가장 전체 의미를 함축하고 있는 문장을 선택하여 출력한다.\n",
    "    - 그렇기 때문에 전혀 다른 내용의 출력이 나오지는 않는다.\n",
    "    - 단, 입력 문장이 단 하나인 경우너무 적은 경우는 출력값이 나오지 않는다.\n",
    "    - 설정한 출력 옵션에 따라 출력값을 내지 못하는 경우도 있다."
   ]
  },
  {
   "cell_type": "markdown",
   "id": "c1759302",
   "metadata": {},
   "source": [
    "# 회고"
   ]
  },
  {
   "cell_type": "markdown",
   "id": "dd1aec05",
   "metadata": {},
   "source": [
    "- 추상적 요약과 추출적 요약에 대한 이해도 상승\n",
    "    - 직접 추상적 요약 모델을 만들고 실습하며 어려웠던 모델링에 익숙해지고, 작동 원리에 대해 파악할 수 있어서 좋았다.\n",
    "    \n",
    "    - 데이터도 많지 않았고 간단한 모델링이었기 때문에 큰 기대하지 않았다. 그럼에도 불구하고 실제 라벨보다도 괜찮은 결과값이 나오기도 하는 것에 굉장히 신기했다. 이러니 요즘 LLM들이 그렇게 말을 잘 하는구나 싶고 흥미로운 시간이었다.\n",
    "    \n",
    "- 추출적 요약은 긴 글에 어울린다.\n",
    "    - 긴 글에서 적절한 출력 옵션을 주는 경우는 꽤나 유용할 것 같다.\n",
    "    - 특히 뉴스 기사나 책을 볼때 중요한 부분을 잘 뽑아내는 것이 신기했다.\n",
    "        - 여러 문장들에 중요도를 계산하는 원리에 대해 좀 더 공부해보고 싶다.\n",
    "    - 개인적으로도 공부할 때 간혹 중요 문장들을 추출하여 요약본을 만들어 본 적이 있는데, 굉장히 유사한 결과물이 나와서 앞으로 공부에 활용해도 좋겠다는 생각이 들었다."
   ]
  },
  {
   "cell_type": "markdown",
   "id": "d331b4d0",
   "metadata": {},
   "source": [
    "---"
   ]
  }
 ],
 "metadata": {
  "kernelspec": {
   "display_name": "Python 3 (ipykernel)",
   "language": "python",
   "name": "python3"
  },
  "language_info": {
   "codemirror_mode": {
    "name": "ipython",
    "version": 3
   },
   "file_extension": ".py",
   "mimetype": "text/x-python",
   "name": "python",
   "nbconvert_exporter": "python",
   "pygments_lexer": "ipython3",
   "version": "3.9.7"
  }
 },
 "nbformat": 4,
 "nbformat_minor": 5
}
